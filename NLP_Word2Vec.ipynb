{
  "nbformat": 4,
  "nbformat_minor": 0,
  "metadata": {
    "colab": {
      "name": "Capstone_NLP_Word2Vec_02.ipynb",
      "provenance": [],
      "collapsed_sections": []
    },
    "kernelspec": {
      "name": "python3",
      "display_name": "Python 3"
    }
  },
  "cells": [
    {
      "cell_type": "markdown",
      "metadata": {
        "id": "HIOwkhqrhg20"
      },
      "source": [
        "# Import libraries and dataset"
      ]
    },
    {
      "cell_type": "code",
      "metadata": {
        "id": "Y7jNhsITf_yg"
      },
      "source": [
        "# import libraries\n",
        "import numpy as np\n",
        "import pandas as pd\n",
        "import seaborn as sns\n",
        "import matplotlib.pyplot as plt"
      ],
      "execution_count": 1,
      "outputs": []
    },
    {
      "cell_type": "code",
      "metadata": {
        "id": "FH_LPAODhKqu",
        "outputId": "90d8c64b-74be-4b40-91cb-48d37cbc0183",
        "colab": {
          "base_uri": "https://localhost:8080/",
          "height": 204
        }
      },
      "source": [
        "# import data\n",
        "data = pd.read_excel(\"/content/export_User_Comments_Polarity_Category_clean.xlsx\")\n",
        "data.head()"
      ],
      "execution_count": 2,
      "outputs": [
        {
          "output_type": "execute_result",
          "data": {
            "text/html": [
              "<div>\n",
              "<style scoped>\n",
              "    .dataframe tbody tr th:only-of-type {\n",
              "        vertical-align: middle;\n",
              "    }\n",
              "\n",
              "    .dataframe tbody tr th {\n",
              "        vertical-align: top;\n",
              "    }\n",
              "\n",
              "    .dataframe thead th {\n",
              "        text-align: right;\n",
              "    }\n",
              "</style>\n",
              "<table border=\"1\" class=\"dataframe\">\n",
              "  <thead>\n",
              "    <tr style=\"text-align: right;\">\n",
              "      <th></th>\n",
              "      <th>Polarity</th>\n",
              "      <th>UserComments</th>\n",
              "      <th>Polarity_type</th>\n",
              "    </tr>\n",
              "  </thead>\n",
              "  <tbody>\n",
              "    <tr>\n",
              "      <th>0</th>\n",
              "      <td>0.0</td>\n",
              "      <td>bought projector clueless connect iphon</td>\n",
              "      <td>Negative</td>\n",
              "    </tr>\n",
              "    <tr>\n",
              "      <th>1</th>\n",
              "      <td>0.0</td>\n",
              "      <td>promis multi card reader leav review im still ...</td>\n",
              "      <td>Negative</td>\n",
              "    </tr>\n",
              "    <tr>\n",
              "      <th>2</th>\n",
              "      <td>0.0</td>\n",
              "      <td>hello apeman team respond email fix issu multi...</td>\n",
              "      <td>Negative</td>\n",
              "    </tr>\n",
              "    <tr>\n",
              "      <th>3</th>\n",
              "      <td>0.8</td>\n",
              "      <td>great pictur excit look k camerajust need pric...</td>\n",
              "      <td>Positive</td>\n",
              "    </tr>\n",
              "    <tr>\n",
              "      <th>4</th>\n",
              "      <td>0.0</td>\n",
              "      <td>bought apeman dashcam find rear camer cabl met...</td>\n",
              "      <td>Negative</td>\n",
              "    </tr>\n",
              "  </tbody>\n",
              "</table>\n",
              "</div>"
            ],
            "text/plain": [
              "   Polarity                                       UserComments Polarity_type\n",
              "0       0.0            bought projector clueless connect iphon      Negative\n",
              "1       0.0  promis multi card reader leav review im still ...      Negative\n",
              "2       0.0  hello apeman team respond email fix issu multi...      Negative\n",
              "3       0.8  great pictur excit look k camerajust need pric...      Positive\n",
              "4       0.0  bought apeman dashcam find rear camer cabl met...      Negative"
            ]
          },
          "metadata": {
            "tags": []
          },
          "execution_count": 2
        }
      ]
    },
    {
      "cell_type": "code",
      "metadata": {
        "id": "NelWbpTLkGH_"
      },
      "source": [
        "# drop Polarity column\n",
        "data.drop('Polarity', inplace=True, axis=1)"
      ],
      "execution_count": 3,
      "outputs": []
    },
    {
      "cell_type": "markdown",
      "metadata": {
        "id": "j5AEHbOvhunV"
      },
      "source": [
        "# Preprocessing"
      ]
    },
    {
      "cell_type": "code",
      "metadata": {
        "id": "ISu-kkNbhKtO",
        "outputId": "384fdaf3-18bf-458d-e20f-f842a6e8fe69",
        "colab": {
          "base_uri": "https://localhost:8080/",
          "height": 68
        }
      },
      "source": [
        "# identify null\n",
        "data.isna().sum()"
      ],
      "execution_count": 4,
      "outputs": [
        {
          "output_type": "execute_result",
          "data": {
            "text/plain": [
              "UserComments     0\n",
              "Polarity_type    0\n",
              "dtype: int64"
            ]
          },
          "metadata": {
            "tags": []
          },
          "execution_count": 4
        }
      ]
    },
    {
      "cell_type": "code",
      "metadata": {
        "id": "NlSBuk66iV2v"
      },
      "source": [
        "# drop null\n",
        "data = data.dropna()"
      ],
      "execution_count": 5,
      "outputs": []
    },
    {
      "cell_type": "code",
      "metadata": {
        "id": "LTweat-pkGLj",
        "outputId": "a4a76667-139c-40ac-f2da-69d1b9cd101e",
        "colab": {
          "base_uri": "https://localhost:8080/",
          "height": 204
        }
      },
      "source": [
        "data.head()"
      ],
      "execution_count": 6,
      "outputs": [
        {
          "output_type": "execute_result",
          "data": {
            "text/html": [
              "<div>\n",
              "<style scoped>\n",
              "    .dataframe tbody tr th:only-of-type {\n",
              "        vertical-align: middle;\n",
              "    }\n",
              "\n",
              "    .dataframe tbody tr th {\n",
              "        vertical-align: top;\n",
              "    }\n",
              "\n",
              "    .dataframe thead th {\n",
              "        text-align: right;\n",
              "    }\n",
              "</style>\n",
              "<table border=\"1\" class=\"dataframe\">\n",
              "  <thead>\n",
              "    <tr style=\"text-align: right;\">\n",
              "      <th></th>\n",
              "      <th>UserComments</th>\n",
              "      <th>Polarity_type</th>\n",
              "    </tr>\n",
              "  </thead>\n",
              "  <tbody>\n",
              "    <tr>\n",
              "      <th>0</th>\n",
              "      <td>bought projector clueless connect iphon</td>\n",
              "      <td>Negative</td>\n",
              "    </tr>\n",
              "    <tr>\n",
              "      <th>1</th>\n",
              "      <td>promis multi card reader leav review im still ...</td>\n",
              "      <td>Negative</td>\n",
              "    </tr>\n",
              "    <tr>\n",
              "      <th>2</th>\n",
              "      <td>hello apeman team respond email fix issu multi...</td>\n",
              "      <td>Negative</td>\n",
              "    </tr>\n",
              "    <tr>\n",
              "      <th>3</th>\n",
              "      <td>great pictur excit look k camerajust need pric...</td>\n",
              "      <td>Positive</td>\n",
              "    </tr>\n",
              "    <tr>\n",
              "      <th>4</th>\n",
              "      <td>bought apeman dashcam find rear camer cabl met...</td>\n",
              "      <td>Negative</td>\n",
              "    </tr>\n",
              "  </tbody>\n",
              "</table>\n",
              "</div>"
            ],
            "text/plain": [
              "                                        UserComments Polarity_type\n",
              "0            bought projector clueless connect iphon      Negative\n",
              "1  promis multi card reader leav review im still ...      Negative\n",
              "2  hello apeman team respond email fix issu multi...      Negative\n",
              "3  great pictur excit look k camerajust need pric...      Positive\n",
              "4  bought apeman dashcam find rear camer cabl met...      Negative"
            ]
          },
          "metadata": {
            "tags": []
          },
          "execution_count": 6
        }
      ]
    },
    {
      "cell_type": "code",
      "metadata": {
        "id": "la1nmA-fyP3S"
      },
      "source": [
        "# export to Excel\n",
        "from pandas import ExcelWriter\n",
        "writer = ExcelWriter('User_Comments_Category.xlsx')\n",
        "data.to_excel(writer,'Sheet1',index=False)\n",
        "writer.save()"
      ],
      "execution_count": 7,
      "outputs": []
    },
    {
      "cell_type": "code",
      "metadata": {
        "id": "m1FrHMhdkGOd",
        "outputId": "28cb5f27-242e-4567-c757-c62bda9293c2",
        "colab": {
          "base_uri": "https://localhost:8080/",
          "height": 351
        }
      },
      "source": [
        "# checking the class distribution\n",
        "sns.countplot(data['Polarity_type'])"
      ],
      "execution_count": 8,
      "outputs": [
        {
          "output_type": "stream",
          "text": [
            "/usr/local/lib/python3.6/dist-packages/seaborn/_decorators.py:43: FutureWarning: Pass the following variable as a keyword arg: x. From version 0.12, the only valid positional argument will be `data`, and passing other arguments without an explicit keyword will result in an error or misinterpretation.\n",
            "  FutureWarning\n"
          ],
          "name": "stderr"
        },
        {
          "output_type": "execute_result",
          "data": {
            "text/plain": [
              "<matplotlib.axes._subplots.AxesSubplot at 0x7f055f5f2160>"
            ]
          },
          "metadata": {
            "tags": []
          },
          "execution_count": 8
        },
        {
          "output_type": "display_data",
          "data": {
            "image/png": "[encoded data removed]",
            "text/plain": [
              "<Figure size 432x288 with 1 Axes>"
            ]
          },
          "metadata": {
            "tags": [],
            "needs_background": "light"
          }
        }
      ]
    },
    {
      "cell_type": "code",
      "metadata": {
        "id": "MeubwCSAlFW9",
        "outputId": "b9933544-2ac3-4353-dc35-86d54945a72f",
        "colab": {
          "base_uri": "https://localhost:8080/",
          "height": 68
        }
      },
      "source": [
        "# importing the NLP libraries\n",
        "import nltk\n",
        "from sklearn.preprocessing import LabelBinarizer\n",
        "from nltk.corpus import stopwords\n",
        "from nltk.stem.porter import PorterStemmer\n",
        "from wordcloud import WordCloud,STOPWORDS\n",
        "from nltk.stem import WordNetLemmatizer\n",
        "from nltk.tokenize import word_tokenize,sent_tokenize\n",
        "import re,string,unicodedata\n",
        "from bs4 import BeautifulSoup\n",
        "nltk.download('stopwords')"
      ],
      "execution_count": 9,
      "outputs": [
        {
          "output_type": "stream",
          "text": [
            "[nltk_data] Downloading package stopwords to /root/nltk_data...\n",
            "[nltk_data]   Unzipping corpora/stopwords.zip.\n"
          ],
          "name": "stdout"
        },
        {
          "output_type": "execute_result",
          "data": {
            "text/plain": [
              "True"
            ]
          },
          "metadata": {
            "tags": []
          },
          "execution_count": 9
        }
      ]
    },
    {
      "cell_type": "code",
      "metadata": {
        "id": "nW6-P8-Nl-R-"
      },
      "source": [
        "stop = set(stopwords.words('english'))\n",
        "punctuation=list(string.punctuation)\n",
        "stop.update(punctuation)"
      ],
      "execution_count": 10,
      "outputs": []
    },
    {
      "cell_type": "markdown",
      "metadata": {
        "id": "wUEcX337mQRl"
      },
      "source": [
        "# Data cleaning"
      ]
    },
    {
      "cell_type": "code",
      "metadata": {
        "id": "dC1hNAbql-Xw"
      },
      "source": [
        "def html_strip(text):\n",
        "    soup = BeautifulSoup(text,\"html.parser\")\n",
        "    return soup.get_text()\n",
        "\n",
        "def remove_square_bracs(text):\n",
        "    return re.sub('\\[[^]]*\\]','',text)\n",
        "\n",
        "def remove_urls(text):\n",
        "    return re.sub(r'http\\S+','',text)\n",
        "\n",
        "def remove_stopwords(text):\n",
        "    final_txt=[]\n",
        "    for i in text.split():\n",
        "        if i.strip().lower() not in stop:\n",
        "            final_txt.append(i.strip())\n",
        "    return \" \".join(final_txt)\n",
        "\n",
        "def remove_noisy_data(text):\n",
        "    txt = html_strip(text)\n",
        "    txt = remove_square_bracs(text)\n",
        "    txt = remove_urls(text)\n",
        "    txt = remove_stopwords(text)\n",
        "    return text"
      ],
      "execution_count": 11,
      "outputs": []
    },
    {
      "cell_type": "code",
      "metadata": {
        "id": "tFYk3j9_wljR"
      },
      "source": [
        "data['UserComments']=data['UserComments'].apply(remove_noisy_data)"
      ],
      "execution_count": 12,
      "outputs": []
    },
    {
      "cell_type": "code",
      "metadata": {
        "id": "WvMyDGGXo5YK",
        "outputId": "8b9cfcfc-8745-4528-b549-940d63f01e83",
        "colab": {
          "base_uri": "https://localhost:8080/",
          "height": 204
        }
      },
      "source": [
        "data.head()"
      ],
      "execution_count": 13,
      "outputs": [
        {
          "output_type": "execute_result",
          "data": {
            "text/html": [
              "<div>\n",
              "<style scoped>\n",
              "    .dataframe tbody tr th:only-of-type {\n",
              "        vertical-align: middle;\n",
              "    }\n",
              "\n",
              "    .dataframe tbody tr th {\n",
              "        vertical-align: top;\n",
              "    }\n",
              "\n",
              "    .dataframe thead th {\n",
              "        text-align: right;\n",
              "    }\n",
              "</style>\n",
              "<table border=\"1\" class=\"dataframe\">\n",
              "  <thead>\n",
              "    <tr style=\"text-align: right;\">\n",
              "      <th></th>\n",
              "      <th>UserComments</th>\n",
              "      <th>Polarity_type</th>\n",
              "    </tr>\n",
              "  </thead>\n",
              "  <tbody>\n",
              "    <tr>\n",
              "      <th>0</th>\n",
              "      <td>bought projector clueless connect iphon</td>\n",
              "      <td>Negative</td>\n",
              "    </tr>\n",
              "    <tr>\n",
              "      <th>1</th>\n",
              "      <td>promis multi card reader leav review im still ...</td>\n",
              "      <td>Negative</td>\n",
              "    </tr>\n",
              "    <tr>\n",
              "      <th>2</th>\n",
              "      <td>hello apeman team respond email fix issu multi...</td>\n",
              "      <td>Negative</td>\n",
              "    </tr>\n",
              "    <tr>\n",
              "      <th>3</th>\n",
              "      <td>great pictur excit look k camerajust need pric...</td>\n",
              "      <td>Positive</td>\n",
              "    </tr>\n",
              "    <tr>\n",
              "      <th>4</th>\n",
              "      <td>bought apeman dashcam find rear camer cabl met...</td>\n",
              "      <td>Negative</td>\n",
              "    </tr>\n",
              "  </tbody>\n",
              "</table>\n",
              "</div>"
            ],
            "text/plain": [
              "                                        UserComments Polarity_type\n",
              "0            bought projector clueless connect iphon      Negative\n",
              "1  promis multi card reader leav review im still ...      Negative\n",
              "2  hello apeman team respond email fix issu multi...      Negative\n",
              "3  great pictur excit look k camerajust need pric...      Positive\n",
              "4  bought apeman dashcam find rear camer cabl met...      Negative"
            ]
          },
          "metadata": {
            "tags": []
          },
          "execution_count": 13
        }
      ]
    },
    {
      "cell_type": "markdown",
      "metadata": {
        "id": "j9QWM0JLpfsW"
      },
      "source": [
        "# Label encoder"
      ]
    },
    {
      "cell_type": "code",
      "metadata": {
        "id": "rvj5d2copNQ4",
        "outputId": "d43cbcab-1d52-4e80-e198-83ba6a2d0b46",
        "colab": {
          "base_uri": "https://localhost:8080/",
          "height": 119
        }
      },
      "source": [
        "from sklearn import preprocessing\n",
        "# label_encoder object knows how to understand word labels\n",
        "label_encoder = preprocessing.LabelEncoder()\n",
        "# Encode labels in column 'Polarity_type'\n",
        "data['Polarity_type']= label_encoder.fit_transform(data['Polarity_type'])\n",
        "print(data.head())"
      ],
      "execution_count": 14,
      "outputs": [
        {
          "output_type": "stream",
          "text": [
            "                                        UserComments  Polarity_type\n",
            "0            bought projector clueless connect iphon              0\n",
            "1  promis multi card reader leav review im still ...              0\n",
            "2  hello apeman team respond email fix issu multi...              0\n",
            "3  great pictur excit look k camerajust need pric...              1\n",
            "4  bought apeman dashcam find rear camer cabl met...              0\n"
          ],
          "name": "stdout"
        }
      ]
    },
    {
      "cell_type": "markdown",
      "metadata": {
        "id": "V_QatsAtrLjk"
      },
      "source": [
        "# Converting text into accetable format"
      ]
    },
    {
      "cell_type": "code",
      "metadata": {
        "id": "Dg_yEYgQj8xc",
        "outputId": "daf1e569-3354-446d-9a8f-595b25b034a7",
        "colab": {
          "base_uri": "https://localhost:8080/",
          "height": 374
        }
      },
      "source": [
        "words = []\n",
        "for i in data.UserComments.values:\n",
        "    words.append(i.split())\n",
        "\n",
        "words[:3]"
      ],
      "execution_count": 15,
      "outputs": [
        {
          "output_type": "execute_result",
          "data": {
            "text/plain": [
              "[['bought', 'projector', 'clueless', 'connect', 'iphon'],\n",
              " ['promis',\n",
              "  'multi',\n",
              "  'card',\n",
              "  'reader',\n",
              "  'leav',\n",
              "  'review',\n",
              "  'im',\n",
              "  'still',\n",
              "  'wait',\n",
              "  'susi'],\n",
              " ['hello',\n",
              "  'apeman',\n",
              "  'team',\n",
              "  'respond',\n",
              "  'email',\n",
              "  'fix',\n",
              "  'issu',\n",
              "  'multipl',\n",
              "  'follow',\n",
              "  'up']]"
            ]
          },
          "metadata": {
            "tags": []
          },
          "execution_count": 15
        }
      ]
    },
    {
      "cell_type": "code",
      "metadata": {
        "id": "gKZa0lIElFgp"
      },
      "source": [
        "import gensim\n",
        "\n",
        "embed_dim = 200\n",
        "\n",
        "word2vec_model = gensim.models.Word2Vec(sentences = words,size = embed_dim,window=5, min_count=1)"
      ],
      "execution_count": 16,
      "outputs": []
    },
    {
      "cell_type": "code",
      "metadata": {
        "id": "-h1VBtPilFjC",
        "outputId": "54f4f30c-d8de-4cff-a1a0-edd866469c60",
        "colab": {
          "base_uri": "https://localhost:8080/",
          "height": 34
        }
      },
      "source": [
        "len(word2vec_model.wv.vocab)"
      ],
      "execution_count": 17,
      "outputs": [
        {
          "output_type": "execute_result",
          "data": {
            "text/plain": [
              "11974"
            ]
          },
          "metadata": {
            "tags": []
          },
          "execution_count": 17
        }
      ]
    },
    {
      "cell_type": "markdown",
      "metadata": {
        "id": "PxvUcSSFrogC"
      },
      "source": [
        "# Tokenizing"
      ]
    },
    {
      "cell_type": "code",
      "metadata": {
        "id": "78IvBzj4lFlk"
      },
      "source": [
        "from tensorflow.keras.preprocessing.text import Tokenizer\n",
        "from tensorflow.keras.preprocessing.sequence import pad_sequences\n",
        "\n",
        "tokenizer= Tokenizer(num_words = 35000)\n",
        "tokenizer.fit_on_texts(words)\n",
        "tokenized_sequences = tokenizer.texts_to_sequences(words)\n",
        "x = pad_sequences(tokenized_sequences,maxlen=20)"
      ],
      "execution_count": 18,
      "outputs": []
    },
    {
      "cell_type": "code",
      "metadata": {
        "id": "dKWv4aK5jZzE",
        "outputId": "f8b9c74a-f965-4ca5-b919-405a710b9650",
        "colab": {
          "base_uri": "https://localhost:8080/",
          "height": 34
        }
      },
      "source": [
        "x.shape"
      ],
      "execution_count": 19,
      "outputs": [
        {
          "output_type": "execute_result",
          "data": {
            "text/plain": [
              "(7471, 20)"
            ]
          },
          "metadata": {
            "tags": []
          },
          "execution_count": 19
        }
      ]
    },
    {
      "cell_type": "code",
      "metadata": {
        "id": "jRax4h6Vri60"
      },
      "source": [
        "vocab_size = len(tokenizer.word_index)+ 1"
      ],
      "execution_count": 20,
      "outputs": []
    },
    {
      "cell_type": "markdown",
      "metadata": {
        "id": "1MBBjKi7r0Mw"
      },
      "source": [
        "# Funtion to create weight matrix"
      ]
    },
    {
      "cell_type": "code",
      "metadata": {
        "id": "HwR9yKCUri91"
      },
      "source": [
        "def weight_matrix(model,vocab):\n",
        "    vocab_size= len(vocab)+1\n",
        "    wgt_matrix = np.zeros((vocab_size,embed_dim))\n",
        "    for word, i in vocab.items():\n",
        "        wgt_matrix[i]=model[word]\n",
        "    return wgt_matrix"
      ],
      "execution_count": 21,
      "outputs": []
    },
    {
      "cell_type": "code",
      "metadata": {
        "id": "xUm5eMjIrjAj",
        "outputId": "5c66e208-5771-47c0-b5f2-b3424a8c4daa",
        "colab": {
          "base_uri": "https://localhost:8080/",
          "height": 71
        }
      },
      "source": [
        "embedding_vec = weight_matrix(word2vec_model,tokenizer.word_index)"
      ],
      "execution_count": 22,
      "outputs": [
        {
          "output_type": "stream",
          "text": [
            "/usr/local/lib/python3.6/dist-packages/ipykernel_launcher.py:5: DeprecationWarning: Call to deprecated `__getitem__` (Method will be removed in 4.0.0, use self.wv.__getitem__() instead).\n",
            "  \"\"\"\n"
          ],
          "name": "stderr"
        }
      ]
    },
    {
      "cell_type": "markdown",
      "metadata": {
        "id": "b3wu8mCLsAEq"
      },
      "source": [
        "# Model training"
      ]
    },
    {
      "cell_type": "code",
      "metadata": {
        "id": "bmmbF6YNr_ZO"
      },
      "source": [
        "from tensorflow.keras import Sequential\n",
        "from tensorflow.keras.layers import Embedding, Bidirectional,LSTM,GRU,Dense"
      ],
      "execution_count": 23,
      "outputs": []
    },
    {
      "cell_type": "code",
      "metadata": {
        "id": "S21e1jehr7Fa"
      },
      "source": [
        "model =Sequential([\n",
        "    Embedding(vocab_size, output_dim = embed_dim,weights=[embedding_vec],input_length =20,trainable=True),\n",
        "    Bidirectional(LSTM(128, recurrent_dropout=0.1, dropout=0.3, return_sequences=True)),\n",
        "    Bidirectional(GRU(32, recurrent_dropout=0.1,dropout=0.1)),\n",
        "    Dense(1,activation='sigmoid')\n",
        "])"
      ],
      "execution_count": 24,
      "outputs": []
    },
    {
      "cell_type": "code",
      "metadata": {
        "id": "P3jP7tIUr7IK"
      },
      "source": [
        "from tensorflow.keras.optimizers import Adam\n",
        "model.compile(optimizer = Adam(lr=0.01),loss='binary_crossentropy', metrics =['acc'])\n",
        "\n",
        "del embedding_vec"
      ],
      "execution_count": 25,
      "outputs": []
    },
    {
      "cell_type": "code",
      "metadata": {
        "id": "drTq3R2Cr7LN",
        "outputId": "25c6b9f4-e223-4b0d-f743-2a2120bc74b5",
        "colab": {
          "base_uri": "https://localhost:8080/",
          "height": 289
        }
      },
      "source": [
        "model.summary()"
      ],
      "execution_count": 26,
      "outputs": [
        {
          "output_type": "stream",
          "text": [
            "Model: \"sequential\"\n",
            "_________________________________________________________________\n",
            "Layer (type)                 Output Shape              Param #   \n",
            "=================================================================\n",
            "embedding (Embedding)        (None, 20, 200)           2395000   \n",
            "_________________________________________________________________\n",
            "bidirectional (Bidirectional (None, 20, 256)           336896    \n",
            "_________________________________________________________________\n",
            "bidirectional_1 (Bidirection (None, 64)                55680     \n",
            "_________________________________________________________________\n",
            "dense (Dense)                (None, 1)                 65        \n",
            "=================================================================\n",
            "Total params: 2,787,641\n",
            "Trainable params: 2,787,641\n",
            "Non-trainable params: 0\n",
            "_________________________________________________________________\n"
          ],
          "name": "stdout"
        }
      ]
    },
    {
      "cell_type": "code",
      "metadata": {
        "id": "T6WCicHwr7N5"
      },
      "source": [
        "from sklearn.model_selection import train_test_split\n",
        "\n",
        "trainX,testX,trainY,testY = train_test_split(x,data.Polarity_type,test_size=0.25,random_state=0)"
      ],
      "execution_count": 27,
      "outputs": []
    },
    {
      "cell_type": "code",
      "metadata": {
        "id": "AF07SsYNsTXW",
        "outputId": "39459dd8-bf27-48d3-aa17-753945c42ad1",
        "colab": {
          "base_uri": "https://localhost:8080/",
          "height": 34
        }
      },
      "source": [
        "hist = model.fit(trainX,trainY,batch_size=500, validation_data =(testX,testY))\n",
        "#hist_train = model.fit(trainX,trainY)"
      ],
      "execution_count": 28,
      "outputs": [
        {
          "output_type": "stream",
          "text": [
            "12/12 [==============================] - 15s 1s/step - loss: 0.7889 - acc: 0.5074 - val_loss: 0.6809 - val_acc: 0.5685\n"
          ],
          "name": "stdout"
        }
      ]
    },
    {
      "cell_type": "markdown",
      "metadata": {
        "id": "ekebnkkUv_LH"
      },
      "source": [
        "# Model analysis"
      ]
    },
    {
      "cell_type": "code",
      "metadata": {
        "id": "K4Ofn1FJsTae",
        "outputId": "9d89a412-052d-4b87-c34b-4d18f7b2a1c7",
        "colab": {
          "base_uri": "https://localhost:8080/",
          "height": 173
        }
      },
      "source": [
        "pred = model.predict_classes(testX)\n",
        "pred[:5]"
      ],
      "execution_count": 29,
      "outputs": [
        {
          "output_type": "stream",
          "text": [
            "WARNING:tensorflow:From <ipython-input-29-c9ac2eda71af>:1: Sequential.predict_classes (from tensorflow.python.keras.engine.sequential) is deprecated and will be removed after 2021-01-01.\n",
            "Instructions for updating:\n",
            "Please use instead:* `np.argmax(model.predict(x), axis=-1)`,   if your model does multi-class classification   (e.g. if it uses a `softmax` last-layer activation).* `(model.predict(x) > 0.5).astype(\"int32\")`,   if your model does binary classification   (e.g. if it uses a `sigmoid` last-layer activation).\n"
          ],
          "name": "stdout"
        },
        {
          "output_type": "execute_result",
          "data": {
            "text/plain": [
              "array([[0],\n",
              "       [0],\n",
              "       [0],\n",
              "       [1],\n",
              "       [1]], dtype=int32)"
            ]
          },
          "metadata": {
            "tags": []
          },
          "execution_count": 29
        }
      ]
    },
    {
      "cell_type": "code",
      "metadata": {
        "id": "Fn6_AiresTdk",
        "outputId": "873e42fc-6aba-4d3f-f534-26d2b3fae341",
        "colab": {
          "base_uri": "https://localhost:8080/",
          "height": 51
        }
      },
      "source": [
        "from sklearn.metrics import confusion_matrix\n",
        "cm = confusion_matrix(testY,pred)\n",
        "cm"
      ],
      "execution_count": 30,
      "outputs": [
        {
          "output_type": "execute_result",
          "data": {
            "text/plain": [
              "array([[687, 335],\n",
              "       [471, 375]])"
            ]
          },
          "metadata": {
            "tags": []
          },
          "execution_count": 30
        }
      ]
    },
    {
      "cell_type": "code",
      "metadata": {
        "id": "_NdeOoWhsThS",
        "outputId": "782d25bc-d1f3-4f68-e44e-f03d4fa7245e",
        "colab": {
          "base_uri": "https://localhost:8080/",
          "height": 282
        }
      },
      "source": [
        "sns.heatmap(cm,annot=True,fmt='g')"
      ],
      "execution_count": 31,
      "outputs": [
        {
          "output_type": "execute_result",
          "data": {
            "text/plain": [
              "<matplotlib.axes._subplots.AxesSubplot at 0x7f0516d8af60>"
            ]
          },
          "metadata": {
            "tags": []
          },
          "execution_count": 31
        },
        {
          "output_type": "display_data",
          "data": {
            "image/png": "[encoded data removed]",
            "text/plain": [
              "<Figure size 432x288 with 2 Axes>"
            ]
          },
          "metadata": {
            "tags": [],
            "needs_background": "light"
          }
        }
      ]
    },
    {
      "cell_type": "code",
      "metadata": {
        "id": "BePQ4kWNr7RM",
        "outputId": "5cf91095-159b-4bba-8eed-35dbfa5116f6",
        "colab": {
          "base_uri": "https://localhost:8080/",
          "height": 170
        }
      },
      "source": [
        "from sklearn.metrics import classification_report\n",
        "\n",
        "print(classification_report(testY,pred,target_names = ['Negative', 'Positive' ]))"
      ],
      "execution_count": 32,
      "outputs": [
        {
          "output_type": "stream",
          "text": [
            "              precision    recall  f1-score   support\n",
            "\n",
            "    Negative       0.59      0.67      0.63      1022\n",
            "    Positive       0.53      0.44      0.48       846\n",
            "\n",
            "    accuracy                           0.57      1868\n",
            "   macro avg       0.56      0.56      0.56      1868\n",
            "weighted avg       0.56      0.57      0.56      1868\n",
            "\n"
          ],
          "name": "stdout"
        }
      ]
    },
    {
      "cell_type": "code",
      "metadata": {
        "id": "nm-fR2GakGRD"
      },
      "source": [
        ""
      ],
      "execution_count": 32,
      "outputs": []
    },
    {
      "cell_type": "code",
      "metadata": {
        "id": "Ni6-hyWnyxW3"
      },
      "source": [
        ""
      ],
      "execution_count": 32,
      "outputs": []
    },
    {
      "cell_type": "code",
      "metadata": {
        "id": "Qy60W9dy4ysD"
      },
      "source": [
        ""
      ],
      "execution_count": 32,
      "outputs": []
    },
    {
      "cell_type": "code",
      "metadata": {
        "id": "2omkkUw0zXkR"
      },
      "source": [
        ""
      ],
      "execution_count": 33,
      "outputs": []
    },
    {
      "cell_type": "markdown",
      "metadata": {
        "id": "LmLhZ0n2zVxa"
      },
      "source": [
        "Ref: https://www.kaggle.com/maheer/sarcasm-detection-tensorflow-keras-word2vec/comments"
      ]
    }
  ]
}