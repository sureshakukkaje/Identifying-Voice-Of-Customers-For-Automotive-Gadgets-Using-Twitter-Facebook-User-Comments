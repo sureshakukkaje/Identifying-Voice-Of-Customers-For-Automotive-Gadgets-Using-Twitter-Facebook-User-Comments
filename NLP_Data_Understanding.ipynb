{
  "nbformat": 4,
  "nbformat_minor": 0,
  "metadata": {
    "colab": {
      "name": "Capstone_NLP_Data_Understanding",
      "provenance": [],
      "collapsed_sections": []
    },
    "kernelspec": {
      "name": "python3",
      "display_name": "Python 3"
    }
  },
  "cells": [
    {
      "cell_type": "markdown",
      "metadata": {
        "id": "ykp3n4SL5QEU"
      },
      "source": [
        "Ref: https://www.analyticsvidhya.com/blog/2018/02/the-different-methods-deal-text-data-predictive-python/\n"
      ]
    },
    {
      "cell_type": "markdown",
      "metadata": {
        "id": "9Hqfjlhr5SqJ"
      },
      "source": [
        "# Import Packages & Libraries"
      ]
    },
    {
      "cell_type": "code",
      "metadata": {
        "id": "cpBnBimB5t1V",
        "outputId": "a0d87d7c-dd95-4743-b50f-044351080f22",
        "colab": {
          "base_uri": "https://localhost:8080/",
          "height": 85
        }
      },
      "source": [
        "import sklearn\n",
        "import matplotlib.pyplot as plt\n",
        "%matplotlib inline\n",
        "import pandas\n",
        "from sklearn.model_selection import train_test_split\n",
        "import numpy\n",
        "\n",
        "import numpy as np #Linear Algebra\n",
        "import pandas as pd #Data processing, CSV file I/O (e.g. pd.read_csv)\n",
        "import matplotlib.pyplot as plt\n",
        "from mlxtend.plotting import plot_confusion_matrix\n",
        "\n",
        "from sklearn.linear_model import LogisticRegression\n",
        "from sklearn.neighbors import KNeighborsClassifier\n",
        "from sklearn.svm import SVC\n",
        "from sklearn.tree import DecisionTreeClassifier\n",
        "from sklearn.ensemble import RandomForestClassifier, GradientBoostingClassifier\n",
        "from sklearn.naive_bayes import GaussianNB\n",
        "from sklearn.metrics import accuracy_score,confusion_matrix, f1_score\n",
        "\n",
        "import numpy as np\n",
        "import pandas as pd\n",
        "import re\n",
        "import nltk\n",
        "nltk.download('stopwords')\n",
        "nltk.download('wordnet')\n",
        "from nltk.corpus import stopwords\n",
        "from nltk.stem.porter import PorterStemmer\n",
        "from nltk.stem import WordNetLemmatizer\n",
        "import matplotlib.pyplot as plt\n",
        "import seaborn as sns\n",
        "import itertools\n",
        "import collections\n",
        "import matplotlib\n",
        "\n",
        "from PIL import Image\n",
        "from wordcloud import WordCloud, STOPWORDS, ImageColorGenerator\n",
        " \n",
        "import string\n",
        "import warnings \n",
        "warnings.filterwarnings(\"ignore\", category=DeprecationWarning)\n",
        "\n",
        "%matplotlib inline\n",
        "% matplotlib inline\n",
        "\n",
        "from textblob import TextBlob\n",
        "\n",
        "#Input data files are available in the \"../input/\" directory.\n",
        "#For example, running this (by clicking run or pressing Shift+Enter) will list the files in the input directory\n",
        "\n",
        "import os"
      ],
      "execution_count": 41,
      "outputs": [
        {
          "output_type": "stream",
          "text": [
            "[nltk_data] Downloading package stopwords to /root/nltk_data...\n",
            "[nltk_data]   Package stopwords is already up-to-date!\n",
            "[nltk_data] Downloading package wordnet to /root/nltk_data...\n",
            "[nltk_data]   Package wordnet is already up-to-date!\n"
          ],
          "name": "stdout"
        }
      ]
    },
    {
      "cell_type": "markdown",
      "metadata": {
        "id": "thzdgjTs6G-q"
      },
      "source": [
        "# Load Data"
      ]
    },
    {
      "cell_type": "code",
      "metadata": {
        "id": "vP4yBz4L4uHB"
      },
      "source": [
        "train = pd.read_excel('Comments_Data_Extracts_01.xlsx')"
      ],
      "execution_count": 42,
      "outputs": []
    },
    {
      "cell_type": "code",
      "metadata": {
        "id": "b_hdvACA6Xty",
        "outputId": "a166158c-cb12-4ef9-a269-4bac110b7c9c",
        "colab": {
          "base_uri": "https://localhost:8080/",
          "height": 204
        }
      },
      "source": [
        "train.head()"
      ],
      "execution_count": 43,
      "outputs": [
        {
          "output_type": "execute_result",
          "data": {
            "text/html": [
              "<div>\n",
              "<style scoped>\n",
              "    .dataframe tbody tr th:only-of-type {\n",
              "        vertical-align: middle;\n",
              "    }\n",
              "\n",
              "    .dataframe tbody tr th {\n",
              "        vertical-align: top;\n",
              "    }\n",
              "\n",
              "    .dataframe thead th {\n",
              "        text-align: right;\n",
              "    }\n",
              "</style>\n",
              "<table border=\"1\" class=\"dataframe\">\n",
              "  <thead>\n",
              "    <tr style=\"text-align: right;\">\n",
              "      <th></th>\n",
              "      <th>Comments</th>\n",
              "    </tr>\n",
              "  </thead>\n",
              "  <tbody>\n",
              "    <tr>\n",
              "      <th>0</th>\n",
              "      <td>I just bought this projector and i am clueless...</td>\n",
              "    </tr>\n",
              "    <tr>\n",
              "      <th>1</th>\n",
              "      <td>You promised me a multi card reader for leavin...</td>\n",
              "    </tr>\n",
              "    <tr>\n",
              "      <th>2</th>\n",
              "      <td>Hello Apeman, your team is not responding to m...</td>\n",
              "    </tr>\n",
              "    <tr>\n",
              "      <th>3</th>\n",
              "      <td>Great picture, I am so excited about looking f...</td>\n",
              "    </tr>\n",
              "    <tr>\n",
              "      <th>4</th>\n",
              "      <td>I have just bought the Apeman 550 dashcam and ...</td>\n",
              "    </tr>\n",
              "  </tbody>\n",
              "</table>\n",
              "</div>"
            ],
            "text/plain": [
              "                                            Comments\n",
              "0  I just bought this projector and i am clueless...\n",
              "1  You promised me a multi card reader for leavin...\n",
              "2  Hello Apeman, your team is not responding to m...\n",
              "3  Great picture, I am so excited about looking f...\n",
              "4  I have just bought the Apeman 550 dashcam and ..."
            ]
          },
          "metadata": {
            "tags": []
          },
          "execution_count": 43
        }
      ]
    },
    {
      "cell_type": "markdown",
      "metadata": {
        "id": "qPmcacA172jT"
      },
      "source": [
        "# **Basic feature extraction using text data**"
      ]
    },
    {
      "cell_type": "markdown",
      "metadata": {
        "id": "4DD6SFJi6MaY"
      },
      "source": [
        "## Number of Words"
      ]
    },
    {
      "cell_type": "code",
      "metadata": {
        "id": "2pdCEv_36J7B",
        "outputId": "85463df3-5829-42ef-abce-857c729a7929",
        "colab": {
          "base_uri": "https://localhost:8080/",
          "height": 204
        }
      },
      "source": [
        "train['word_count'] = train['Comments'].apply(lambda x: len(str(x).split(\" \")))\n",
        "train[['Comments','word_count']].head()"
      ],
      "execution_count": 44,
      "outputs": [
        {
          "output_type": "execute_result",
          "data": {
            "text/html": [
              "<div>\n",
              "<style scoped>\n",
              "    .dataframe tbody tr th:only-of-type {\n",
              "        vertical-align: middle;\n",
              "    }\n",
              "\n",
              "    .dataframe tbody tr th {\n",
              "        vertical-align: top;\n",
              "    }\n",
              "\n",
              "    .dataframe thead th {\n",
              "        text-align: right;\n",
              "    }\n",
              "</style>\n",
              "<table border=\"1\" class=\"dataframe\">\n",
              "  <thead>\n",
              "    <tr style=\"text-align: right;\">\n",
              "      <th></th>\n",
              "      <th>Comments</th>\n",
              "      <th>word_count</th>\n",
              "    </tr>\n",
              "  </thead>\n",
              "  <tbody>\n",
              "    <tr>\n",
              "      <th>0</th>\n",
              "      <td>I just bought this projector and i am clueless...</td>\n",
              "      <td>16</td>\n",
              "    </tr>\n",
              "    <tr>\n",
              "      <th>1</th>\n",
              "      <td>You promised me a multi card reader for leavin...</td>\n",
              "      <td>15</td>\n",
              "    </tr>\n",
              "    <tr>\n",
              "      <th>2</th>\n",
              "      <td>Hello Apeman, your team is not responding to m...</td>\n",
              "      <td>18</td>\n",
              "    </tr>\n",
              "    <tr>\n",
              "      <th>3</th>\n",
              "      <td>Great picture, I am so excited about looking f...</td>\n",
              "      <td>38</td>\n",
              "    </tr>\n",
              "    <tr>\n",
              "      <th>4</th>\n",
              "      <td>I have just bought the Apeman 550 dashcam and ...</td>\n",
              "      <td>32</td>\n",
              "    </tr>\n",
              "  </tbody>\n",
              "</table>\n",
              "</div>"
            ],
            "text/plain": [
              "                                            Comments  word_count\n",
              "0  I just bought this projector and i am clueless...          16\n",
              "1  You promised me a multi card reader for leavin...          15\n",
              "2  Hello Apeman, your team is not responding to m...          18\n",
              "3  Great picture, I am so excited about looking f...          38\n",
              "4  I have just bought the Apeman 550 dashcam and ...          32"
            ]
          },
          "metadata": {
            "tags": []
          },
          "execution_count": 44
        }
      ]
    },
    {
      "cell_type": "markdown",
      "metadata": {
        "id": "6ue9ySGj6ma_"
      },
      "source": [
        "## Number of characters"
      ]
    },
    {
      "cell_type": "code",
      "metadata": {
        "id": "SSCkbDVb6J94",
        "outputId": "befbc748-12bb-4d7c-faf4-c60af08defac",
        "colab": {
          "base_uri": "https://localhost:8080/",
          "height": 204
        }
      },
      "source": [
        "train['char_count'] = train['Comments'].str.len() ## this also includes spaces\n",
        "train[['Comments','char_count']].head()"
      ],
      "execution_count": 45,
      "outputs": [
        {
          "output_type": "execute_result",
          "data": {
            "text/html": [
              "<div>\n",
              "<style scoped>\n",
              "    .dataframe tbody tr th:only-of-type {\n",
              "        vertical-align: middle;\n",
              "    }\n",
              "\n",
              "    .dataframe tbody tr th {\n",
              "        vertical-align: top;\n",
              "    }\n",
              "\n",
              "    .dataframe thead th {\n",
              "        text-align: right;\n",
              "    }\n",
              "</style>\n",
              "<table border=\"1\" class=\"dataframe\">\n",
              "  <thead>\n",
              "    <tr style=\"text-align: right;\">\n",
              "      <th></th>\n",
              "      <th>Comments</th>\n",
              "      <th>char_count</th>\n",
              "    </tr>\n",
              "  </thead>\n",
              "  <tbody>\n",
              "    <tr>\n",
              "      <th>0</th>\n",
              "      <td>I just bought this projector and i am clueless...</td>\n",
              "      <td>77</td>\n",
              "    </tr>\n",
              "    <tr>\n",
              "      <th>1</th>\n",
              "      <td>You promised me a multi card reader for leavin...</td>\n",
              "      <td>80</td>\n",
              "    </tr>\n",
              "    <tr>\n",
              "      <th>2</th>\n",
              "      <td>Hello Apeman, your team is not responding to m...</td>\n",
              "      <td>102</td>\n",
              "    </tr>\n",
              "    <tr>\n",
              "      <th>3</th>\n",
              "      <td>Great picture, I am so excited about looking f...</td>\n",
              "      <td>245</td>\n",
              "    </tr>\n",
              "    <tr>\n",
              "      <th>4</th>\n",
              "      <td>I have just bought the Apeman 550 dashcam and ...</td>\n",
              "      <td>154</td>\n",
              "    </tr>\n",
              "  </tbody>\n",
              "</table>\n",
              "</div>"
            ],
            "text/plain": [
              "                                            Comments  char_count\n",
              "0  I just bought this projector and i am clueless...          77\n",
              "1  You promised me a multi card reader for leavin...          80\n",
              "2  Hello Apeman, your team is not responding to m...         102\n",
              "3  Great picture, I am so excited about looking f...         245\n",
              "4  I have just bought the Apeman 550 dashcam and ...         154"
            ]
          },
          "metadata": {
            "tags": []
          },
          "execution_count": 45
        }
      ]
    },
    {
      "cell_type": "markdown",
      "metadata": {
        "id": "8TadSAYm6yDZ"
      },
      "source": [
        "## Average Word Length"
      ]
    },
    {
      "cell_type": "code",
      "metadata": {
        "id": "DCPohinH6KAc",
        "outputId": "434eb9c9-19f8-4773-916a-e621d133ada2",
        "colab": {
          "base_uri": "https://localhost:8080/",
          "height": 204
        }
      },
      "source": [
        "def avg_word(sentence):\n",
        "  words = sentence.split()\n",
        "  return (sum(len(word) for word in words)/len(words))\n",
        "\n",
        "train['avg_word'] = train['Comments'].apply(lambda x: avg_word(x))\n",
        "train[['Comments','avg_word']].head()"
      ],
      "execution_count": 46,
      "outputs": [
        {
          "output_type": "execute_result",
          "data": {
            "text/html": [
              "<div>\n",
              "<style scoped>\n",
              "    .dataframe tbody tr th:only-of-type {\n",
              "        vertical-align: middle;\n",
              "    }\n",
              "\n",
              "    .dataframe tbody tr th {\n",
              "        vertical-align: top;\n",
              "    }\n",
              "\n",
              "    .dataframe thead th {\n",
              "        text-align: right;\n",
              "    }\n",
              "</style>\n",
              "<table border=\"1\" class=\"dataframe\">\n",
              "  <thead>\n",
              "    <tr style=\"text-align: right;\">\n",
              "      <th></th>\n",
              "      <th>Comments</th>\n",
              "      <th>avg_word</th>\n",
              "    </tr>\n",
              "  </thead>\n",
              "  <tbody>\n",
              "    <tr>\n",
              "      <th>0</th>\n",
              "      <td>I just bought this projector and i am clueless...</td>\n",
              "      <td>4.133333</td>\n",
              "    </tr>\n",
              "    <tr>\n",
              "      <th>1</th>\n",
              "      <td>You promised me a multi card reader for leavin...</td>\n",
              "      <td>4.400000</td>\n",
              "    </tr>\n",
              "    <tr>\n",
              "      <th>2</th>\n",
              "      <td>Hello Apeman, your team is not responding to m...</td>\n",
              "      <td>4.722222</td>\n",
              "    </tr>\n",
              "    <tr>\n",
              "      <th>3</th>\n",
              "      <td>Great picture, I am so excited about looking f...</td>\n",
              "      <td>5.777778</td>\n",
              "    </tr>\n",
              "    <tr>\n",
              "      <th>4</th>\n",
              "      <td>I have just bought the Apeman 550 dashcam and ...</td>\n",
              "      <td>3.967742</td>\n",
              "    </tr>\n",
              "  </tbody>\n",
              "</table>\n",
              "</div>"
            ],
            "text/plain": [
              "                                            Comments  avg_word\n",
              "0  I just bought this projector and i am clueless...  4.133333\n",
              "1  You promised me a multi card reader for leavin...  4.400000\n",
              "2  Hello Apeman, your team is not responding to m...  4.722222\n",
              "3  Great picture, I am so excited about looking f...  5.777778\n",
              "4  I have just bought the Apeman 550 dashcam and ...  3.967742"
            ]
          },
          "metadata": {
            "tags": []
          },
          "execution_count": 46
        }
      ]
    },
    {
      "cell_type": "markdown",
      "metadata": {
        "id": "JPL99hwm65ks"
      },
      "source": [
        "## Number of stopwords"
      ]
    },
    {
      "cell_type": "code",
      "metadata": {
        "id": "x66TCNT06vHg",
        "outputId": "2454c60d-2bd1-4c80-dc81-055eee3f885b",
        "colab": {
          "base_uri": "https://localhost:8080/",
          "height": 204
        }
      },
      "source": [
        "from nltk.corpus import stopwords\n",
        "stop = stopwords.words('english')\n",
        "\n",
        "train['stopwords'] = train['Comments'].apply(lambda x: len([x for x in x.split() if x in stop]))\n",
        "train[['Comments','stopwords']].head()"
      ],
      "execution_count": 47,
      "outputs": [
        {
          "output_type": "execute_result",
          "data": {
            "text/html": [
              "<div>\n",
              "<style scoped>\n",
              "    .dataframe tbody tr th:only-of-type {\n",
              "        vertical-align: middle;\n",
              "    }\n",
              "\n",
              "    .dataframe tbody tr th {\n",
              "        vertical-align: top;\n",
              "    }\n",
              "\n",
              "    .dataframe thead th {\n",
              "        text-align: right;\n",
              "    }\n",
              "</style>\n",
              "<table border=\"1\" class=\"dataframe\">\n",
              "  <thead>\n",
              "    <tr style=\"text-align: right;\">\n",
              "      <th></th>\n",
              "      <th>Comments</th>\n",
              "      <th>stopwords</th>\n",
              "    </tr>\n",
              "  </thead>\n",
              "  <tbody>\n",
              "    <tr>\n",
              "      <th>0</th>\n",
              "      <td>I just bought this projector and i am clueless...</td>\n",
              "      <td>9</td>\n",
              "    </tr>\n",
              "    <tr>\n",
              "      <th>1</th>\n",
              "      <td>You promised me a multi card reader for leavin...</td>\n",
              "      <td>4</td>\n",
              "    </tr>\n",
              "    <tr>\n",
              "      <th>2</th>\n",
              "      <td>Hello Apeman, your team is not responding to m...</td>\n",
              "      <td>8</td>\n",
              "    </tr>\n",
              "    <tr>\n",
              "      <th>3</th>\n",
              "      <td>Great picture, I am so excited about looking f...</td>\n",
              "      <td>13</td>\n",
              "    </tr>\n",
              "    <tr>\n",
              "      <th>4</th>\n",
              "      <td>I have just bought the Apeman 550 dashcam and ...</td>\n",
              "      <td>11</td>\n",
              "    </tr>\n",
              "  </tbody>\n",
              "</table>\n",
              "</div>"
            ],
            "text/plain": [
              "                                            Comments  stopwords\n",
              "0  I just bought this projector and i am clueless...          9\n",
              "1  You promised me a multi card reader for leavin...          4\n",
              "2  Hello Apeman, your team is not responding to m...          8\n",
              "3  Great picture, I am so excited about looking f...         13\n",
              "4  I have just bought the Apeman 550 dashcam and ...         11"
            ]
          },
          "metadata": {
            "tags": []
          },
          "execution_count": 47
        }
      ]
    },
    {
      "cell_type": "markdown",
      "metadata": {
        "id": "u_lGlcuc7BmB"
      },
      "source": [
        "## Number of special characters"
      ]
    },
    {
      "cell_type": "code",
      "metadata": {
        "id": "xuFotzvS6vPD",
        "outputId": "b64ecfed-7edc-4651-ca60-0fbf337e61e5",
        "colab": {
          "base_uri": "https://localhost:8080/",
          "height": 204
        }
      },
      "source": [
        "train['hashtags'] = train['Comments'].apply(lambda x: len([x for x in x.split() if x.startswith('#')]))\n",
        "train[['Comments','hashtags']].head()"
      ],
      "execution_count": 48,
      "outputs": [
        {
          "output_type": "execute_result",
          "data": {
            "text/html": [
              "<div>\n",
              "<style scoped>\n",
              "    .dataframe tbody tr th:only-of-type {\n",
              "        vertical-align: middle;\n",
              "    }\n",
              "\n",
              "    .dataframe tbody tr th {\n",
              "        vertical-align: top;\n",
              "    }\n",
              "\n",
              "    .dataframe thead th {\n",
              "        text-align: right;\n",
              "    }\n",
              "</style>\n",
              "<table border=\"1\" class=\"dataframe\">\n",
              "  <thead>\n",
              "    <tr style=\"text-align: right;\">\n",
              "      <th></th>\n",
              "      <th>Comments</th>\n",
              "      <th>hashtags</th>\n",
              "    </tr>\n",
              "  </thead>\n",
              "  <tbody>\n",
              "    <tr>\n",
              "      <th>0</th>\n",
              "      <td>I just bought this projector and i am clueless...</td>\n",
              "      <td>0</td>\n",
              "    </tr>\n",
              "    <tr>\n",
              "      <th>1</th>\n",
              "      <td>You promised me a multi card reader for leavin...</td>\n",
              "      <td>0</td>\n",
              "    </tr>\n",
              "    <tr>\n",
              "      <th>2</th>\n",
              "      <td>Hello Apeman, your team is not responding to m...</td>\n",
              "      <td>0</td>\n",
              "    </tr>\n",
              "    <tr>\n",
              "      <th>3</th>\n",
              "      <td>Great picture, I am so excited about looking f...</td>\n",
              "      <td>5</td>\n",
              "    </tr>\n",
              "    <tr>\n",
              "      <th>4</th>\n",
              "      <td>I have just bought the Apeman 550 dashcam and ...</td>\n",
              "      <td>0</td>\n",
              "    </tr>\n",
              "  </tbody>\n",
              "</table>\n",
              "</div>"
            ],
            "text/plain": [
              "                                            Comments  hashtags\n",
              "0  I just bought this projector and i am clueless...         0\n",
              "1  You promised me a multi card reader for leavin...         0\n",
              "2  Hello Apeman, your team is not responding to m...         0\n",
              "3  Great picture, I am so excited about looking f...         5\n",
              "4  I have just bought the Apeman 550 dashcam and ...         0"
            ]
          },
          "metadata": {
            "tags": []
          },
          "execution_count": 48
        }
      ]
    },
    {
      "cell_type": "markdown",
      "metadata": {
        "id": "RgD7xvqu7UHT"
      },
      "source": [
        "## Number of numerics"
      ]
    },
    {
      "cell_type": "code",
      "metadata": {
        "id": "e4jaa1366vR8",
        "outputId": "e0453566-fde6-4d24-fcc5-4fba02e33aca",
        "colab": {
          "base_uri": "https://localhost:8080/",
          "height": 204
        }
      },
      "source": [
        "train['numerics'] = train['Comments'].apply(lambda x: len([x for x in x.split() if x.isdigit()]))\n",
        "train[['Comments','numerics']].head()"
      ],
      "execution_count": 49,
      "outputs": [
        {
          "output_type": "execute_result",
          "data": {
            "text/html": [
              "<div>\n",
              "<style scoped>\n",
              "    .dataframe tbody tr th:only-of-type {\n",
              "        vertical-align: middle;\n",
              "    }\n",
              "\n",
              "    .dataframe tbody tr th {\n",
              "        vertical-align: top;\n",
              "    }\n",
              "\n",
              "    .dataframe thead th {\n",
              "        text-align: right;\n",
              "    }\n",
              "</style>\n",
              "<table border=\"1\" class=\"dataframe\">\n",
              "  <thead>\n",
              "    <tr style=\"text-align: right;\">\n",
              "      <th></th>\n",
              "      <th>Comments</th>\n",
              "      <th>numerics</th>\n",
              "    </tr>\n",
              "  </thead>\n",
              "  <tbody>\n",
              "    <tr>\n",
              "      <th>0</th>\n",
              "      <td>I just bought this projector and i am clueless...</td>\n",
              "      <td>0</td>\n",
              "    </tr>\n",
              "    <tr>\n",
              "      <th>1</th>\n",
              "      <td>You promised me a multi card reader for leavin...</td>\n",
              "      <td>0</td>\n",
              "    </tr>\n",
              "    <tr>\n",
              "      <th>2</th>\n",
              "      <td>Hello Apeman, your team is not responding to m...</td>\n",
              "      <td>0</td>\n",
              "    </tr>\n",
              "    <tr>\n",
              "      <th>3</th>\n",
              "      <td>Great picture, I am so excited about looking f...</td>\n",
              "      <td>0</td>\n",
              "    </tr>\n",
              "    <tr>\n",
              "      <th>4</th>\n",
              "      <td>I have just bought the Apeman 550 dashcam and ...</td>\n",
              "      <td>2</td>\n",
              "    </tr>\n",
              "  </tbody>\n",
              "</table>\n",
              "</div>"
            ],
            "text/plain": [
              "                                            Comments  numerics\n",
              "0  I just bought this projector and i am clueless...         0\n",
              "1  You promised me a multi card reader for leavin...         0\n",
              "2  Hello Apeman, your team is not responding to m...         0\n",
              "3  Great picture, I am so excited about looking f...         0\n",
              "4  I have just bought the Apeman 550 dashcam and ...         2"
            ]
          },
          "metadata": {
            "tags": []
          },
          "execution_count": 49
        }
      ]
    },
    {
      "cell_type": "markdown",
      "metadata": {
        "id": "04gZhPMo7eiA"
      },
      "source": [
        "## Number of Uppercase words"
      ]
    },
    {
      "cell_type": "code",
      "metadata": {
        "id": "fqXwvMuK6vVQ",
        "outputId": "9375118b-5a85-4616-c48a-d36aae77c56c",
        "colab": {
          "base_uri": "https://localhost:8080/",
          "height": 204
        }
      },
      "source": [
        "train['upper'] = train['Comments'].apply(lambda x: len([x for x in x.split() if x.isupper()]))\n",
        "train[['Comments','upper']].head()"
      ],
      "execution_count": 50,
      "outputs": [
        {
          "output_type": "execute_result",
          "data": {
            "text/html": [
              "<div>\n",
              "<style scoped>\n",
              "    .dataframe tbody tr th:only-of-type {\n",
              "        vertical-align: middle;\n",
              "    }\n",
              "\n",
              "    .dataframe tbody tr th {\n",
              "        vertical-align: top;\n",
              "    }\n",
              "\n",
              "    .dataframe thead th {\n",
              "        text-align: right;\n",
              "    }\n",
              "</style>\n",
              "<table border=\"1\" class=\"dataframe\">\n",
              "  <thead>\n",
              "    <tr style=\"text-align: right;\">\n",
              "      <th></th>\n",
              "      <th>Comments</th>\n",
              "      <th>upper</th>\n",
              "    </tr>\n",
              "  </thead>\n",
              "  <tbody>\n",
              "    <tr>\n",
              "      <th>0</th>\n",
              "      <td>I just bought this projector and i am clueless...</td>\n",
              "      <td>1</td>\n",
              "    </tr>\n",
              "    <tr>\n",
              "      <th>1</th>\n",
              "      <td>You promised me a multi card reader for leavin...</td>\n",
              "      <td>0</td>\n",
              "    </tr>\n",
              "    <tr>\n",
              "      <th>2</th>\n",
              "      <td>Hello Apeman, your team is not responding to m...</td>\n",
              "      <td>0</td>\n",
              "    </tr>\n",
              "    <tr>\n",
              "      <th>3</th>\n",
              "      <td>Great picture, I am so excited about looking f...</td>\n",
              "      <td>1</td>\n",
              "    </tr>\n",
              "    <tr>\n",
              "      <th>4</th>\n",
              "      <td>I have just bought the Apeman 550 dashcam and ...</td>\n",
              "      <td>2</td>\n",
              "    </tr>\n",
              "  </tbody>\n",
              "</table>\n",
              "</div>"
            ],
            "text/plain": [
              "                                            Comments  upper\n",
              "0  I just bought this projector and i am clueless...      1\n",
              "1  You promised me a multi card reader for leavin...      0\n",
              "2  Hello Apeman, your team is not responding to m...      0\n",
              "3  Great picture, I am so excited about looking f...      1\n",
              "4  I have just bought the Apeman 550 dashcam and ...      2"
            ]
          },
          "metadata": {
            "tags": []
          },
          "execution_count": 50
        }
      ]
    },
    {
      "cell_type": "markdown",
      "metadata": {
        "id": "DWQRsLt87nfC"
      },
      "source": [
        "# **Basic Pre-processing**"
      ]
    },
    {
      "cell_type": "markdown",
      "metadata": {
        "id": "LxQBO4JZ8w9a"
      },
      "source": [
        "## Lower case"
      ]
    },
    {
      "cell_type": "code",
      "metadata": {
        "id": "96qlPAX07bJw",
        "outputId": "ecd6112f-6a1c-447a-983d-6233294f945d",
        "colab": {
          "base_uri": "https://localhost:8080/",
          "height": 119
        }
      },
      "source": [
        "train['Comments'] = train['Comments'].apply(lambda x: \" \".join(x.lower() for x in x.split()))\n",
        "train['Comments'].head()"
      ],
      "execution_count": 51,
      "outputs": [
        {
          "output_type": "execute_result",
          "data": {
            "text/plain": [
              "0    i just bought this projector and i am clueless...\n",
              "1    you promised me a multi card reader for leavin...\n",
              "2    hello apeman, your team is not responding to m...\n",
              "3    great picture, i am so excited about looking f...\n",
              "4    i have just bought the apeman 550 dashcam and ...\n",
              "Name: Comments, dtype: object"
            ]
          },
          "metadata": {
            "tags": []
          },
          "execution_count": 51
        }
      ]
    },
    {
      "cell_type": "markdown",
      "metadata": {
        "id": "Yn5fs3QY8-Gh"
      },
      "source": [
        "## Removing Punctuation"
      ]
    },
    {
      "cell_type": "code",
      "metadata": {
        "id": "91chtAi27bMg",
        "outputId": "e03d68f2-e454-4d0d-c8f3-6be3e193d857",
        "colab": {
          "base_uri": "https://localhost:8080/",
          "height": 119
        }
      },
      "source": [
        "train['Comments'] = train['Comments'].str.replace('[^\\w\\s]','')\n",
        "train['Comments'].head()"
      ],
      "execution_count": 52,
      "outputs": [
        {
          "output_type": "execute_result",
          "data": {
            "text/plain": [
              "0    i just bought this projector and i am clueless...\n",
              "1    you promised me a multi card reader for leavin...\n",
              "2    hello apeman your team is not responding to my...\n",
              "3    great picture i am so excited about looking fo...\n",
              "4    i have just bought the apeman 550 dashcam and ...\n",
              "Name: Comments, dtype: object"
            ]
          },
          "metadata": {
            "tags": []
          },
          "execution_count": 52
        }
      ]
    },
    {
      "cell_type": "markdown",
      "metadata": {
        "id": "3_oE6NhO9H8I"
      },
      "source": [
        "## Removal of Stop Words"
      ]
    },
    {
      "cell_type": "code",
      "metadata": {
        "id": "KE1BvNyi7bPR",
        "outputId": "b53b2025-a5de-4751-9e53-b57303d51e45",
        "colab": {
          "base_uri": "https://localhost:8080/",
          "height": 119
        }
      },
      "source": [
        "from nltk.corpus import stopwords\n",
        "stop = stopwords.words('english')\n",
        "train['Comments'] = train['Comments'].apply(lambda x: \" \".join(x for x in x.split() if x not in stop))\n",
        "train['Comments'].head()"
      ],
      "execution_count": 53,
      "outputs": [
        {
          "output_type": "execute_result",
          "data": {
            "text/plain": [
              "0             bought projector clueless connect iphone\n",
              "1    promised multi card reader leaving review im s...\n",
              "2    hello apeman team responding email fixing issu...\n",
              "3    great picture excited looking 4k camerajust ne...\n",
              "4    bought apeman 550 dashcam find rear camer cabl...\n",
              "Name: Comments, dtype: object"
            ]
          },
          "metadata": {
            "tags": []
          },
          "execution_count": 53
        }
      ]
    },
    {
      "cell_type": "markdown",
      "metadata": {
        "id": "Hzdc1xC29Rmr"
      },
      "source": [
        "## Common words"
      ]
    },
    {
      "cell_type": "code",
      "metadata": {
        "id": "sBRgicZD7bR3",
        "outputId": "23f82c7e-e2f9-4841-af98-d7e01327fb74",
        "colab": {
          "base_uri": "https://localhost:8080/",
          "height": 204
        }
      },
      "source": [
        "freq = pd.Series(' '.join(train['Comments']).split()).value_counts()[:10]\n",
        "freq"
      ],
      "execution_count": 54,
      "outputs": [
        {
          "output_type": "execute_result",
          "data": {
            "text/plain": [
              "gadgets               2429\n",
              "tech                   762\n",
              "car                    733\n",
              "new                    552\n",
              "electriccar            494\n",
              "via                    484\n",
              "technology             421\n",
              "autonomousvehicles     421\n",
              "electric               417\n",
              "smart                  378\n",
              "dtype: int64"
            ]
          },
          "metadata": {
            "tags": []
          },
          "execution_count": 54
        }
      ]
    },
    {
      "cell_type": "code",
      "metadata": {
        "id": "QuDYAK_g6KC9"
      },
      "source": [
        "#Common word removal\n",
        "#freq = list(freq.index)\n",
        "#train['Comments'] = train['Comments'].apply(lambda x: \" \".join(x for x in x.split() if x not in freq))\n",
        "#train['Comments'].head()"
      ],
      "execution_count": 55,
      "outputs": []
    },
    {
      "cell_type": "markdown",
      "metadata": {
        "id": "xLcAlu5L9tyC"
      },
      "source": [
        "## Rare words removal"
      ]
    },
    {
      "cell_type": "code",
      "metadata": {
        "id": "APRufY6x9aQJ",
        "outputId": "4aff8b6f-2e83-48af-cfe2-0f1e91116ac6",
        "colab": {
          "base_uri": "https://localhost:8080/",
          "height": 204
        }
      },
      "source": [
        "freq = pd.Series(' '.join(train['Comments']).split()).value_counts()[-10:]\n",
        "freq"
      ],
      "execution_count": 56,
      "outputs": [
        {
          "output_type": "execute_result",
          "data": {
            "text/plain": [
              "httpstcoa6ufq6easd    1\n",
              "uhs                   1\n",
              "httpstcoikfnfyyrxc    1\n",
              "chartjs               1\n",
              "httpstcolwqd5pejhv    1\n",
              "httpstco32cgag8vev    1\n",
              "meanwhile             1\n",
              "httpstco7csjwvhdh6    1\n",
              "daughter              1\n",
              "segment               1\n",
              "dtype: int64"
            ]
          },
          "metadata": {
            "tags": []
          },
          "execution_count": 56
        }
      ]
    },
    {
      "cell_type": "code",
      "metadata": {
        "id": "zgTqySps9aSh",
        "outputId": "b1e64cf4-caa1-4a6f-d0f1-d5da8f469f91",
        "colab": {
          "base_uri": "https://localhost:8080/",
          "height": 119
        }
      },
      "source": [
        "freq = list(freq.index)\n",
        "train['Comments'] = train['Comments'].apply(lambda x: \" \".join(x for x in x.split() if x not in freq))\n",
        "train['Comments'].head()"
      ],
      "execution_count": 57,
      "outputs": [
        {
          "output_type": "execute_result",
          "data": {
            "text/plain": [
              "0             bought projector clueless connect iphone\n",
              "1    promised multi card reader leaving review im s...\n",
              "2    hello apeman team responding email fixing issu...\n",
              "3    great picture excited looking 4k camerajust ne...\n",
              "4    bought apeman 550 dashcam find rear camer cabl...\n",
              "Name: Comments, dtype: object"
            ]
          },
          "metadata": {
            "tags": []
          },
          "execution_count": 57
        }
      ]
    },
    {
      "cell_type": "markdown",
      "metadata": {
        "id": "iZ4WA-Iw99ej"
      },
      "source": [
        "## Spelling correction"
      ]
    },
    {
      "cell_type": "code",
      "metadata": {
        "id": "9TJPB0K59aV7",
        "outputId": "0315bbfa-d021-44bd-f298-7f158559a17b",
        "colab": {
          "base_uri": "https://localhost:8080/",
          "height": 119
        }
      },
      "source": [
        "from textblob import TextBlob\n",
        "train['Comments'][:5].apply(lambda x: str(TextBlob(x).correct()))\n",
        "#it will actually take a lot of time to make these corrections, therefore, it is shown this technique by applying it on only the first 5 rows"
      ],
      "execution_count": 58,
      "outputs": [
        {
          "output_type": "execute_result",
          "data": {
            "text/plain": [
              "0              bought protector careless connect phone\n",
              "1    promised multi card reader leaving review in s...\n",
              "2    hello apeman team responding email fixing issu...\n",
              "3    great picture excited looking k camerajust nee...\n",
              "4    bought apeman 550 dashcam find rear came cable...\n",
              "Name: Comments, dtype: object"
            ]
          },
          "metadata": {
            "tags": []
          },
          "execution_count": 58
        }
      ]
    },
    {
      "cell_type": "markdown",
      "metadata": {
        "id": "lwwEVXdA-hsd"
      },
      "source": [
        "## Tokenization"
      ]
    },
    {
      "cell_type": "code",
      "metadata": {
        "id": "q1HQsLiX9aYa",
        "outputId": "87c228da-012e-42f5-b7fb-8a9f52290880",
        "colab": {
          "base_uri": "https://localhost:8080/",
          "height": 68
        }
      },
      "source": [
        "import nltk\n",
        "nltk.download('punkt')\n",
        "TextBlob(train['Comments'][1]).words"
      ],
      "execution_count": 59,
      "outputs": [
        {
          "output_type": "stream",
          "text": [
            "[nltk_data] Downloading package punkt to /root/nltk_data...\n",
            "[nltk_data]   Package punkt is already up-to-date!\n"
          ],
          "name": "stdout"
        },
        {
          "output_type": "execute_result",
          "data": {
            "text/plain": [
              "WordList(['promised', 'multi', 'card', 'reader', 'leaving', 'review', 'im', 'still', 'waiting', 'susie'])"
            ]
          },
          "metadata": {
            "tags": []
          },
          "execution_count": 59
        }
      ]
    },
    {
      "cell_type": "markdown",
      "metadata": {
        "id": "qA18YADd-0u1"
      },
      "source": [
        "## Stemming"
      ]
    },
    {
      "cell_type": "code",
      "metadata": {
        "id": "baiyj4r19acx",
        "outputId": "33993cce-bee4-4d7d-9cc9-111873e40c8c",
        "colab": {
          "base_uri": "https://localhost:8080/",
          "height": 119
        }
      },
      "source": [
        "from nltk.stem import PorterStemmer\n",
        "st = PorterStemmer()\n",
        "train['Comments'][:5].apply(lambda x: \" \".join([st.stem(word) for word in x.split()]))"
      ],
      "execution_count": 60,
      "outputs": [
        {
          "output_type": "execute_result",
          "data": {
            "text/plain": [
              "0              bought projector clueless connect iphon\n",
              "1    promis multi card reader leav review im still ...\n",
              "2    hello apeman team respond email fix issu multi...\n",
              "3    great pictur excit look 4k camerajust need pri...\n",
              "4    bought apeman 550 dashcam find rear camer cabl...\n",
              "Name: Comments, dtype: object"
            ]
          },
          "metadata": {
            "tags": []
          },
          "execution_count": 60
        }
      ]
    },
    {
      "cell_type": "markdown",
      "metadata": {
        "id": "FGKtFsFk-8sR"
      },
      "source": [
        "## Lemmatization"
      ]
    },
    {
      "cell_type": "code",
      "metadata": {
        "id": "-cXo-x_S-6Ik",
        "outputId": "e600f8b4-5685-4662-fccc-8b4ba4ceebce",
        "colab": {
          "base_uri": "https://localhost:8080/",
          "height": 119
        }
      },
      "source": [
        "from textblob import Word\n",
        "train['Comments'] = train['Comments'].apply(lambda x: \" \".join([Word(word).lemmatize() for word in x.split()]))\n",
        "train['Comments'].head()"
      ],
      "execution_count": 61,
      "outputs": [
        {
          "output_type": "execute_result",
          "data": {
            "text/plain": [
              "0             bought projector clueless connect iphone\n",
              "1    promised multi card reader leaving review im s...\n",
              "2    hello apeman team responding email fixing issu...\n",
              "3    great picture excited looking 4k camerajust ne...\n",
              "4    bought apeman 550 dashcam find rear camer cabl...\n",
              "Name: Comments, dtype: object"
            ]
          },
          "metadata": {
            "tags": []
          },
          "execution_count": 61
        }
      ]
    },
    {
      "cell_type": "markdown",
      "metadata": {
        "id": "a-ZQwwcz_IhN"
      },
      "source": [
        "# **Advance Text Processing**"
      ]
    },
    {
      "cell_type": "markdown",
      "metadata": {
        "id": "Xss7TdG0_RWN"
      },
      "source": [
        "## N-grams"
      ]
    },
    {
      "cell_type": "code",
      "metadata": {
        "id": "yQkPt1zY-6Lx",
        "outputId": "4d886784-2eeb-45f4-d01d-02b2088ce26d",
        "colab": {
          "base_uri": "https://localhost:8080/",
          "height": 85
        }
      },
      "source": [
        "TextBlob(train['Comments'][0]).ngrams(2)"
      ],
      "execution_count": 62,
      "outputs": [
        {
          "output_type": "execute_result",
          "data": {
            "text/plain": [
              "[WordList(['bought', 'projector']),\n",
              " WordList(['projector', 'clueless']),\n",
              " WordList(['clueless', 'connect']),\n",
              " WordList(['connect', 'iphone'])]"
            ]
          },
          "metadata": {
            "tags": []
          },
          "execution_count": 62
        }
      ]
    },
    {
      "cell_type": "markdown",
      "metadata": {
        "id": "a816zx_W_aKR"
      },
      "source": [
        "## Term frequency"
      ]
    },
    {
      "cell_type": "code",
      "metadata": {
        "id": "4ZOo4qWS-6Qi",
        "outputId": "aa7ab41f-36b9-4bf1-deb5-b2cdab0effd6",
        "colab": {
          "base_uri": "https://localhost:8080/",
          "height": 359
        }
      },
      "source": [
        "tf1 = (train['Comments'][1:2]).apply(lambda x: pd.value_counts(x.split(\" \"))).sum(axis = 0).reset_index()\n",
        "tf1.columns = ['words','tf']\n",
        "tf1"
      ],
      "execution_count": 63,
      "outputs": [
        {
          "output_type": "execute_result",
          "data": {
            "text/html": [
              "<div>\n",
              "<style scoped>\n",
              "    .dataframe tbody tr th:only-of-type {\n",
              "        vertical-align: middle;\n",
              "    }\n",
              "\n",
              "    .dataframe tbody tr th {\n",
              "        vertical-align: top;\n",
              "    }\n",
              "\n",
              "    .dataframe thead th {\n",
              "        text-align: right;\n",
              "    }\n",
              "</style>\n",
              "<table border=\"1\" class=\"dataframe\">\n",
              "  <thead>\n",
              "    <tr style=\"text-align: right;\">\n",
              "      <th></th>\n",
              "      <th>words</th>\n",
              "      <th>tf</th>\n",
              "    </tr>\n",
              "  </thead>\n",
              "  <tbody>\n",
              "    <tr>\n",
              "      <th>0</th>\n",
              "      <td>card</td>\n",
              "      <td>1</td>\n",
              "    </tr>\n",
              "    <tr>\n",
              "      <th>1</th>\n",
              "      <td>reader</td>\n",
              "      <td>1</td>\n",
              "    </tr>\n",
              "    <tr>\n",
              "      <th>2</th>\n",
              "      <td>promised</td>\n",
              "      <td>1</td>\n",
              "    </tr>\n",
              "    <tr>\n",
              "      <th>3</th>\n",
              "      <td>still</td>\n",
              "      <td>1</td>\n",
              "    </tr>\n",
              "    <tr>\n",
              "      <th>4</th>\n",
              "      <td>waiting</td>\n",
              "      <td>1</td>\n",
              "    </tr>\n",
              "    <tr>\n",
              "      <th>5</th>\n",
              "      <td>multi</td>\n",
              "      <td>1</td>\n",
              "    </tr>\n",
              "    <tr>\n",
              "      <th>6</th>\n",
              "      <td>im</td>\n",
              "      <td>1</td>\n",
              "    </tr>\n",
              "    <tr>\n",
              "      <th>7</th>\n",
              "      <td>review</td>\n",
              "      <td>1</td>\n",
              "    </tr>\n",
              "    <tr>\n",
              "      <th>8</th>\n",
              "      <td>leaving</td>\n",
              "      <td>1</td>\n",
              "    </tr>\n",
              "    <tr>\n",
              "      <th>9</th>\n",
              "      <td>susie</td>\n",
              "      <td>1</td>\n",
              "    </tr>\n",
              "  </tbody>\n",
              "</table>\n",
              "</div>"
            ],
            "text/plain": [
              "      words  tf\n",
              "0      card   1\n",
              "1    reader   1\n",
              "2  promised   1\n",
              "3     still   1\n",
              "4   waiting   1\n",
              "5     multi   1\n",
              "6        im   1\n",
              "7    review   1\n",
              "8   leaving   1\n",
              "9     susie   1"
            ]
          },
          "metadata": {
            "tags": []
          },
          "execution_count": 63
        }
      ]
    },
    {
      "cell_type": "markdown",
      "metadata": {
        "id": "Rd-VuIcP_kRE"
      },
      "source": [
        "## Inverse Document Frequency"
      ]
    },
    {
      "cell_type": "code",
      "metadata": {
        "id": "U7jHW1u3-6TO",
        "outputId": "d0cbd611-3610-4439-b259-20a4c5b92e04",
        "colab": {
          "base_uri": "https://localhost:8080/",
          "height": 359
        }
      },
      "source": [
        "for i,word in enumerate(tf1['words']):\n",
        "  tf1.loc[i, 'idf'] = np.log(train.shape[0]/(len(train[train['Comments'].str.contains(word)])))\n",
        "tf1"
      ],
      "execution_count": 64,
      "outputs": [
        {
          "output_type": "execute_result",
          "data": {
            "text/html": [
              "<div>\n",
              "<style scoped>\n",
              "    .dataframe tbody tr th:only-of-type {\n",
              "        vertical-align: middle;\n",
              "    }\n",
              "\n",
              "    .dataframe tbody tr th {\n",
              "        vertical-align: top;\n",
              "    }\n",
              "\n",
              "    .dataframe thead th {\n",
              "        text-align: right;\n",
              "    }\n",
              "</style>\n",
              "<table border=\"1\" class=\"dataframe\">\n",
              "  <thead>\n",
              "    <tr style=\"text-align: right;\">\n",
              "      <th></th>\n",
              "      <th>words</th>\n",
              "      <th>tf</th>\n",
              "      <th>idf</th>\n",
              "    </tr>\n",
              "  </thead>\n",
              "  <tbody>\n",
              "    <tr>\n",
              "      <th>0</th>\n",
              "      <td>card</td>\n",
              "      <td>1</td>\n",
              "      <td>4.610001</td>\n",
              "    </tr>\n",
              "    <tr>\n",
              "      <th>1</th>\n",
              "      <td>reader</td>\n",
              "      <td>1</td>\n",
              "      <td>6.273506</td>\n",
              "    </tr>\n",
              "    <tr>\n",
              "      <th>2</th>\n",
              "      <td>promised</td>\n",
              "      <td>1</td>\n",
              "      <td>7.372118</td>\n",
              "    </tr>\n",
              "    <tr>\n",
              "      <th>3</th>\n",
              "      <td>still</td>\n",
              "      <td>1</td>\n",
              "      <td>5.450305</td>\n",
              "    </tr>\n",
              "    <tr>\n",
              "      <th>4</th>\n",
              "      <td>waiting</td>\n",
              "      <td>1</td>\n",
              "      <td>6.765982</td>\n",
              "    </tr>\n",
              "    <tr>\n",
              "      <th>5</th>\n",
              "      <td>multi</td>\n",
              "      <td>1</td>\n",
              "      <td>4.642089</td>\n",
              "    </tr>\n",
              "    <tr>\n",
              "      <th>6</th>\n",
              "      <td>im</td>\n",
              "      <td>1</td>\n",
              "      <td>2.355943</td>\n",
              "    </tr>\n",
              "    <tr>\n",
              "      <th>7</th>\n",
              "      <td>review</td>\n",
              "      <td>1</td>\n",
              "      <td>4.519487</td>\n",
              "    </tr>\n",
              "    <tr>\n",
              "      <th>8</th>\n",
              "      <td>leaving</td>\n",
              "      <td>1</td>\n",
              "      <td>8.065265</td>\n",
              "    </tr>\n",
              "    <tr>\n",
              "      <th>9</th>\n",
              "      <td>susie</td>\n",
              "      <td>1</td>\n",
              "      <td>9.163877</td>\n",
              "    </tr>\n",
              "  </tbody>\n",
              "</table>\n",
              "</div>"
            ],
            "text/plain": [
              "      words  tf       idf\n",
              "0      card   1  4.610001\n",
              "1    reader   1  6.273506\n",
              "2  promised   1  7.372118\n",
              "3     still   1  5.450305\n",
              "4   waiting   1  6.765982\n",
              "5     multi   1  4.642089\n",
              "6        im   1  2.355943\n",
              "7    review   1  4.519487\n",
              "8   leaving   1  8.065265\n",
              "9     susie   1  9.163877"
            ]
          },
          "metadata": {
            "tags": []
          },
          "execution_count": 64
        }
      ]
    },
    {
      "cell_type": "markdown",
      "metadata": {
        "id": "zKPOUYHb_0cq"
      },
      "source": [
        "## Term Frequency – Inverse Document Frequency (TF-IDF)"
      ]
    },
    {
      "cell_type": "code",
      "metadata": {
        "id": "zTlQwc0h9abT",
        "outputId": "7f82a5a4-7880-48c8-9f21-ca2cb777d03d",
        "colab": {
          "base_uri": "https://localhost:8080/",
          "height": 359
        }
      },
      "source": [
        "tf1['tfidf'] = tf1['tf'] * tf1['idf']\n",
        "tf1"
      ],
      "execution_count": 65,
      "outputs": [
        {
          "output_type": "execute_result",
          "data": {
            "text/html": [
              "<div>\n",
              "<style scoped>\n",
              "    .dataframe tbody tr th:only-of-type {\n",
              "        vertical-align: middle;\n",
              "    }\n",
              "\n",
              "    .dataframe tbody tr th {\n",
              "        vertical-align: top;\n",
              "    }\n",
              "\n",
              "    .dataframe thead th {\n",
              "        text-align: right;\n",
              "    }\n",
              "</style>\n",
              "<table border=\"1\" class=\"dataframe\">\n",
              "  <thead>\n",
              "    <tr style=\"text-align: right;\">\n",
              "      <th></th>\n",
              "      <th>words</th>\n",
              "      <th>tf</th>\n",
              "      <th>idf</th>\n",
              "      <th>tfidf</th>\n",
              "    </tr>\n",
              "  </thead>\n",
              "  <tbody>\n",
              "    <tr>\n",
              "      <th>0</th>\n",
              "      <td>card</td>\n",
              "      <td>1</td>\n",
              "      <td>4.610001</td>\n",
              "      <td>4.610001</td>\n",
              "    </tr>\n",
              "    <tr>\n",
              "      <th>1</th>\n",
              "      <td>reader</td>\n",
              "      <td>1</td>\n",
              "      <td>6.273506</td>\n",
              "      <td>6.273506</td>\n",
              "    </tr>\n",
              "    <tr>\n",
              "      <th>2</th>\n",
              "      <td>promised</td>\n",
              "      <td>1</td>\n",
              "      <td>7.372118</td>\n",
              "      <td>7.372118</td>\n",
              "    </tr>\n",
              "    <tr>\n",
              "      <th>3</th>\n",
              "      <td>still</td>\n",
              "      <td>1</td>\n",
              "      <td>5.450305</td>\n",
              "      <td>5.450305</td>\n",
              "    </tr>\n",
              "    <tr>\n",
              "      <th>4</th>\n",
              "      <td>waiting</td>\n",
              "      <td>1</td>\n",
              "      <td>6.765982</td>\n",
              "      <td>6.765982</td>\n",
              "    </tr>\n",
              "    <tr>\n",
              "      <th>5</th>\n",
              "      <td>multi</td>\n",
              "      <td>1</td>\n",
              "      <td>4.642089</td>\n",
              "      <td>4.642089</td>\n",
              "    </tr>\n",
              "    <tr>\n",
              "      <th>6</th>\n",
              "      <td>im</td>\n",
              "      <td>1</td>\n",
              "      <td>2.355943</td>\n",
              "      <td>2.355943</td>\n",
              "    </tr>\n",
              "    <tr>\n",
              "      <th>7</th>\n",
              "      <td>review</td>\n",
              "      <td>1</td>\n",
              "      <td>4.519487</td>\n",
              "      <td>4.519487</td>\n",
              "    </tr>\n",
              "    <tr>\n",
              "      <th>8</th>\n",
              "      <td>leaving</td>\n",
              "      <td>1</td>\n",
              "      <td>8.065265</td>\n",
              "      <td>8.065265</td>\n",
              "    </tr>\n",
              "    <tr>\n",
              "      <th>9</th>\n",
              "      <td>susie</td>\n",
              "      <td>1</td>\n",
              "      <td>9.163877</td>\n",
              "      <td>9.163877</td>\n",
              "    </tr>\n",
              "  </tbody>\n",
              "</table>\n",
              "</div>"
            ],
            "text/plain": [
              "      words  tf       idf     tfidf\n",
              "0      card   1  4.610001  4.610001\n",
              "1    reader   1  6.273506  6.273506\n",
              "2  promised   1  7.372118  7.372118\n",
              "3     still   1  5.450305  5.450305\n",
              "4   waiting   1  6.765982  6.765982\n",
              "5     multi   1  4.642089  4.642089\n",
              "6        im   1  2.355943  2.355943\n",
              "7    review   1  4.519487  4.519487\n",
              "8   leaving   1  8.065265  8.065265\n",
              "9     susie   1  9.163877  9.163877"
            ]
          },
          "metadata": {
            "tags": []
          },
          "execution_count": 65
        }
      ]
    },
    {
      "cell_type": "code",
      "metadata": {
        "id": "oXdU2r59_qkW",
        "outputId": "12123d24-e319-44c3-b00b-b48b67fc1a93",
        "colab": {
          "base_uri": "https://localhost:8080/",
          "height": 51
        }
      },
      "source": [
        "#sklearn has a separate function to calculate tfidf\n",
        "from sklearn.feature_extraction.text import TfidfVectorizer\n",
        "tfidf = TfidfVectorizer(max_features=1000, lowercase=True, analyzer='word',\n",
        " stop_words= 'english',ngram_range=(1,1))\n",
        "train_vect = tfidf.fit_transform(train['Comments'])\n",
        "\n",
        "train_vect"
      ],
      "execution_count": 66,
      "outputs": [
        {
          "output_type": "execute_result",
          "data": {
            "text/plain": [
              "<9546x1000 sparse matrix of type '<class 'numpy.float64'>'\n",
              "\twith 54697 stored elements in Compressed Sparse Row format>"
            ]
          },
          "metadata": {
            "tags": []
          },
          "execution_count": 66
        }
      ]
    },
    {
      "cell_type": "markdown",
      "metadata": {
        "id": "Xzs_9gxjAOXK"
      },
      "source": [
        "## Bag of Words"
      ]
    },
    {
      "cell_type": "code",
      "metadata": {
        "id": "D3XKI1z1_qpM",
        "outputId": "e85e4d4f-e42b-4130-85bf-763747f55959",
        "colab": {
          "base_uri": "https://localhost:8080/",
          "height": 51
        }
      },
      "source": [
        "from sklearn.feature_extraction.text import CountVectorizer\n",
        "bow = CountVectorizer(max_features=1000, lowercase=True, ngram_range=(1,1),analyzer = \"word\")\n",
        "train_bow = bow.fit_transform(train['Comments'])\n",
        "train_bow"
      ],
      "execution_count": 67,
      "outputs": [
        {
          "output_type": "execute_result",
          "data": {
            "text/plain": [
              "<9546x1000 sparse matrix of type '<class 'numpy.int64'>'\n",
              "\twith 57291 stored elements in Compressed Sparse Row format>"
            ]
          },
          "metadata": {
            "tags": []
          },
          "execution_count": 67
        }
      ]
    },
    {
      "cell_type": "markdown",
      "metadata": {
        "id": "HPV34Qq7AYMy"
      },
      "source": [
        "## Sentiment Analysis"
      ]
    },
    {
      "cell_type": "code",
      "metadata": {
        "id": "S4QSc8EO_qsr",
        "outputId": "90118d95-bf2d-496b-f3d8-485de87bcde6",
        "colab": {
          "base_uri": "https://localhost:8080/",
          "height": 119
        }
      },
      "source": [
        "train['Comments'][:5].apply(lambda x: TextBlob(x).sentiment)"
      ],
      "execution_count": 68,
      "outputs": [
        {
          "output_type": "execute_result",
          "data": {
            "text/plain": [
              "0             (0.0, 0.0)\n",
              "1             (0.0, 0.0)\n",
              "2             (0.0, 0.0)\n",
              "3    (0.246875, 0.53125)\n",
              "4             (0.0, 0.3)\n",
              "Name: Comments, dtype: object"
            ]
          },
          "metadata": {
            "tags": []
          },
          "execution_count": 68
        }
      ]
    },
    {
      "cell_type": "code",
      "metadata": {
        "id": "cNfg2CD-ATwr",
        "outputId": "282656c3-094a-4afa-9ce9-8784faa806db",
        "colab": {
          "base_uri": "https://localhost:8080/",
          "height": 204
        }
      },
      "source": [
        "train['sentiment'] = train['Comments'].apply(lambda x: TextBlob(x).sentiment[0] )\n",
        "train[['Comments','sentiment']].head()"
      ],
      "execution_count": 69,
      "outputs": [
        {
          "output_type": "execute_result",
          "data": {
            "text/html": [
              "<div>\n",
              "<style scoped>\n",
              "    .dataframe tbody tr th:only-of-type {\n",
              "        vertical-align: middle;\n",
              "    }\n",
              "\n",
              "    .dataframe tbody tr th {\n",
              "        vertical-align: top;\n",
              "    }\n",
              "\n",
              "    .dataframe thead th {\n",
              "        text-align: right;\n",
              "    }\n",
              "</style>\n",
              "<table border=\"1\" class=\"dataframe\">\n",
              "  <thead>\n",
              "    <tr style=\"text-align: right;\">\n",
              "      <th></th>\n",
              "      <th>Comments</th>\n",
              "      <th>sentiment</th>\n",
              "    </tr>\n",
              "  </thead>\n",
              "  <tbody>\n",
              "    <tr>\n",
              "      <th>0</th>\n",
              "      <td>bought projector clueless connect iphone</td>\n",
              "      <td>0.000000</td>\n",
              "    </tr>\n",
              "    <tr>\n",
              "      <th>1</th>\n",
              "      <td>promised multi card reader leaving review im s...</td>\n",
              "      <td>0.000000</td>\n",
              "    </tr>\n",
              "    <tr>\n",
              "      <th>2</th>\n",
              "      <td>hello apeman team responding email fixing issu...</td>\n",
              "      <td>0.000000</td>\n",
              "    </tr>\n",
              "    <tr>\n",
              "      <th>3</th>\n",
              "      <td>great picture excited looking 4k camerajust ne...</td>\n",
              "      <td>0.246875</td>\n",
              "    </tr>\n",
              "    <tr>\n",
              "      <th>4</th>\n",
              "      <td>bought apeman 550 dashcam find rear camer cabl...</td>\n",
              "      <td>0.000000</td>\n",
              "    </tr>\n",
              "  </tbody>\n",
              "</table>\n",
              "</div>"
            ],
            "text/plain": [
              "                                            Comments  sentiment\n",
              "0           bought projector clueless connect iphone   0.000000\n",
              "1  promised multi card reader leaving review im s...   0.000000\n",
              "2  hello apeman team responding email fixing issu...   0.000000\n",
              "3  great picture excited looking 4k camerajust ne...   0.246875\n",
              "4  bought apeman 550 dashcam find rear camer cabl...   0.000000"
            ]
          },
          "metadata": {
            "tags": []
          },
          "execution_count": 69
        }
      ]
    },
    {
      "cell_type": "markdown",
      "metadata": {
        "id": "i0O5CibGAsJk"
      },
      "source": [
        "## Word Embeddings"
      ]
    },
    {
      "cell_type": "code",
      "metadata": {
        "id": "kaRBsos-ATzd",
        "outputId": "2f102621-39a9-4fdf-8b85-2f5bb425dfb3",
        "colab": {
          "base_uri": "https://localhost:8080/",
          "height": 88
        }
      },
      "source": [
        "from gensim.scripts.glove2word2vec import glove2word2vec\n",
        "glove_input_file = 'glove.6B.100d.txt'\n",
        "word2vec_output_file = 'glove.6B.100d.txt.word2vec'\n",
        "glove2word2vec(glove_input_file, word2vec_output_file)"
      ],
      "execution_count": 70,
      "outputs": [
        {
          "output_type": "stream",
          "text": [
            "/usr/local/lib/python3.6/dist-packages/smart_open/smart_open_lib.py:252: UserWarning: This function is deprecated, use smart_open.open instead. See the migration notes for details: https://github.com/RaRe-Technologies/smart_open/blob/master/README.rst#migrating-to-the-new-open-function\n",
            "  'See the migration notes for details: %s' % _MIGRATION_NOTES_URL\n"
          ],
          "name": "stderr"
        },
        {
          "output_type": "execute_result",
          "data": {
            "text/plain": [
              "(19561, 100)"
            ]
          },
          "metadata": {
            "tags": []
          },
          "execution_count": 70
        }
      ]
    },
    {
      "cell_type": "code",
      "metadata": {
        "id": "l7hDkyJIAT4h"
      },
      "source": [
        "from gensim.models import KeyedVectors # load the Stanford GloVe model\n",
        "filename = 'glove.6B.100d.txt.word2vec'\n",
        "model = KeyedVectors.load_word2vec_format(filename, binary=False)"
      ],
      "execution_count": null,
      "outputs": []
    },
    {
      "cell_type": "code",
      "metadata": {
        "id": "N_59ESHMAT7b"
      },
      "source": [
        "model['just']"
      ],
      "execution_count": null,
      "outputs": []
    },
    {
      "cell_type": "code",
      "metadata": {
        "id": "-fgLXCycCjjn"
      },
      "source": [
        "model['bought']"
      ],
      "execution_count": null,
      "outputs": []
    },
    {
      "cell_type": "code",
      "metadata": {
        "id": "t-kZs0OlC8wl"
      },
      "source": [
        "(model['just'] + model['bought'])/2"
      ],
      "execution_count": null,
      "outputs": []
    },
    {
      "cell_type": "code",
      "metadata": {
        "id": "T0N8N28oDM-S"
      },
      "source": [
        "###--------------------------###"
      ],
      "execution_count": null,
      "outputs": []
    }
  ]
}