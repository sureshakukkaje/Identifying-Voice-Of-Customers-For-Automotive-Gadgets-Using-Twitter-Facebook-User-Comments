{
  "nbformat": 4,
  "nbformat_minor": 0,
  "metadata": {
    "colab": {
      "name": "Capstone_NLP_TF_IDF_final.ipynb",
      "provenance": [],
      "collapsed_sections": [],
      "toc_visible": true
    },
    "kernelspec": {
      "name": "python3",
      "display_name": "Python 3"
    }
  },
  "cells": [
    {
      "cell_type": "code",
      "metadata": {
        "id": "wj6S0It6x_ZO"
      },
      "source": [
        "# It is defined by the kaggle/python Docker image: https://github.com/kaggle/docker-python\n",
        "# For example, here's several helpful packages to load\n",
        "\n",
        "import numpy as np # linear algebra\n",
        "import pandas as pd # data processing, CSV file I/O (e.g. pd.read_csv)\n",
        "\n",
        "# Input data files are available in the read-only \"../input/\" directory\n",
        "# For example, running this (by clicking run or pressing Shift+Enter) will list all files under the input directory\n",
        "\n",
        "import os\n",
        "for dirname, _, filenames in os.walk('/kaggle/input'):\n",
        "    for filename in filenames:\n",
        "        print(os.path.join(dirname, filename))\n",
        "\n",
        "# You can write up to 5GB to the current directory (/kaggle/working/) that gets preserved as output when you create a version using \"Save & Run All\" \n",
        "# You can also write temporary files to /kaggle/temp/, but they won't be saved outside of the current session"
      ],
      "execution_count": null,
      "outputs": []
    },
    {
      "cell_type": "code",
      "metadata": {
        "id": "ntDW3vkKzsyy"
      },
      "source": [
        "# It is defined by the kaggle/python Docker image: https://github.com/kaggle/docker-python\n",
        "# For example, here's several helpful packages to load\n",
        "\n",
        "import numpy as np # linear algebra\n",
        "import pandas as pd # data processing, CSV file I/O (e.g. pd.read_csv)\n",
        "\n",
        "# Input data files are available in the read-only \"../input/\" directory\n",
        "# For example, running this (by clicking run or pressing Shift+Enter) will list all files under the input directory\n",
        "\n",
        "import os\n",
        "for dirname, _, filenames in os.walk('/kaggle/input'):\n",
        "    for filename in filenames:\n",
        "        print(os.path.join(dirname, filename))\n",
        "\n",
        "# You can write up to 5GB to the current directory (/kaggle/working/) that gets preserved as output when you create a version using \"Save & Run All\" \n",
        "# You can also write temporary files to /kaggle/temp/, but they won't be saved outside of the current session\n",
        "\n",
        "## Case 1 : Would use Word2Vec and then apply different classifiers\n",
        "from gensim.models import Word2Vec  \n",
        "\n",
        "## Case 2 : Would use TfidfVectorizer and then apply different classifiers\n",
        "from sklearn.feature_extraction.text import TfidfVectorizer   \n",
        "\n",
        "## This would help us understand : Does the type of Vectorizing Process influence the precision , accuracy , recall score of the classifiers ??\n",
        "\n",
        "from sklearn.pipeline import Pipeline\n",
        "from sklearn.svm import SVC\n",
        "from sklearn.naive_bayes import GaussianNB\n",
        "from sklearn.naive_bayes import MultinomialNB\n",
        "from sklearn.tree import DecisionTreeClassifier\n",
        "from sklearn.neural_network import MLPClassifier\n",
        "from sklearn.ensemble import GradientBoostingClassifier\n",
        "from sklearn.metrics import precision_score, recall_score, f1_score, accuracy_score\n",
        "import warnings\n",
        "warnings.filterwarnings(\"ignore\")"
      ],
      "execution_count": null,
      "outputs": []
    },
    {
      "cell_type": "code",
      "metadata": {
        "id": "6z6eQRWLzs9_",
        "outputId": "9987d34b-af1c-478b-e492-08095db199ab",
        "colab": {
          "base_uri": "https://localhost:8080/",
          "height": 173
        }
      },
      "source": [
        "pip install -U statsmodels"
      ],
      "execution_count": null,
      "outputs": [
        {
          "output_type": "stream",
          "text": [
            "Requirement already up-to-date: statsmodels in /usr/local/lib/python3.6/dist-packages (0.12.0)\n",
            "Requirement already satisfied, skipping upgrade: pandas>=0.21 in /usr/local/lib/python3.6/dist-packages (from statsmodels) (1.1.2)\n",
            "Requirement already satisfied, skipping upgrade: patsy>=0.5 in /usr/local/lib/python3.6/dist-packages (from statsmodels) (0.5.1)\n",
            "Requirement already satisfied, skipping upgrade: scipy>=1.1 in /usr/local/lib/python3.6/dist-packages (from statsmodels) (1.4.1)\n",
            "Requirement already satisfied, skipping upgrade: numpy>=1.15 in /usr/local/lib/python3.6/dist-packages (from statsmodels) (1.18.5)\n",
            "Requirement already satisfied, skipping upgrade: pytz>=2017.2 in /usr/local/lib/python3.6/dist-packages (from pandas>=0.21->statsmodels) (2018.9)\n",
            "Requirement already satisfied, skipping upgrade: python-dateutil>=2.7.3 in /usr/local/lib/python3.6/dist-packages (from pandas>=0.21->statsmodels) (2.8.1)\n",
            "Requirement already satisfied, skipping upgrade: six in /usr/local/lib/python3.6/dist-packages (from patsy>=0.5->statsmodels) (1.15.0)\n"
          ],
          "name": "stdout"
        }
      ]
    },
    {
      "cell_type": "code",
      "metadata": {
        "id": "l0BIKHDA0w6-",
        "outputId": "7a9ca735-3ed5-4c68-8e41-5ac7f2fb36a5",
        "colab": {
          "base_uri": "https://localhost:8080/",
          "height": 224
        }
      },
      "source": [
        "pip install seaborn"
      ],
      "execution_count": null,
      "outputs": [
        {
          "output_type": "stream",
          "text": [
            "Requirement already satisfied: seaborn in /usr/local/lib/python3.6/dist-packages (0.11.0)\n",
            "Requirement already satisfied: scipy>=1.0 in /usr/local/lib/python3.6/dist-packages (from seaborn) (1.4.1)\n",
            "Requirement already satisfied: numpy>=1.15 in /usr/local/lib/python3.6/dist-packages (from seaborn) (1.18.5)\n",
            "Requirement already satisfied: pandas>=0.23 in /usr/local/lib/python3.6/dist-packages (from seaborn) (1.1.2)\n",
            "Requirement already satisfied: matplotlib>=2.2 in /usr/local/lib/python3.6/dist-packages (from seaborn) (3.2.2)\n",
            "Requirement already satisfied: pytz>=2017.2 in /usr/local/lib/python3.6/dist-packages (from pandas>=0.23->seaborn) (2018.9)\n",
            "Requirement already satisfied: python-dateutil>=2.7.3 in /usr/local/lib/python3.6/dist-packages (from pandas>=0.23->seaborn) (2.8.1)\n",
            "Requirement already satisfied: pyparsing!=2.0.4,!=2.1.2,!=2.1.6,>=2.0.1 in /usr/local/lib/python3.6/dist-packages (from matplotlib>=2.2->seaborn) (2.4.7)\n",
            "Requirement already satisfied: kiwisolver>=1.0.1 in /usr/local/lib/python3.6/dist-packages (from matplotlib>=2.2->seaborn) (1.2.0)\n",
            "Requirement already satisfied: cycler>=0.10 in /usr/local/lib/python3.6/dist-packages (from matplotlib>=2.2->seaborn) (0.10.0)\n",
            "Requirement already satisfied: six>=1.5 in /usr/local/lib/python3.6/dist-packages (from python-dateutil>=2.7.3->pandas>=0.23->seaborn) (1.15.0)\n"
          ],
          "name": "stdout"
        }
      ]
    },
    {
      "cell_type": "code",
      "metadata": {
        "id": "czrgIGpfzs3_",
        "outputId": "590dc55a-7cb6-4655-f676-b3f1a84f81a6",
        "colab": {
          "base_uri": "https://localhost:8080/",
          "height": 603
        }
      },
      "source": [
        "import seaborn as sns\n",
        "# Read data frame\n",
        "file_url = '/content/export_User_Comments_Polarity_Category_clean.xlsx'\n",
        "df = pd.read_excel(file_url)\n",
        "\n",
        "## Doing basic EDA ( Exploratory Data Analysis )\n",
        "\n",
        "# Description of the dataset\n",
        "print('SHAPE OF DATASET: ', df.shape, '\\n\\nCOLUMNS IN DATASET: ', df.columns, '\\n\\nCATEGORIES: ', df.Polarity_type.unique(), '\\n\\nDATA SAMPLE: \\n\\n', df.sample(n=5), '\\n\\n')\n",
        "\n",
        "# Plotting number of samples within each category\n",
        "print('NUMBER OF SAMPLES IN EACH CATEGORY: \\n')\n",
        "sns.countplot(df.Polarity_type)"
      ],
      "execution_count": null,
      "outputs": [
        {
          "output_type": "stream",
          "text": [
            "SHAPE OF DATASET:  (7471, 3) \n",
            "\n",
            "COLUMNS IN DATASET:  Index(['Polarity', 'UserComments', 'Polarity_type'], dtype='object') \n",
            "\n",
            "CATEGORIES:  ['Negative' 'Positive'] \n",
            "\n",
            "DATA SAMPLE: \n",
            "\n",
            "       Polarity                                       UserComments Polarity_type\n",
            "3279 -0.100000    gadget wide angl macro phone camera lens pc set      Negative\n",
            "3853  0.295455  new small dreamcatch perfect hang rearview mir...      Positive\n",
            "7068  0.500000                            sturdi unit otherwis ok      Positive\n",
            "7003  0.700000                                          look good      Positive\n",
            "2695 -0.283333  increas traffic volum creat problem citi aroun...      Negative \n",
            "\n",
            "\n",
            "NUMBER OF SAMPLES IN EACH CATEGORY: \n",
            "\n"
          ],
          "name": "stdout"
        },
        {
          "output_type": "execute_result",
          "data": {
            "text/plain": [
              "<matplotlib.axes._subplots.AxesSubplot at 0x7f0116670400>"
            ]
          },
          "metadata": {
            "tags": []
          },
          "execution_count": 56
        },
        {
          "output_type": "display_data",
          "data": {
            "image/png": "[encoded data removed]",
            "text/plain": [
              "<Figure size 432x288 with 1 Axes>"
            ]
          },
          "metadata": {
            "tags": [],
            "needs_background": "light"
          }
        }
      ]
    },
    {
      "cell_type": "code",
      "metadata": {
        "id": "G1DXenla1AMF",
        "outputId": "f66055fe-f58e-41b6-d6ed-6dae81e51081",
        "colab": {
          "base_uri": "https://localhost:8080/",
          "height": 238
        }
      },
      "source": [
        "import nltk\n",
        "nltk.download('punkt')\n",
        "nltk.download('stopwords')\n",
        "nltk.download('wordnet')\n",
        "import re\n",
        "\n",
        "# DATA CLEANING\n",
        "print('Data cleaning in progress...')\n",
        "\n",
        "# Tokenize : dividing Sentences into words\n",
        "df['text_clean'] = df['UserComments'].apply(nltk.word_tokenize)\n",
        "print('Tokenization complete.')\n",
        "\n",
        "\n",
        "# Remove stop words\n",
        "stop_words=set(nltk.corpus.stopwords.words(\"english\"))\n",
        "df['text_clean'] = df['text_clean'].apply(lambda x: [item for item in x if item not in stop_words])\n",
        "print('Stop words removed.')\n",
        "\n",
        "# Remove numbers, punctuation and special characters (only keep words)\n",
        "regex = '[a-z]+'\n",
        "df['text_clean'] = df['text_clean'].apply(lambda x: [item for item in x if re.match(regex, item)])\n",
        "print('Numbers, punctuation and special characters removed.')\n",
        "\n",
        "\n",
        "# Lemmatization : lemma means base form of a word.  // Example : leaf and leaves get lemmatized to leaf\n",
        "lem = nltk.stem.wordnet.WordNetLemmatizer()\n",
        "df['text_clean'] = df['text_clean'].apply(lambda x: [lem.lemmatize(item, pos='v') for item in x])\n",
        "print('Lemmatization complete.\\nData cleaning complete.\\n')"
      ],
      "execution_count": null,
      "outputs": [
        {
          "output_type": "stream",
          "text": [
            "[nltk_data] Downloading package punkt to /root/nltk_data...\n",
            "[nltk_data]   Package punkt is already up-to-date!\n",
            "[nltk_data] Downloading package stopwords to /root/nltk_data...\n",
            "[nltk_data]   Package stopwords is already up-to-date!\n",
            "[nltk_data] Downloading package wordnet to /root/nltk_data...\n",
            "[nltk_data]   Package wordnet is already up-to-date!\n",
            "Data cleaning in progress...\n",
            "Tokenization complete.\n",
            "Stop words removed.\n",
            "Numbers, punctuation and special characters removed.\n",
            "Lemmatization complete.\n",
            "Data cleaning complete.\n",
            "\n"
          ],
          "name": "stdout"
        }
      ]
    },
    {
      "cell_type": "code",
      "metadata": {
        "id": "OMyO_Ir2Ou9J",
        "outputId": "b3ab54a8-3b3d-4df8-8e97-fb14132b594e",
        "colab": {
          "base_uri": "https://localhost:8080/",
          "height": 419
        }
      },
      "source": [
        "df"
      ],
      "execution_count": null,
      "outputs": [
        {
          "output_type": "execute_result",
          "data": {
            "text/html": [
              "<div>\n",
              "<style scoped>\n",
              "    .dataframe tbody tr th:only-of-type {\n",
              "        vertical-align: middle;\n",
              "    }\n",
              "\n",
              "    .dataframe tbody tr th {\n",
              "        vertical-align: top;\n",
              "    }\n",
              "\n",
              "    .dataframe thead th {\n",
              "        text-align: right;\n",
              "    }\n",
              "</style>\n",
              "<table border=\"1\" class=\"dataframe\">\n",
              "  <thead>\n",
              "    <tr style=\"text-align: right;\">\n",
              "      <th></th>\n",
              "      <th>Polarity</th>\n",
              "      <th>UserComments</th>\n",
              "      <th>Polarity_type</th>\n",
              "      <th>text_clean</th>\n",
              "    </tr>\n",
              "  </thead>\n",
              "  <tbody>\n",
              "    <tr>\n",
              "      <th>0</th>\n",
              "      <td>0.0</td>\n",
              "      <td>bought projector clueless connect iphon</td>\n",
              "      <td>Negative</td>\n",
              "      <td>[buy, projector, clueless, connect, iphon]</td>\n",
              "    </tr>\n",
              "    <tr>\n",
              "      <th>1</th>\n",
              "      <td>0.0</td>\n",
              "      <td>promis multi card reader leav review im still ...</td>\n",
              "      <td>Negative</td>\n",
              "      <td>[promis, multi, card, reader, leav, review, im...</td>\n",
              "    </tr>\n",
              "    <tr>\n",
              "      <th>2</th>\n",
              "      <td>0.0</td>\n",
              "      <td>hello apeman team respond email fix issu multi...</td>\n",
              "      <td>Negative</td>\n",
              "      <td>[hello, apeman, team, respond, email, fix, iss...</td>\n",
              "    </tr>\n",
              "    <tr>\n",
              "      <th>3</th>\n",
              "      <td>0.8</td>\n",
              "      <td>great pictur excit look k camerajust need pric...</td>\n",
              "      <td>Positive</td>\n",
              "      <td>[great, pictur, excit, look, k, camerajust, ne...</td>\n",
              "    </tr>\n",
              "    <tr>\n",
              "      <th>4</th>\n",
              "      <td>0.0</td>\n",
              "      <td>bought apeman dashcam find rear camer cabl met...</td>\n",
              "      <td>Negative</td>\n",
              "      <td>[buy, apeman, dashcam, find, rear, camer, cabl...</td>\n",
              "    </tr>\n",
              "    <tr>\n",
              "      <th>...</th>\n",
              "      <td>...</td>\n",
              "      <td>...</td>\n",
              "      <td>...</td>\n",
              "      <td>...</td>\n",
              "    </tr>\n",
              "    <tr>\n",
              "      <th>7466</th>\n",
              "      <td>0.0</td>\n",
              "      <td>inch dash camera mirrorwhatsappwechat autobrig...</td>\n",
              "      <td>Negative</td>\n",
              "      <td>[inch, dash, camera, mirrorwhatsappwechat, aut...</td>\n",
              "    </tr>\n",
              "    <tr>\n",
              "      <th>7467</th>\n",
              "      <td>0.3</td>\n",
              "      <td>see fun begin xboxnintendoswitch playstat</td>\n",
              "      <td>Positive</td>\n",
              "      <td>[see, fun, begin, xboxnintendoswitch, playstat]</td>\n",
              "    </tr>\n",
              "    <tr>\n",
              "      <th>7468</th>\n",
              "      <td>0.0</td>\n",
              "      <td>inch fhd p dvr camera recorderwhatsappwechat a...</td>\n",
              "      <td>Negative</td>\n",
              "      <td>[inch, fhd, p, dvr, camera, recorderwhatsappwe...</td>\n",
              "    </tr>\n",
              "    <tr>\n",
              "      <th>7469</th>\n",
              "      <td>0.0</td>\n",
              "      <td>autobrighttech autobrighttech caraccessori aut...</td>\n",
              "      <td>Negative</td>\n",
              "      <td>[autobrighttech, autobrighttech, caraccessori,...</td>\n",
              "    </tr>\n",
              "    <tr>\n",
              "      <th>7470</th>\n",
              "      <td>0.0</td>\n",
              "      <td>autobrighttech autobrighttech caraccessori aut...</td>\n",
              "      <td>Negative</td>\n",
              "      <td>[autobrighttech, autobrighttech, caraccessori,...</td>\n",
              "    </tr>\n",
              "  </tbody>\n",
              "</table>\n",
              "<p>7471 rows × 4 columns</p>\n",
              "</div>"
            ],
            "text/plain": [
              "      Polarity  ...                                         text_clean\n",
              "0          0.0  ...         [buy, projector, clueless, connect, iphon]\n",
              "1          0.0  ...  [promis, multi, card, reader, leav, review, im...\n",
              "2          0.0  ...  [hello, apeman, team, respond, email, fix, iss...\n",
              "3          0.8  ...  [great, pictur, excit, look, k, camerajust, ne...\n",
              "4          0.0  ...  [buy, apeman, dashcam, find, rear, camer, cabl...\n",
              "...        ...  ...                                                ...\n",
              "7466       0.0  ...  [inch, dash, camera, mirrorwhatsappwechat, aut...\n",
              "7467       0.3  ...    [see, fun, begin, xboxnintendoswitch, playstat]\n",
              "7468       0.0  ...  [inch, fhd, p, dvr, camera, recorderwhatsappwe...\n",
              "7469       0.0  ...  [autobrighttech, autobrighttech, caraccessori,...\n",
              "7470       0.0  ...  [autobrighttech, autobrighttech, caraccessori,...\n",
              "\n",
              "[7471 rows x 4 columns]"
            ]
          },
          "metadata": {
            "tags": []
          },
          "execution_count": 58
        }
      ]
    },
    {
      "cell_type": "code",
      "metadata": {
        "id": "hh12Bf1W3zg4"
      },
      "source": [
        "from sklearn.preprocessing import LabelEncoder\n",
        "from sklearn.model_selection import train_test_split\n",
        "from sklearn.model_selection import GridSearchCV"
      ],
      "execution_count": null,
      "outputs": []
    },
    {
      "cell_type": "markdown",
      "metadata": {
        "id": "yKUx0zXUhQ2w"
      },
      "source": [
        "# TF-IDF"
      ]
    },
    {
      "cell_type": "code",
      "metadata": {
        "id": "KUu2A6WV1ASm",
        "outputId": "bb96ad7a-1b44-4827-82d2-32b85bc1f7c2",
        "colab": {
          "base_uri": "https://localhost:8080/",
          "height": 255
        }
      },
      "source": [
        "# Classification using TFIDF vectorizer\n",
        "\n",
        "# Vectorize training and testing data. Here we would pass TfidfVectorizer() to vec \n",
        "def Vectorize(vec, X_train, X_test):    \n",
        "    \n",
        "    X_train_vec = vec.fit_transform(X_train)\n",
        "    X_test_vec = vec.transform(X_test)\n",
        "    \n",
        "    print('Vectorization complete.\\n')\n",
        "    \n",
        "    return X_train_vec, X_test_vec\n",
        "\n",
        "# Use multiple classifiers and grid search for prediction\n",
        "def ML_modeling(models, params, X_train, X_test, y_train, y_test):    \n",
        "    \n",
        "    if not set(models.keys()).issubset(set(params.keys())):\n",
        "        raise ValueError('Some estimators are missing parameters')\n",
        "\n",
        "    for key in models.keys():\n",
        "    \n",
        "        model = models[key]\n",
        "        param = params[key]\n",
        "        gs = GridSearchCV(model, param, cv=5, error_score=0, refit=True)\n",
        "        gs.fit(X_train, y_train)\n",
        "        y_pred = gs.predict(X_test)\n",
        "        \n",
        "        # Print scores for the classifier\n",
        "        print(key, ':', gs.best_params_)\n",
        "        print(\"Accuracy: %1.3f \\tPrecision: %1.3f \\tRecall: %1.3f \\t\\tF1: %1.3f\\n\" % (accuracy_score(y_test, y_pred), precision_score(y_test, y_pred, average='macro'), recall_score(y_test, y_pred, average='macro'), f1_score(y_test, y_pred, average='macro')))\n",
        "    \n",
        "    return\n",
        "\n",
        "## Preparing to make a pipeline \n",
        "models = {\n",
        "    'Naive Bayes': MultinomialNB(), \n",
        "    'Decision Tree': DecisionTreeClassifier(),\n",
        "    'Perceptron': MLPClassifier(),\n",
        "    'Gradient Boosting': GradientBoostingClassifier()   ## This model would take a little longer to run \n",
        "}\n",
        "\n",
        "params = {\n",
        "    'Naive Bayes': { 'alpha': [0.5, 1], 'fit_prior': [True, False] }, \n",
        "    'Decision Tree': { 'min_samples_split': [1, 2, 5] },\n",
        "    'Perceptron': { 'alpha': [0.0001, 0.001], 'activation': ['tanh', 'relu'] },\n",
        "    'Gradient Boosting': { 'learning_rate': [0.05, 0.1], 'min_samples_split': [2, 5] }\n",
        "}\n",
        "\n",
        "# Encode label categories to numbers\n",
        "enc = LabelEncoder()\n",
        "df['Polarity_type'] = enc.fit_transform(df['Polarity_type'])\n",
        "labels = list(enc.classes_)\n",
        "\n",
        "# Train-test split and vectorize\n",
        "X_train, X_test, y_train, y_test = train_test_split(df['UserComments'], df['Polarity_type'], test_size=0.2, shuffle=True)\n",
        "X_train_vec, X_test_vec = Vectorize(TfidfVectorizer(), X_train, X_test)\n",
        "\n",
        "ML_modeling(models, params, X_train_vec, X_test_vec, y_train, y_test)\n",
        "## ML_modeling method also prints performance scores for each classifier"
      ],
      "execution_count": null,
      "outputs": [
        {
          "output_type": "stream",
          "text": [
            "Vectorization complete.\n",
            "\n",
            "Naive Bayes : {'alpha': 1, 'fit_prior': True}\n",
            "Accuracy: 0.783 \tPrecision: 0.789 \tRecall: 0.776 \t\tF1: 0.778\n",
            "\n",
            "Decision Tree : {'min_samples_split': 2}\n",
            "Accuracy: 0.847 \tPrecision: 0.846 \tRecall: 0.845 \t\tF1: 0.846\n",
            "\n",
            "Perceptron : {'activation': 'relu', 'alpha': 0.001}\n",
            "Accuracy: 0.805 \tPrecision: 0.804 \tRecall: 0.804 \t\tF1: 0.804\n",
            "\n",
            "Gradient Boosting : {'learning_rate': 0.1, 'min_samples_split': 5}\n",
            "Accuracy: 0.833 \tPrecision: 0.869 \tRecall: 0.820 \t\tF1: 0.824\n",
            "\n"
          ],
          "name": "stdout"
        }
      ]
    },
    {
      "cell_type": "code",
      "metadata": {
        "id": "O6Sratox0CRa"
      },
      "source": [
        ""
      ],
      "execution_count": null,
      "outputs": []
    },
    {
      "cell_type": "code",
      "metadata": {
        "id": "W4oOaAEa0CWR"
      },
      "source": [
        ""
      ],
      "execution_count": null,
      "outputs": []
    },
    {
      "cell_type": "markdown",
      "metadata": {
        "id": "McRuJQaFyEaF"
      },
      "source": [
        "Ref: https://www.kaggle.com/rockystats/bbc-text-classification-word2vec-vs-tf-idf"
      ]
    }
  ]
}