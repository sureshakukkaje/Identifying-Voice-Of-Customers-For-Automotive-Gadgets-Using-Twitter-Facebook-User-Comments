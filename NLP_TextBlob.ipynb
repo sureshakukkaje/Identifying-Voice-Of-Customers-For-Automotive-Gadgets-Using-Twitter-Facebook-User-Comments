{
  "nbformat": 4,
  "nbformat_minor": 0,
  "metadata": {
    "colab": {
      "name": "Capstone_NLP_TextBlob",
      "provenance": [],
      "collapsed_sections": [],
      "toc_visible": true
    },
    "kernelspec": {
      "name": "python3",
      "display_name": "Python 3"
    },
    "widgets": {
      "application/vnd.jupyter.widget-state+json": {
        "870931a787f240228890f6fb440fea37": {
          "model_module": "@jupyter-widgets/controls",
          "model_name": "HBoxModel",
          "state": {
            "_view_name": "HBoxView",
            "_dom_classes": [],
            "_model_name": "HBoxModel",
            "_view_module": "@jupyter-widgets/controls",
            "_model_module_version": "1.5.0",
            "_view_count": null,
            "_view_module_version": "1.5.0",
            "box_style": "",
            "layout": "IPY_MODEL_a35f5587f13845f99989da968d3c671f",
            "_model_module": "@jupyter-widgets/controls",
            "children": [
              "IPY_MODEL_b611a951134a436ebf035849ec46d785",
              "IPY_MODEL_0de84dd0b36545a5b5aeba47c8ce6bef"
            ]
          }
        },
        "a35f5587f13845f99989da968d3c671f": {
          "model_module": "@jupyter-widgets/base",
          "model_name": "LayoutModel",
          "state": {
            "_view_name": "LayoutView",
            "grid_template_rows": null,
            "right": null,
            "justify_content": null,
            "_view_module": "@jupyter-widgets/base",
            "overflow": null,
            "_model_module_version": "1.2.0",
            "_view_count": null,
            "flex_flow": null,
            "width": null,
            "min_width": null,
            "border": null,
            "align_items": null,
            "bottom": null,
            "_model_module": "@jupyter-widgets/base",
            "top": null,
            "grid_column": null,
            "overflow_y": null,
            "overflow_x": null,
            "grid_auto_flow": null,
            "grid_area": null,
            "grid_template_columns": null,
            "flex": null,
            "_model_name": "LayoutModel",
            "justify_items": null,
            "grid_row": null,
            "max_height": null,
            "align_content": null,
            "visibility": null,
            "align_self": null,
            "height": null,
            "min_height": null,
            "padding": null,
            "grid_auto_rows": null,
            "grid_gap": null,
            "max_width": null,
            "order": null,
            "_view_module_version": "1.2.0",
            "grid_template_areas": null,
            "object_position": null,
            "object_fit": null,
            "grid_auto_columns": null,
            "margin": null,
            "display": null,
            "left": null
          }
        },
        "b611a951134a436ebf035849ec46d785": {
          "model_module": "@jupyter-widgets/controls",
          "model_name": "FloatProgressModel",
          "state": {
            "_view_name": "ProgressView",
            "style": "IPY_MODEL_3a11d26f791949619c5112a15c5f939a",
            "_dom_classes": [],
            "description": "",
            "_model_name": "FloatProgressModel",
            "bar_style": "success",
            "max": 1,
            "_view_module": "@jupyter-widgets/controls",
            "_model_module_version": "1.5.0",
            "value": 0,
            "_view_count": null,
            "_view_module_version": "1.5.0",
            "orientation": "horizontal",
            "min": 0,
            "description_tooltip": null,
            "_model_module": "@jupyter-widgets/controls",
            "layout": "IPY_MODEL_dcaa55fa8fe14f88b3f6740f536357e7"
          }
        },
        "0de84dd0b36545a5b5aeba47c8ce6bef": {
          "model_module": "@jupyter-widgets/controls",
          "model_name": "HTMLModel",
          "state": {
            "_view_name": "HTMLView",
            "style": "IPY_MODEL_98f09e6b56d8432b82590e4783084847",
            "_dom_classes": [],
            "description": "",
            "_model_name": "HTMLModel",
            "placeholder": "​",
            "_view_module": "@jupyter-widgets/controls",
            "_model_module_version": "1.5.0",
            "value": " 0/? [00:00&lt;?, ?it/s]",
            "_view_count": null,
            "_view_module_version": "1.5.0",
            "description_tooltip": null,
            "_model_module": "@jupyter-widgets/controls",
            "layout": "IPY_MODEL_ac908b2b0ac946b6bbda1bc5fcc9dbd4"
          }
        },
        "3a11d26f791949619c5112a15c5f939a": {
          "model_module": "@jupyter-widgets/controls",
          "model_name": "ProgressStyleModel",
          "state": {
            "_view_name": "StyleView",
            "_model_name": "ProgressStyleModel",
            "description_width": "initial",
            "_view_module": "@jupyter-widgets/base",
            "_model_module_version": "1.5.0",
            "_view_count": null,
            "_view_module_version": "1.2.0",
            "bar_color": null,
            "_model_module": "@jupyter-widgets/controls"
          }
        },
        "dcaa55fa8fe14f88b3f6740f536357e7": {
          "model_module": "@jupyter-widgets/base",
          "model_name": "LayoutModel",
          "state": {
            "_view_name": "LayoutView",
            "grid_template_rows": null,
            "right": null,
            "justify_content": null,
            "_view_module": "@jupyter-widgets/base",
            "overflow": null,
            "_model_module_version": "1.2.0",
            "_view_count": null,
            "flex_flow": null,
            "width": null,
            "min_width": null,
            "border": null,
            "align_items": null,
            "bottom": null,
            "_model_module": "@jupyter-widgets/base",
            "top": null,
            "grid_column": null,
            "overflow_y": null,
            "overflow_x": null,
            "grid_auto_flow": null,
            "grid_area": null,
            "grid_template_columns": null,
            "flex": null,
            "_model_name": "LayoutModel",
            "justify_items": null,
            "grid_row": null,
            "max_height": null,
            "align_content": null,
            "visibility": null,
            "align_self": null,
            "height": null,
            "min_height": null,
            "padding": null,
            "grid_auto_rows": null,
            "grid_gap": null,
            "max_width": null,
            "order": null,
            "_view_module_version": "1.2.0",
            "grid_template_areas": null,
            "object_position": null,
            "object_fit": null,
            "grid_auto_columns": null,
            "margin": null,
            "display": null,
            "left": null
          }
        },
        "98f09e6b56d8432b82590e4783084847": {
          "model_module": "@jupyter-widgets/controls",
          "model_name": "DescriptionStyleModel",
          "state": {
            "_view_name": "StyleView",
            "_model_name": "DescriptionStyleModel",
            "description_width": "",
            "_view_module": "@jupyter-widgets/base",
            "_model_module_version": "1.5.0",
            "_view_count": null,
            "_view_module_version": "1.2.0",
            "_model_module": "@jupyter-widgets/controls"
          }
        },
        "ac908b2b0ac946b6bbda1bc5fcc9dbd4": {
          "model_module": "@jupyter-widgets/base",
          "model_name": "LayoutModel",
          "state": {
            "_view_name": "LayoutView",
            "grid_template_rows": null,
            "right": null,
            "justify_content": null,
            "_view_module": "@jupyter-widgets/base",
            "overflow": null,
            "_model_module_version": "1.2.0",
            "_view_count": null,
            "flex_flow": null,
            "width": null,
            "min_width": null,
            "border": null,
            "align_items": null,
            "bottom": null,
            "_model_module": "@jupyter-widgets/base",
            "top": null,
            "grid_column": null,
            "overflow_y": null,
            "overflow_x": null,
            "grid_auto_flow": null,
            "grid_area": null,
            "grid_template_columns": null,
            "flex": null,
            "_model_name": "LayoutModel",
            "justify_items": null,
            "grid_row": null,
            "max_height": null,
            "align_content": null,
            "visibility": null,
            "align_self": null,
            "height": null,
            "min_height": null,
            "padding": null,
            "grid_auto_rows": null,
            "grid_gap": null,
            "max_width": null,
            "order": null,
            "_view_module_version": "1.2.0",
            "grid_template_areas": null,
            "object_position": null,
            "object_fit": null,
            "grid_auto_columns": null,
            "margin": null,
            "display": null,
            "left": null
          }
        },
        "52c48aa64085488cb295dadbff7f4b62": {
          "model_module": "@jupyter-widgets/controls",
          "model_name": "HBoxModel",
          "state": {
            "_view_name": "HBoxView",
            "_dom_classes": [],
            "_model_name": "HBoxModel",
            "_view_module": "@jupyter-widgets/controls",
            "_model_module_version": "1.5.0",
            "_view_count": null,
            "_view_module_version": "1.5.0",
            "box_style": "",
            "layout": "IPY_MODEL_05d7a82c87d5453cb873a072b9f4f3a5",
            "_model_module": "@jupyter-widgets/controls",
            "children": [
              "IPY_MODEL_0136c86c96224eef81a81c70d37f5f74",
              "IPY_MODEL_7aacbef865af43fe83f88e7387aef8ce"
            ]
          }
        },
        "05d7a82c87d5453cb873a072b9f4f3a5": {
          "model_module": "@jupyter-widgets/base",
          "model_name": "LayoutModel",
          "state": {
            "_view_name": "LayoutView",
            "grid_template_rows": null,
            "right": null,
            "justify_content": null,
            "_view_module": "@jupyter-widgets/base",
            "overflow": null,
            "_model_module_version": "1.2.0",
            "_view_count": null,
            "flex_flow": null,
            "width": null,
            "min_width": null,
            "border": null,
            "align_items": null,
            "bottom": null,
            "_model_module": "@jupyter-widgets/base",
            "top": null,
            "grid_column": null,
            "overflow_y": null,
            "overflow_x": null,
            "grid_auto_flow": null,
            "grid_area": null,
            "grid_template_columns": null,
            "flex": null,
            "_model_name": "LayoutModel",
            "justify_items": null,
            "grid_row": null,
            "max_height": null,
            "align_content": null,
            "visibility": null,
            "align_self": null,
            "height": null,
            "min_height": null,
            "padding": null,
            "grid_auto_rows": null,
            "grid_gap": null,
            "max_width": null,
            "order": null,
            "_view_module_version": "1.2.0",
            "grid_template_areas": null,
            "object_position": null,
            "object_fit": null,
            "grid_auto_columns": null,
            "margin": null,
            "display": null,
            "left": null
          }
        },
        "0136c86c96224eef81a81c70d37f5f74": {
          "model_module": "@jupyter-widgets/controls",
          "model_name": "FloatProgressModel",
          "state": {
            "_view_name": "ProgressView",
            "style": "IPY_MODEL_218b4d69bdb1419dac26132c3c25d8bf",
            "_dom_classes": [],
            "description": "100%",
            "_model_name": "FloatProgressModel",
            "bar_style": "success",
            "max": 9546,
            "_view_module": "@jupyter-widgets/controls",
            "_model_module_version": "1.5.0",
            "value": 9546,
            "_view_count": null,
            "_view_module_version": "1.5.0",
            "orientation": "horizontal",
            "min": 0,
            "description_tooltip": null,
            "_model_module": "@jupyter-widgets/controls",
            "layout": "IPY_MODEL_1a343adaedc64c6dbbe3889b72674dca"
          }
        },
        "7aacbef865af43fe83f88e7387aef8ce": {
          "model_module": "@jupyter-widgets/controls",
          "model_name": "HTMLModel",
          "state": {
            "_view_name": "HTMLView",
            "style": "IPY_MODEL_c7fc674bd0464018a7154d4ccd69a4a0",
            "_dom_classes": [],
            "description": "",
            "_model_name": "HTMLModel",
            "placeholder": "​",
            "_view_module": "@jupyter-widgets/controls",
            "_model_module_version": "1.5.0",
            "value": " 9546/9546 [00:15&lt;00:00, 630.90it/s]",
            "_view_count": null,
            "_view_module_version": "1.5.0",
            "description_tooltip": null,
            "_model_module": "@jupyter-widgets/controls",
            "layout": "IPY_MODEL_04ba62b188dc4bc59002de0a7ede33db"
          }
        },
        "218b4d69bdb1419dac26132c3c25d8bf": {
          "model_module": "@jupyter-widgets/controls",
          "model_name": "ProgressStyleModel",
          "state": {
            "_view_name": "StyleView",
            "_model_name": "ProgressStyleModel",
            "description_width": "initial",
            "_view_module": "@jupyter-widgets/base",
            "_model_module_version": "1.5.0",
            "_view_count": null,
            "_view_module_version": "1.2.0",
            "bar_color": null,
            "_model_module": "@jupyter-widgets/controls"
          }
        },
        "1a343adaedc64c6dbbe3889b72674dca": {
          "model_module": "@jupyter-widgets/base",
          "model_name": "LayoutModel",
          "state": {
            "_view_name": "LayoutView",
            "grid_template_rows": null,
            "right": null,
            "justify_content": null,
            "_view_module": "@jupyter-widgets/base",
            "overflow": null,
            "_model_module_version": "1.2.0",
            "_view_count": null,
            "flex_flow": null,
            "width": null,
            "min_width": null,
            "border": null,
            "align_items": null,
            "bottom": null,
            "_model_module": "@jupyter-widgets/base",
            "top": null,
            "grid_column": null,
            "overflow_y": null,
            "overflow_x": null,
            "grid_auto_flow": null,
            "grid_area": null,
            "grid_template_columns": null,
            "flex": null,
            "_model_name": "LayoutModel",
            "justify_items": null,
            "grid_row": null,
            "max_height": null,
            "align_content": null,
            "visibility": null,
            "align_self": null,
            "height": null,
            "min_height": null,
            "padding": null,
            "grid_auto_rows": null,
            "grid_gap": null,
            "max_width": null,
            "order": null,
            "_view_module_version": "1.2.0",
            "grid_template_areas": null,
            "object_position": null,
            "object_fit": null,
            "grid_auto_columns": null,
            "margin": null,
            "display": null,
            "left": null
          }
        },
        "c7fc674bd0464018a7154d4ccd69a4a0": {
          "model_module": "@jupyter-widgets/controls",
          "model_name": "DescriptionStyleModel",
          "state": {
            "_view_name": "StyleView",
            "_model_name": "DescriptionStyleModel",
            "description_width": "",
            "_view_module": "@jupyter-widgets/base",
            "_model_module_version": "1.5.0",
            "_view_count": null,
            "_view_module_version": "1.2.0",
            "_model_module": "@jupyter-widgets/controls"
          }
        },
        "04ba62b188dc4bc59002de0a7ede33db": {
          "model_module": "@jupyter-widgets/base",
          "model_name": "LayoutModel",
          "state": {
            "_view_name": "LayoutView",
            "grid_template_rows": null,
            "right": null,
            "justify_content": null,
            "_view_module": "@jupyter-widgets/base",
            "overflow": null,
            "_model_module_version": "1.2.0",
            "_view_count": null,
            "flex_flow": null,
            "width": null,
            "min_width": null,
            "border": null,
            "align_items": null,
            "bottom": null,
            "_model_module": "@jupyter-widgets/base",
            "top": null,
            "grid_column": null,
            "overflow_y": null,
            "overflow_x": null,
            "grid_auto_flow": null,
            "grid_area": null,
            "grid_template_columns": null,
            "flex": null,
            "_model_name": "LayoutModel",
            "justify_items": null,
            "grid_row": null,
            "max_height": null,
            "align_content": null,
            "visibility": null,
            "align_self": null,
            "height": null,
            "min_height": null,
            "padding": null,
            "grid_auto_rows": null,
            "grid_gap": null,
            "max_width": null,
            "order": null,
            "_view_module_version": "1.2.0",
            "grid_template_areas": null,
            "object_position": null,
            "object_fit": null,
            "grid_auto_columns": null,
            "margin": null,
            "display": null,
            "left": null
          }
        }
      }
    }
  },
  "cells": [
    {
      "cell_type": "markdown",
      "metadata": {
        "id": "sH3vJdck0u7U"
      },
      "source": [
        "# Import Libearies and Data"
      ]
    },
    {
      "cell_type": "markdown",
      "metadata": {
        "id": "UY1pj09t1Voi"
      },
      "source": [
        "Import Packages and Libraries"
      ]
    },
    {
      "cell_type": "code",
      "metadata": {
        "id": "wqUpPI4O00pC",
        "outputId": "269d2595-c540-4a1c-9b97-5a67a749ed2e",
        "colab": {
          "base_uri": "https://localhost:8080/",
          "height": 102
        }
      },
      "source": [
        "import sklearn\n",
        "import matplotlib.pyplot as plt\n",
        "%matplotlib inline\n",
        "import pandas\n",
        "from sklearn.model_selection import train_test_split\n",
        "import numpy\n",
        "\n",
        "import numpy as np #Linear Algebra\n",
        "import pandas as pd #Data processing, CSV file I/O (e.g. pd.read_csv)\n",
        "import matplotlib.pyplot as plt\n",
        "from mlxtend.plotting import plot_confusion_matrix\n",
        "\n",
        "from sklearn.linear_model import LogisticRegression\n",
        "from sklearn.neighbors import KNeighborsClassifier\n",
        "from sklearn.svm import SVC\n",
        "from sklearn.tree import DecisionTreeClassifier\n",
        "from sklearn.ensemble import RandomForestClassifier, GradientBoostingClassifier\n",
        "from sklearn.naive_bayes import GaussianNB\n",
        "from sklearn.metrics import accuracy_score,confusion_matrix, f1_score\n",
        "\n",
        "import numpy as np\n",
        "import pandas as pd\n",
        "import re\n",
        "import nltk\n",
        "nltk.download('stopwords')\n",
        "nltk.download('wordnet')\n",
        "from nltk.corpus import stopwords\n",
        "from nltk.stem.porter import PorterStemmer\n",
        "from nltk.stem import WordNetLemmatizer\n",
        "import matplotlib.pyplot as plt\n",
        "import seaborn as sns\n",
        "import itertools\n",
        "import collections\n",
        "import matplotlib\n",
        "\n",
        "from PIL import Image\n",
        "from wordcloud import WordCloud, STOPWORDS, ImageColorGenerator\n",
        " \n",
        "import string\n",
        "import warnings \n",
        "warnings.filterwarnings(\"ignore\", category=DeprecationWarning)\n",
        "\n",
        "%matplotlib inline\n",
        "% matplotlib inline\n",
        "\n",
        "from textblob import TextBlob\n",
        "\n",
        "#Input data files are available in the \"../input/\" directory.\n",
        "#For example, running this (by clicking run or pressing Shift+Enter) will list the files in the input directory\n",
        "\n",
        "import os"
      ],
      "execution_count": null,
      "outputs": [
        {
          "output_type": "stream",
          "text": [
            "[nltk_data] Downloading package stopwords to /root/nltk_data...\n",
            "[nltk_data]   Package stopwords is already up-to-date!\n"
          ],
          "name": "stdout"
        },
        {
          "output_type": "execute_result",
          "data": {
            "text/plain": [
              "True"
            ]
          },
          "metadata": {
            "tags": []
          },
          "execution_count": 126
        },
        {
          "output_type": "stream",
          "text": [
            "[nltk_data] Downloading package wordnet to /root/nltk_data...\n",
            "[nltk_data]   Package wordnet is already up-to-date!\n"
          ],
          "name": "stdout"
        },
        {
          "output_type": "execute_result",
          "data": {
            "text/plain": [
              "True"
            ]
          },
          "metadata": {
            "tags": []
          },
          "execution_count": 126
        }
      ]
    },
    {
      "cell_type": "code",
      "metadata": {
        "id": "nFp01ALK00sk"
      },
      "source": [
        "#To print mulitple statements in single command \n",
        "from IPython.core.interactiveshell import InteractiveShell\n",
        "InteractiveShell.ast_node_interactivity=\"all\""
      ],
      "execution_count": null,
      "outputs": []
    },
    {
      "cell_type": "markdown",
      "metadata": {
        "id": "souReXMT1Ups"
      },
      "source": [
        "Import and Visualize Data"
      ]
    },
    {
      "cell_type": "code",
      "metadata": {
        "id": "WTPxf_L100vO",
        "outputId": "7693ce1d-43c5-4667-fa69-1feff09770fe",
        "colab": {
          "base_uri": "https://localhost:8080/",
          "height": 170
        }
      },
      "source": [
        "df = pd.read_excel('Comments_Data_Extracts_01.xlsx')\n",
        "df.info()\n",
        "df.shape"
      ],
      "execution_count": null,
      "outputs": [
        {
          "output_type": "stream",
          "text": [
            "<class 'pandas.core.frame.DataFrame'>\n",
            "RangeIndex: 9546 entries, 0 to 9545\n",
            "Data columns (total 1 columns):\n",
            " #   Column    Non-Null Count  Dtype \n",
            "---  ------    --------------  ----- \n",
            " 0   Comments  9546 non-null   object\n",
            "dtypes: object(1)\n",
            "memory usage: 74.7+ KB\n"
          ],
          "name": "stdout"
        },
        {
          "output_type": "execute_result",
          "data": {
            "text/plain": [
              "(9546, 1)"
            ]
          },
          "metadata": {
            "tags": []
          },
          "execution_count": 128
        }
      ]
    },
    {
      "cell_type": "code",
      "metadata": {
        "id": "QoxsLnai1QlX",
        "outputId": "bdcf31df-20fb-40e1-b98b-6c8d109ab00b",
        "colab": {
          "base_uri": "https://localhost:8080/",
          "height": 221
        }
      },
      "source": [
        "df.head()\n",
        "df.columns\n",
        "len(df)"
      ],
      "execution_count": null,
      "outputs": [
        {
          "output_type": "execute_result",
          "data": {
            "text/html": [
              "<div>\n",
              "<style scoped>\n",
              "    .dataframe tbody tr th:only-of-type {\n",
              "        vertical-align: middle;\n",
              "    }\n",
              "\n",
              "    .dataframe tbody tr th {\n",
              "        vertical-align: top;\n",
              "    }\n",
              "\n",
              "    .dataframe thead th {\n",
              "        text-align: right;\n",
              "    }\n",
              "</style>\n",
              "<table border=\"1\" class=\"dataframe\">\n",
              "  <thead>\n",
              "    <tr style=\"text-align: right;\">\n",
              "      <th></th>\n",
              "      <th>Comments</th>\n",
              "    </tr>\n",
              "  </thead>\n",
              "  <tbody>\n",
              "    <tr>\n",
              "      <th>0</th>\n",
              "      <td>I just bought this projector and i am clueless...</td>\n",
              "    </tr>\n",
              "    <tr>\n",
              "      <th>1</th>\n",
              "      <td>You promised me a multi card reader for leavin...</td>\n",
              "    </tr>\n",
              "    <tr>\n",
              "      <th>2</th>\n",
              "      <td>Hello Apeman, your team is not responding to m...</td>\n",
              "    </tr>\n",
              "    <tr>\n",
              "      <th>3</th>\n",
              "      <td>Great picture, I am so excited about looking f...</td>\n",
              "    </tr>\n",
              "    <tr>\n",
              "      <th>4</th>\n",
              "      <td>I have just bought the Apeman 550 dashcam and ...</td>\n",
              "    </tr>\n",
              "  </tbody>\n",
              "</table>\n",
              "</div>"
            ],
            "text/plain": [
              "                                            Comments\n",
              "0  I just bought this projector and i am clueless...\n",
              "1  You promised me a multi card reader for leavin...\n",
              "2  Hello Apeman, your team is not responding to m...\n",
              "3  Great picture, I am so excited about looking f...\n",
              "4  I have just bought the Apeman 550 dashcam and ..."
            ]
          },
          "metadata": {
            "tags": []
          },
          "execution_count": 129
        },
        {
          "output_type": "execute_result",
          "data": {
            "text/plain": [
              "Index(['Comments'], dtype='object')"
            ]
          },
          "metadata": {
            "tags": []
          },
          "execution_count": 129
        },
        {
          "output_type": "execute_result",
          "data": {
            "text/plain": [
              "9546"
            ]
          },
          "metadata": {
            "tags": []
          },
          "execution_count": 129
        }
      ]
    },
    {
      "cell_type": "code",
      "metadata": {
        "id": "Ghu-r7T01Qn-",
        "outputId": "e373103c-c002-486d-fca8-8342dcd5acfb",
        "colab": {
          "base_uri": "https://localhost:8080/",
          "height": 255
        }
      },
      "source": [
        "print(df)"
      ],
      "execution_count": null,
      "outputs": [
        {
          "output_type": "stream",
          "text": [
            "                                               Comments\n",
            "0     I just bought this projector and i am clueless...\n",
            "1     You promised me a multi card reader for leavin...\n",
            "2     Hello Apeman, your team is not responding to m...\n",
            "3     Great picture, I am so excited about looking f...\n",
            "4     I have just bought the Apeman 550 dashcam and ...\n",
            "...                                                 ...\n",
            "9541  Did You see it? 🙈https://t.co/X1b3ZyrGbeLet th...\n",
            "9542  4inch FHD 1080P DVR camera RecorderWhatsApp/We...\n",
            "9543  📷 4inch FHD 1080P DVR camera Recorder WhatsApp...\n",
            "9544  #autobrighttech #AutobrightTech #caraccessorie...\n",
            "9545  📷 #autobrighttech #AutobrightTech #caraccessor...\n",
            "\n",
            "[9546 rows x 1 columns]\n"
          ],
          "name": "stdout"
        }
      ]
    },
    {
      "cell_type": "markdown",
      "metadata": {
        "id": "43Ee0xfP18Tx"
      },
      "source": [
        "# Text Preprocessing & EDA"
      ]
    },
    {
      "cell_type": "code",
      "metadata": {
        "id": "B1wxntrQ14Pi",
        "outputId": "734a0ea7-9179-4217-a23c-5a387b400119",
        "colab": {
          "base_uri": "https://localhost:8080/",
          "height": 102
        }
      },
      "source": [
        "import nltk\n",
        "nltk.download('stopwords')\n",
        "nltk.download('wordnet')\n",
        "from nltk.stem.porter import PorterStemmer\n",
        "from nltk.stem import WordNetLemmatizer\n",
        "from nltk.corpus import stopwords\n",
        "from textblob import TextBlob"
      ],
      "execution_count": null,
      "outputs": [
        {
          "output_type": "stream",
          "text": [
            "[nltk_data] Downloading package stopwords to /root/nltk_data...\n",
            "[nltk_data]   Package stopwords is already up-to-date!\n"
          ],
          "name": "stdout"
        },
        {
          "output_type": "execute_result",
          "data": {
            "text/plain": [
              "True"
            ]
          },
          "metadata": {
            "tags": []
          },
          "execution_count": 131
        },
        {
          "output_type": "stream",
          "text": [
            "[nltk_data] Downloading package wordnet to /root/nltk_data...\n",
            "[nltk_data]   Package wordnet is already up-to-date!\n"
          ],
          "name": "stdout"
        },
        {
          "output_type": "execute_result",
          "data": {
            "text/plain": [
              "True"
            ]
          },
          "metadata": {
            "tags": []
          },
          "execution_count": 131
        }
      ]
    },
    {
      "cell_type": "code",
      "metadata": {
        "id": "icrYWF5G14SL"
      },
      "source": [
        "corpus = [] # form an empty list called corpus\n",
        "ps = PorterStemmer() # for stemming the words to original form, for example - \"running to run\"\n",
        "stop_words = set(stopwords.words('english')) # remove words such as will, I, and, at etc.\n",
        "for i in range(0, 9546): # iterate through the list of all 9546 comments\n",
        "  # remove handles (@), numbers, urls, emojis and any other special characters to have only text\n",
        "  df_cln = re.sub(\"(@[A-Za-z0-9]+)|([^0-9A-Za-z \\t])|(\\w+:\\/\\/\\S+)|[0-9]\", '',df.Comments[i])\n",
        "  # convert all words to lower case\n",
        "  df_cln = df_cln.lower()\n",
        "  # split sentences into words\n",
        "  df_cln = df_cln.split()\n",
        "  # remove English stop words\n",
        "  df_cln = [x for x in df_cln if not x in stop_words]\n",
        "  # stem words to the base form\n",
        "  df_cln = [ps.stem(x) for x in df_cln]\n",
        "  # join words to form the original sentences\n",
        "  df_cln = \" \".join(df_cln)\n",
        "  # append to the list to get all Comments in one place\n",
        "  corpus.append(df_cln)\n",
        "#print(corpus)"
      ],
      "execution_count": null,
      "outputs": []
    },
    {
      "cell_type": "markdown",
      "metadata": {
        "id": "roPt_25v2d3a"
      },
      "source": [
        "# POS Tagging"
      ]
    },
    {
      "cell_type": "code",
      "metadata": {
        "id": "T7cJKlT114UY",
        "outputId": "2e7366c9-a09b-4f1f-8f4e-697dd8ab97b0",
        "colab": {
          "base_uri": "https://localhost:8080/",
          "height": 234,
          "referenced_widgets": [
            "870931a787f240228890f6fb440fea37",
            "a35f5587f13845f99989da968d3c671f",
            "b611a951134a436ebf035849ec46d785",
            "0de84dd0b36545a5b5aeba47c8ce6bef",
            "3a11d26f791949619c5112a15c5f939a",
            "dcaa55fa8fe14f88b3f6740f536357e7",
            "98f09e6b56d8432b82590e4783084847",
            "ac908b2b0ac946b6bbda1bc5fcc9dbd4",
            "52c48aa64085488cb295dadbff7f4b62",
            "05d7a82c87d5453cb873a072b9f4f3a5",
            "0136c86c96224eef81a81c70d37f5f74",
            "7aacbef865af43fe83f88e7387aef8ce",
            "218b4d69bdb1419dac26132c3c25d8bf",
            "1a343adaedc64c6dbbe3889b72674dca",
            "c7fc674bd0464018a7154d4ccd69a4a0",
            "04ba62b188dc4bc59002de0a7ede33db"
          ]
        }
      },
      "source": [
        "import os\n",
        "import numpy as np\n",
        "\n",
        "import pandas as pd\n",
        "from tqdm import tqdm\n",
        "tqdm.pandas()\n",
        "\n",
        "from nltk import word_tokenize, pos_tag\n",
        "from collections import Counter\n",
        "\n",
        "nltk.download('punkt')\n",
        "nltk.download('averaged_perceptron_tagger')\n",
        "\n",
        "import matplotlib.pyplot as plt\n",
        "import seaborn as sns\n",
        "\n",
        "import warnings\n",
        "warnings.filterwarnings('ignore')\n",
        "\n",
        "from tqdm import tqdm, tqdm_notebook\n",
        "tqdm_notebook().pandas()\n",
        "pos_tags = df['Comments'].progress_apply(lambda x: pos_tag(word_tokenize(x)))\n",
        "targets = df['Comments']"
      ],
      "execution_count": null,
      "outputs": [
        {
          "output_type": "stream",
          "text": [
            "[nltk_data] Downloading package punkt to /root/nltk_data...\n",
            "[nltk_data]   Package punkt is already up-to-date!\n"
          ],
          "name": "stdout"
        },
        {
          "output_type": "execute_result",
          "data": {
            "text/plain": [
              "True"
            ]
          },
          "metadata": {
            "tags": []
          },
          "execution_count": 133
        },
        {
          "output_type": "stream",
          "text": [
            "[nltk_data] Downloading package averaged_perceptron_tagger to\n",
            "[nltk_data]     /root/nltk_data...\n",
            "[nltk_data]   Package averaged_perceptron_tagger is already up-to-\n",
            "[nltk_data]       date!\n"
          ],
          "name": "stdout"
        },
        {
          "output_type": "execute_result",
          "data": {
            "text/plain": [
              "True"
            ]
          },
          "metadata": {
            "tags": []
          },
          "execution_count": 133
        },
        {
          "output_type": "display_data",
          "data": {
            "application/vnd.jupyter.widget-view+json": {
              "model_id": "870931a787f240228890f6fb440fea37",
              "version_minor": 0,
              "version_major": 2
            },
            "text/plain": [
              "HBox(children=(FloatProgress(value=1.0, bar_style='info', max=1.0), HTML(value='')))"
            ]
          },
          "metadata": {
            "tags": []
          }
        },
        {
          "output_type": "stream",
          "text": [
            "\n"
          ],
          "name": "stdout"
        },
        {
          "output_type": "display_data",
          "data": {
            "application/vnd.jupyter.widget-view+json": {
              "model_id": "52c48aa64085488cb295dadbff7f4b62",
              "version_minor": 0,
              "version_major": 2
            },
            "text/plain": [
              "HBox(children=(FloatProgress(value=0.0, max=9546.0), HTML(value='')))"
            ]
          },
          "metadata": {
            "tags": []
          }
        },
        {
          "output_type": "stream",
          "text": [
            "\n"
          ],
          "name": "stdout"
        }
      ]
    },
    {
      "cell_type": "code",
      "metadata": {
        "id": "rtqMxvJR14Wg",
        "outputId": "f8dba66a-2c1e-4699-be91-746519a2cac1",
        "colab": {
          "base_uri": "https://localhost:8080/",
          "height": 54
        }
      },
      "source": [
        "print(pos_tags[100])"
      ],
      "execution_count": null,
      "outputs": [
        {
          "output_type": "stream",
          "text": [
            "[('Full', 'NNP'), ('link', 'NN'), ('in', 'IN'), ('bio', 'NN'), ('☠🏆🚔🚨📸🎥', 'NNP'), ('#', '#'), ('london', 'RB'), ('#', '#'), ('dashcam', 'JJ'), ('#', '#'), ('driving', 'VBG'), ('#', '#'), ('ukdashcams', 'JJ'), ('#', '#'), ('ukbikers', 'NNS'), ('#', '#'), ('fails', 'NNS'), ('#', '#'), ('dashcamfails', 'NNS'), ('#', '#'), ('drivingfails', 'NNS'), ('#', '#'), ('roadrage', 'NN'), ('#', '#'), ('drivesafe', 'JJ'), ('#', '#'), ('roadsafetyawareness', 'JJ'), ('#', '#'), ('apemandashcam', 'JJ'), ('#', '#'), ('apemancamera', 'NN'), ('#', '#'), ('sonyvegas', 'JJ'), ('#', '#'), ('videoedits', 'NNS'), ('#', '#'), ('editfun…', 'JJ'), ('https', 'NN'), (':', ':'), ('//t.co/fknBB6GVS9', 'NN')]\n"
          ],
          "name": "stdout"
        }
      ]
    },
    {
      "cell_type": "code",
      "metadata": {
        "id": "FZD9zQuk1QqV"
      },
      "source": [
        "tags = []\n",
        "for i, tag in enumerate(pos_tags):\n",
        "    pos_tags[i] = list(map(list, tag))\n",
        "    tags.append(np.array(pos_tags[i])[:, 1])\n",
        "flat_tags = np.concatenate([tag for tag in tags])"
      ],
      "execution_count": null,
      "outputs": []
    },
    {
      "cell_type": "code",
      "metadata": {
        "id": "BqKTCTcC1QtC"
      },
      "source": [
        "counts = [dict(Counter(tag)) for tag in tags]"
      ],
      "execution_count": null,
      "outputs": []
    },
    {
      "cell_type": "code",
      "metadata": {
        "id": "xrkEP9Fq2n5T"
      },
      "source": [
        "DATA_LEN = 1804874\n",
        "SAMPLE_SIZE = 9546\n",
        "all_tags = set(flat_tags)\n",
        "df = pd.DataFrame(np.zeros((SAMPLE_SIZE, 1)))\n",
        "df.columns = ['Comments']\n",
        "df.count_dict = counts\n",
        "df.target = targets"
      ],
      "execution_count": null,
      "outputs": []
    },
    {
      "cell_type": "markdown",
      "metadata": {
        "id": "mHtM6Y-Z2tPa"
      },
      "source": [
        "# Bag Of Words"
      ]
    },
    {
      "cell_type": "code",
      "metadata": {
        "id": "8sQikqz92n8H"
      },
      "source": [
        "bagofwords=[]\n",
        "for i in range (0,9546):\n",
        "    words = corpus[i].split()\n",
        "    bagofwords.append(words)"
      ],
      "execution_count": null,
      "outputs": []
    },
    {
      "cell_type": "code",
      "metadata": {
        "id": "U6gv1bEj2n-j",
        "outputId": "97b8972c-8a6e-48e7-fb8d-822542fabaf2",
        "colab": {
          "base_uri": "https://localhost:8080/",
          "height": 306
        }
      },
      "source": [
        "bagofwords[9545]"
      ],
      "execution_count": null,
      "outputs": [
        {
          "output_type": "execute_result",
          "data": {
            "text/plain": [
              "['autobrighttech',\n",
              " 'autobrighttech',\n",
              " 'caraccessori',\n",
              " 'autoaccessori',\n",
              " 'otoaccessori',\n",
              " 'vehicleaccessori',\n",
              " 'dvr',\n",
              " 'dvrcamera',\n",
              " 'dvr',\n",
              " 'dvr',\n",
              " 'dvr',\n",
              " 'dvrl',\n",
              " 'carcamera',\n",
              " 'carcamerarecord',\n",
              " 'carcamerajapan',\n",
              " 'carcamera',\n",
              " 'carcamera']"
            ]
          },
          "metadata": {
            "tags": []
          },
          "execution_count": 139
        }
      ]
    },
    {
      "cell_type": "code",
      "metadata": {
        "id": "f2LceG682oAq",
        "outputId": "72f301be-9f12-452a-be26-e7f46fee46c6",
        "colab": {
          "base_uri": "https://localhost:8080/",
          "height": 445
        }
      },
      "source": [
        "import itertools\n",
        "import collections\n",
        "all_words=list(itertools.chain(*bagofwords))\n",
        "print(all_words[0:9546])\n",
        "print()\n",
        "print('Most commonly occuring words and frequency\\n')\n",
        "words_freq=collections.Counter(all_words)\n",
        "words_freq.most_common(20)"
      ],
      "execution_count": null,
      "outputs": [
        {
          "output_type": "stream",
          "text": [
            "['bought', 'projector', 'clueless', 'connect', 'iphon', 'promis', 'multi', 'card', 'reader', 'leav', 'review', 'im', 'still', 'wait', 'susi', 'hello', 'apeman', 'team', 'respond', 'email', 'fix', 'issu', 'multipl', 'follow', 'up', 'great', 'pictur', 'excit', 'look', 'k', 'camerajust', 'need', 'price', 'come', 'littl', 'look', 'forward', 'futur', 'adventur', 'run', 'camera', 'thejogshop', 'brighton', 'runningrunp', 'puresportsperformac', 'ukrunchat', 'bought', 'apeman', 'dashcam', 'find', 'rear', 'camer', 'cabl', 'metr', 'short', 'anyon', 'got', 'idea', 'get', 'short', 'extens', 'possibl', 'tri', 'price', 'terribl', 'compani', 'product', 'china', 'sayhidden', 'design', 'hid', 'hello', 'camera', 'apeman', 'app', 'use', 'wifi', 'bad', 'news', 'apeman', 'put', 'mine', 'garbag', 'done', 'cheap', 'product', 'good', 'trailcam', 'got', 'apeman', 'excel', 'may', 'know', 'price', 'ill', 'test', 'c', 'dash', 'cam', 'advertis', 'say', 'card', 'includedbuy', 'person', 'could', 'order', 'one', 'time', 'abl', 'use', 'camera', 'hi', 'possibl', 'tri', 'go', 'respond', 'email', 'wait', 'day', 'happen', 'man', 'andrew', 'sohnchen', 'wait', 'solut', 'possibl', 'faulti', 'camera', 'ask', 'lot', 'andrew', 'sohnchen', 'hey', 'pleas', 'check', 'messag', 'box', 'thank', 'apeman', 'check', 'messag', 'box', 'u', 'ask', 'model', 'number', 'gave', 'still', 'respons', 'email', 'problem', 'email', 'box', 'work', 'come', 'back', 'busi', 'tri', 'later', 'malcolm', 'joslin', 'email', 'direct', 'ie', 'go', 'contact', 'us', 'page', 'link', 'win', 'one', 'great', 'camera', 'curiou', 'see', 'read', 'number', 'plate', 'record', 'imposs', 'read', 'resolut', 'look', 'p', 'lucki', 'didnt', 'bought', 'whole', 'compani', 'fleet', 'handbook', 'look', 'poor', 'camera', 'softwar', 'mayb', 'toy', 'incompat', 'window', 'window', 'work', 'window', 'apeman', 'web', 'site', 'poor', 'dont', 'assist', 'help', 'got', 'one', 'christma', 'gift', 'set', 'work', 'great', 'day', 'love', 'littl', 'research', 'youtub', 'figur', 'definit', 'recommend', 'see', 'licens', 'plate', 'exactli', 'say', 'suppos', 'hi', 'nicol', 'im', 'happi', 'satisfi', 'christma', 'gift', 'decid', 'send', 'back', 'mine', 'reason', 'youv', 'happi', 'sound', 'strang', 'fact', 'ive', 'couldnt', 'see', 'licens', 'plate', 'car', 'around', 'night', 'time', 'total', 'useless', 'even', 'car', 'light', 'look', 'pleas', 'allen', 'herrera', 'incid', 'film', 'see', 'number', 'plate', 'rav', 'toyota', 'case', 'driver', 'decid', 'run', 'away', 'car', 'read', 'numberlicens', 'plate', 'vehicl', 'park', 'asid', 'road', 'pleas', 'notic', 'light', 'condit', 'perfect', 'film', 'dash', 'cam', 'definit', 'worth', 'yr', 'got', 'accid', 'christma', 'eve', 'parti', 'state', 'drive', 'fast', 'footag', 'avail', 'insur', 'accept', 'liabil', 'thank', 'apemanvideo', 'video', 'hi', 'possibl', 'tri', 'curiou', 'see', 'read', 'number', 'plate', 'record', 'imposs', 'read', 'resolut', 'look', 'p', 'lucki', 'didnt', 'bought', 'whole', 'compani', 'fleet', 'handbook', 'look', 'poor', 'camera', 'softwar', 'mayb', 'toy', 'incompat', 'window', 'window', 'work', 'window', 'apeman', 'web', 'site', 'poor', 'dont', 'assist', 'help', 'got', 'one', 'christma', 'gift', 'set', 'work', 'great', 'day', 'love', 'littl', 'research', 'youtub', 'figur', 'definit', 'recommend', 'see', 'licens', 'plate', 'exactli', 'say', 'suppos', 'hi', 'nicol', 'im', 'happi', 'satisfi', 'christma', 'gift', 'decid', 'send', 'back', 'mine', 'reason', 'youv', 'happi', 'sound', 'strang', 'fact', 'ive', 'couldnt', 'see', 'licens', 'plate', 'car', 'around', 'night', 'time', 'total', 'useless', 'even', 'car', 'light', 'look', 'pleas', 'allen', 'herrera', 'incid', 'film', 'see', 'number', 'plate', 'rav', 'toyota', 'case', 'driver', 'decid', 'run', 'away', 'car', 'read', 'numberlicens', 'plate', 'vehicl', 'park', 'asid', 'road', 'pleas', 'notic', 'light', 'condit', 'perfect', 'film', 'dash', 'cam', 'definit', 'worth', 'yr', 'got', 'accid', 'christma', 'eve', 'parti', 'state', 'drive', 'fast', 'footag', 'avail', 'insur', 'accept', 'liabil', 'thank', 'apemanvideo', 'video', 'would', 'love', 'get', 'one', 'husband', 'pleas', 'know', 'dami', 'un', 'kaka', 'bash', 'palang', 'sa', 'post', 'ni', 'jame', 'deakin', 'hahawould', 'like', 'join', 'raffl', 'oh', 'pleas', 'let', 'time', 'pleas', 'thank', 'k', 'comment', 'less', 'min', 'whoa', 'pleas', 'pretti', 'pleas', 'sugar', 'top', 'need', 'ko', 'yan', 'sa', 'work', 'ko', 'sir', 'jame', 'deakin', 'would', 'like', 'pleas', 'want', 'win', 'dad', 'dashcamraffl', 'self', 'incrimin', 'kamot', 'driver', 'audac', 'equip', 'dash', 'cam', 'goodjobpinoy', 'pleas', 'thank', 'dashcamraffl', 'that', 'nice', 'upgrad', 'pick', 'birthday', 'today', 'meee', 'new', 'car', 'pleas', 'ninong', 'jame', 'first', 'car', 'sana', 'dati', 'cute', 'yung', 'raffl', 'fact', 'rais', 'hand', 'coupl', 'timesngayon', 'apolit', 'anymor', 'look', 'like', 'click', 'bait', 'jame', 'hope', 'peopl', 'discern', 'may', 'pagka', 'ipokrito', 'lang', 'gray', 'line', 'boost', 'lure', 'raffl', 'pa', 'hi', 'mrdeakinlov', 'itcant', 'afford', 'definit', 'help', 'road', 'need', 'sir', 'uvexpress', 'god', 'bless', 'never', 'give', 'win', 'birthday', 'come', 'februari', 'jame', 'deakin', 'need', 'ittango', 'yanke', 'never', 'read', 'dashcam', 'would', 'fit', 'car', 'nice', 'want', 'est', 'dash', 'cam', 'pleas', 'want', 'thank', 'advanc', 'sir', 'jame', 'pwede', 'po', 'ba', 'sumali', 'sa', 'raffl', 'kahit', 'walang', 'kotsecheckout', 'youtub', 'channel', 'wwwyoutubecomchanneluczzgwzzxikptdukxg', 'lodi', 'derv', 'jrold', 'adrian', 'jasper', 'alvin', 'give', 'gift', 'wed', 'jamesdeakin', 'want', 'pleas', 'win', 'time', 'thank', 'advanc', 'pleas', 'pick', 'thank', 'advanc', 'dashcam', 'raffl', 'pleas', 'pick', 'thank', 'advanc', 'jame', 'hehe', 'thought', 'promot', 'want', 'soooo', 'much', 'sana', 'kahit', 'ngayon', 'lang', 'manalo', 'ako', 'sa', 'raffl', 'para', 'maexperi', 'ko', 'naman', 'lord', 'pleas', 'hahaha', 'know', 'aint', 'gonna', 'win', 'draw', 'realli', 'need', 'jame', 'deakin', 'pleas', 'give', 'hand', 'rais', 'hand', 'cover', 'armpit', 'hair', 'long', 'dashcam', 'need', 'wifey', 'car', 'brother', 'dear', 'dear', 'godplslet', 'win', 'raffl', 'thankyou', 'advanceiloveu', 'badli', 'need', 'sir', 'accid', 'twice', 'dashcam', 'hepl', 'solid', 'evid', 'thank', 'thank', 'advanc', 'pick', 'sir', 'jame', 'nasira', 'na', 'kasi', 'dashcam', 'bigla', 'nalang', 'ayaw', 'mag', 'record', 'mumurahin', 'lang', 'kasi', 'nabili', 'kong', 'dashcam', 'ok', 'naman', 'qualiti', 'ng', 'video', 'kaso', 'nasira', 'namandashcam', 'raffl', 'jamesdeakin', 'good', 'morn', 'mr', 'deakin', 'need', 'littl', 'beauti', 'badli', 'car', 'thank', 'lot', 'pleas', 'give', 'jame', 'dont', 'yet', 'wonder', 'valentin', 'gift', 'sir', 'jame', 'car', 'wait', 'happi', 'valentin', 'choos', 'pleas', 'motorcycl', 'pleas', 'want', 'want', 'new', 'car', 'say', 'hope', 'win', 'time', 'choos', 'meeeeeee', 'jame', 'thank', 'advanc', 'sir', 'jame', 'jamesdeakinphi', 'need', 'daili', 'rout', 'oh', 'pleas', 'realli', 'want', 'thank', 'mine', 'father', 'car', 'dam', 'cut', 'got', 'tuck', 'ouchaddinginjurytoinsult', 'dashcam', 'driver', 'roadsafeti', 'moment', 'knew', 'fd', 'guy', 'truck', 'need', 'ass', 'kick', 'vid', 'africa', 'good', 'friend', 'one', 'new', 'download', 'enjoy', 'day', 'dash', 'cam', 'run', 'park', 'drive', 'mani', 'idiot', 'roadu', 'see', 'funni', 'sht', 'u', 'play', 'back', 'like', 'mani', 'muthafck', 'walk', 'whip', 'u', 'park', 'lot', 'look', 'around', 'smile', 'camera', 'mofo', 'apemandashcam', 'perform', 'dash', 'cam', 'apeman', 'dash', 'cam', 'video', 'record', 'dvr', 'car', 'dashboard', 'camera', 'wide', 'angl', 'p', 'fhd', 'screen', 'night', 'vision', 'gsensor', 'wdr', 'loop', 'record', 'motion', 'detect', 'apemandashcam', 'dashcam', 'apemancdashcam', 'apeman', 'full', 'link', 'bio', 'london', 'dashcam', 'drive', 'ukdashcam', 'ukbik', 'fail', 'dashcamfail', 'drivingfail', 'roadrag', 'drivesaf', 'roadsafetyawar', 'apemandashcam', 'apemancamera', 'justinesess', 'full', 'link', 'bio', 'london', 'dashcam', 'drive', 'ukdashcam', 'ukbik', 'fail', 'dashcamfail', 'drivingfail', 'roadrag', 'drivesaf', 'roadsafetyawar', 'apemandashcam', 'apemancamera', 'sonyvega', 'videoedit', 'editfun', 'instal', 'dual', 'dash', 'cam', 'camper', 'shell', 'apemandashcam', 'elk', 'grove', 'california', 'pay', 'bill', 'your', 'prime', 'target', 'car', 'burglar', 'hard', 'work', 'realli', 'appreci', 'isa', 'cruz', 'your', 'still', 'stealth', 'multipl', 'cobra', 'guy', 'ever', 'find', 'gotta', 'get', 'angl', 'right', 'peopl', 'gonna', 'think', 'your', 'fbi', 'someth', 'p', 'feel', 'thinkwar', 'u', 'compar', 'blackvu', 'dr', 'vortex', 'radar', 'tag', 'video', 'pl', 'realli', 'curiou', 'watch', 'time', 'intervent', 'dude', 'one', 'want', 'brake', 'check', 'dont', 'come', 'new', 'york', 'trooper', 'would', 'field', 'day', 'obstruct', 'view', 'lol', 'wonder', 'long', 'would', 'last', 'sun', 'place', 'like', 'az', 'probabl', 'good', 'thing', 'dont', 'review', 'micro', 'brew', 'hope', 'take', 'everyth', 'unless', 'ya', 'park', 'garag', 'kinda', 'like', 'video', 'ya', 'shot', 'way', 'back', 'sit', 'starbuck', 'park', 'lot', 'cop', 'walk', 'bet', 'wonder', 'gadget', 'mayb', 'think', 'storm', 'chaser', 'lol', 'hey', 'vortex', 'buy', 'drsch', 'good', 'look', 'man', 'know', 'drive', 'uber', 'custom', 'tough', 'lot', 'camera', 'top', 'pick', 'best', 'park', 'mode', 'still', 'watch', 'russian', 'compil', 'meanwhileinrussia', 'video', 'your', 'alon', 'great', 'travel', 'journey', 'brighton', 'worth', 'eas', 'drive', 'worri', 'shortcut', 'trafficcircl', 'dm', 'alarm', 'includeclos', 'eyesyawninginattentionhead', 'downcallingsmokinglong', 'time', 'drive', 'video', 'show', 'import', 'one', 'car', 'mer', 'caught', 'era', 'great', 'travel', 'journey', 'tenbi', 'pembrokeshir', 'bridgend', 'eas', 'drive', 'wo', 'monash', 'freeway', 'min', 'ago', 'australia', 'traffic', 'era', 'catch', 'hoon', 'driver', 'keep', 'road', 'great', 'travel', 'cam', 'journey', 'sorrento', 'portofino', 'eas', 'drive', 'worri', 'id', 'like', 'someon', 'confirm', 'wifi', 'cam', 'commun', 'io', 'anymor', 'io', 'dashcam', 'iphon', 'like', 'santaclaus', 'said', 'away', 'away', 'away', 'say', 'dashcam', 'keeper', 'great', 'travel', 'cam', 'journey', 'misawa', 'tokyo', 'eas', 'drive', 'worri', 'best', 'new', 'wifi', 'mini', 'dvr', 'cam', 'nanum', 'vodool', 'great', 'travel', 'cam', 'journey', 'sheffield', 'chester', 'eas', 'drive', 'worri', 'great', 'travel', 'cam', 'journey', 'ballina', 'westport', 'eas', 'drive', 'worri', 'great', 'travel', 'cam', 'journey', 'durban', 'groblersd', 'eas', 'drive', 'worri', 'great', 'travel', 'cam', 'journey', 'birgunj', 'hetauda', 'eas', 'drive', 'worri', 'addi', 'saridi', 'adventur', 'season', 'episod', 'via', 'dashcam', 'camera', 'uk', 'cam', 'compil', 'bad', 'driver', 'amp', 'observ', 'live', 'silver', 'tier', 'h', 'great', 'travel', 'cam', 'journey', 'blackpool', 'greenock', 'inverclyd', 'great', 'britain', 'ea', 'latest', 'review', 'mai', 'great', 'budget', 'thank', 'watch', 'android', 'suggest', 'get', 'free', 'appsav', 'ticket', 'insur', 'fraudand', 'be', 'think', 'night', 'perform', 'good', 'think', 'buycar', 'car', 'take', 'secur', 'road', 'util', 'cam', 'bundl', 'featur', 'p', 'cam', 'nextbaseinst', 'p', 'car', 'camera', 'nacmzylink', 'dashcamera', 'mirrorcamera', 'uk', 'voucher', 'apeman', 'cam', 'front', 'rear', 'p', 'full', 'hd', 'dual', 'car', 'camera', 'len', 'wide', 'angl', 'len', 'wo', 'great', 'travel', 'cam', 'journey', 'oslo', 'berlin', 'eas', 'drive', 'worri', 'great', 'travel', 'cam', 'journey', 'liverpool', 'london', 'eas', 'drive', 'worri', 'cam', 'auto', 'sync', 'enabl', 'control', 'play', 'back', 'footag', 'garmin', 'dashcam', 'full', 'hd', 'p', 'camera', 'car', 'dvr', 'auto', 'video', 'record', 'vehicl', 'camera', 'ir', 'night', 'vision', 'registrar', 'maura', 'perkin', 'shed', 'light', 'cam', 'latest', 'blog', 'post', 'cam', 'help', 'auto', 'insu', 'addi', 'saridi', 'adventur', 'season', 'episod', 'via', 'dashcam', 'camera', 'omg', 'immedi', 'buy', 'surprisingli', 'one', 'inj', 'go', 'road', 'trip', 'provid', 'safeti', 'reassur', 'need', 'your', 'behind', 'wheel', 'great', 'travel', 'cam', 'journey', 'ein', 'tel', 'eas', 'drive', 'worri', 'great', 'travel', 'cam', 'journey', 'cairn', 'charlevil', 'eas', 'drive', 'worri', 'upgrad', 'cam', 'built', 'wifi', 'p', 'fhd', 'mini', 'car', 'board', 'camera', 'record', 'lcd', 'screen', 'wide', 'angl', 'cam', 'auto', 'sync', 'enabl', 'control', 'play', 'back', 'footag', 'garmin', 'dashcam', 'great', 'travel', 'cam', 'journey', 'hampshir', 'yorkshir', 'eas', 'drive', 'worri', 'record', 'beautifullyrend', 'p', 'road', 'video', 'cam', 'highdefinit', 'front', 'amp', 'rear', 'camera', 'dashcam', 'great', 'travel', 'cam', 'journey', 'vilamoura', 'portug', 'carvoeiro', 'portug', 'eas', 'ride', 'smooth', 'multifeatur', 'khaptur', 'contain', 'advanc', 'featur', 'great', 'travel', 'cam', 'journey', 'post', 'hobb', 'eas', 'drive', 'worri', 'dashcam', 'come', 'handi', 'part', 'mishap', 'footag', 'also', 'use', 'help', 'other', 'creativ', 'stream', 'live', 'tape', 'project', 'edit', 'creat', 'project', 'behind', 'scene', 'hope', 'dashcam', 'clip', 'mate', 'great', 'travel', 'cam', 'journey', 'playa', 'de', 'la', 'america', 'costa', 'adej', 'eas', 'drivi', 'view', 'list', 'best', 'real', 'k', 'cam', 'dashcam', 'here', 'aibas', 'driver', 'safeti', 'sdk', 'turn', 'smart', 'camera', 'via', 'dashcam', 'great', 'travel', 'cam', 'journey', 'alicant', 'cherbourg', 'eas', 'drive', 'worri', 'red', 'light', 'dashcam', 'addi', 'saridi', 'adventur', 'season', 'episod', 'via', 'dashcam', 'camera', 'didyouknow', 'cam', 'could', 'lower', 'car', 'insur', 'dash', 'cam', 'evid', 'help', 'protect', 'clai', 'instal', 'raven', 'allinon', 'connect', 'dashcam', 'car', 'coupl', 'do', 'dont', 'pleas', 'watch', 'like', 'youtub', 'video', 'happi', 'support', 'back', 'smallheath', 'birmingham', 'dashcam', 'mirror', 'dvr', 'carcamera', 'inch', 'touch', 'screen', 'p', 'dual', 'len', 'front', 'rear', 'dashcam', 'camera', 'camerarecord', 'visit', 'mirror', 'cam', 'front', 'rear', 'p', 'pip', 'rear', 'camerafil', 'view', 'park', 'monitorgsensor', 'favourit', 'view', 'head', 'monthli', 'somerset', 'chees', 'pick', 'shame', 'drizzl', 'toda', 'ridicul', 'j', 'merseysid', 'dashcam', 'ukdashcam', 'dashcamuk', 'way', 'work', 'gave', 'good', 'scaredashcam', 'idiotdriv', 'traffic', 'becom', 'commonplac', 'peopl', 'breez', 'past', 'red', 'light', 'great', 'save', 'goluk', 'smart', 'dashcam', 'amazon', 'use', 'code', 'eeqtw', 'free', 'next', 'day', 'deliveri', 'great', 'travel', 'cam', 'journey', 'lourd', 'calai', 'eas', 'drive', 'worri', 'instal', 'truck', 'gp', 'unit', 'come', 'soon', 'dashcam', 'rearcamera', 'auto', 'technolog', 'cam', 'deal', 'clark', 'dealsdashcam', 'car', 'insur', 'savemoney', 'video', 'tuesday', 'deal', 'budget', 'vava', 'k', 'x', 'fp', 'cam', 'clear', 'qhd', 'video', 'board', 'camera', 'io', 'amp', 'android', 'onsit', 'instant', 'social', 'everyon', 'dashcam', 'dashcam', 'catch', 'illeg', 'alienarkansa', 'man', 'shoot', 'polic', 'amp', 'get', 'away', 'bust', 'dashcam', 'show', 'driver', 'fall', 'asleep', 'blame', 'anoth', 'driver', 'close', 'call', 'lcdc', 'hear', 'nextbas', 'custom', 'right', 'cam', 'follow', 'accid', 'bring', 'allnew', 'peac', 'mind', 'dashcam', 'show', 'driver', 'fall', 'asleep', 'blame', 'anoth', 'driver', 'close', 'call', 'yet', 'someon', 'mani', 'hog', 'rd', 'lane', 'smartmotorway', 'noth', 'insideonli', 'guy', 'loud', 'exhaust', 'got', 'pull', 'last', 'night', 'notm', 'whathadhappenedwa', 'dashcam', 'blackvu', 'danger', 'privat', 'hire', 'driverwrong', 'lane', 'head', 'oncom', 'traffic', 'cut', 'car', 'longbridg', 'lane', 'birmingh', 'dont', 'miss', 'opportun', 'get', 'free', 'cam', 'pro', 'video', 'event', 'manag', 'solut', 'trial', 'dashcam', 'eld', 'muni', 'bu', 'way', 'sunnyval', 'dashcam', 'caught', 'pack', 'turkey', 'tesla', 'cam', 'tesla', 'teslamodel', 'tesladashcam', 'dashcam', 'omg', 'immedi', 'buy', 'surprisingli', 'one', 'inj', 'dashcam', 'lightningstrik', 'mani', 'car', 'let', 'see', 'alarm', 'trigger', 'addi', 'saridi', 'adventur', 'season', 'episod', 'via', 'dashcam', 'camera', 'great', 'travel', 'cam', 'journey', 'barcelona', 'nice', 'eas', 'drive', 'worri', 'great', 'travel', 'cam', 'journey', 'durban', 'groblersd', 'eas', 'drive', 'worri', 'great', 'travel', 'cam', 'journey', 'aberdovey', 'wirral', 'eas', 'drive', 'worri', 'ad', 'review', 'safer', 'drive', 'nextbas', 'gw', 'cam', 'review', 'dashcam', 'nextbas', 'oncom', 'car', 'drive', 'mell', 'merseysid', 'dashcam', 'ukdashcam', 'dashcamuk', 'man', 'arrest', 'fatal', 'road', 'crash', 'launceston', 'yesterday', 'releas', 'pend', 'enquiri', 'great', 'travel', 'cam', 'journey', 'haro', 'madrid', 'eas', 'drive', 'worri', 'love', 'red', 'light', 'jumper', 'first', 'one', 'late', 'second', 'one', 'stupid', 'dashcam', 'redlightjump', 'even', 'clark', 'think', 'great', 'idea', 'dashcam', 'digitalwit', 'impress', 'qualiti', 'record', 'dashcam', 'dashcamera', 'digitalwit', 'cctv', 'look', 'good', 'tonight', 'btw', 'zedg', 'stealth', 'dual', 'review', 'pytgeekstreet', 'great', 'travel', 'cam', 'journey', 'praia', 'da', 'luz', 'portug', 'albufeira', 'portug', 'eas', 'bw', 'dashcam', 'clean', 'instal', 'temporarili', 'mount', 'instal', 'perman', 'affix', 'locat', 'roadrag', 'vandal', 'tesla', 'dashcam', 'captur', 'motorcyclist', 'intent', 'snap', 'mirror', 'polic', 'find', 'bw', 'dashcam', 'import', 'order', 'clear', 'name', 'racist', 'great', 'articl', 'bait', 'driver', 'deni', 'say', 'anyth', 'racist', 'sexual', 'sure', 'good', 'who', 'ing', 'car', 'your', 'work', 'dashcam', 'toguard', 'uber', 'dual', 'cam', 'builtin', 'gp', 'car', 'drive', 'record', 'p', 'front', 'p', 'cabin', 'camera', 'ir', 'night', 'vi', 'focu', 'road', 'ahead', 'nextbas', 'rear', 'window', 'camera', 'cover', 'road', 'behind', 'allaround', 'protecti', 'find', 'sad', 'profession', 'driver', 'taxi', 'lazi', 'stop', 'red', 'light', 'plenti', 'time', 'stop', 'great', 'travel', 'cam', 'journey', 'shimizu', 'tokyo', 'eas', 'drive', 'worri', 'b', 'nice', 'conspiraci', 'theori', 'wellknown', 'bug', 'tsla', 'dashcam', 'review', 'video', 'footag', 'model', 'dashcam', 'autopilot', 'almost', 'steer', 'middl', 'f', 'scari', 'footag', 'show', 'car', 'pull', 'directli', 'front', 'lorri', 'nearli', 'get', 'shunt', 'great', 'travel', 'cam', 'journey', 'georgetown', 'linden', 'eas', 'drive', 'worri', 'great', 'travel', 'cam', 'journey', 'kakamega', 'nairobi', 'eas', 'drive', 'worri', 'new', 'report', 'suggest', 'incar', 'camera', 'blackbox', 'technolog', 'record', 'young', 'driver', 'could', 'cut', 'crash', 'rate', 'car', 'thief', 'stun', 'motion', 'activ', 'bust', 'actcarthief', 'dashcam', 'great', 'travel', 'cam', 'journey', 'manchest', 'airport', 'derbi', 'eas', 'drive', 'worri', 'aftermath', 'crash', 'denton', 'green', 'st', 'helen', 'merseysid', 'dashcam', 'ukdashcam', 'dashcamuk', 'great', 'travel', 'cam', 'journey', 'brook', 'harleston', 'eas', 'drive', 'worri', 'love', 'closepass', 'licens', 'taxi', 'morn', 'banburi', 'dashcam', 'cycl', 'great', 'travel', 'cam', 'journey', 'aviemoregreat', 'fort', 'eas', 'drive', 'worri', 'thinkwar', 'f', 'entri', 'level', 'camera', 'pro', 'featur', 'full', 'hd', 'video', 'wide', 'angl', 'view', 'f', 'follow', 'us', 'instagram', 'latest', 'thinkwar', 'content', 'thinkwar', 'instagram', 'dashcam', 'great', 'travel', 'cam', 'journey', 'ibadan', 'oyo', 'nigeria', 'lekki', 'phase', 'lekki', 'lago', 'nig', 'look', 'dashcam', 'witter', 'review', 'nextbas', 'great', 'travel', 'cam', 'journey', 'lucca', 'cortona', 'eas', 'drive', 'worri', 'great', 'travel', 'cam', 'journey', 'bodrum', 'izmir', 'eas', 'drive', 'worri', 'great', 'travel', 'cam', 'journey', 'london', 'pari', 'eas', 'drive', 'worri', 'ioscompat', 'cam', 'dashcam', 'great', 'travel', 'cam', 'journey', 'aglayan', 'tikalaan', 'talakag', 'bukidnon', 'philippin', 'yellow', 'mini', 'bad', 'dutch', 'drive', 'septemb', 'via', 'dashcam', 'compil', 'audi', 'holland', 'amsterdam', 'vw', 'great', 'travel', 'cam', 'journey', 'caen', 'reim', 'eas', 'drive', 'worri', 'dashcam', 'kamloop', 'look', 'like', 'deliveri', 'vehicl', 'kind', 'sign', 'hang', 'window', 'thinkwar', 'cam', 'open', 'flagship', 'store', 'singapor', 'read', 'cam', 'dashcam', 'dashcam', 'video', 'light', 'post', 'go', 'watch', 'burgundi', 'car', 'go', 'fast', 'around', 'roundabout', 'n', 'muntjac', 'deer', 'imped', 'speedi', 'return', 'curri', 'deer', 'muntjac', 'muntjacd', 'sussex', 'dashcam', 'dashcam', 'croatia', 'bad', 'drive', 'new', 'compil', 'onlin', 'via', 'xiaomimijia', 'essenti', 'gear', 'everi', 'driverforhir', 'includ', 'dashcam', 'mini', 'addi', 'saridi', 'adventur', 'season', 'episod', 'via', 'dashcam', 'camera', 'great', 'travel', 'cam', 'journey', 'orland', 'park', 'alton', 'eas', 'drive', 'worri', 'massiv', 'bomber', 'plane', 'fli', 'gchq', 'dashcam', 'great', 'travel', 'cam', 'journey', 'gstaad', 'cran', 'eas', 'drive', 'worri', 'book', 'origin', 'voic', 'siri', 'next', 'event', 'summit', 'retreat', 'confer', 'dm', 'infotain', 'chang', 'way', 'peopl', 'look', 'car', 'read', 'avernablog', 'take', 'cant', 'resist', 'coo', 'automobilityl', 'announc', 'stphane', 'lagresl', 'senior', 'director', 'content', 'digit', 'custom', 'market', 'look', 'compact', 'crossov', 'youll', 'want', 'know', 'good', 'infotain', 'compar', 'three', 'tell', 'truth', 'princ', 'ea', 'one', 'best', 'messag', 'yet', 'watch', 'book', 'acc', 'report', 'rear', 'seat', 'infotain', 'system', 'current', 'one', 'trend', 'servic', 'deploy', 'lourd', 'lane', 'founder', 'superyoufund', 'inspir', 'tedx', 'women', 'talk', 'keynot', 'harlem', 'globetrott', 'lefti', 'william', 'amazingglob', 'keynot', 'speaker', 'event', 'eventnew', 'confer', 'never', 'late', 'book', 'speaker', 'eventglob', 'keynot', 'speaker', 'event', 'eventnew', 'confer', 'book', 'georg', 'visit', 'global', 'keynot', 'speaker', 'event', 'eventnew', 'confer', 'look', 'amaz', 'speaker', 'check', 'featur', 'speaker', 'keynot', 'workshop', 'lourd', 'lane', 'redefin', 'power', 'keynot', 'youv', 'look', 'tedx', 'speaker', 'jaret', 'martino', 'influenc', 'us', 'yearsglob', 'keynot', 'speaker', 'event', 'eventnew', 'confer', 'seminar', 'live', 'wonder', 'eric', 'saperston', 'buck', 'tradit', 'upon', 'graduat', 'colleg', 'book', 'eric', 'visit', 'laughter', 'best', 'medicin', 'amp', 'headlin', 'deliv', 'infotain', 'featur', 'jay', 'mohr', 'actor', 'comedi', 'antibulli', 'icon', 'un', 'youth', 'ambassador', 'meredith', 'oconnor', 'deliv', 'messag', 'csw', 'youth', 'forum', 'book', 'infotain', 'screen', 'oper', 'use', 'centr', 'stack', 'mount', 'control', 'panel', 'verita', 'video', 'help', 'expos', 'systemat', 'polit', 'bia', 'cnn', 'employe', 'privat', 'rs', 'awardwin', 'multiservic', 'railway', 'platform', 'vehiclegateway', 'infotain', 'dm', 'book', 'origin', 'voic', 'siri', 'event', 'confer', 'summit', 'retreat', 'keynot', 'lourd', 'lane', 'redefin', 'power', 'one', 'best', 'keynot', 'yet', 'keynot', 'speaker', 'view', 'speaker', 'global', 'keynot', 'speaker', 'event', 'eventnew', 'confer', 'seminar', 'cnn', 'trumpderangementsyndromeand', 'admittedli', 'fakenew', 'get', 'inform', 'rember', 'th', 'part', 'cnn', 'field', 'manag', 'zucker', 'call', 'bs', 'total', 'leftlea', 'via', 'part', 'cnn', 'field', 'manag', 'zucker', 'call', 'bs', 'total', 'leftlea', 'fakenewscnn', 'infotain', 'wonder', 'work', 'talk', 'event', 'via', 'new', 'podcast', 'revolut', 'evolut', 'olymp', 'adamsilv', 'amandawong', 'anmalymus', 'infotain', 'danger', 'caus', 'death', 'murder', 'war', 'cnnisfakenew', 'cnnexpos', 'cnnscam', 'sedit', 'treason', 'new', 'podcast', 'revolut', 'evolut', 'olymp', 'adamsilv', 'amandawong', 'anmalymus', 'new', 'podcast', 'revolut', 'evolut', 'olymp', 'adamsilv', 'amandawong', 'anmalymus', 'new', 'podcast', 'revolut', 'evolut', 'olymp', 'adamsilv', 'amandawong', 'anmalymus', 'swedish', 'luxuri', 'carmak', 'volvo', 'introduc', 'first', 'ever', 'fulli', 'electr', 'car', 'xc', 'recharg', 'come', 'wi', 'start', 'today', 'platform', 'profession', 'infotain', 'industri', 'meet', 'lourd', 'lane', 'nail', 'blogher', 'keynot', 'speaker', 'women', 'retreat', 'summit', 'un', 'youth', 'ambassador', 'antibulli', 'icon', 'meredith', 'oconnor', 'rock', 'un', 'csw', 'youth', 'forum', 'book', 'meredit', 'want', 'amaz', 'speaker', 'rock', 'event', 'featur', 'erni', 'hudson', 'georg', 'takei', 'jay', 'mohr', 'amp', 'lefti', 'william', 'former', 'yvett', 'nicol', 'brown', 'absolut', 'amaz', 'speaker', 'deliv', 'messag', 'audienc', 'never', 'princ', 'ea', 'quit', 'one', 'best', 'messag', 'yet', 'watch', 'book', 'princ', 'ea', 'dm', 'lourd', 'lane', 'rock', 'tedx', 'women', 'talk', 'keynot', 'speaker', 'women', 'summit', 'lourd', 'lane', 'inspir', 'blogher', 'keynot', 'women', 'summit', 'retreat', 'confer', 'volvo', 'unveil', 'first', 'electr', 'car', 'xc', 'recharg', 'via', 'xcvolvo', 'amc', 'world', 'largest', 'theater', 'chain', 'join', 'stream', 'war', 'hollywood', 'see', 'futur', 'stream', 'meredith', 'oconnor', 'nail', 'tedx', 'talk', 'alon', 'keynot', 'women', 'summit', 'book', 'meredith', 'oconnor', 'global', 'keynot', 'speaker', 'event', 'eventnew', 'confer', 'lourd', 'lane', 'take', 'tedx', 'women', 'whole', 'new', 'level', 'keynot', 'speaker', 'summit', 'read', 'special', 'report', 'publish', 'engin', 'review', 'trend', 'challeng', 'affect', 'automot', 'harlem', 'globetrott', 'lefti', 'william', 'amazingglob', 'keynot', 'speaker', 'event', 'eventnew', 'confer', 'book', 'origin', 'voic', 'siri', 'next', 'event', 'summit', 'retreat', 'confer', 'dm', 'tell', 'truth', 'princ', 'ea', 'one', 'best', 'messag', 'yet', 'watch', 'book', 'lourd', 'lane', 'founder', 'superyoufund', 'inspir', 'tedx', 'women', 'talk', 'keynot', 'harlem', 'globetrott', 'lefti', 'william', 'amazingglob', 'keynot', 'speaker', 'event', 'eventnew', 'confer', 'never', 'late', 'book', 'speaker', 'eventglob', 'keynot', 'speaker', 'event', 'eventnew', 'confer', 'book', 'georg', 'visit', 'global', 'keynot', 'speaker', 'event', 'eventnew', 'confer', 'look', 'amaz', 'speaker', 'check', 'featur', 'speaker', 'keynot', 'workshop', 'lourd', 'lane', 'redefin', 'power', 'keynot', 'youv', 'look', 'tedx', 'speaker', 'jaret', 'martino', 'influenc', 'us', 'yearsglob', 'keynot', 'speaker', 'event', 'eventnew', 'confer', 'seminar', 'live', 'wonder', 'eric', 'saperston', 'buck', 'tradit', 'upon', 'graduat', 'colleg', 'book', 'eric', 'visit', 'laughter', 'best', 'medicin', 'amp', 'headlin', 'deliv', 'infotain', 'featur', 'jay', 'mohr', 'actor', 'comedi', 'antibulli', 'icon', 'un', 'youth', 'ambassador', 'meredith', 'oconnor', 'deliv', 'messag', 'csw', 'youth', 'forum', 'book', 'dm', 'book', 'origin', 'voic', 'siri', 'event', 'confer', 'summit', 'retreat', 'keynot', 'lourd', 'lane', 'redefin', 'power', 'one', 'best', 'keynot', 'yet', 'keynot', 'speaker', 'view', 'speaker', 'global', 'keynot', 'speaker', 'event', 'eventnew', 'confer', 'seminar', 'happi', 'podcast', 'avail', 'spotifi', 'subscrib', 'check', 'us', 'flash', 'memori', 'wear', 'kill', 'older', 'tesla', 'due', 'excess', 'data', 'loggingemmc', 'flashmemori', 'wonder', 'work', 'talk', 'event', 'via', 'interest', 'roll', 'store', 'explain', 'infotain', 'work', 'z', 'hot', 'dab', 'radio', 'still', 'popular', 'sourc', 'entertain', 'insid', 'car', 'read', 'latest', 'blog', 'post', 'see', 'im', 'guest', 'speaker', 'week', 'join', 'amaz', 'even', 'speakingfact', 'hypnosi', 'hypnotherapi', 'lourd', 'lane', 'nail', 'blogher', 'keynot', 'speaker', 'women', 'retreat', 'summit', 'un', 'youth', 'ambassador', 'antibulli', 'icon', 'meredith', 'oconnor', 'rock', 'un', 'csw', 'youth', 'forum', 'book', 'meredit', 'want', 'amaz', 'speaker', 'rock', 'event', 'featur', 'erni', 'hudson', 'georg', 'takei', 'jay', 'mohr', 'amp', 'lefti', 'william', 'former', 'yvett', 'nicol', 'brown', 'absolut', 'amaz', 'speaker', 'deliv', 'messag', 'audienc', 'never', 'princ', 'ea', 'quit', 'one', 'best', 'messag', 'yet', 'watch', 'book', 'princ', 'ea', 'dm', 'lourd', 'lane', 'rock', 'tedx', 'women', 'talk', 'keynot', 'speaker', 'women', 'summit', 'cari', 'poarch', 'whistleblow', 'center', 'exposecnn', 'call', 'network', 'infotain', 'plead', 'retur', 'lourd', 'lane', 'inspir', 'blogher', 'keynot', 'women', 'summit', 'retreat', 'confer', 'clear', 'ya', 'girl', 'nicol', 'lynn', 'gray', 'build', 'fort', 'bend', 'houston', 'mayor', 'candid', 'forum', 'fo', 'dont', 'news', 'anymor', 'infotain', 'took', 'time', 'program', 'languag', 'test', 'wrote', 'program', 'languag', 'answer', 'test', 'question', 'meredith', 'oconnor', 'nail', 'tedx', 'talk', 'alon', 'keynot', 'women', 'summit', 'book', 'meredith', 'oconnor', 'global', 'keynot', 'speaker', 'event', 'eventnew', 'confer', 'lourd', 'lane', 'take', 'tedx', 'women', 'whole', 'new', 'level', 'keynot', 'speaker', 'summit', 'nightli', 'news', 'aint', 'use', 'return', 'fairnessdoctrin', 'media', 'fb', 'infotainmentslot', 'machin', 'agit', 'player', 'play', 'g', 'harlem', 'globetrott', 'lefti', 'william', 'amazingglob', 'keynot', 'speaker', 'event', 'eventnew', 'confer', 'book', 'origin', 'voic', 'siri', 'next', 'event', 'summit', 'retreat', 'confer', 'dm', 'nissan', 'pack', 'technolog', 'new', 'juke', 'modelnissan', 'nissanjuk', 'electricalengin', 'tell', 'truth', 'princ', 'ea', 'one', 'best', 'messag', 'yet', 'watch', 'book', 'inroom', 'entertain', 'prioriti', 'hotel', 'want', 'win', 'guest', 'experi', 'game', 'gran', 'melia', 'aru', 'lourd', 'lane', 'founder', 'superyoufund', 'inspir', 'tedx', 'women', 'talk', 'keynot', 'harlem', 'globetrott', 'lefti', 'william', 'amazingglob', 'keynot', 'speaker', 'event', 'eventnew', 'confer', 'never', 'late', 'book', 'speaker', 'eventglob', 'keynot', 'speaker', 'event', 'eventnew', 'confer', 'book', 'georg', 'visit', 'global', 'keynot', 'speaker', 'event', 'eventnew', 'confer', 'look', 'amaz', 'speaker', 'check', 'featur', 'speaker', 'keynot', 'workshop', 'lourd', 'lane', 'redefin', 'power', 'keynot', 'youv', 'look', 'tedx', 'speaker', 'jaret', 'martino', 'influenc', 'us', 'yearsglob', 'keynot', 'speaker', 'event', 'eventnew', 'confer', 'seminar', 'live', 'wonder', 'eric', 'saperston', 'buck', 'tradit', 'upon', 'graduat', 'colleg', 'book', 'eric', 'visit', 'cnn', 'airportbril', 'contentjuli', 'art', 'direct', 'josh', 'mckibleilloillustrationillustratorairport', 'cnn', 'airportbril', 'contentjuli', 'art', 'direct', 'josh', 'mckibleilloillustrationillustratorairport', 'laughter', 'best', 'medicin', 'amp', 'headlin', 'deliv', 'infotain', 'featur', 'jay', 'mohr', 'actor', 'comedi', 'antibulli', 'icon', 'un', 'youth', 'ambassador', 'meredith', 'oconnor', 'deliv', 'messag', 'csw', 'youth', 'forum', 'book', 'dm', 'book', 'origin', 'voic', 'siri', 'event', 'confer', 'summit', 'retreat', 'keynot', 'lourd', 'lane', 'redefin', 'power', 'one', 'best', 'keynot', 'yet', 'keynot', 'speaker', 'view', 'speaker', 'global', 'keynot', 'speaker', 'event', 'eventnew', 'confer', 'seminar', 'wonder', 'work', 'talk', 'event', 'via', 'lourd', 'lane', 'nail', 'blogher', 'keynot', 'speaker', 'women', 'retreat', 'summit', 'un', 'youth', 'ambassador', 'antibulli', 'icon', 'meredith', 'oconnor', 'rock', 'un', 'csw', 'youth', 'forum', 'book', 'meredit', 'want', 'amaz', 'speaker', 'rock', 'event', 'featur', 'erni', 'hudson', 'georg', 'takei', 'jay', 'mohr', 'amp', 'lefti', 'william', 'former', 'peopl', 'stop', 'watch', 'infotain', 'entertain', 'start', 'watch', 'publicaffair', 'might', 'see', 'yvett', 'nicol', 'brown', 'absolut', 'amaz', 'speaker', 'deliv', 'messag', 'audienc', 'never', 'princ', 'ea', 'quit', 'one', 'best', 'messag', 'yet', 'watch', 'book', 'princ', 'ea', 'dm', 'lourd', 'lane', 'rock', 'tedx', 'women', 'talk', 'keynot', 'speaker', 'women', 'summit', 'lourd', 'lane', 'inspir', 'blogher', 'keynot', 'women', 'summit', 'retreat', 'confer', 'meredith', 'oconnor', 'nail', 'tedx', 'talk', 'alon', 'keynot', 'women', 'summit', 'book', 'meredith', 'oconnor', 'global', 'keynot', 'speaker', 'event', 'eventnew', 'confer', 'lourd', 'lane', 'take', 'tedx', 'women', 'whole', 'new', 'level', 'keynot', 'speaker', 'summit', 'truth', 'hurt', 'differ', 'report', 'news', 'gasbag', 'infotain', 'harlem', 'globetrott', 'lefti', 'william', 'amazingglob', 'keynot', 'speaker', 'event', 'eventnew', 'confer', 'book', 'origin', 'voic', 'siri', 'next', 'event', 'summit', 'retreat', 'confer', 'dm', 'normal', 'wouldnt', 'share', 'find', 'hit', 'take', 'hilari', 'infotain', 'tell', 'truth', 'princ', 'ea', 'one', 'best', 'messag', 'yet', 'watch', 'book', 'lazi', 'saturday', 'morn', 'ive', 'learn', 'new', 'word', 'infotain', 'knew', 'lourd', 'lane', 'founder', 'superyoufund', 'inspir', 'tedx', 'women', 'talk', 'keynot', 'harlem', 'globetrott', 'lefti', 'william', 'amazingglob', 'keynot', 'speaker', 'event', 'eventnew', 'confer', 'never', 'late', 'book', 'speaker', 'eventglob', 'keynot', 'speaker', 'event', 'eventnew', 'confer', 'book', 'georg', 'visit', 'global', 'keynot', 'speaker', 'event', 'eventnew', 'confer', 'look', 'amaz', 'speaker', 'check', 'featur', 'speaker', 'keynot', 'workshop', 'lourd', 'lane', 'redefin', 'power', 'keynot', 'youv', 'look', 'tedx', 'speaker', 'jaret', 'martino', 'influenc', 'us', 'yearsglob', 'keynot', 'speaker', 'event', 'eventnew', 'confer', 'seminar', 'live', 'wonder', 'eric', 'saperston', 'buck', 'tradit', 'upon', 'graduat', 'colleg', 'book', 'eric', 'visit', 'laughter', 'best', 'medicin', 'amp', 'headlin', 'deliv', 'infotain', 'featur', 'jay', 'mohr', 'actor', 'comedi', 'antibulli', 'icon', 'un', 'youth', 'ambassador', 'meredith', 'oconnor', 'deliv', 'messag', 'csw', 'youth', 'forum', 'book', 'new', 'podcast', 'rais', 'fist', 'adamsilv', 'agnesgibboney', 'alimazeri', 'blackpion', 'corrinrankin', 'hilari', 'dash', 'board', 'dm', 'book', 'origin', 'voic', 'siri', 'event', 'confer', 'summit', 'retreat', 'keynot', 'lourd', 'lane', 'redefin', 'power', 'one', 'best', 'keynot', 'yet', 'keynot', 'speaker', 'peopl', 'want', 'alway', 'peopl', 'want', 'want', 'eat', 'garbag', 'get', 'obes', 'die', 'p', 'view', 'speaker', 'global', 'keynot', 'speaker', 'event', 'eventnew', 'confer', 'seminar', 'develop', 'cloud', 'technolog', 'invehicl', 'infotain', 'empow', 'oem', 'simplifi', 'tech', 'cycl', 'wonder', 'work', 'talk', 'event', 'via', 'hot', 'dab', 'radio', 'still', 'popular', 'sourc', 'entertain', 'insid', 'car', 'read', 'latest', 'blog', 'post', 'see', 'subaru', 'switch', 'infotain', 'offer', 'new', 'tabletstyl', 'unit', 'includ', 'verticallyorient', 'guitartain', 'promo', 'guitartainmentwhat', 'exactli', 'guitartain', 'watch', 'promo', 'find', 'outclick', 'uniqu', 'featur', 'blu', 'e', 'bluarmor', 'provid', 'car', 'like', 'comfort', 'two', 'wheeler', 'riderslaunch', 'acura', 'acurardx', 'rdx', 'acura', 'acurardx', 'rdx', 'infotain', 'error', 'navig', 'defect', 'lemon', 'glamracket', 'fall', 'via', 'excel', 'bside', 'rip', 'mark', 'e', 'smiththefal', 'infotain', 'scan', 'lourd', 'lane', 'nail', 'blogher', 'keynot', 'speaker', 'women', 'retreat', 'summit', 'align', 'leadership', 'compani', 'prior', 'recruit', 'profoundtal', 'profoundtv', 'profoundproduct', 'yeg', 'yyc', 'un', 'youth', 'ambassador', 'antibulli', 'icon', 'meredith', 'oconnor', 'rock', 'un', 'csw', 'youth', 'forum', 'book', 'meredit', 'want', 'amaz', 'speaker', 'rock', 'event', 'featur', 'erni', 'hudson', 'georg', 'takei', 'jay', 'mohr', 'amp', 'lefti', 'william', 'former', 'yvett', 'nicol', 'brown', 'absolut', 'amaz', 'speaker', 'deliv', 'messag', 'audienc', 'never', 'princ', 'ea', 'quit', 'one', 'best', 'messag', 'yet', 'watch', 'book', 'princ', 'ea', 'dm', 'lourd', 'lane', 'rock', 'tedx', 'women', 'talk', 'keynot', 'speaker', 'women', 'summit', 'lourd', 'lane', 'inspir', 'blogher', 'keynot', 'women', 'summit', 'retreat', 'confer', 'meredith', 'oconnor', 'nail', 'tedx', 'talk', 'alon', 'keynot', 'women', 'summit', 'book', 'meredith', 'oconnor', 'global', 'keynot', 'speaker', 'event', 'eventnew', 'confer', 'lourd', 'lane', 'take', 'tedx', 'women', 'whole', 'new', 'level', 'keynot', 'speaker', 'summit', 'harlem', 'globetrott', 'lefti', 'william', 'amazingglob', 'keynot', 'speaker', 'event', 'eventnew', 'confer', 'book', 'origin', 'voic', 'siri', 'next', 'event', 'summit', 'retreat', 'confer', 'dm', 'tell', 'truth', 'princ', 'ea', 'one', 'best', 'messag', 'yet', 'watch', 'book', 'volvo', 'team', 'googl', 'develop', 'nextgen', 'infotain', 'use', 'android', 'automot', 'lourd', 'lane', 'founder', 'superyoufund', 'inspir', 'tedx', 'women', 'talk', 'keynot', 'harlem', 'globetrott', 'lefti', 'william', 'amazingglob', 'keynot', 'speaker', 'event', 'eventnew', 'confer', 'guitartain', 'promo', 'english', 'guitartainmentwhat', 'exactli', 'guitartain', 'watch', 'promo', 'video', 'never', 'late', 'book', 'speaker', 'eventglob', 'keynot', 'speaker', 'event', 'eventnew', 'confer', 'book', 'georg', 'visit', 'global', 'keynot', 'speaker', 'event', 'eventnew', 'confer', 'look', 'amaz', 'speaker', 'check', 'featur', 'speaker', 'keynot', 'workshop', 'lourd', 'lane', 'redefin', 'power', 'keynot', 'youv', 'look', 'tedx', 'speaker', 'jaret', 'martino', 'influenc', 'us', 'yearsglob', 'keynot', 'speaker', 'event', 'eventnew', 'confer', 'seminar', 'live', 'wonder', 'eric', 'saperston', 'buck', 'tradit', 'upon', 'graduat', 'colleg', 'book', 'eric', 'visit', 'laughter', 'best', 'medicin', 'amp', 'headlin', 'deliv', 'infotain', 'featur', 'jay', 'mohr', 'actor', 'comedi', 'antibulli', 'icon', 'un', 'youth', 'ambassador', 'meredith', 'oconnor', 'deliv', 'messag', 'csw', 'youth', 'forum', 'book', 'dm', 'book', 'origin', 'voic', 'siri', 'event', 'confer', 'summit', 'retreat', 'keynot', 'lourd', 'lane', 'redefin', 'power', 'one', 'best', 'keynot', 'yet', 'keynot', 'speaker', 'view', 'speaker', 'global', 'keynot', 'speaker', 'event', 'eventnew', 'confer', 'seminar', 'excit', 'volvo', 'volvocar', 'xc', 'ev', 'suv', 'luxurycar', 'infotain', 'wonder', 'work', 'talk', 'event', 'via', 'fulli', 'electr', 'volvo', 'xc', 'introduc', 'brand', 'new', 'infotain', 'system', 'power', 'android', 'googl', 'technolog', 'buil', 'telium', 'offer', 'complet', 'iot', 'infotain', 'solut', 'invehicl', 'app', 'power', 'cpu', 'amp', 'memori', 'latest', 'linux', 'epic', 'tv', 'channel', 'india', 'infotain', 'nextgen', 'invehicl', 'infotain', 'car', 'headsup', 'display', 'customiz', 'environemnt', 'allowin', 'androidauto', 'auto', 'vent', 'shade', 'origin', 'ventvisor', 'side', 'window', 'deflector', 'dark', 'smoke', 'pc', 'set', 'ford', 'esca', 'soundcloud', 'gona', 'jump', 'androidauto', 'turn', 'dark', 'theme', 'android', 'auto', 'use', 'map', 'cannot', 'see', 'daylight', 'androidauto', 'androidauto', 'android', 'auto', 'respond', 'strang', 'tell', 'repli', 'messag', 'respons', 'dont', 'even', 'use', 'androidauto', 'issu', 'latest', 'interact', 'androidauto', 'listen', 'text', 'messageaa', 'would', 'like', 'replym', 'yesaa', 'cool', 'end', 'interact', 'give', 'camri', 'owner', 'android', 'auto', 'camri', 'androidauto', 'softwear', 'updar', 'live', 'unveil', 'xc', 'recharg', 'volvo', 'first', 'allelectr', 'car', 'thank', 'integr', 'station', 'androidauto', 'fantast', 'tool', 'drive', 'play', 'read', 'messag', 'success', 'ask', 'want', 'repli', 'said', 'ye', 'android', 'auto', 'said', 'c', 'new', 'androidauto', 'st', 'month', 'super', 'sinc', 'oct', 'cant', 'make', 'call', 'send', 'text', 'receiv', 'push', 'mic', 'sure', 'chanc', 'one', 'team', 'help', 'us', 'danger', 'issu', 'pleas', 'androidauto', 'recent', 'updat', 'pixel', 'broke', 'androidauto', 'hey', 'doesnt', 'androidauto', 'show', 'home', 'work', 'address', 'default', 'despit', 'set', 'hey', 'tell', 'androidauto', 'direct', 'home', 'probabl', 'want', 'direct', 'home', 'random', 'busin', 'androidauto', 'f', 'seri', 'wd', 'style', 'car', 'bodi', 'kit', 'front', 'bumper', 'rear', 'bumper', 'side', 'skirt', 'bmw', 'f', 'sedan', 'wald', 'bo', 'help', 'androidauto', 'androidauto', 'huawei', 'p', 'pro', 'sinc', 'coupl', 'week', 'receiv', 'notif', 'mail', 'whatsa', 'check', 'review', 'new', 'kia', 'rio', 'frustrat', 'get', 'android', 'auto', 'set', 'thought', 'tech', 'pleas', 'help', 'androidauto', 'problem', 'receiv', 'text', 'messag', 'aa', 'jeep', 'cheroke', 'ltd', 'pleas', 'help', 'androidauto', 'problem', 'receiv', 'text', 'messag', 'aa', 'jeep', 'cheroke', 'nissan', 'titan', 'came', 'new', 'dmx', 'carplay', 'androidauto', 'media', 'player', 'back', 'camera', 'androidauto', 'hi', 'android', 'auto', 'offici', 'avail', 'israel', 'listen', 'favorit', 'playlist', 'vehicl', 'avail', 'androidauto', 'uconnect', 'auto', 'suck', 'ball', 'androidauto', 'entun', 'dead', 'camri', 'appl', 'devic', 'thank', 'toyota', 'pleas', 'add', 'androidauto', 'androidauto', 'auto', 'vent', 'shade', 'inchannel', 'ventvisor', 'side', 'window', 'deflector', 'pc', 'set', 'see', 'android', 'auto', 'nissan', 'qashqai', 'ther', 'option', 'replac', 'current', 'usb', 'camri', 'also', 'abl', 'receiv', 'android', 'autoandroidauto', 'ive', 'seen', 'show', 'lyricsamp', 'love', 'work', 'android', 'dear', 'got', 'androidauto', 'updat', 'today', 'equinox', 'omg', 'ive', 'never', 'rea', 'android', 'auto', 'app', 'stop', 'work', 'doesnt', 'even', 'appear', 'app', 'drawer', 'show', 'instal', 'ideanew', 'pre', 'vehicl', 'get', 'androidauto', 'carplay', 'firmwar', 'updat', 'im', 'real', 'finish', 'promis', 'make', 'android', 'auto', 'work', 'rdx', 'rdx', 'acura', 'androidauto', 'unexpect', 'downsid', 'use', 'android', 'phone', 'without', 'androidauto', 'readi', 'car', 'app', 'disappear', 'wont', 'b', 'head', 'marylandenterpris', 'nissanmaxima', 'nissan', 'febrez', 'christiansburg', 'virginia', 'androidauto', 'wed', 'like', 'put', 'massiv', 'thank', 'astonmartinbristol', 'kind', 'rather', 'long', 'loan', 'amazin', 'one', 'troubl', 'applecarplay', 'sinc', 'latest', 'appleupd', 'applecarplay', 'poor', 'person', 'way', 'pretend', 'theyr', 'apart', 'salford', 'found', 'myse', 'impress', 'bmw', 'implement', 'applecarplay', 'idriv', 'rotari', 'knob', 'chang', 'input', 'lin', 'applecarplay', 'auto', 'vent', 'shade', 'origin', 'ventvisor', 'side', 'window', 'deflector', 'dark', 'smoke', 'pc', 'set', 'jeep', 'wran', 'drove', 'first', 'time', 'england', 'today', 'boyyy', 'drive', 'hour', 'road', 'drove', 'total', 'bmw', 'applecarplay', 'send', 'us', 'chassi', 'quot', 'upgrad', 'avail', 'bmw', 'model', 'brand', 'new', 'bmw', 'gseri', 'msport', 'proper', 'oem', 'retrofit', 'applecarplay', 'andriod', 'screen', 'mirror', 'upg', 'know', 'may', 'littl', 'late', 'parti', 'new', 'io', 'applecarplay', 'one', 'part', 'magic', 'one', 'p', 'uk', 'nice', 'cant', 'believ', 'number', 'model', 'variant', 'offer', 'would', 'still', 'like', 'applecarplay', 'applecarplay', 'blaupunkt', 'portlandnav', 'doubl', 'din', 'dvd', 'fix', 'face', 'touchscreen', 'receiv', 'navig', 'aston', 'instal', 'rather', 'excit', 'kind', 'assist', 'loan', 'vanquish', 'manag', 'bit', 'special', 'guest', 'today', 'one', 'uk', 'market', 'us', 'today', 'applecarplay', 'jamesbond', 'ohmss', 'chevycorvett', 'chevi', 'car', 'applecarplay', 'bluetooth', 'sirru', 'xm', 'classic', 'americanmuscl', 'music', 'hertz', 'pioneer', 'stop', 'test', 'drive', 'one', 'kia', 'kiasorento', 'tradein', 'car', 'famili', 'friend', 'westtexa', 'kia', 'yo', 'like', 'see', 'applecarplay', 'question', 'hey', 'see', 'weather', 'appl', 'carplay', 'appl', 'carplay', 'help', 'io', 'applecarplay', 'qpower', 'singl', 'shallow', 'vent', 'woofer', 'boxbox', 'car', 'servic', 'infortain', 'upgrad', 'includ', 'applecarplay', 'brilliant', 'droitwich', 'uk', 'ever', 'find', 'state', 'punctuat', 'leav', 'voic', 'mail', 'messag', 'your', 'use', 'use', 'applecarplay', 'featur', 'infin', 'q', 'control', 'iphon', 'function', 'vehicl', 'new', 'appl', 'carplay', 'io', 'peugeot', 'gtapplecarplay', 'carplay', 'appleiphon', 'io', 'io', 'appl', 'want', 'repriev', 'bad', 'news', 'twitter', 'watch', 'video', 'show', 'use', 'new', 'applecarplay', 'applecarplay', 'updat', 'terribl', 'listen', 'text', 'doesnt', 'go', 'back', 'play', 'c', 'applecarplay', 'updat', 'terribl', 'listen', 'text', 'doesnt', 'automat', 'go', 'back', 'applecarplay', 'updat', 'terribl', 'listen', 'text', 'doesnt', 'go', 'back', 'play', 'c', 'pleas', 'announc', 'highest', 'ontim', 'deliveri', 'expert', 'custom', 'v', 'buy', 'freshen', 'dream', 'go', 'profileor', 'car', 'auto', 'sportcar', 'bestcar', 'buy', 'freshen', 'dream', 'go', 'profileor', 'car', 'auto', 'sportcar', 'bestcar', 'take', 'care', 'car', 'click', 'link', 'info', 'caraccessori', 'autopart', 'carpart', 'cartip', 'car', 'secur', 'phone', 'anywher', 'caraccessori', 'check', 'cute', 'fuzzi', 'faux', 'fur', 'tangerin', 'orang', 'monster', 'steer', 'wheel', 'cover', 'googli', 'eye', 'ear', 'teeth', 'secur', 'phone', 'anywher', 'caraccessori', 'secur', 'phone', 'anywher', 'caraccessori', 'car', 'part', 'sale', 'click', 'link', 'info', 'caraccessori', 'autopart', 'carpart', 'cartip', 'carrepair', 'secur', 'phone', 'anywher', 'caraccessori', 'pretti', 'faux', 'fur', 'fuzzi', 'lilac', 'car', 'seatbelt', 'pad', 'pair', 'handmad', 'lusciou', 'lilac', 'faux', 'fur', 'fabric', 'secur', 'phone', 'anywher', 'caraccessori', 'car', 'door', 'logo', 'projector', 'easi', 'instal', 'beautifi', 'car', 'accessori', 'al', 'save', 'metal', 'keychain', 'today', 'visit', 'store', 'promo', 'code', 'blue', 'chrysocolla', 'stone', 'imag', 'keychain', 'royal', 'blue', 'faux', 'fur', 'fuzzi', 'steer', 'wheel', 'cover', 'pink', 'satin', 'bow', 'handmad', 'royal', 'blue', 'faux', 'fur', 'fabric', 'wi', 'team', 'autokartz', 'wish', 'happi', 'karwa', 'chauthvisit', 'us', 'contact', 'us', 'detail', 'secur', 'phone', 'anywher', 'caraccessori', 'buy', 'freshen', 'dream', 'go', 'profileor', 'car', 'auto', 'sportcar', 'bestcar', 'want', 'hear', 'would', 'love', 'hear', 'experi', 'us', 'keep', 'give', 'best', 'serv', 'download', 'nissan', 'juke', 'servic', 'manual', 'juke', 'nissanjuk', 'amateurmechan', 'auto', 'ford', 'everest', 'bodi', 'kit', 'visit', 'fb', 'fordeverest', 'bodykit', 'come', 'soon', 'next', 'monthmitsubishi', 'pajero', 'sigma', 'sport', 'editionfb', 'websit', 'accessori', 'make', 'car', 'lot', 'smarter', 'caraccessori', 'carsecuritydevic', 'carairpurifi', 'accessori', 'make', 'car', 'lot', 'smarter', 'caraccessori', 'carsecuritydevic', 'secur', 'phone', 'anywher', 'caraccessori', 'buy', 'car', 'bodi', 'cover', 'special', 'mega', 'diwali', 'sale', 'discount', 'price', 'plu', 'get', 'ul', 'gel', 'base', 'car', 'perfum', 'worth', 'r', 'buy', 'car', 'bodi', 'cover', 'special', 'mega', 'diwali', 'sale', 'discount', 'price', 'plu', 'get', 'ul', 'gel', 'base', 'car', 'perfum', 'worth', 'rs', 'get', 'assur', 'gift', 'diwali', 'visit', 'caraccessori', 'autofurnish', 'autoaccessori', 'get', 'assur', 'gift', 'diwali', 'visit', 'caraccessori', 'autofurnish', 'autoaccessori', 'crazi', 'hallowi', 'autusin', 'best', 'auto', 'part', 'amp', 'car', 'accessori', 'shop', 'wordpress', 'theme', 'get', 'secur', 'phone', 'anywher', 'caraccessori', 'brighten', 'bore', 'tissu', 'box', 'fabul', 'tissu', 'box', 'cover', 'handmad', 'colour', 'choic', 'ideal', 'secur', 'phone', 'anywher', 'caraccessori', 'pair', 'monster', 'spot', 'fuzzi', 'seatbelt', 'pad', 'turquois', 'purpl', 'spot', 'amaz', 'spotti', 'fuzzi', 'seatbel', 'new', 'small', 'dreamcatch', 'perfect', 'hang', 'rearview', 'mirror', 'choos', 'one', 'list', 'place', 'cu', 'new', 'small', 'dreamcatch', 'perfect', 'hang', 'rearview', 'mirror', 'choos', 'one', 'list', 'place', 'cu', 'mash', 'monster', 'mash', 'fun', 'funki', 'monster', 'steer', 'wheel', 'cover', 'handmad', 'faux', 'fur', 'goog', 'car', 'part', 'galor', 'click', 'link', 'info', 'carpart', 'autopart', 'caraccessori', 'cartip', 'carrepair', 'ditch', 'cassett', 'amp', 'dive', 'use', 'aux', 'cordcom', 'amp', 'stop', 'valencia', 'car', 'audio', 'best', 'new', 'audio', 'sy', 'good', 'paus', 'pursuit', 'happi', 'happi', 'guillaum', 'apollinairemrtuanix', 'who', 'readi', 'christma', 'christma', 'christmasiscom', 'jollyaf', 'jinglejuic', 'carfreshi', 'caraccessori', 'buy', 'freshen', 'dream', 'go', 'profileor', 'car', 'auto', 'sportcar', 'bestcar', 'love', 'smell', 'cinnamon', 'cant', 'wait', 'put', 'car', 'cinnamon', 'love', 'yankeecandl', 'charmingsc', 'altok', 'dent', 'paint', 'foamwash', 'paintprotectionthakurenterpris', 'multibrand', 'repair', 'mainten', 'chevroletbeat', 'load', 'goodyear', 'tyre', 'dalighn', 'wheelbalancingthakurenterpris', 'new', 'small', 'dreamcatch', 'perfect', 'hang', 'rearview', 'mirror', 'choos', 'one', 'list', 'place', 'cu', 'new', 'small', 'dreamcatch', 'perfect', 'hang', 'rearview', 'mirror', 'choos', 'one', 'list', 'place', 'cu', 'secur', 'phone', 'anywher', 'caraccessori', 'cute', 'littl', 'pumpkin', 'steer', 'wheel', 'cover', 'car', 'handmad', 'tangerin', 'orang', 'faux', 'fur', 'fabric', 'green', 'sa', 'car', 'littl', 'bit', 'devil', 'thing', 'red', 'faux', 'fur', 'fuzzi', 'steer', 'wheel', 'cover', 'ha', 'look', 'cool', 'gadget', 'visit', 'gtgt', 'acekool', 'bluetooth', 'wireless', 'caraccessori', 'amp', 'differ', 'car', 'jack', 'saleoriginalcarfloormatsoriginalcarjack', 'caraccessori', 'accra', 'ghana', 'crazi', 'hallowi', 'autusin', 'best', 'auto', 'part', 'amp', 'car', 'accessori', 'shop', 'wordpress', 'theme', 'get', 'crazi', 'hallowi', 'autusin', 'best', 'auto', 'part', 'amp', 'car', 'accessori', 'shop', 'wordpress', 'theme', 'get', 'crazi', 'hallowi', 'autusin', 'best', 'auto', 'part', 'amp', 'car', 'accessori', 'shop', 'wordpress', 'theme', 'get', 'find', 'huge', 'rang', 'carsunshad', 'trust', 'brand', 'kingsway', 'caraccessori', 'turquois', 'faux', 'fur', 'fuzzi', 'steer', 'wheel', 'cover', 'pink', 'satin', 'bow', 'handmad', 'gorgeou', 'turquois', 'teal', 'faux', 'car', 'back', 'seat', 'unorgan', 'get', 'organ', 'efficientlyclick', 'buy', 'black', 'white', 'skull', 'crossbon', 'cotton', 'steer', 'wheel', 'cover', 'handmad', 'skull', 'crossbon', 'cotton', 'fabric', 'new', 'small', 'dreamcatch', 'perfect', 'hang', 'rearview', 'mirror', 'choos', 'one', 'list', 'place', 'cu', 'new', 'small', 'dreamcatch', 'perfect', 'hang', 'rearview', 'mirror', 'choos', 'one', 'list', 'place', 'cu', 'red', 'black', 'ladybird', 'spot', 'fuzzi', 'steer', 'wheel', 'cover', 'pair', 'match', 'seatbelt', 'pad', 'fabul', 'barbi', 'pink', 'faux', 'fur', 'fuzzi', 'steer', 'wheel', 'cover', 'handmad', 'bright', 'pink', 'faux', 'fur', 'fabric', 'love', 'secur', 'phone', 'anywher', 'caraccessori', 'shout', 'giraff', 'lover', 'check', 'pair', 'giraff', 'print', 'fuzzi', 'seatbelt', 'pad', 'handmad', 'cute', 'secur', 'phone', 'anywher', 'caraccessori', 'car', 'part', 'sale', 'cardeal', 'caraccessori', 'autopart', 'carpart', 'new', 'small', 'dreamcatch', 'perfect', 'hang', 'rearview', 'mirror', 'choos', 'one', 'list', 'place', 'cu', 'new', 'small', 'dreamcatch', 'perfect', 'hang', 'rearview', 'mirror', 'choos', 'one', 'list', 'place', 'cu', 'menzmotor', 'stock', 'offic', 'car', 'accessoriesk', 'floor', 'mat', 'carbootcarpet', 'amp', 'differ', 'car', 'jack', 'rav', 'stock', 'car', 'accessori', 'floor', 'mat', 'amp', 'carbootcarpet', 'sale', 'rav', 'menzmotor', 'stock', 'offic', 'car', 'accessori', 'car', 'jack', 'kitsoriginalcarjackheavycar', 'menzmotor', 'stock', 'offic', 'car', 'accessori', 'car', 'jack', 'kit', 'originalcarjack', 'heavycar', 'cute', 'fuzzi', 'faux', 'fur', 'sulli', 'monster', 'car', 'steer', 'wheel', 'cover', 'one', 'favourit', 'monster', 'cover', 'turquois', 'menzmotor', 'stock', 'offic', 'car', 'accessori', 'floor', 'matt', 'amp', 'carbootcarpet', 'sale', 'hyundai', 'sonata', 'secur', 'phone', 'anywher', 'caraccessori', 'buy', 'freshen', 'dream', 'go', 'profileor', 'car', 'auto', 'sportcar', 'bestcar', 'menzmotor', 'stock', 'offic', 'car', 'accessori', 'floor', 'matt', 'amp', 'carbootcarpet', 'sale', 'lexu', 'amp', 'lex', 'buy', 'freshen', 'dream', 'go', 'profileor', 'car', 'auto', 'sportcar', 'bestcar', 'menzmotor', 'stock', 'offic', 'car', 'accessori', 'floor', 'matt', 'amp', 'carbootcarpet', 'sale', 'toyota', 'camri', 'menzmotor', 'stock', 'offic', 'car', 'accessori', 'floor', 'matt', 'amp', 'carbootcarpet', 'sale', 'hyundai', 'sonata', 'lusciou', 'lime', 'green', 'faux', 'fur', 'rear', 'view', 'mirror', 'cover', 'handmad', 'fabul', 'funki', 'bright', 'green', 'faux', 'fur', 'fabri', 'new', 'small', 'dreamcatch', 'perfect', 'hang', 'rearview', 'mirror', 'choos', 'one', 'list', 'place', 'cu', 'new', 'small', 'dreamcatch', 'perfect', 'hang', 'rearview', 'mirror', 'choos', 'one', 'list', 'place', 'cu', 'think', 'buy', 'accessori', 'car', 'visit', 'ob', 'eshop', 'activ', 'mobil', 'app', 'amp', 'websiteget', 'free', 'let', 'gear', 'unstopp', 'girl', 'forc', 'wish', 'reach', 'dream', 'milestoneshappi', 'intern', 'girl', 'keep', 'comfort', 'safe', 'situationbuy', 'amazon', 'tpm', 'tyrepressur', 'call', 'purpl', 'lover', 'check', 'purpl', 'fleec', 'fabric', 'steer', 'wheel', 'cover', 'handmad', 'gorgeou', 'pur', 'man', 'often', 'becom', 'believ', 'mahatma', 'gandhimrtuanix', 'shopkitchen', 'shopbeauti', 'secur', 'phone', 'anywher', 'caraccessori', 'new', 'small', 'dreamcatch', 'perfect', 'hang', 'rearview', 'mirror', 'choos', 'one', 'list', 'place', 'cust', 'new', 'small', 'dreamcatch', 'perfect', 'hang', 'rearview', 'mirror', 'choos', 'one', 'list', 'place', 'cust', 'tennesse', 'titan', 'sandston', 'car', 'coaster', 'piec', 'coaster', 'set', 'uniqu', 'gift', 'titan', 'fan', 'dad', 'boyfriend', 'groomsm', 'headlight', 'restor', 'polish', 'make', 'car', 'headlight', 'look', 'brand', 'newn', 'onlycar', 'headlightrestor', 'offici', 'alfa', 'romeo', 'repair', 'manual', 'alfaromeo', 'alfa', 'amateurmechan', 'auto', 'red', 'red', 'wine', 'burgundi', 'red', 'faux', 'fur', 'fuzzi', 'steer', 'wheel', 'cover', 'handmad', 'gorgeou', 'burgundi', 'red', 'faux', 'car', 'paint', 'sale', 'click', 'info', 'caraccessori', 'autopart', 'carpart', 'cartip', 'car', 'babi', 'blue', 'faux', 'fur', 'fuzzi', 'steer', 'wheel', 'cover', 'handmad', 'pretti', 'babi', 'blue', 'faux', 'fur', 'fabricfre', 'worldwid', 'shippi', 'steer', 'wheel', 'cover', 'ideal', 'prevent', 'hand', 'get', 'burnt', 'hot', 'steer', 'wheel', 'summer', 'could', 'tire', 'deadlyyour', 'tire', 'may', 'someth', 'rare', 'ever', 'think', 'long', 'get', 'secur', 'phone', 'anywher', 'caraccessori', 'benefit', 'ultim', 'immobilis', 'discarnect', 'simpli', 'unscrew', 'foil', 'even', 'ardent', 'thiev', 'buy', 'freshen', 'dream', 'go', 'profileor', 'car', 'auto', 'sportcar', 'bestcar', 'fabul', 'blue', 'black', 'tiger', 'print', 'fuzzi', 'steer', 'wheel', 'cover', 'handmad', 'blue', 'black', 'tiger', 'print', 'faux', 'fur', 'fa', 'steeler', 'footbal', 'sandston', 'car', 'coaster', 'piec', 'coaster', 'set', 'steeler', 'gift', 'dad', 'boyfriend', 'groomsmen', 'graduat', 'kingsway', 'caraccessori', 'carfloormat', 'maruti', 'suzuki', 'baleno', 'set', 'blackbuy', 'fordfiesta', 'centerlock', 'kit', 'instal', 'foamwash', 'accessoriesthakurenterpris', 'multibrand', 'repair', 'secur', 'phone', 'anywher', 'caraccessori', 'save', 'auto', 'accessori', 'amazonbas', 'emergencyhamm', 'sunshin', 'yellow', 'faux', 'fur', 'rear', 'view', 'mirror', 'cover', 'handmad', 'fabul', 'bright', 'yellow', 'faux', 'fur', 'fabric', 'guarant', 'secur', 'phone', 'anywher', 'caraccessori', 'hot', 'car', 'accessori', 'dont', 'miss', 'caraccessori', 'autopart', 'carpart', 'cartip', 'car', 'dark', 'chocol', 'brown', 'faux', 'fur', 'fuzzi', 'steer', 'wheel', 'cover', 'handmad', 'gorgeou', 'chocol', 'brown', 'faux', 'fur', 'fabric', 'buy', 'freshen', 'dream', 'go', 'profileor', 'car', 'auto', 'sportcar', 'bestcar', 'secur', 'phone', 'anywher', 'caraccessori', 'buy', 'freshen', 'dream', 'go', 'profileor', 'car', 'auto', 'sportcar', 'bestcar', 'light', 'silver', 'grey', 'fuzzi', 'faux', 'fur', 'steer', 'wheel', 'cover', 'handmad', 'pretti', 'light', 'grey', 'faux', 'fur', 'fabric', 'pretti', 'white', 'faux', 'fur', 'rear', 'view', 'mirror', 'cover', 'handmad', 'gorgeou', 'white', 'faux', 'fur', 'fabric', 'like', 'fluffi', 'white', 'cloud', 'mph', 'speed', 'limit', 'sever', 'key', 'welsh', 'commut', 'road', 'aim', 'reduc', 'pollut', 'howev', 'time', 'secur', 'phone', 'anywher', 'caraccessori', 'secur', 'phone', 'anywher', 'caraccessori', 'introduc', 'lola', 'lime', 'green', 'faux', 'fur', 'monster', 'fuzzi', 'steer', 'wheel', 'coverlola', 'would', 'love', 'come', 'find', 'locat', 'car', 'need', 'ask', 'itaddress', 'shop', 'pissurlekar', 'tower', 'near', 'hote', 'jingl', 'bell', 'way', 'christma', 'christmasiscom', 'uglychristmassweat', 'carfreshi', 'caraccessori', 'offcod', 'mcnkjvanmass', 'car', 'phone', 'mount', 'dashboard', 'air', 'vent', 'cell', 'phone', 'holder', 'car', 'telescop', 'arm', 'amp', 'secur', 'phone', 'anywher', 'caraccessori', 'pink', 'tiger', 'faux', 'fur', 'shoulder', 'pad', 'great', 'guitar', 'strap', 'bag', 'seatbelt', 'pink', 'black', 'tiger', 'stripe', 'stop', 'love', 'cawcar', 'accessori', 'use', 'magnet', 'disk', 'insid', 'popsocket', 'work', 'great', 'cawcar', 'caraccessori', 'care', 'car', 'click', 'info', 'caraccessori', 'carrepair', 'cartip', 'singl', 'mode', 'third', 'brake', 'light', 'autopart', 'automot', 'car', 'tuesdaythought', 'carmakeov', 'love', 'cardecor', 'carlov', 'brighten', 'bore', 'tissu', 'box', 'fabul', 'tissu', 'box', 'cover', 'handmad', 'colour', 'choic', 'ideal', 'land', 'rover', 'specialist', 'stock', 'fantast', 'rang', 'accessori', 'land', 'rover', 'rang', 'rover', 'vehicl', 'ra', 'front', 'back', 'seat', 'coverst', 'wheel', 'coverheadrest', 'throw', 'pillowsn', 'onlyseat', 'carsofinstagram', 'shop', 'car', 'accessori', 'click', 'info', 'caraccessori', 'autopart', 'carpart', 'carrepair', 'cartip', 'secur', 'phone', 'anywher', 'caraccessori', 'need', 'sturdi', 'wast', 'line', 'cereal', 'contain', 'bag', 'your', 'setsupertip', 'diy', 'caraccessori', 'buy', 'freshen', 'dream', 'go', 'profileor', 'car', 'auto', 'sportcar', 'bestcar', 'cheap', 'car', 'accessori', 'dont', 'miss', 'caraccessori', 'carpart', 'car', 'buy', 'freshen', 'dream', 'go', 'profileor', 'car', 'auto', 'sportcar', 'bestcar', 'secur', 'phone', 'anywher', 'caraccessori', 'secur', 'phone', 'anywher', 'caraccessori', 'indianapoli', 'colt', 'sandston', 'car', 'coaster', 'piec', 'coaster', 'set', 'gift', 'colt', 'fan', 'dad', 'boyfriend', 'groomsmen', 'gr', 'look', 'strong', 'effect', 'weather', 'carcov', 'vehicl', 'kingsway', 'caraccessoriesvisit', 'lezen', 'h', 'v', 'w', 'halogen', 'bulb', 'xenon', 'fill', 'super', 'white', 'auto', 'car', 'buy', 'onlin', 'best', 'pr', 'amaz', 'sixwheel', 'el', 'caminoish', 'cadillac', 'stack', 'exist', 'photo', 'mytchal', 'bransgrov', 'caraccessori', 'rememb', 'take', 'care', 'cant', 'pour', 'empti', 'cupmrtuanix', 'shopkitchen', 'shopbeauti', 'nissan', 'juke', 'repair', 'manual', 'instant', 'pdf', 'download', 'juke', 'nissanjuk', 'amateurmechan', 'car', 'paint', 'suppli', 'click', 'info', 'caraccessori', 'cartip', 'carrepair', 'via', 'secur', 'phone', 'anywher', 'caraccessori', 'come', 'valencia', 'car', 'audio', 'make', 'new', 'car', 'even', 'betterfor', 'perfect', 'stereo', 'system', 'know', 'find', 'grab', 'black', 'braith', 'tsurikawa', 'ebay', 'web', 'store', 'white', 'also', 'avail', 'brand', 'colour', 'amp', 'shap', 'take', 'care', 'car', 'click', 'link', 'info', 'caraccessori', 'autopart', 'carpart', 'cartip', 'car', 'mobil', 'servic', 'mean', 'wherev', 'south', 'wale', 'well', 'come', 'instal', 'car', 'accessori', 'mph', 'speed', 'limit', 'sever', 'key', 'welsh', 'commut', 'road', 'aim', 'reduc', 'pollut', 'howev', 'time', 'clean', 'air', 'move', 'honeywel', 'car', 'air', 'purifi', 'car', 'accessori', 'avail', 'enquir', 'organ', 'carclick', 'buy', 'hook', 'phenkmat', 'multifunct', 'call', 'unicorn', 'lover', 'magic', 'unicorn', 'print', 'cotton', 'car', 'steer', 'wheel', 'cover', 'handmad', 'fabul', 'uni', 'offici', 'renault', 'clio', 'repair', 'manual', 'instant', 'pdf', 'download', 'renaultclio', 'renault', 'clio', 'barbi', 'pink', 'shoulder', 'pad', 'great', 'guitar', 'strap', 'bag', 'seatbelt', 'stop', 'strap', 'dig', 'shou', 'car', 'part', 'sale', 'click', 'link', 'info', 'caraccessori', 'autopart', 'carpart', 'cartip', 'carrepair', 'seat', 'cover', 'salethi', 'week', 'offer', 'extra', 'car', 'seat', 'coversif', 'youd', 'like', 'avail', 'discount', 'starri', 'eye', 'surpris', 'pair', 'black', 'white', 'star', 'print', 'fleec', 'seatbelt', 'padshandmad', 'magic', 'black', 'bravo', 'mt', 'tyre', 'tractor', 'grip', 'tyre', 'avail', 'stockthakurenterpris', 'multibrand', 'repair', 'go', 'green', 'go', 'plastic', 'free', 'chang', 'habit', 'better', 'planetmrtuanix', 'shopkitchen', 'shopbeauti', 'good', 'share', 'check', 'item', 'im', 'love', 'poshmark', 'fashion', 'style', 'shopmycloset', 'simplist', 'amp', 'uniqu', 'design', 'varieti', 'fragranc', 'littledog', 'littlejo', 'littlejoeonthemov', 'littlejoesa', 'secur', 'phone', 'anywher', 'caraccessori', 'shop', 'best', 'luxuri', 'seat', 'cover', 'car', 'autotechbossaddress', 'shop', 'pissurlekar', 'tower', 'near', 'kiaselto', 'doorvisor', 'avail', 'stockthakurenterpris', 'multibrand', 'repair', 'mainten', 'product', 'servic', 'hyundaiigrand', 'load', 'goodyeartyr', 'foamwashthakurenterpris', 'multibrand', 'repair', 'toyotafortun', 'paintprotectionco', 'ceramicco', 'dryclean', 'foamwashthakurenterpris', 'multibrand', 'swiftdzir', 'gearknob', 'interioraccessori', 'foamwashthakurenterpris', 'multibrand', 'repair', 'mainten', 'secur', 'phone', 'anywher', 'caraccessori', 'choos', 'pf', 'jone', 'caraccessori', 'outstand', 'qualiti', 'product', 'quick', 'reliabl', 'servic', 'fabul', 'thesebarbi', 'fuzzi', 'faux', 'fur', 'seatbelt', 'pad', 'black', 'satin', 'bowshandmad', 'gorgeou', 'barbi', 'pink', 'sophilight', 'innov', 'roadsid', 'assist', 'flashlight', 'featur', 'power', 'bulb', 'need', 'full', 'carwash', 'doorstepmonthli', 'packag', 'a', 'open', 'bonnet', 'alway', 'excit', 'car', 'halloween', 'readi', 'halloween', 'car', 'accessori', 'poppi', 'craft', 'get', 'car', 'halloween', 'spirit', 'secur', 'phone', 'anywher', 'caraccessori', 'turquois', 'teal', 'fluffi', 'rear', 'view', 'mirror', 'cover', 'handmad', 'gorgeou', 'teal', 'faux', 'fur', 'fabric', 'download', 'offici', 'alfa', 'romeo', 'repair', 'manual', 'amateurmechan', 'auto', 'secur', 'phone', 'anywher', 'caraccessori', 'fluffi', 'fuzzi', 'monster', 'pom', 'pom', 'ball', 'keyr', 'keychain', 'teal', 'neptun', 'cute', 'handmad', 'pretti', 'turquois', 'fuzzi', 'faux', 'car', 'part', 'galor', 'click', 'link', 'info', 'carpart', 'autopart', 'caraccessori', 'cartip', 'carrepair', 'white', 'snow', 'faux', 'fur', 'steer', 'wheel', 'cover', 'match', 'seat', 'belt', 'pad', 'like', 'fluffi', 'white', 'cloud', 'car', 'hand', 'air', 'freshen', 'costeffect', 'highli', 'visibl', 'provid', 'perfect', 'market', 'opportun', 'littl', 'joe', 'scent', 'insect', 'band', 'come', 'soon', 'avail', 'citronella', 'amp', 'coconut', 'littlejo', 'littlejoeshop', 'littl', 'joe', 'mini', 'blister', 'avail', 'fragranc', 'littlejo', 'littlejoeintern', 'littlejoeshop', 'live', 'newwebsit', 'littlejo', 'littlejoeintern', 'littlejoeshop', 'carairfreshen', 'contact', 'us', 'promot', 'need', 'littlejo', 'littlejoeshop', 'littlejoeintern', 'carairfreshen', 'day', 'go', 'littlejo', 'littlejoeshop', 'littlejoeintern', 'carairfreshen', 'caraccessori', 'madeinitali', 'exhibit', 'automechanika', 'week', 'stop', 'stand', 'see', 'complet', 'rang', 'amp', 'free', 'contact', 'us', 'corpor', 'brand', 'requir', 'infointch', 'littlejo', 'littlejoeintern', 'chang', 'way', 'freshen', 'car', 'littlejo', 'littlejoeintern', 'littlejoeshop', 'carairfreshen', 'fresh', 'note', 'orient', 'woodi', 'amp', 'floral', 'fragranc', 'littlejo', 'littlejoeshop', 'profession', 'qualiti', 'microfib', 'cloth', 'everyday', 'clean', 'carairfreshen', 'caraccessori', 'worldwid', 'thank', 'littl', 'joe', 'fan', 'support', 'love', 'carairfreshen', 'caraccessori', 'automot', 'clean', 'nostalg', 'familiar', 'scent', 'fresh', 'leather', 'littlejo', 'littlejoeintern', 'littlejoeshop', 'ti', 'season', 'safeautosystem', 'automotivesecur', 'remotestart', 'autosystem', 'audio', 'video', 'navig', 'size', 'avail', 'amriautoaccessori', 'amriautoaccessori', 'call', 'us', 'snow', 'leopard', 'print', 'faux', 'fur', 'fuzzi', 'steer', 'wheel', 'cover', 'handmad', 'snow', 'leopard', 'print', 'fluffi', 'faux', 'fur', 'fabric', 'show', 'hyundai', 'creta', 'custom', 'car', 'seat', 'cover', 'feather', 'instal', 'team', 'leo', 'caraccessori', 'carcov', 'big', 'small', 'hold', 'alltumbl', 'cup', 'caraccessori', 'kruzcup', 'fit', 'towbar', 'affect', 'warrantyno', 'law', 'car', 'manufactur', 'dealership', 'legal', 'ladybird', 'ladybird', 'fli', 'away', 'home', 'pair', 'ladybird', 'spot', 'fuzzi', 'seatbelt', 'pad', 'red', 'black', 'spot', 'handmad', 'c', 'car', 'android', 'auto', 'play', 'avail', 'autotechboss', 'warrantyaddress', 'shop', 'pissurlekar', 'tower', 'near', 'scratch', 'amp', 'taog', 'night', 'ri', 'dd', 'remix', 'limma', 'via', 'luminarymus', 'satara', 'tribe', 'bass', 'boostedsataraoffici', 'bassboosterzl', 'bbzl', 'bass', 'bassboost', 'basscar', 'bassmus', 'jbl', 'gtoc', 'highfidel', 'compon', 'speaker', 'system', 'blackmrp', 'deal', 'price', 'noix', 'amp', 'mile', 'monaco', 'backward', 'bass', 'boostedhartt', 'bassboosterzl', 'bbzl', 'noix', 'riddimup', 'missingy', 'ecspedit', 'realli', 'love', 'rode', 'dah', 'one', 'yah', 'love', 'suspect', 'miss', 'straightmix', 'new', 'relax', 'drive', 'song', 'drive', 'music', 'highway', 'song', 'car', 'music', 'road', 'trip', 'song', 'relax', 'calm', 'play', 'noix', 'amp', 'tatta', 'borrow', 'bass', 'boost', 'tattaoffici', 'bassboosterzl', 'bbzl', 'bass', 'bassmus', 'triggerbodyoriginaltweetuserdetailsusernam', 'listen', 'backyard', 'grizzli', 'donlif', 'new', 'dawn', 'new', 'aphet', 'super', 'high', 'frequenc', 'titanium', 'tweeter', 'power', 'w', 'watt', 'power', 'rm', 'frequenc', 'touchscreen', 'smartphon', 'integr', 'nice', 'price', 'jvc', 'kwmbt', 'caraudio', 'receiv', 'give', 'hop', 'friday', 'shot', 'slamolog', 'hydraulicsslamolog', 'slamolog', 'fbf', 'first', 'ssaevil', 'prototyp', 'subwoof', 'code', 'name', 'punish', 'ssaudio', 'podcast', 'open', 'door', 'advertis', 'reach', 'ondemand', 'audienc', 'red', 'carbon', 'fiber', 'wrap', 'wa', 'got', 'quick', 'super', 'easi', 'instal', 'look', 'amaz', 'let', 'us', 'make', 'car', 'sound', 'amaz', 'weve', 'got', 'everyth', 'need', 'make', 'car', 'lit', 'caraudio', 'soundslit', 'stereo', 'that', 'pain', 'loud', 'setup', 'sundownaudioteam', 'subwoof', 'subwooferporn', 'sundownaudioftw', 'sundownaudio', 'long', 'time', 'custom', 'mr', 'toni', 'drop', 'ask', 'us', 'could', 'make', 'custom', 'subwoof', 'reason', 'tha', 'vintag', 'old', 'school', 'pioneer', 'flush', 'mount', 'car', 'speaker', 'model', 'tsvintagecarstereo', 'anoth', 'awesom', 'ride', 'slamolog', 'end', 'truckin', 'thursdayslamolog', 'slamolog', 'gaugemagazin', 'bavsound', 'speaker', 'upgrad', 'avail', 'bmw', 'g', 'seri', 'audio', 'upgrad', 'audiophil', 'caraudio', 'go', 'wreck', 'hous', 'ssaevil', 'subwoof', 'ssaudio', 'soundsolutionsaudio', 'caraudio', 'free', 'alpin', 'inch', 'speaker', 'purchas', 'sound', 'good', 'temp', 'az', 'jay', 'busi', 'bang', 'away', 'finish', 'project', 'go', 'stay', 'tunedcaraudio', 'stereo', 'hifi', 'need', 'help', 'car', 'audio', 'audio', 'design', 'take', 'care', 'caraudiosanjos', 'wish', 'gentlemen', 'much', 'success', 'design', 'engin', 'hq', 'avon', 'lake', 'oh', 'visit', 'tbt', 'de', 'lujo', 'team', 'sound', 'amp', 'team', 'infin', 'carpowersuofficialteaminfin', 'artilleriapesada', 'truckin', 'thursday', 'kick', 'awesom', 'rideslamolog', 'slamolog', 'gaugemagazin', 'indianapoli', 'proud', 'announc', 'partnership', 'european', 'mobil', 'media', 'associ', 'emma', 'howweplay', 'hifi', 'readi', 'seriou', 'caraudio', 'upgrad', 'audiofrog', 'midrang', 'speaker', 'deliv', 'detail', 'custom', 'compon', 'say', 'what', 'insid', 'count', 'ssaevil', 'arriveloud', 'evilinsid', 'roadkil', 'fast', 'ring', 'help', 'increas', 'speaker', 'output', 'improv', 'project', 'audio', 'vehicl', 'cabin', 'new', 'thermalshirt', 'came', 'yesterday', 'thank', 'groupon', 'ill', 'warm', 'instal', 'remotestart', 'andorid', 'car', 'stereo', 'peugeot', 'din', 'plug', 'amp', 'play', 'easi', 'instal', 'cell', 'whatsapp', 'wechat', 'readi', 'add', 'touchscreen', 'dash', 'boss', 'bcparc', 'caraudio', 'receiv', 'includ', 'backup', 'camera', 'ha', 'vintag', 'old', 'school', 'pioneer', 'flush', 'mount', 'car', 'speaker', 'model', 'tsvintagecarstereo', 'soni', 'dsxb', 'caraudio', 'receiv', 'make', 'conveni', 'prioriti', 'builtin', 'bluetooth', 'wireless', 'music', 'stream', 'nice', 'caraudio', 'receiv', 'nice', 'price', 'jvckwmbt', 'touchscreen', 'display', 'smartphon', 'time', 'maxim', 'drive', 'experi', 'see', 'improv', 'car', 'audio', 'system', 'maxi', 'rain', 'shine', 'doesnt', 'stop', 'dedic', 'client', 'get', 'gotten', 'audison', 'sound', 'upgrad', 'ti', 'touchscreen', 'smartphon', 'integr', 'nice', 'price', 'jvc', 'kwmbt', 'caraudio', 'receiv', 'give', 'huge', 'tire', 'sale', 'happen', 'nowdont', 'miss', 'drop', 'today', 'trucktoysoftexa', 'truck', 'suv', 'mani', 'way', 'wire', 'caraudio', 'subwoof', 'amplifi', 'togeth', 'diagram', 'help', 'find', 'best', 'subwo', 'focal', 'insid', 'offer', 'bring', 'togeth', 'plugampplay', 'caraudio', 'kit', 'handpick', 'system', 'p', 'happi', 'hump', 'day', 'let', 'start', 'wednesday', 'bad', 'ass', 'big', 'rig', 'slamolog', 'slamolog', 'slamolog', 'tncmu', 'din', 'hd', 'screen', 'inch', 'car', 'dvd', 'navig', 'chevrolet', 'malibu', 'cell', 'whatsapp', 'wechat', 'drop', 'us', 'email', 'get', 'latest', 'dealernew', 'stack', 'full', 'new', 'incar', 'entertain', 'solut', 'look', 'someon', 'help', 'caraudio', 'instal', 'need', 'wire', 'ran', 'car', 'recommend', 'vintag', 'old', 'school', 'pioneer', 'flush', 'mount', 'car', 'speaker', 'model', 'tsvintagecarstereo', 'today', 'menu', 'dbdrag', 'dbdragjapan', 'ddz', 'repair', 'subwoof', 'inchsubwoof', 'caraudio', 'notic', 'detail', 'work', 'hard', 'event', 'slamolog', 'slamolog', 'slamolog', 'gaugemagazin', 'sundown', 'audio', 'nightshad', 'subwoof', 'ns', 'vsundownaudioteam', 'subwoof', 'subwooferporn', 'sundownaudioftw', 'readi', 'seriou', 'caraudio', 'upgrad', 'audiofrog', 'midrang', 'speaker', 'deliv', 'detail', 'custom', 'compon', 'sneak', 'shot', 'porsch', 'cayman', 'project', 'wrap', 'week', 'ago', 'manag', 'cram', 'alot', 'equip', 'got', 'bass', 'valley', 'store', 'stock', 'ws', 'ws', 'ws', 'display', 'readi', 'demo', 'brin', 'love', 'vinyl', 'visit', 'audio', 'relat', 'topicsaudio', 'music', 'sound', 'hifi', 'edit', 'audison', 'thesi', 'th', 'ii', 'total', 'compress', 'freestudio', 'incar', 'audison', 'istintoinnovativo', 'thesi', 'know', 'knowbeautifulclass', 'germanengin', 'winchest', 'caraudio', 'accutek', 'jl', 'audio', 'sale', 'buy', 'jl', 'woofer', 'get', 'jl', 'amp', 'sound', 'good', 'temp', 'az', 'rain', 'shine', 'slamolog', 'auto', 'limbo', 'alway', 'good', 'timeslamolog', 'slamolog', 'gaugemagazin', 'indianapoli', 'soni', 'dsxb', 'caraudio', 'receiv', 'make', 'conveni', 'prioriti', 'builtin', 'bluetooth', 'wireless', 'music', 'stream', 'ah', 'rememb', 'love', 'record', 'audio', 'music', 'sound', 'hifi', 'edit', 'go', 'miniparti', 'mahindrasuv', 'total', 'possibl', 'power', 'car', 'spe', 'drivein', 'autosound', 'offer', 'enter', 'email', 'addit', 'purchas', 'ad', 'promot', 'reviewsoff', 'four', 'week', 'jefferson', 'audio', 'origin', 'subwoof', 'box', 'inch', 'hiperform', 'bassreflex', 'vintag', 'old', 'school', 'pioneer', 'flush', 'mount', 'car', 'speaker', 'model', 'tsvintagecarstereo', 'check', 'newest', 'playlist', 'tast', 'detroit', 'appl', 'music', 'song', 'skilla', 'babi', 'womackw', 'end', 'monday', 'creativ', 'ridesslamolog', 'slamolog', 'gaugemagazin', 'indianapoli', 'indiana', 'review', 'star', 'ssaudio', 'soundsolutionsaudio', 'play', 'guitar', 'tag', 'guitarist', 'audio', 'music', 'sound', 'hifi', 'edit', 'xoutofmyheadx', 'final', 'got', 'trip', 'ssa', 'alt', 'instal', 'mega', 'current', 'suppli', 'dont', 'miss', 'best', 'deal', 'favorit', 'car', 'speaker', 'subwoof', 'brand', 'mach', 'want', 'get', 'love', 'music', 'visit', 'review', 'gear', 'album', 'audio', 'music', 'sound', 'hifi', 'edit', 'touchscreen', 'smartphon', 'integr', 'nice', 'price', 'jvc', 'kwmbt', 'caraudio', 'receiv', 'give', 'rememb', 'audio', 'music', 'sound', 'hifi', 'edit', 'audiophil', 'video', 'audiosforedit', 'car', 'audio', 'sound', 'good', 'home', 'audio', 'automot', 'caraudio', 'wpool', 'honda', 'jazz', 'radio', 'upgrad', 'odccustom', 'caraudio', 'music', 'sound', 'shop', 'webshop', 'photooftheday', 'dream', 'busi', 'honda', 'jazz', 'radio', 'upgrad', 'odccustom', 'caraudio', 'music', 'sound', 'shop', 'webshop', 'photooftheday', 'dream', 'busi', 'big', 'knob', 'audio', 'music', 'sound', 'hifi', 'edit', 'audiophil', 'video', 'audiosforedit', 'bass', 'edit', 'studio', 'love', 'learn', 'xaltimet', 'display', 'watch', 'video', 'find', 'perfect', 'match', 'advent', 'happi', 'monday', 'kick', 'week', 'amaz', 'limo', 'jetslamolog', 'slamolog', 'gaugemagazin', 'turntablist', 'visit', 'us', 'audio', 'music', 'sound', 'hifi', 'edit', 'audiophil', 'video', 'mani', 'way', 'wire', 'caraudio', 'subwoof', 'amplifi', 'togeth', 'diagram', 'help', 'find', 'best', 'subwo', 'nice', 'caraudio', 'receiv', 'nice', 'price', 'jvckwmbt', 'touchscreen', 'display', 'smartphon', 'team', 'sundown', 'subwoof', 'badass', 'liter', 'sundownaudioteam', 'subwoof', 'subwooferporn', 'sundownaudioftw', 'vintag', 'old', 'school', 'pioneer', 'flush', 'mount', 'car', 'speaker', 'model', 'tsvintagecarstereo', 'love', 'record', 'audio', 'bout', 'audio', 'music', 'sound', 'hifi', 'edit', 'audiophil', 'love', 'record', 'audio', 'music', 'sound', 'hifi', 'edit', 'audiophil', 'video', 'panason', 'vintag', 'car', 'audio', 'track', 'cassett', 'adapt', 'cju', 'cassett', 'pack', 'ebay', 'soni', 'dsxb', 'caraudio', 'receiv', 'make', 'conveni', 'prioriti', 'builtin', 'bluetooth', 'wireless', 'music', 'stream', 'readi', 'add', 'touchscreen', 'dash', 'boss', 'bcparc', 'caraudio', 'receiv', 'includ', 'backup', 'camera', 'ha', 'stay', 'element', 'audio', 'music', 'sound', 'hifi', 'edit', 'audiophil', 'video', 'touchscreen', 'smartphon', 'integr', 'nice', 'price', 'jvc', 'kwmbt', 'caraudio', 'receiv', 'give', 'spotifi', 'share', 'free', 'tier', 'stat', 'canada', 'audio', 'day', 'audio', 'music', 'sunday', 'fun', 'day', 'demo', 'competit', 'fun', 'happen', 'weekend', 'long', 'slamolog', 'car', 'audio', 'sectionslamolog', 'enjoy', 'music', 'visit', 'audio', 'music', 'sound', 'hifi', 'edit', 'audiophil', 'video', 'readi', 'seriou', 'caraudio', 'upgrad', 'audiofrog', 'midrang', 'speaker', 'deliv', 'detail', 'custom', 'compon', 'vintag', 'old', 'school', 'pioneer', 'flush', 'mount', 'car', 'speaker', 'model', 'tsvintagecarstereo', 'noth', 'like', 'ride', 'downtown', 'atlanta', 'listen', 'music', 'led', 'light', 'match', 'vibe', 'look', 'ride', 'saturday', 'night', 'bad', 'ass', 'bicycleslamolog', 'slamolog', 'gaugemagazin', 'indianapoli', 'love', 'record', 'tag', 'engin', 'artist', 'visit', 'thing', 'audio', 'audio', 'loud', 'day', 'thing', 'crazi', 'loud', 'clear', 'distors', 'allow', 'ds', 'welikeitloud', 'hey', 'mark', 'thank', 'video', 'tip', 'first', 'attempt', 'look', 'great', 'caraudio', 'love', 'audio', 'audio', 'music', 'sound', 'hifi', 'edit', 'audiophil', 'video', 'custom', 'cawkbawx', 'scottbowman', 'ssaudio', 'custom', 'ssaudio', 'one', 'stop', 'sourc', 'audio', 'audio', 'music', 'sound', 'hifi', 'edit', 'audiophil', 'dont', 'settl', 'bad', 'car', 'audio', 'outdat', 'equip', 'sound', 'good', 'temp', 'arizona', 'near', 'phoenix', 'ser', 'enjoy', 'saturday', 'shot', 'slamolog', 'slamolog', 'slamolog', 'gaugemagazin', 'indianapoli', 'indiana', 'interest', 'record', 'love', 'audio', 'give', 'us', 'tri', 'audio', 'music', 'sound', 'hifi', 'mani', 'way', 'wire', 'caraudio', 'subwoof', 'amplifi', 'togeth', 'diagram', 'help', 'find', 'best', 'subwo', 'readi', 'seriou', 'caraudio', 'upgrad', 'audiofrog', 'midrang', 'speaker', 'deliv', 'detail', 'custom', 'compon', 'soundstream', 'pretti', 'much', 'brand', 'new', 'caraudio', 'th', 'anniversari', 'kail', 'johor', 'bahru', 'malaysia', 'malaysiacan', 'ladi', 'johor', 'caraudio', 'spg', 'funfairfriend', 'vintag', 'old', 'school', 'pioneer', 'flush', 'mount', 'car', 'speaker', 'model', 'tsvintagecarstereo', 'let', 'end', 'friday', 'amaz', 'rideslamolog', 'slamolog', 'gaugemagazin', 'indianapoli', 'indiana', 'soni', 'dsxb', 'caraudio', 'receiv', 'make', 'conveni', 'prioriti', 'builtin', 'bluetooth', 'wireless', 'music', 'stream', 'wanna', 'know', 'audio', 'visit', 'us', 'audio', 'music', 'sound', 'hifi', 'edit', 'want', 'custom', 'rim', 'want', 'perman', 'option', 'plastic', 'dip', 'definit', 'way', 'go', 'talk', 'check', 'lanc', 'clark', 'clean', 'award', 'win', 'usaci', 'sq', 'build', 'ultim', 'innov', 'llc', 'caraudio', 'ijustwanabang', 'love', 'record', 'visit', 'us', 'audio', 'music', 'sound', 'hifi', 'edit', 'audiophil', 'video', 'sweet', 'ford', 'bronco', 'sport', 'excelon', 'kmmx', 'digit', 'media', 'receivergreat', 'work', 'done', 'check', 'amazon', 'echo', 'auto', 'review', 'hereamazon', 'echoauto', 'echofamili', 'caraudio', 'audio', 'car', 'love', 'music', 'come', 'visit', 'us', 'audio', 'music', 'sound', 'hifi', 'edit', 'audiophil', 'video', 'touchscreen', 'smartphon', 'integr', 'nice', 'price', 'jvc', 'kwmbt', 'caraudio', 'receiv', 'give', 'that', 'right', 'found', 'teamevil', 'want', 'one', 'hurri', 'last', 'one', 'subwoof', 'sale', 'swa', 'subwoof', 'sale', 'buy', 'that', 'cruis', 'fridayslamolog', 'slamolog', 'gaugemagazin', 'indianapoli', 'indiana', 'lucasoilraceway', 'heya', 'would', 'great', 'could', 'stop', 'use', 'yycroad', 'yyctraff', 'hashtag', 'promot', 'p', 'evil', 'lurk', 'night', 'alexhest', 'evil', 'almost', 'readi', 'ssaudio', 'nice', 'caraudio', 'receiv', 'nice', 'price', 'jvckwmbt', 'touchscreen', 'display', 'smartphon', 'good', 'thing', 'come', 'three', 'like', 'wike', 'js', 'pdc', 'dual', 'voic', 'coil', 'subwoof', 'mani', 'sub', 'brand', 'new', 'dealernew', 'stack', 'full', 'new', 'fascia', 'incar', 'entertain', 'solutionssign', 'newslet', 'got', 'fast', 'car', 'fast', 'enough', 'fli', 'away', 'jbl', 'car', 'audio', 'ye', 'go', 'f', 'vintag', 'old', 'school', 'pioneer', 'flush', 'mount', 'car', 'speaker', 'model', 'tsvintagecarstereo', 'look', 'upgrad', 'drive', 'experi', 'make', 'sure', 'contact', 'maximum', 'audio', 'via', 'phone', 'dm', 'email', 'truckin', 'thursday', 'bad', 'ass', 'big', 'rig', 'slamolog', 'slamolog', 'slamolog', 'gaugemagazin', 'indianapoli', 'love', 'beat', 'love', 'make', 'beat', 'visit', 'us', 'audio', 'relat', 'topic', 'audio', 'music', 'readi', 'add', 'touchscreen', 'dash', 'boss', 'bcparc', 'caraudio', 'receiv', 'includ', 'backup', 'camera', 'ha', 'readi', 'seriou', 'caraudio', 'upgrad', 'audiofrog', 'midrang', 'speaker', 'deliv', 'detail', 'custom', 'compon', 'love', 'music', 'come', 'visit', 'us', 'weve', 'got', 'cover', 'audio', 'music', 'sound', 'hifi', 'edit', 'tbt', 'de', 'lujo', 'infin', 'en', 'el', 'ccctcarpowersuofficialteaminfin', 'artilleriapesada', 'infinitypow', 'love', 'record', 'visit', 'us', 'thing', 'recordingaudio', 'music', 'sound', 'hifi', 'lo', 'team', 'charli', 'bass', 'caraudio', 'powerbass', 'soundigit', 'audiopip', 'audiomax', 'comando', 'kingbass', 'taramp', 'lowbass', 'truckin', 'thursdayslamolog', 'slamolog', 'gaugemagazin', 'indianapoli', 'indiana', 'lucasoilraceway', 'carshow', 'truckshow', 'love', 'record', 'come', 'visit', 'us', 'thing', 'audio', 'music', 'review', 'audio', 'tbt', 'slamolog', 'get', 'demo', 'truck', 'full', 'ssazcon', 'subwoof', 'head', 'mani', 'way', 'wire', 'caraudio', 'subwoof', 'amplifi', 'togeth', 'diagram', 'help', 'find', 'best', 'subwo', 'soni', 'dsxb', 'caraudio', 'receiv', 'make', 'conveni', 'prioriti', 'builtin', 'bluetooth', 'wireless', 'music', 'stream', 'produo', 'nao', 'para', 'product', 'doesnt', 'stop', 'jefferson', 'audio', 'hi', 'perform', 'bassreflex', 'subwoof', 'box', 'fo', 'vintag', 'old', 'school', 'pioneer', 'flush', 'mount', 'car', 'speaker', 'model', 'tsvintagecarstereo', 'dont', 'cruis', 'rest', 'week', 'ride', 'slamolog', 'slamolog', 'slamolog', 'audio', 'design', 'help', 'car', 'audio', 'need', 'caraudiosanjos', 'love', 'music', 'that', 'creat', 'page', 'get', 'sourc', 'thing', 'love', 'music', 'youll', 'love', 'page', 'come', 'check', 'us', 'outaudio', 'music', 'sound', 'hifi', 'edit', 'come', 'today', 'take', 'advantag', 'special', 'offer', 'valid', 'octob', 'thbigdaddysstereo', 'two', 'truck', 'respect', 'work', 'uniqu', 'individu', 'need', 'achiev', 'goal', 'dont', 'forget', 'adireaudio', 'isbon', 'sale', 'ssa', 'store', 'use', 'coupon', 'code', 'adirefal', 'sell', 'old', 'car', 'audio', 'electron', 'cash', 'score', 'great', 'deal', 'via', 'nd', 'chanc', 'consign', 'sound', 'good', 'porsch', 'boxster', 'equip', 'new', 'excelon', 'dnx', 'receiverkenwoodusagreat', 'work', 'done', 'cool', 'set', 'friend', 'thank', 'love', 'teamaudiopip', 'audiopip', 'apamp', 'caraudio', 'paint', 'box', 'window', 'old', 'secret', 'trickcaraudio', 'instal', 'youtub', 'amazonechoauto', 'releas', 'india', 'pl', 'tell', 'car', 'clean', 'qualiti', 'trust', 'fobbu', 'teamecocartherapi', 'carwashservic', 'littleworldmallkharghar', 'sunshin', 'yellow', 'faux', 'fur', 'fuzzi', 'steer', 'wheel', 'cover', 'handmad', 'love', 'yellow', 'faux', 'fur', 'fabric', 'guarante', 'bri', 'got', 'eye', 'tiger', 'gold', 'tiger', 'stripe', 'faux', 'fur', 'fuzzi', 'steer', 'wheel', 'cover', 'handmad', 'gold', 'tiger', 'pair', 'black', 'white', 'check', 'cotton', 'seatbelt', 'pad', 'love', 'print', 'retro', 'skater', 'pad', 'give', 'extra', 'com', 'buy', 'leatherett', 'car', 'footmat', 'car', 'special', 'mega', 'diwali', 'sale', 'discount', 'price', 'plu', 'get', 'get', 'b', 'buy', 'leatherett', 'car', 'footmat', 'car', 'special', 'mega', 'diwali', 'sale', 'discount', 'price', 'plu', 'get', 'get', 'bac', 'buy', 'premium', 'leatherett', 'car', 'seat', 'cover', 'hecta', 'seri', 'special', 'mega', 'diwali', 'sale', 'discount', 'price', 'plu', 'ge', 'buy', 'premium', 'leatherett', 'car', 'seat', 'cover', 'hecta', 'seri', 'special', 'mega', 'diwali', 'sale', 'discount', 'price', 'plu', 'get', 'brighten', 'car', 'interior', 'fabul', 'orang', 'fuzzi', 'seatbelt', 'pad', 'handmad', 'funki', 'tangerin', 'orang', 'merced', 'car', 'seat', 'makeov', 'grey', 'natur', 'grade', 'leather', 'merced', 'mercedesbenz', 'merced', 'carinterior', 'cheetah', 'cat', 'car', 'mat', 'cheetah', 'bigcat', 'zoo', 'travel', 'carmat', 'floormat', 'wildlcat', 'favourit', 'car', 'interior', 'questiontim', 'carinterior', 'favourit', 'car', 'interior', 'questiontim', 'carinterior', 'barbi', 'pink', 'faux', 'fur', 'rear', 'view', 'mirror', 'cover', 'babi', 'pink', 'satin', 'bow', 'handmad', 'bright', 'pink', 'faux', 'fur', 'fabric', 'wit', 'fobbu', 'dont', 'wash', 'car', 'super', 'shine', 'eco', 'car', 'therapi', 'hurri', 'upcarwashservic', 'brighten', 'car', 'interior', 'fabul', 'orang', 'fuzzi', 'seatbelt', 'pad', 'handmad', 'funki', 'tangerin', 'orang', 'black', 'white', 'skull', 'crossbon', 'cotton', 'steer', 'wheel', 'cover', 'handmad', 'black', 'white', 'skull', 'crossbon', 'day', 'car', 'car', 'carinterior', 'carinterior', 'oldcar', 'timisoarastreet', 'bnwdemand', 'fisheyelemag', 'day', 'car', 'car', 'carinterior', 'carinterior', 'oldcar', 'timisoarastreet', 'bnwdemand', 'fisheyelemag', 'check', 'beforeandaft', 'door', 'volkswagen', 'beetl', 'carinterior', 'cardoorfix', 'ridecitycustom', 'black', 'white', 'cow', 'print', 'faux', 'fur', 'fuzzi', 'steer', 'wheel', 'covera', 'must', 'cow', 'lover', 'handmad', 'black', 'keep', 'consol', 'clutter', 'consolid', 'consistentlycarinterior', 'accessori', 'book', 'new', 'car', 'protect', 'packag', 'special', 'offer', 'avail', 'throughout', 'octob', 'sport', 'ball', 'set', 'car', 'mat', 'travelmat', 'carmat', 'floormat', 'carinterior', 'newtruck', 'newcar', 'work', 'ooz', 'touch', 'handmad', 'good', 'contact', 'us', 'real', 'transformat', 'weekend', 'offer', 'discountlimit', 'offercolour', 'ice', 'blue', 'ledtyp', 'fog', 'lightspric', 'paircontact', 'oak', 'brown', 'metalliccolour', 'new', 'asx', 'set', 'complet', 'sawc', 'x', 'wd', 'suv', 'mitsubishimotor', 'pretti', 'barbi', 'pink', 'faux', 'fur', 'fabric', 'fuzzi', 'steer', 'wheel', 'cover', 'black', 'satin', 'bowhandmad', 'gorgeou', 'safeti', 'import', 'conviniencecar', 'safeti', 'start', 'good', 'light', 'light', 'call', 'whatsapp', 'starri', 'starri', 'night', 'black', 'white', 'star', 'print', 'fleec', 'steer', 'wheel', 'coverhandmad', 'soft', 'black', 'whit', 'igloo', 'max', 'cold', 'quantum', 'quart', 'roller', 'cooler', 'igloo', 'via', 'amazingproduct', 'coleman', 'rug', 'wheel', 'cooler', 'quart', 'coleman', 'via', 'amazingproduct', 'coleman', 'nxt', 'lite', 'tabletop', 'propan', 'grill', 'coleman', 'via', 'amazingproduct', 'ga', 'stove', 'portabl', 'bottletop', 'propan', 'coleman', 'via', 'amazingproduct', 'camp', 'chef', 'everest', 'burner', 'stove', 'camp', 'chef', 'via', 'amazingproduct', 'amazingd', 'piec', 'outdoor', 'indoor', 'camp', 'bbq', 'wealer', 'via', 'amazingproduct', 'gadget', 'wide', 'vision', 'wireless', 'car', 'dash', 'camera', 'technolog', 'techgift', 'drone', 'coleman', 'ga', 'grill', 'portabl', 'propan', 'grill', 'coleman', 'via', 'coleman', 'weathermast', 'person', 'outdoor', 'tent', 'coleman', 'via', 'amazingproduct', 'hot', 'towel', 'right', 'shower', 'luxuri', 'around', 'time', 'year', 'bath', 'design', 'timer', 'smart', 'ring', 'app', 'enabl', 'wearabl', 'technolog', 'techgadgetssmarttechcoolstuff', 'smart', 'babi', 'gadget', 'new', 'parentstech', 'babygadget', 'smartgadget', 'technolog', 'pcsbag', 'chilli', 'red', 'hot', 'peter', 'pepper', 'chilli', 'bonsai', 'novelti', 'funni', 'pepper', 'bonsai', 'plant', 'veget', 'home', 'amp', 'gard', 'gadget', 'durabl', 'canva', 'smart', 'appl', 'watch', 'band', 'take', 'advic', 'consider', 'search', 'smart', 'video', 'doorbel', 'homedesign', 'gadget', 'sundom', 'person', 'tent', 'green', 'coleman', 'via', 'amazingproduct', 'amazingd', 'overs', 'deck', 'chair', 'fold', 'campin', 'suzeten', 'via', 'amazingproduct', 'camp', 'chair', 'side', 'tabl', 'fold', 'coleman', 'via', 'amazingproduct', 'best', 'waze', 'featur', 'avail', 'googlemap', 'iphon', 'tech', 'gadget', 'fold', 'kick', 'scooter', 'kid', 'whe', 'beleev', 'via', 'amazingproduct', 'absolut', 'bangon', 'esitetech', 'devic', 'gadget', 'gadget', 'geek', 'techi', 'comput', 'kick', 'scooter', 'pink', 'ffp', 'razor', 'via', 'amazingproduct', 'perfect', 'adjust', 'postu', 'sr', 'sun', 'room', 'via', 'amazingproduct', 'amazingd', 'brand', 'tkstar', 'lk', 'tk', 'global', 'locat', 'real', 'time', 'pet', 'gp', 'tracker', 'smarttechgadget', 'postur', 'corrector', 'men', 'women', 'upper', 'gearari', 'via', 'amazon', 'travel', 'vlando', 'small', 'travel', 'jewelri', 'roll', 'bag', 'organ', 'amazond', 'lifestraw', 'person', 'water', 'filter', 'hike', 'lifestraw', 'via', 'men', 'casual', 'slim', 'fit', 'shirt', 'long', 'sl', 'kuyigo', 'via', 'amazingproduct', 'rlage', 'men', 'upf', 'uv', 'sun', 'protect', 'outd', 'rlage', 'via', 'hane', 'men', 'long', 'sleev', 'cool', 'dri', 'tshirt', 'hane', 'via', 'usb', 'recharg', 'bike', 'light', 'setsup', 'ascher', 'via', 'amazingproduct', 'flytec', 'highqual', 'remot', 'control', 'car', 'ghz', 'kmh', 'independ', 'suspens', 'spring', 'road', 'vehicl', 'rc', 'crawler', 'true', 'wireless', 'earbud', 'stereo', 'bluetooth', 'earphon', 'wireless', 'bluetooth', 'headphon', 'earphon', 'builtin', 'hd', 'mic', 'cha', 'queen', 'air', 'mattress', 'builtin', 'p', 'olarhik', 'via', 'amazingproduct', 'week', 'tech', 'amazon', 'muscl', 'seattl', 'elect', 'trendingnow', 'likelik', 'brand', 'new', 'iphon', 'pro', 'max', 'gb', 'gold', 'green', 'dual', 'sim', 'dalla', 'dallasonlin', 'dallasstor', 'phone', 'look', 'that', 'outstand', 'sport', 'gadget', 'fashion', 'purshas', 'shop', 'dealstreetonlin', 'kid', 'toy', 'promo', 'accept', 'dropship', 'dropship', 'shopifi', 'shoponlin', 'gadget', 'kitchen', 'outdoor', 'aliepxress', 'wholesal', 'fit', 'tracker', 'heart', 'rate', 'monitor', 'lstar', 'via', 'amazingproduct', 'fit', 'tracker', 'hr', 'heart', 'rate', 'moni', 'letscom', 'via', 'amazingproduct', 'swell', 'insul', 'stainless', 'steel', 'roamer', 'swell', 'via', 'jakcom', 'rf', 'smart', 'ring', 'smart', 'phone', 'techgadgetssmarttechcoolstuff', 'hydro', 'flask', 'vacuum', 'insul', 'stainless', 'stee', 'hydro', 'flask', 'via', 'heart', 'rate', 'monitor', 'smart', 'watch', 'techgadgetselectronicssmart', 'knife', 'gadget', 'vintag', 'style', 'toaster', 'top', 'fit', 'gadget', 'upgrad', 'workout', 'come', 'power', 'daili', 'workout', 'fit', 'gadget', 'appl', 'airpod', 'pro', 'comingappl', 'airpodspro', 'airpod', 'appleairpod', 'earphon', 'headset', 'wirelessearphon', 'illumin', 'home', 'amazonecho', 'plu', 'less', 'deal', 'tech', 'isnt', 'coolhomedecor', 'lighten', 'gadget', 'electron', 'jewelri', 'watch', 'simpliou', 'accessori', 'sunglass', 'vlog', 'also', 'handi', 'coachdwanabantao', 'djiosmopocket', 'gadget', 'storyofmylif', 'madison', 'place', 'ouezon', 'citi', 'figur', 'right', 'kind', 'vacuum', 'suit', 'live', 'situat', 'lifestyl', 'gadget', 'bluetooth', 'ear', 'amplifi', 'amp', 'recharg', 'hear', 'aid', 'smarttechgadgetselectron', 'amazfit', 'bip', 'smartwatchsmartwatch', 'gadget', 'watch', 'gadget', 'watch', 'mobil', 'smartphon', 'fun', 'thing', 'peopl', 'find', 'hard', 'dohuman', 'be', 'capabl', 'almost', 'everyth', 'amp', 'anyth', 'wo', 'incredibletech', 'gadget', 'gadget', 'rhineston', 'metal', 'smart', 'appl', 'watch', 'dial', 'case', 'smartwatch', 'vr', 'gadget', 'electron', 'techi', 'tech', 'geek', 'hack', 'nerd', 'techfan', 'men', 'waterproof', 'dual', 'display', 'smart', 'w', 'uniqu', 'multi', 'phone', 'case', 'iphon', 'x', 'case', 'tpu', 'case', 'tetri', 'game', 'consol', 'appear', 'protect', 'cover', 'gift', 'child', 'bottleopen', 'coolstuff', 'cuteidea', 'gadget', 'metalfabr', 'metalproject', 'metalwork', 'electron', 'anran', 'plug', 'play', 'ch', 'cctv', 'system', 'wireless', 'nvr', 'kit', 'pp', 'p', 'hd', 'ir', 'wifi', 'ip', 'camera', 'outdoor', 'secur', 'camera', 'surveil', 'shakingvend', 'machin', 'orangina', 'follow', 'awesom', 'amp', 'click', 'swzyor', 'smart', 'wearabl', 'devic', 'yoga', 'danc', 'music', 'headband', 'smarttechgadgetselectron', 'koowheel', 'anti', 'scratchnon', 'slipsleevewrapenclosur', 'silicon', 'case', 'inch', 'wheel', 'self', 'balanc', 'scooter', 'hover', 'accept', 'dropship', 'dropship', 'shopifi', 'shoponlin', 'gadget', 'kitchen', 'outdoor', 'aliepxress', 'wholesal', 'hot', 'wheel', 'spt', 'viper', 'gtsr', 'metal', 'alloy', 'model', 'colect', 'wholesal', 'metal', 'car', 'car', 'lover', 'multi', 'function', 'card', 'reader', 'sd', 'card', 'tf', 'triplet', 'otg', 'smart', 'adapt', 'macbook', 'micro', 'usb', 'memori', 'card', 'read', 'get', 'crackberri', 'shirt', 'hoodi', 'mug', 'comput', 'gadget', 'tech', 'gadget', 'wireless', 'charger', 'pad', 'smartphon', 'fimei', 'inch', 'wireless', 'video', 'color', 'night', 'vision', 'babi', 'monitor', 'camera', 'babi', 'sleep', 'nanni', 'secur', 'video', 'camera', 'monitor', 'jakcom', 'rf', 'smart', 'ring', 'smart', 'phone', 'accessori', 'techgadgetssmarttechcoolstuff', 'techelectronicscomputersgadget', 'crystal', 'case', 'macbook', 'air', 'cover', 'shell', 'macbook', 'pro', 'inch', 'vatican', 'launch', 'new', 'erosari', 'bracelet', 'syncd', 'accompani', 'click', 'pray', 'app', 'design', 'vatican', 'launch', 'new', 'erosari', 'bracelet', 'syncd', 'accompani', 'click', 'pray', 'app', 'design', 'gadget', 'portabl', 'univers', 'mini', 'led', 'video', 'projector', 'bosch', 'new', 'ear', 'space', 'station', 'astrobe', 'robot', 'let', 'hear', 'potenti', 'mechan', 'issu', 'vatican', 'new', 'electron']\n",
            "\n",
            "Most commonly occuring words and frequency\n",
            "\n"
          ],
          "name": "stdout"
        },
        {
          "output_type": "execute_result",
          "data": {
            "text/plain": [
              "[('gadget', 2611),\n",
              " ('car', 1031),\n",
              " ('tech', 741),\n",
              " ('new', 549),\n",
              " ('electriccar', 509),\n",
              " ('via', 453),\n",
              " ('electr', 432),\n",
              " ('technolog', 424),\n",
              " ('autonomousvehicl', 415),\n",
              " ('smart', 378),\n",
              " ('watch', 374),\n",
              " ('camera', 372),\n",
              " ('travel', 337),\n",
              " ('electron', 336),\n",
              " ('use', 305),\n",
              " ('selfdriv', 283),\n",
              " ('amp', 282),\n",
              " ('drive', 280),\n",
              " ('autonom', 279),\n",
              " ('vehicl', 272)]"
            ]
          },
          "metadata": {
            "tags": []
          },
          "execution_count": 140
        }
      ]
    },
    {
      "cell_type": "markdown",
      "metadata": {
        "id": "nhqOsZDL27SS"
      },
      "source": [
        "# Word Frequency"
      ]
    },
    {
      "cell_type": "code",
      "metadata": {
        "id": "ll43id-926xd",
        "outputId": "03316e86-6cd2-44d5-ce98-0ccec7ad57ce",
        "colab": {
          "base_uri": "https://localhost:8080/",
          "height": 204
        }
      },
      "source": [
        "freq_word_df = pd.DataFrame(words_freq.most_common(20),columns=['words','Freq'])\n",
        "freq_word_df.head()"
      ],
      "execution_count": null,
      "outputs": [
        {
          "output_type": "execute_result",
          "data": {
            "text/html": [
              "<div>\n",
              "<style scoped>\n",
              "    .dataframe tbody tr th:only-of-type {\n",
              "        vertical-align: middle;\n",
              "    }\n",
              "\n",
              "    .dataframe tbody tr th {\n",
              "        vertical-align: top;\n",
              "    }\n",
              "\n",
              "    .dataframe thead th {\n",
              "        text-align: right;\n",
              "    }\n",
              "</style>\n",
              "<table border=\"1\" class=\"dataframe\">\n",
              "  <thead>\n",
              "    <tr style=\"text-align: right;\">\n",
              "      <th></th>\n",
              "      <th>words</th>\n",
              "      <th>Freq</th>\n",
              "    </tr>\n",
              "  </thead>\n",
              "  <tbody>\n",
              "    <tr>\n",
              "      <th>0</th>\n",
              "      <td>gadget</td>\n",
              "      <td>2611</td>\n",
              "    </tr>\n",
              "    <tr>\n",
              "      <th>1</th>\n",
              "      <td>car</td>\n",
              "      <td>1031</td>\n",
              "    </tr>\n",
              "    <tr>\n",
              "      <th>2</th>\n",
              "      <td>tech</td>\n",
              "      <td>741</td>\n",
              "    </tr>\n",
              "    <tr>\n",
              "      <th>3</th>\n",
              "      <td>new</td>\n",
              "      <td>549</td>\n",
              "    </tr>\n",
              "    <tr>\n",
              "      <th>4</th>\n",
              "      <td>electriccar</td>\n",
              "      <td>509</td>\n",
              "    </tr>\n",
              "  </tbody>\n",
              "</table>\n",
              "</div>"
            ],
            "text/plain": [
              "         words  Freq\n",
              "0       gadget  2611\n",
              "1          car  1031\n",
              "2         tech   741\n",
              "3          new   549\n",
              "4  electriccar   509"
            ]
          },
          "metadata": {
            "tags": []
          },
          "execution_count": 141
        }
      ]
    },
    {
      "cell_type": "code",
      "metadata": {
        "id": "xnobWDz423lD",
        "outputId": "465b4da7-f996-4fe9-bc0c-b5fe49272786",
        "colab": {
          "base_uri": "https://localhost:8080/",
          "height": 373
        }
      },
      "source": [
        "fig,ax=plt.subplots(figsize=(25,10))\n",
        "freq_word_df.sort_values(by='Freq').plot.barh(x='words',y='Freq',ax=ax,color='orange')\n",
        "plt.show();"
      ],
      "execution_count": null,
      "outputs": [
        {
          "output_type": "display_data",
          "data": {
            "image/png": "[encoded data removed]",
            "text/plain": [
              "<Figure size 1800x720 with 1 Axes>"
            ]
          },
          "metadata": {
            "tags": [],
            "needs_background": "light"
          }
        }
      ]
    },
    {
      "cell_type": "markdown",
      "metadata": {
        "id": "SnVn1ugs3BJ6"
      },
      "source": [
        "# Word Frequency"
      ]
    },
    {
      "cell_type": "code",
      "metadata": {
        "id": "Bmke2lqa23qb"
      },
      "source": [
        "from wordcloud import WordCloud,STOPWORDS\n",
        "import matplotlib.pyplot as plt\n",
        "word_string=' '.join(freq_word_df.words)\n",
        "wordcloud=WordCloud(#stopwords=STOPWORDS,\n",
        "                       background_color='black',\n",
        "                     max_words=20\n",
        "                      ).generate(word_string)"
      ],
      "execution_count": null,
      "outputs": []
    },
    {
      "cell_type": "code",
      "metadata": {
        "id": "TA80PA8O23tE",
        "outputId": "0f0f3d5c-5cf4-4f1a-acdc-c53d7b4cd01e",
        "colab": {
          "base_uri": "https://localhost:8080/",
          "height": 466
        }
      },
      "source": [
        "plt.figure(figsize=(15,10))\n",
        "plt.clf()\n",
        "plt.imshow(wordcloud)\n",
        "plt.axis('off')\n",
        "plt.show()"
      ],
      "execution_count": null,
      "outputs": [
        {
          "output_type": "execute_result",
          "data": {
            "text/plain": [
              "<Figure size 1080x720 with 0 Axes>"
            ]
          },
          "metadata": {
            "tags": []
          },
          "execution_count": 144
        },
        {
          "output_type": "execute_result",
          "data": {
            "text/plain": [
              "<matplotlib.image.AxesImage at 0x7f9e1f7337b8>"
            ]
          },
          "metadata": {
            "tags": []
          },
          "execution_count": 144
        },
        {
          "output_type": "execute_result",
          "data": {
            "text/plain": [
              "(-0.5, 399.5, 199.5, -0.5)"
            ]
          },
          "metadata": {
            "tags": []
          },
          "execution_count": 144
        },
        {
          "output_type": "display_data",
          "data": {
            "image/png": "[encoded data removed]",
            "text/plain": [
              "<Figure size 1080x720 with 1 Axes>"
            ]
          },
          "metadata": {
            "tags": [],
            "needs_background": "light"
          }
        }
      ]
    },
    {
      "cell_type": "markdown",
      "metadata": {
        "id": "eiMzBbbK3NsK"
      },
      "source": [
        "# Polarity by TextBlob"
      ]
    },
    {
      "cell_type": "code",
      "metadata": {
        "id": "cL7XhS4723vj",
        "outputId": "40e88ff0-dc1c-498f-dbde-6c0b279f8280",
        "colab": {
          "base_uri": "https://localhost:8080/",
          "height": 51
        }
      },
      "source": [
        "sentiment_text = [TextBlob(Comments) for Comments in corpus]\n",
        "print(sentiment_text[10].polarity)\n",
        "print(sentiment_text[10])"
      ],
      "execution_count": null,
      "outputs": [
        {
          "output_type": "stream",
          "text": [
            "-0.1499999999999999\n",
            "bad news apeman put mine garbag done cheap product\n"
          ],
          "name": "stdout"
        }
      ]
    },
    {
      "cell_type": "code",
      "metadata": {
        "id": "5IEW5_O423yB",
        "outputId": "ac79764f-9839-4e3d-8050-5ac44b023933",
        "colab": {
          "base_uri": "https://localhost:8080/",
          "height": 419
        }
      },
      "source": [
        "sentiments = [[Comments.sentiment.polarity, str(Comments)] for Comments in sentiment_text]\n",
        "sentiment_df = pd.DataFrame(sentiments, columns=[\"Polarity\",\"UserComments\"])\n",
        "sentiment_df.sort_values(by='Polarity',ascending=False) "
      ],
      "execution_count": null,
      "outputs": [
        {
          "output_type": "execute_result",
          "data": {
            "text/html": [
              "<div>\n",
              "<style scoped>\n",
              "    .dataframe tbody tr th:only-of-type {\n",
              "        vertical-align: middle;\n",
              "    }\n",
              "\n",
              "    .dataframe tbody tr th {\n",
              "        vertical-align: top;\n",
              "    }\n",
              "\n",
              "    .dataframe thead th {\n",
              "        text-align: right;\n",
              "    }\n",
              "</style>\n",
              "<table border=\"1\" class=\"dataframe\">\n",
              "  <thead>\n",
              "    <tr style=\"text-align: right;\">\n",
              "      <th></th>\n",
              "      <th>Polarity</th>\n",
              "      <th>UserComments</th>\n",
              "    </tr>\n",
              "  </thead>\n",
              "  <tbody>\n",
              "    <tr>\n",
              "      <th>5626</th>\n",
              "      <td>1.0</td>\n",
              "      <td>digitalchamb gadget hardwar review tc adobelig...</td>\n",
              "    </tr>\n",
              "    <tr>\n",
              "      <th>9059</th>\n",
              "      <td>1.0</td>\n",
              "      <td>best ball sincebal</td>\n",
              "    </tr>\n",
              "    <tr>\n",
              "      <th>414</th>\n",
              "      <td>1.0</td>\n",
              "      <td>tell truth princ ea one best messag yet watch ...</td>\n",
              "    </tr>\n",
              "    <tr>\n",
              "      <th>9273</th>\n",
              "      <td>1.0</td>\n",
              "      <td>best size buck</td>\n",
              "    </tr>\n",
              "    <tr>\n",
              "      <th>425</th>\n",
              "      <td>1.0</td>\n",
              "      <td>laughter best medicin amp headlin deliv infota...</td>\n",
              "    </tr>\n",
              "    <tr>\n",
              "      <th>...</th>\n",
              "      <td>...</td>\n",
              "      <td>...</td>\n",
              "    </tr>\n",
              "    <tr>\n",
              "      <th>2190</th>\n",
              "      <td>-0.8</td>\n",
              "      <td>googl interest hardwar announc rank googl</td>\n",
              "    </tr>\n",
              "    <tr>\n",
              "      <th>2898</th>\n",
              "      <td>-0.8</td>\n",
              "      <td>scienc confirm consum hate overcook pork chop ...</td>\n",
              "    </tr>\n",
              "    <tr>\n",
              "      <th>832</th>\n",
              "      <td>-1.0</td>\n",
              "      <td>evil lurk night alexhest evil almost readi ssa...</td>\n",
              "    </tr>\n",
              "    <tr>\n",
              "      <th>6747</th>\n",
              "      <td>-1.0</td>\n",
              "      <td>bleak futur singleoccup autonom car could incr...</td>\n",
              "    </tr>\n",
              "    <tr>\n",
              "      <th>5747</th>\n",
              "      <td>-1.0</td>\n",
              "      <td>worst case autonom futur requir pedestrian bic...</td>\n",
              "    </tr>\n",
              "  </tbody>\n",
              "</table>\n",
              "<p>9546 rows × 2 columns</p>\n",
              "</div>"
            ],
            "text/plain": [
              "      Polarity                                       UserComments\n",
              "5626       1.0  digitalchamb gadget hardwar review tc adobelig...\n",
              "9059       1.0                                 best ball sincebal\n",
              "414        1.0  tell truth princ ea one best messag yet watch ...\n",
              "9273       1.0                                     best size buck\n",
              "425        1.0  laughter best medicin amp headlin deliv infota...\n",
              "...        ...                                                ...\n",
              "2190      -0.8          googl interest hardwar announc rank googl\n",
              "2898      -0.8  scienc confirm consum hate overcook pork chop ...\n",
              "832       -1.0  evil lurk night alexhest evil almost readi ssa...\n",
              "6747      -1.0  bleak futur singleoccup autonom car could incr...\n",
              "5747      -1.0  worst case autonom futur requir pedestrian bic...\n",
              "\n",
              "[9546 rows x 2 columns]"
            ]
          },
          "metadata": {
            "tags": []
          },
          "execution_count": 146
        }
      ]
    },
    {
      "cell_type": "code",
      "metadata": {
        "id": "OA1ZBZXd3fJc",
        "outputId": "008276df-94d7-4177-d97c-ec64180b825e",
        "colab": {
          "base_uri": "https://localhost:8080/",
          "height": 641
        }
      },
      "source": [
        "fig, ax = plt.subplots(figsize=(15,10))\n",
        "\n",
        "#Plot histogram of the polarity values\n",
        "sentiment_df.hist(bins=[-1.0, -0.75, -0.25, 0, 0.25, 0.75, 1.0], ax=ax, color=\"green\")\n",
        "plt.title(\"Sentiments Distribution on Automotive Gadgets\")\n",
        "plt.show()"
      ],
      "execution_count": null,
      "outputs": [
        {
          "output_type": "execute_result",
          "data": {
            "text/plain": [
              "array([<matplotlib.axes._subplots.AxesSubplot object at 0x7f9e19e55358>],\n",
              "      dtype=object)"
            ]
          },
          "metadata": {
            "tags": []
          },
          "execution_count": 147
        },
        {
          "output_type": "execute_result",
          "data": {
            "text/plain": [
              "Text(0.5, 1.0, 'Sentiments Distribution on Automotive Gadgets')"
            ]
          },
          "metadata": {
            "tags": []
          },
          "execution_count": 147
        },
        {
          "output_type": "display_data",
          "data": {
            "image/png": "[encoded data removed]",
            "text/plain": [
              "<Figure size 1080x720 with 1 Axes>"
            ]
          },
          "metadata": {
            "tags": [],
            "needs_background": "light"
          }
        }
      ]
    },
    {
      "cell_type": "markdown",
      "metadata": {
        "id": "T40_9ywl3ySr"
      },
      "source": [
        "# Category from Polarity"
      ]
    },
    {
      "cell_type": "code",
      "metadata": {
        "id": "pYsqJy7m3fL3",
        "outputId": "32f7f323-8bc9-4fb2-f447-ca769189b56b",
        "colab": {
          "base_uri": "https://localhost:8080/",
          "height": 238
        }
      },
      "source": [
        "sentiment_df.groupby('Polarity').size()"
      ],
      "execution_count": null,
      "outputs": [
        {
          "output_type": "execute_result",
          "data": {
            "text/plain": [
              "Polarity\n",
              "-1.00      3\n",
              "-0.80     11\n",
              "-0.70      8\n",
              "-0.60      2\n",
              "-0.60      6\n",
              "        ... \n",
              " 0.75     17\n",
              " 0.80    205\n",
              " 0.85      1\n",
              " 0.90      9\n",
              " 1.00    124\n",
              "Length: 449, dtype: int64"
            ]
          },
          "metadata": {
            "tags": []
          },
          "execution_count": 148
        }
      ]
    },
    {
      "cell_type": "code",
      "metadata": {
        "id": "QtcOrRJ13fOb"
      },
      "source": [
        "bins=(-1.0,0.0,1.0)\n",
        "names=['Negative','Positive']\n",
        "sentiment_df['Category']=pd.cut(sentiment_df['Polarity'],bins,labels=names)"
      ],
      "execution_count": null,
      "outputs": []
    },
    {
      "cell_type": "code",
      "metadata": {
        "id": "GlIcutiV34yN",
        "outputId": "b1dbef02-9405-4dc6-aeb1-fef9c028f4c0",
        "colab": {
          "base_uri": "https://localhost:8080/",
          "height": 85
        }
      },
      "source": [
        "sentiment_df.groupby('Category').size()"
      ],
      "execution_count": null,
      "outputs": [
        {
          "output_type": "execute_result",
          "data": {
            "text/plain": [
              "Category\n",
              "Negative    6293\n",
              "Positive    3250\n",
              "dtype: int64"
            ]
          },
          "metadata": {
            "tags": []
          },
          "execution_count": 150
        }
      ]
    },
    {
      "cell_type": "code",
      "metadata": {
        "id": "5Sk1HmWf340v",
        "outputId": "b3e688b3-0182-46ad-a919-40fbaa874591",
        "colab": {
          "base_uri": "https://localhost:8080/",
          "height": 187
        }
      },
      "source": [
        "sentiment_df.info()"
      ],
      "execution_count": null,
      "outputs": [
        {
          "output_type": "stream",
          "text": [
            "<class 'pandas.core.frame.DataFrame'>\n",
            "RangeIndex: 9546 entries, 0 to 9545\n",
            "Data columns (total 3 columns):\n",
            " #   Column        Non-Null Count  Dtype   \n",
            "---  ------        --------------  -----   \n",
            " 0   Polarity      9546 non-null   float64 \n",
            " 1   UserComments  9546 non-null   object  \n",
            " 2   Category      9543 non-null   category\n",
            "dtypes: category(1), float64(1), object(1)\n",
            "memory usage: 158.7+ KB\n"
          ],
          "name": "stdout"
        }
      ]
    },
    {
      "cell_type": "code",
      "metadata": {
        "id": "SNQwbyid8MOV",
        "outputId": "99e9db2a-3798-4649-a757-ee7e3e7c4618",
        "colab": {
          "base_uri": "https://localhost:8080/",
          "height": 419
        }
      },
      "source": [
        "sentiment_df"
      ],
      "execution_count": null,
      "outputs": [
        {
          "output_type": "execute_result",
          "data": {
            "text/html": [
              "<div>\n",
              "<style scoped>\n",
              "    .dataframe tbody tr th:only-of-type {\n",
              "        vertical-align: middle;\n",
              "    }\n",
              "\n",
              "    .dataframe tbody tr th {\n",
              "        vertical-align: top;\n",
              "    }\n",
              "\n",
              "    .dataframe thead th {\n",
              "        text-align: right;\n",
              "    }\n",
              "</style>\n",
              "<table border=\"1\" class=\"dataframe\">\n",
              "  <thead>\n",
              "    <tr style=\"text-align: right;\">\n",
              "      <th></th>\n",
              "      <th>Polarity</th>\n",
              "      <th>UserComments</th>\n",
              "      <th>Category</th>\n",
              "    </tr>\n",
              "  </thead>\n",
              "  <tbody>\n",
              "    <tr>\n",
              "      <th>0</th>\n",
              "      <td>0.0</td>\n",
              "      <td>bought projector clueless connect iphon</td>\n",
              "      <td>Negative</td>\n",
              "    </tr>\n",
              "    <tr>\n",
              "      <th>1</th>\n",
              "      <td>0.0</td>\n",
              "      <td>promis multi card reader leav review im still ...</td>\n",
              "      <td>Negative</td>\n",
              "    </tr>\n",
              "    <tr>\n",
              "      <th>2</th>\n",
              "      <td>0.0</td>\n",
              "      <td>hello apeman team respond email fix issu multi...</td>\n",
              "      <td>Negative</td>\n",
              "    </tr>\n",
              "    <tr>\n",
              "      <th>3</th>\n",
              "      <td>0.8</td>\n",
              "      <td>great pictur excit look k camerajust need pric...</td>\n",
              "      <td>Positive</td>\n",
              "    </tr>\n",
              "    <tr>\n",
              "      <th>4</th>\n",
              "      <td>0.0</td>\n",
              "      <td>bought apeman dashcam find rear camer cabl met...</td>\n",
              "      <td>Negative</td>\n",
              "    </tr>\n",
              "    <tr>\n",
              "      <th>...</th>\n",
              "      <td>...</td>\n",
              "      <td>...</td>\n",
              "      <td>...</td>\n",
              "    </tr>\n",
              "    <tr>\n",
              "      <th>9541</th>\n",
              "      <td>0.3</td>\n",
              "      <td>see fun begin xboxnintendoswitch playstat</td>\n",
              "      <td>Positive</td>\n",
              "    </tr>\n",
              "    <tr>\n",
              "      <th>9542</th>\n",
              "      <td>0.0</td>\n",
              "      <td>inch fhd p dvr camera recorderwhatsappwechat a...</td>\n",
              "      <td>Negative</td>\n",
              "    </tr>\n",
              "    <tr>\n",
              "      <th>9543</th>\n",
              "      <td>0.0</td>\n",
              "      <td>inch fhd p dvr camera record whatsappwechat au...</td>\n",
              "      <td>Negative</td>\n",
              "    </tr>\n",
              "    <tr>\n",
              "      <th>9544</th>\n",
              "      <td>0.0</td>\n",
              "      <td>autobrighttech autobrighttech caraccessori aut...</td>\n",
              "      <td>Negative</td>\n",
              "    </tr>\n",
              "    <tr>\n",
              "      <th>9545</th>\n",
              "      <td>0.0</td>\n",
              "      <td>autobrighttech autobrighttech caraccessori aut...</td>\n",
              "      <td>Negative</td>\n",
              "    </tr>\n",
              "  </tbody>\n",
              "</table>\n",
              "<p>9546 rows × 3 columns</p>\n",
              "</div>"
            ],
            "text/plain": [
              "      Polarity                                       UserComments  Category\n",
              "0          0.0            bought projector clueless connect iphon  Negative\n",
              "1          0.0  promis multi card reader leav review im still ...  Negative\n",
              "2          0.0  hello apeman team respond email fix issu multi...  Negative\n",
              "3          0.8  great pictur excit look k camerajust need pric...  Positive\n",
              "4          0.0  bought apeman dashcam find rear camer cabl met...  Negative\n",
              "...        ...                                                ...       ...\n",
              "9541       0.3          see fun begin xboxnintendoswitch playstat  Positive\n",
              "9542       0.0  inch fhd p dvr camera recorderwhatsappwechat a...  Negative\n",
              "9543       0.0  inch fhd p dvr camera record whatsappwechat au...  Negative\n",
              "9544       0.0  autobrighttech autobrighttech caraccessori aut...  Negative\n",
              "9545       0.0  autobrighttech autobrighttech caraccessori aut...  Negative\n",
              "\n",
              "[9546 rows x 3 columns]"
            ]
          },
          "metadata": {
            "tags": []
          },
          "execution_count": 152
        }
      ]
    },
    {
      "cell_type": "code",
      "metadata": {
        "id": "r8a1agAR343a",
        "outputId": "3f3fb951-513b-4521-beb2-881f1d564393",
        "colab": {
          "base_uri": "https://localhost:8080/",
          "height": 34
        }
      },
      "source": [
        "sentiment_df.columns"
      ],
      "execution_count": null,
      "outputs": [
        {
          "output_type": "execute_result",
          "data": {
            "text/plain": [
              "Index(['Polarity', 'UserComments', 'Category'], dtype='object')"
            ]
          },
          "metadata": {
            "tags": []
          },
          "execution_count": 153
        }
      ]
    },
    {
      "cell_type": "code",
      "metadata": {
        "id": "OaIdczue3fTm",
        "outputId": "37dc5c3b-0f2e-4165-dd0e-d97667015ec5",
        "colab": {
          "base_uri": "https://localhost:8080/",
          "height": 419
        }
      },
      "source": [
        "dfp = pd.DataFrame(data=sentiment_df,\n",
        "                    columns=['Polarity', 'UserComments', 'Category'])\n",
        "dfp"
      ],
      "execution_count": null,
      "outputs": [
        {
          "output_type": "execute_result",
          "data": {
            "text/html": [
              "<div>\n",
              "<style scoped>\n",
              "    .dataframe tbody tr th:only-of-type {\n",
              "        vertical-align: middle;\n",
              "    }\n",
              "\n",
              "    .dataframe tbody tr th {\n",
              "        vertical-align: top;\n",
              "    }\n",
              "\n",
              "    .dataframe thead th {\n",
              "        text-align: right;\n",
              "    }\n",
              "</style>\n",
              "<table border=\"1\" class=\"dataframe\">\n",
              "  <thead>\n",
              "    <tr style=\"text-align: right;\">\n",
              "      <th></th>\n",
              "      <th>Polarity</th>\n",
              "      <th>UserComments</th>\n",
              "      <th>Category</th>\n",
              "    </tr>\n",
              "  </thead>\n",
              "  <tbody>\n",
              "    <tr>\n",
              "      <th>0</th>\n",
              "      <td>0.0</td>\n",
              "      <td>bought projector clueless connect iphon</td>\n",
              "      <td>Negative</td>\n",
              "    </tr>\n",
              "    <tr>\n",
              "      <th>1</th>\n",
              "      <td>0.0</td>\n",
              "      <td>promis multi card reader leav review im still ...</td>\n",
              "      <td>Negative</td>\n",
              "    </tr>\n",
              "    <tr>\n",
              "      <th>2</th>\n",
              "      <td>0.0</td>\n",
              "      <td>hello apeman team respond email fix issu multi...</td>\n",
              "      <td>Negative</td>\n",
              "    </tr>\n",
              "    <tr>\n",
              "      <th>3</th>\n",
              "      <td>0.8</td>\n",
              "      <td>great pictur excit look k camerajust need pric...</td>\n",
              "      <td>Positive</td>\n",
              "    </tr>\n",
              "    <tr>\n",
              "      <th>4</th>\n",
              "      <td>0.0</td>\n",
              "      <td>bought apeman dashcam find rear camer cabl met...</td>\n",
              "      <td>Negative</td>\n",
              "    </tr>\n",
              "    <tr>\n",
              "      <th>...</th>\n",
              "      <td>...</td>\n",
              "      <td>...</td>\n",
              "      <td>...</td>\n",
              "    </tr>\n",
              "    <tr>\n",
              "      <th>9541</th>\n",
              "      <td>0.3</td>\n",
              "      <td>see fun begin xboxnintendoswitch playstat</td>\n",
              "      <td>Positive</td>\n",
              "    </tr>\n",
              "    <tr>\n",
              "      <th>9542</th>\n",
              "      <td>0.0</td>\n",
              "      <td>inch fhd p dvr camera recorderwhatsappwechat a...</td>\n",
              "      <td>Negative</td>\n",
              "    </tr>\n",
              "    <tr>\n",
              "      <th>9543</th>\n",
              "      <td>0.0</td>\n",
              "      <td>inch fhd p dvr camera record whatsappwechat au...</td>\n",
              "      <td>Negative</td>\n",
              "    </tr>\n",
              "    <tr>\n",
              "      <th>9544</th>\n",
              "      <td>0.0</td>\n",
              "      <td>autobrighttech autobrighttech caraccessori aut...</td>\n",
              "      <td>Negative</td>\n",
              "    </tr>\n",
              "    <tr>\n",
              "      <th>9545</th>\n",
              "      <td>0.0</td>\n",
              "      <td>autobrighttech autobrighttech caraccessori aut...</td>\n",
              "      <td>Negative</td>\n",
              "    </tr>\n",
              "  </tbody>\n",
              "</table>\n",
              "<p>9546 rows × 3 columns</p>\n",
              "</div>"
            ],
            "text/plain": [
              "      Polarity                                       UserComments  Category\n",
              "0          0.0            bought projector clueless connect iphon  Negative\n",
              "1          0.0  promis multi card reader leav review im still ...  Negative\n",
              "2          0.0  hello apeman team respond email fix issu multi...  Negative\n",
              "3          0.8  great pictur excit look k camerajust need pric...  Positive\n",
              "4          0.0  bought apeman dashcam find rear camer cabl met...  Negative\n",
              "...        ...                                                ...       ...\n",
              "9541       0.3          see fun begin xboxnintendoswitch playstat  Positive\n",
              "9542       0.0  inch fhd p dvr camera recorderwhatsappwechat a...  Negative\n",
              "9543       0.0  inch fhd p dvr camera record whatsappwechat au...  Negative\n",
              "9544       0.0  autobrighttech autobrighttech caraccessori aut...  Negative\n",
              "9545       0.0  autobrighttech autobrighttech caraccessori aut...  Negative\n",
              "\n",
              "[9546 rows x 3 columns]"
            ]
          },
          "metadata": {
            "tags": []
          },
          "execution_count": 154
        }
      ]
    },
    {
      "cell_type": "markdown",
      "metadata": {
        "id": "6iLjZjvF9c_4"
      },
      "source": [
        "Identify & Treat NaN"
      ]
    },
    {
      "cell_type": "code",
      "metadata": {
        "id": "u_y3V3Xw9a8h",
        "outputId": "69a13ff1-a551-428c-e729-402f6a652c32",
        "colab": {
          "base_uri": "https://localhost:8080/",
          "height": 419
        }
      },
      "source": [
        "pandas.isnull(dfp)"
      ],
      "execution_count": null,
      "outputs": [
        {
          "output_type": "execute_result",
          "data": {
            "text/html": [
              "<div>\n",
              "<style scoped>\n",
              "    .dataframe tbody tr th:only-of-type {\n",
              "        vertical-align: middle;\n",
              "    }\n",
              "\n",
              "    .dataframe tbody tr th {\n",
              "        vertical-align: top;\n",
              "    }\n",
              "\n",
              "    .dataframe thead th {\n",
              "        text-align: right;\n",
              "    }\n",
              "</style>\n",
              "<table border=\"1\" class=\"dataframe\">\n",
              "  <thead>\n",
              "    <tr style=\"text-align: right;\">\n",
              "      <th></th>\n",
              "      <th>Polarity</th>\n",
              "      <th>UserComments</th>\n",
              "      <th>Category</th>\n",
              "    </tr>\n",
              "  </thead>\n",
              "  <tbody>\n",
              "    <tr>\n",
              "      <th>0</th>\n",
              "      <td>False</td>\n",
              "      <td>False</td>\n",
              "      <td>False</td>\n",
              "    </tr>\n",
              "    <tr>\n",
              "      <th>1</th>\n",
              "      <td>False</td>\n",
              "      <td>False</td>\n",
              "      <td>False</td>\n",
              "    </tr>\n",
              "    <tr>\n",
              "      <th>2</th>\n",
              "      <td>False</td>\n",
              "      <td>False</td>\n",
              "      <td>False</td>\n",
              "    </tr>\n",
              "    <tr>\n",
              "      <th>3</th>\n",
              "      <td>False</td>\n",
              "      <td>False</td>\n",
              "      <td>False</td>\n",
              "    </tr>\n",
              "    <tr>\n",
              "      <th>4</th>\n",
              "      <td>False</td>\n",
              "      <td>False</td>\n",
              "      <td>False</td>\n",
              "    </tr>\n",
              "    <tr>\n",
              "      <th>...</th>\n",
              "      <td>...</td>\n",
              "      <td>...</td>\n",
              "      <td>...</td>\n",
              "    </tr>\n",
              "    <tr>\n",
              "      <th>9541</th>\n",
              "      <td>False</td>\n",
              "      <td>False</td>\n",
              "      <td>False</td>\n",
              "    </tr>\n",
              "    <tr>\n",
              "      <th>9542</th>\n",
              "      <td>False</td>\n",
              "      <td>False</td>\n",
              "      <td>False</td>\n",
              "    </tr>\n",
              "    <tr>\n",
              "      <th>9543</th>\n",
              "      <td>False</td>\n",
              "      <td>False</td>\n",
              "      <td>False</td>\n",
              "    </tr>\n",
              "    <tr>\n",
              "      <th>9544</th>\n",
              "      <td>False</td>\n",
              "      <td>False</td>\n",
              "      <td>False</td>\n",
              "    </tr>\n",
              "    <tr>\n",
              "      <th>9545</th>\n",
              "      <td>False</td>\n",
              "      <td>False</td>\n",
              "      <td>False</td>\n",
              "    </tr>\n",
              "  </tbody>\n",
              "</table>\n",
              "<p>9546 rows × 3 columns</p>\n",
              "</div>"
            ],
            "text/plain": [
              "      Polarity  UserComments  Category\n",
              "0        False         False     False\n",
              "1        False         False     False\n",
              "2        False         False     False\n",
              "3        False         False     False\n",
              "4        False         False     False\n",
              "...        ...           ...       ...\n",
              "9541     False         False     False\n",
              "9542     False         False     False\n",
              "9543     False         False     False\n",
              "9544     False         False     False\n",
              "9545     False         False     False\n",
              "\n",
              "[9546 rows x 3 columns]"
            ]
          },
          "metadata": {
            "tags": []
          },
          "execution_count": 155
        }
      ]
    },
    {
      "cell_type": "code",
      "metadata": {
        "id": "M0b0NRjL9a_m",
        "outputId": "53fd33ad-0ef7-4966-fe0a-ed9371d8f01e",
        "colab": {
          "base_uri": "https://localhost:8080/",
          "height": 142
        }
      },
      "source": [
        "# importing pandas package\n",
        "import pandas as pd\n",
        "\n",
        "# making data frame from excel file\n",
        "#dataN = pd.read_excel(\"export_User_Comments_Polarity_Category.xlsx\")\n",
        "\n",
        "# creating bool series True for NaN values\n",
        "#dataN_series = pd.isnull(dataN[\"Polarity_type\"])\n",
        "dataN_series = pd.isnull(dfp[\"Category\"])\n",
        "\n",
        "# filtering data\n",
        "# displayind data only with team = NaN\n",
        "#dataN[dataN_series]\n",
        "dfp[dataN_series]"
      ],
      "execution_count": null,
      "outputs": [
        {
          "output_type": "execute_result",
          "data": {
            "text/html": [
              "<div>\n",
              "<style scoped>\n",
              "    .dataframe tbody tr th:only-of-type {\n",
              "        vertical-align: middle;\n",
              "    }\n",
              "\n",
              "    .dataframe tbody tr th {\n",
              "        vertical-align: top;\n",
              "    }\n",
              "\n",
              "    .dataframe thead th {\n",
              "        text-align: right;\n",
              "    }\n",
              "</style>\n",
              "<table border=\"1\" class=\"dataframe\">\n",
              "  <thead>\n",
              "    <tr style=\"text-align: right;\">\n",
              "      <th></th>\n",
              "      <th>Polarity</th>\n",
              "      <th>UserComments</th>\n",
              "      <th>Category</th>\n",
              "    </tr>\n",
              "  </thead>\n",
              "  <tbody>\n",
              "    <tr>\n",
              "      <th>832</th>\n",
              "      <td>-1.0</td>\n",
              "      <td>evil lurk night alexhest evil almost readi ssa...</td>\n",
              "      <td>NaN</td>\n",
              "    </tr>\n",
              "    <tr>\n",
              "      <th>5747</th>\n",
              "      <td>-1.0</td>\n",
              "      <td>worst case autonom futur requir pedestrian bic...</td>\n",
              "      <td>NaN</td>\n",
              "    </tr>\n",
              "    <tr>\n",
              "      <th>6747</th>\n",
              "      <td>-1.0</td>\n",
              "      <td>bleak futur singleoccup autonom car could incr...</td>\n",
              "      <td>NaN</td>\n",
              "    </tr>\n",
              "  </tbody>\n",
              "</table>\n",
              "</div>"
            ],
            "text/plain": [
              "      Polarity                                       UserComments Category\n",
              "832       -1.0  evil lurk night alexhest evil almost readi ssa...      NaN\n",
              "5747      -1.0  worst case autonom futur requir pedestrian bic...      NaN\n",
              "6747      -1.0  bleak futur singleoccup autonom car could incr...      NaN"
            ]
          },
          "metadata": {
            "tags": []
          },
          "execution_count": 157
        }
      ]
    },
    {
      "cell_type": "code",
      "metadata": {
        "id": "fjiBX8Vi9bCX",
        "outputId": "c091df3b-0096-4bd4-b2f2-8b3418dfe7ae",
        "colab": {
          "base_uri": "https://localhost:8080/",
          "height": 419
        }
      },
      "source": [
        "# importing pandas module \n",
        "import pandas as pd \n",
        "\n",
        "# making data frame from csv file \n",
        "#dataN2 = pd.read_excel(\"export_User_Comments_Polarity_Category.xlsx\")\n",
        "\n",
        "# replacing na values in college with No college \n",
        "#dataN2[\"Polarity_type\"].fillna(\"Negative\", inplace = True) \n",
        "dfp[\"Category\"].fillna(\"Negative\", inplace = True)\n",
        "\n",
        "dfp"
      ],
      "execution_count": null,
      "outputs": [
        {
          "output_type": "execute_result",
          "data": {
            "text/html": [
              "<div>\n",
              "<style scoped>\n",
              "    .dataframe tbody tr th:only-of-type {\n",
              "        vertical-align: middle;\n",
              "    }\n",
              "\n",
              "    .dataframe tbody tr th {\n",
              "        vertical-align: top;\n",
              "    }\n",
              "\n",
              "    .dataframe thead th {\n",
              "        text-align: right;\n",
              "    }\n",
              "</style>\n",
              "<table border=\"1\" class=\"dataframe\">\n",
              "  <thead>\n",
              "    <tr style=\"text-align: right;\">\n",
              "      <th></th>\n",
              "      <th>Polarity</th>\n",
              "      <th>UserComments</th>\n",
              "      <th>Category</th>\n",
              "    </tr>\n",
              "  </thead>\n",
              "  <tbody>\n",
              "    <tr>\n",
              "      <th>0</th>\n",
              "      <td>0.0</td>\n",
              "      <td>bought projector clueless connect iphon</td>\n",
              "      <td>Negative</td>\n",
              "    </tr>\n",
              "    <tr>\n",
              "      <th>1</th>\n",
              "      <td>0.0</td>\n",
              "      <td>promis multi card reader leav review im still ...</td>\n",
              "      <td>Negative</td>\n",
              "    </tr>\n",
              "    <tr>\n",
              "      <th>2</th>\n",
              "      <td>0.0</td>\n",
              "      <td>hello apeman team respond email fix issu multi...</td>\n",
              "      <td>Negative</td>\n",
              "    </tr>\n",
              "    <tr>\n",
              "      <th>3</th>\n",
              "      <td>0.8</td>\n",
              "      <td>great pictur excit look k camerajust need pric...</td>\n",
              "      <td>Positive</td>\n",
              "    </tr>\n",
              "    <tr>\n",
              "      <th>4</th>\n",
              "      <td>0.0</td>\n",
              "      <td>bought apeman dashcam find rear camer cabl met...</td>\n",
              "      <td>Negative</td>\n",
              "    </tr>\n",
              "    <tr>\n",
              "      <th>...</th>\n",
              "      <td>...</td>\n",
              "      <td>...</td>\n",
              "      <td>...</td>\n",
              "    </tr>\n",
              "    <tr>\n",
              "      <th>9541</th>\n",
              "      <td>0.3</td>\n",
              "      <td>see fun begin xboxnintendoswitch playstat</td>\n",
              "      <td>Positive</td>\n",
              "    </tr>\n",
              "    <tr>\n",
              "      <th>9542</th>\n",
              "      <td>0.0</td>\n",
              "      <td>inch fhd p dvr camera recorderwhatsappwechat a...</td>\n",
              "      <td>Negative</td>\n",
              "    </tr>\n",
              "    <tr>\n",
              "      <th>9543</th>\n",
              "      <td>0.0</td>\n",
              "      <td>inch fhd p dvr camera record whatsappwechat au...</td>\n",
              "      <td>Negative</td>\n",
              "    </tr>\n",
              "    <tr>\n",
              "      <th>9544</th>\n",
              "      <td>0.0</td>\n",
              "      <td>autobrighttech autobrighttech caraccessori aut...</td>\n",
              "      <td>Negative</td>\n",
              "    </tr>\n",
              "    <tr>\n",
              "      <th>9545</th>\n",
              "      <td>0.0</td>\n",
              "      <td>autobrighttech autobrighttech caraccessori aut...</td>\n",
              "      <td>Negative</td>\n",
              "    </tr>\n",
              "  </tbody>\n",
              "</table>\n",
              "<p>9546 rows × 3 columns</p>\n",
              "</div>"
            ],
            "text/plain": [
              "      Polarity                                       UserComments  Category\n",
              "0          0.0            bought projector clueless connect iphon  Negative\n",
              "1          0.0  promis multi card reader leav review im still ...  Negative\n",
              "2          0.0  hello apeman team respond email fix issu multi...  Negative\n",
              "3          0.8  great pictur excit look k camerajust need pric...  Positive\n",
              "4          0.0  bought apeman dashcam find rear camer cabl met...  Negative\n",
              "...        ...                                                ...       ...\n",
              "9541       0.3          see fun begin xboxnintendoswitch playstat  Positive\n",
              "9542       0.0  inch fhd p dvr camera recorderwhatsappwechat a...  Negative\n",
              "9543       0.0  inch fhd p dvr camera record whatsappwechat au...  Negative\n",
              "9544       0.0  autobrighttech autobrighttech caraccessori aut...  Negative\n",
              "9545       0.0  autobrighttech autobrighttech caraccessori aut...  Negative\n",
              "\n",
              "[9546 rows x 3 columns]"
            ]
          },
          "metadata": {
            "tags": []
          },
          "execution_count": 158
        }
      ]
    },
    {
      "cell_type": "code",
      "metadata": {
        "id": "QazaO9B19bFn",
        "outputId": "f0d9ec03-0615-4818-e73e-df82b2d5b430",
        "colab": {
          "base_uri": "https://localhost:8080/",
          "height": 187
        }
      },
      "source": [
        "dfp.info()"
      ],
      "execution_count": null,
      "outputs": [
        {
          "output_type": "stream",
          "text": [
            "<class 'pandas.core.frame.DataFrame'>\n",
            "RangeIndex: 9546 entries, 0 to 9545\n",
            "Data columns (total 3 columns):\n",
            " #   Column        Non-Null Count  Dtype   \n",
            "---  ------        --------------  -----   \n",
            " 0   Polarity      9546 non-null   float64 \n",
            " 1   UserComments  9546 non-null   object  \n",
            " 2   Category      9546 non-null   category\n",
            "dtypes: category(1), float64(1), object(1)\n",
            "memory usage: 158.7+ KB\n"
          ],
          "name": "stdout"
        }
      ]
    },
    {
      "cell_type": "code",
      "metadata": {
        "id": "L1hEaXxT9rNl"
      },
      "source": [
        "#Export to Excel\n",
        "from pandas import ExcelWriter\n",
        "writer = ExcelWriter('export_User_Comments_Polarity_Category_TextBlob.xlsx')\n",
        "dfp.to_excel(writer,'Sheet1',index=False)\n",
        "writer.save()"
      ],
      "execution_count": null,
      "outputs": []
    },
    {
      "cell_type": "markdown",
      "metadata": {
        "id": "vEZF3K4YDXFk"
      },
      "source": [
        "# Prediction Models"
      ]
    },
    {
      "cell_type": "code",
      "metadata": {
        "id": "t9d_fcHTDQxH",
        "outputId": "22d74345-8a1b-4562-87c3-e62c115d6166",
        "colab": {
          "base_uri": "https://localhost:8080/",
          "height": 204
        }
      },
      "source": [
        "df_p = pd.read_excel('/content/export_User_Comments_Polarity_Category_TextBlob.xlsx')\n",
        "df_p.info()\n",
        "df_p.shape"
      ],
      "execution_count": null,
      "outputs": [
        {
          "output_type": "stream",
          "text": [
            "<class 'pandas.core.frame.DataFrame'>\n",
            "RangeIndex: 9540 entries, 0 to 9539\n",
            "Data columns (total 3 columns):\n",
            " #   Column        Non-Null Count  Dtype  \n",
            "---  ------        --------------  -----  \n",
            " 0   Polarity      9540 non-null   float64\n",
            " 1   UserComments  9540 non-null   object \n",
            " 2   Category      9540 non-null   object \n",
            "dtypes: float64(1), object(2)\n",
            "memory usage: 223.7+ KB\n"
          ],
          "name": "stdout"
        },
        {
          "output_type": "execute_result",
          "data": {
            "text/plain": [
              "(9540, 3)"
            ]
          },
          "metadata": {
            "tags": []
          },
          "execution_count": 188
        }
      ]
    },
    {
      "cell_type": "code",
      "metadata": {
        "id": "2IrWWbQ4D6ph",
        "outputId": "2340d25e-113f-4c82-e867-b6d04e111ef0",
        "colab": {
          "base_uri": "https://localhost:8080/",
          "height": 623
        }
      },
      "source": [
        "plt.figure(figsize=(10,10))\n",
        "sns.set_style(\"whitegrid\")\n",
        "ax = sns.countplot(x=\"Category\", data=df_p, \n",
        "                  palette=dict(Positive=\"Green\", Negative=\"Red\"))"
      ],
      "execution_count": null,
      "outputs": [
        {
          "output_type": "execute_result",
          "data": {
            "text/plain": [
              "<Figure size 720x720 with 0 Axes>"
            ]
          },
          "metadata": {
            "tags": []
          },
          "execution_count": 190
        },
        {
          "output_type": "display_data",
          "data": {
            "image/png": "[encoded data removed]",
            "text/plain": [
              "<Figure size 720x720 with 1 Axes>"
            ]
          },
          "metadata": {
            "tags": []
          }
        }
      ]
    },
    {
      "cell_type": "code",
      "metadata": {
        "id": "t_jlKrjMEB0-",
        "outputId": "7a6ff33c-6f29-40c2-8daa-560645f9ec50",
        "colab": {
          "base_uri": "https://localhost:8080/",
          "height": 265
        }
      },
      "source": [
        "df_p.Category.value_counts().plot(kind='pie', autopct='%1.0f%%', colors=[\"red\",\"green\"])"
      ],
      "execution_count": null,
      "outputs": [
        {
          "output_type": "execute_result",
          "data": {
            "text/plain": [
              "<matplotlib.axes._subplots.AxesSubplot at 0x7f9e1fd22198>"
            ]
          },
          "metadata": {
            "tags": []
          },
          "execution_count": 191
        },
        {
          "output_type": "display_data",
          "data": {
            "image/png": "[encoded data removed]",
            "text/plain": [
              "<Figure size 432x288 with 1 Axes>"
            ]
          },
          "metadata": {
            "tags": []
          }
        }
      ]
    },
    {
      "cell_type": "markdown",
      "metadata": {
        "id": "pmH9kfJ7B70J"
      },
      "source": [
        "# Label Encoding"
      ]
    },
    {
      "cell_type": "code",
      "metadata": {
        "id": "V9KjFmie9rTe"
      },
      "source": [
        "#convert Polaty_type Negative, Positive to 0, 1\n",
        "from sklearn import preprocessing\n",
        "le = preprocessing.LabelEncoder()"
      ],
      "execution_count": null,
      "outputs": []
    },
    {
      "cell_type": "code",
      "metadata": {
        "id": "MuDTzVRu9rYN",
        "outputId": "0a56b5e5-1ae9-4e6a-8a61-bb4c53432af1",
        "colab": {
          "base_uri": "https://localhost:8080/",
          "height": 34
        }
      },
      "source": [
        "le.fit(df_p['Category'])"
      ],
      "execution_count": null,
      "outputs": [
        {
          "output_type": "execute_result",
          "data": {
            "text/plain": [
              "LabelEncoder()"
            ]
          },
          "metadata": {
            "tags": []
          },
          "execution_count": 193
        }
      ]
    },
    {
      "cell_type": "code",
      "metadata": {
        "id": "XJyuezy99rWV",
        "outputId": "a9279017-1328-430d-dd0d-6762f75b977c",
        "colab": {
          "base_uri": "https://localhost:8080/",
          "height": 34
        }
      },
      "source": [
        "list(le.classes_)"
      ],
      "execution_count": null,
      "outputs": [
        {
          "output_type": "execute_result",
          "data": {
            "text/plain": [
              "['Negative', 'Positive']"
            ]
          },
          "metadata": {
            "tags": []
          },
          "execution_count": 194
        }
      ]
    },
    {
      "cell_type": "code",
      "metadata": {
        "id": "fhQ4zO_2CodP"
      },
      "source": [
        "dfn = le.transform(df_p['Category'])"
      ],
      "execution_count": null,
      "outputs": []
    },
    {
      "cell_type": "code",
      "metadata": {
        "id": "Gv_02dqOCE69",
        "outputId": "065bf963-5266-426c-fa8d-8d68300fa976",
        "colab": {
          "base_uri": "https://localhost:8080/",
          "height": 34
        }
      },
      "source": [
        "le.inverse_transform([0,1])"
      ],
      "execution_count": null,
      "outputs": [
        {
          "output_type": "execute_result",
          "data": {
            "text/plain": [
              "array(['Negative', 'Positive'], dtype=object)"
            ]
          },
          "metadata": {
            "tags": []
          },
          "execution_count": 196
        }
      ]
    },
    {
      "cell_type": "code",
      "metadata": {
        "id": "ZETWyBiyCE-C",
        "outputId": "640a2f40-5869-42f6-ee99-e97cd73e051a",
        "colab": {
          "base_uri": "https://localhost:8080/",
          "height": 204
        }
      },
      "source": [
        "df_p['Category'] = dfn\n",
        "df_p.info()\n",
        "df_p.columns"
      ],
      "execution_count": null,
      "outputs": [
        {
          "output_type": "stream",
          "text": [
            "<class 'pandas.core.frame.DataFrame'>\n",
            "RangeIndex: 9540 entries, 0 to 9539\n",
            "Data columns (total 3 columns):\n",
            " #   Column        Non-Null Count  Dtype  \n",
            "---  ------        --------------  -----  \n",
            " 0   Polarity      9540 non-null   float64\n",
            " 1   UserComments  9540 non-null   object \n",
            " 2   Category      9540 non-null   int64  \n",
            "dtypes: float64(1), int64(1), object(1)\n",
            "memory usage: 223.7+ KB\n"
          ],
          "name": "stdout"
        },
        {
          "output_type": "execute_result",
          "data": {
            "text/plain": [
              "Index(['Polarity', 'UserComments', 'Category'], dtype='object')"
            ]
          },
          "metadata": {
            "tags": []
          },
          "execution_count": 197
        }
      ]
    },
    {
      "cell_type": "code",
      "metadata": {
        "id": "U0MlJL4qCFCe",
        "outputId": "bf7ebcf1-573f-4e54-e518-9e297e240932",
        "colab": {
          "base_uri": "https://localhost:8080/",
          "height": 669
        }
      },
      "source": [
        "df_p[3500:3520]"
      ],
      "execution_count": null,
      "outputs": [
        {
          "output_type": "execute_result",
          "data": {
            "text/html": [
              "<div>\n",
              "<style scoped>\n",
              "    .dataframe tbody tr th:only-of-type {\n",
              "        vertical-align: middle;\n",
              "    }\n",
              "\n",
              "    .dataframe tbody tr th {\n",
              "        vertical-align: top;\n",
              "    }\n",
              "\n",
              "    .dataframe thead th {\n",
              "        text-align: right;\n",
              "    }\n",
              "</style>\n",
              "<table border=\"1\" class=\"dataframe\">\n",
              "  <thead>\n",
              "    <tr style=\"text-align: right;\">\n",
              "      <th></th>\n",
              "      <th>Polarity</th>\n",
              "      <th>UserComments</th>\n",
              "      <th>Category</th>\n",
              "    </tr>\n",
              "  </thead>\n",
              "  <tbody>\n",
              "    <tr>\n",
              "      <th>3500</th>\n",
              "      <td>0.000000</td>\n",
              "      <td>fleec dog cloth pocket expawlor via amazingpro...</td>\n",
              "      <td>0</td>\n",
              "    </tr>\n",
              "    <tr>\n",
              "      <th>3501</th>\n",
              "      <td>0.000000</td>\n",
              "      <td>dog jacket winter windproof water migohi via a...</td>\n",
              "      <td>0</td>\n",
              "    </tr>\n",
              "    <tr>\n",
              "      <th>3502</th>\n",
              "      <td>-0.600000</td>\n",
              "      <td>dog jacket cold weather dog cloth pe phyxin vi...</td>\n",
              "      <td>0</td>\n",
              "    </tr>\n",
              "    <tr>\n",
              "      <th>3503</th>\n",
              "      <td>0.000000</td>\n",
              "      <td>reflect waterproof windproof dog co migohi via...</td>\n",
              "      <td>0</td>\n",
              "    </tr>\n",
              "    <tr>\n",
              "      <th>3504</th>\n",
              "      <td>0.000000</td>\n",
              "      <td>make easi technologytechnolog tech innov engin...</td>\n",
              "      <td>0</td>\n",
              "    </tr>\n",
              "    <tr>\n",
              "      <th>3505</th>\n",
              "      <td>-0.004545</td>\n",
              "      <td>new video ever use weird set wash machin watch...</td>\n",
              "      <td>0</td>\n",
              "    </tr>\n",
              "    <tr>\n",
              "      <th>3506</th>\n",
              "      <td>0.000000</td>\n",
              "      <td>check tech gadget watch gadget mobil arvshop</td>\n",
              "      <td>0</td>\n",
              "    </tr>\n",
              "    <tr>\n",
              "      <th>3507</th>\n",
              "      <td>-0.121212</td>\n",
              "      <td>mhet live esp mini kit modul wifibluetooth int...</td>\n",
              "      <td>0</td>\n",
              "    </tr>\n",
              "    <tr>\n",
              "      <th>3508</th>\n",
              "      <td>0.214286</td>\n",
              "      <td>amazon alexa smart ring wearabl gadget tool co...</td>\n",
              "      <td>1</td>\n",
              "    </tr>\n",
              "    <tr>\n",
              "      <th>3509</th>\n",
              "      <td>0.000000</td>\n",
              "      <td>wireless wifi repeat mbp nbg network wifi exte...</td>\n",
              "      <td>0</td>\n",
              "    </tr>\n",
              "    <tr>\n",
              "      <th>3510</th>\n",
              "      <td>0.000000</td>\n",
              "      <td>share find terrificdevic gadget gadget geek techi</td>\n",
              "      <td>0</td>\n",
              "    </tr>\n",
              "    <tr>\n",
              "      <th>3511</th>\n",
              "      <td>0.000000</td>\n",
              "      <td>aluminum tablet desk mount stand suptek via am...</td>\n",
              "      <td>0</td>\n",
              "    </tr>\n",
              "    <tr>\n",
              "      <th>3512</th>\n",
              "      <td>0.000000</td>\n",
              "      <td>heavi duti aluminum gooseneck ipad abovetek vi...</td>\n",
              "      <td>0</td>\n",
              "    </tr>\n",
              "    <tr>\n",
              "      <th>3513</th>\n",
              "      <td>0.207143</td>\n",
              "      <td>electron technolog tech gadget smart voic lang...</td>\n",
              "      <td>1</td>\n",
              "    </tr>\n",
              "    <tr>\n",
              "      <th>3514</th>\n",
              "      <td>-0.033333</td>\n",
              "      <td>cell throne toilet paper phone elbeehom via am...</td>\n",
              "      <td>0</td>\n",
              "    </tr>\n",
              "    <tr>\n",
              "      <th>3515</th>\n",
              "      <td>0.000000</td>\n",
              "      <td>cell phone stand mobil phone hd projectio path...</td>\n",
              "      <td>0</td>\n",
              "    </tr>\n",
              "    <tr>\n",
              "      <th>3516</th>\n",
              "      <td>0.110714</td>\n",
              "      <td>women summer backless bodysuit tight yoga gym ...</td>\n",
              "      <td>1</td>\n",
              "    </tr>\n",
              "    <tr>\n",
              "      <th>3517</th>\n",
              "      <td>0.000000</td>\n",
              "      <td>flexibl gooseneck cell phone stand futesj via ...</td>\n",
              "      <td>0</td>\n",
              "    </tr>\n",
              "    <tr>\n",
              "      <th>3518</th>\n",
              "      <td>0.000000</td>\n",
              "      <td>samsung gb gb gb evo plu microsdxc u memori ca...</td>\n",
              "      <td>0</td>\n",
              "    </tr>\n",
              "    <tr>\n",
              "      <th>3519</th>\n",
              "      <td>0.000000</td>\n",
              "      <td>gooseneck bed phone holder mount lamical lamic...</td>\n",
              "      <td>0</td>\n",
              "    </tr>\n",
              "  </tbody>\n",
              "</table>\n",
              "</div>"
            ],
            "text/plain": [
              "      Polarity                                       UserComments  Category\n",
              "3500  0.000000  fleec dog cloth pocket expawlor via amazingpro...         0\n",
              "3501  0.000000  dog jacket winter windproof water migohi via a...         0\n",
              "3502 -0.600000  dog jacket cold weather dog cloth pe phyxin vi...         0\n",
              "3503  0.000000  reflect waterproof windproof dog co migohi via...         0\n",
              "3504  0.000000  make easi technologytechnolog tech innov engin...         0\n",
              "3505 -0.004545  new video ever use weird set wash machin watch...         0\n",
              "3506  0.000000       check tech gadget watch gadget mobil arvshop         0\n",
              "3507 -0.121212  mhet live esp mini kit modul wifibluetooth int...         0\n",
              "3508  0.214286  amazon alexa smart ring wearabl gadget tool co...         1\n",
              "3509  0.000000  wireless wifi repeat mbp nbg network wifi exte...         0\n",
              "3510  0.000000  share find terrificdevic gadget gadget geek techi         0\n",
              "3511  0.000000  aluminum tablet desk mount stand suptek via am...         0\n",
              "3512  0.000000  heavi duti aluminum gooseneck ipad abovetek vi...         0\n",
              "3513  0.207143  electron technolog tech gadget smart voic lang...         1\n",
              "3514 -0.033333  cell throne toilet paper phone elbeehom via am...         0\n",
              "3515  0.000000  cell phone stand mobil phone hd projectio path...         0\n",
              "3516  0.110714  women summer backless bodysuit tight yoga gym ...         1\n",
              "3517  0.000000  flexibl gooseneck cell phone stand futesj via ...         0\n",
              "3518  0.000000  samsung gb gb gb evo plu microsdxc u memori ca...         0\n",
              "3519  0.000000  gooseneck bed phone holder mount lamical lamic...         0"
            ]
          },
          "metadata": {
            "tags": []
          },
          "execution_count": 198
        }
      ]
    },
    {
      "cell_type": "code",
      "metadata": {
        "id": "VM0QE7e9D-Dc"
      },
      "source": [
        "train,test = train_test_split(df_p,test_size=0.25,random_state=42)"
      ],
      "execution_count": null,
      "outputs": []
    },
    {
      "cell_type": "code",
      "metadata": {
        "id": "hj3wU4_9CFAR"
      },
      "source": [
        "train_clean_comment=[]\n",
        "for comment in train['UserComments']:\n",
        "    train_clean_comment.append(comment)\n",
        "test_clean_comment=[]\n",
        "for comment in test['UserComments']:\n",
        "    test_clean_comment.append(comment)"
      ],
      "execution_count": null,
      "outputs": []
    },
    {
      "cell_type": "code",
      "metadata": {
        "id": "wufag9hXG2RV"
      },
      "source": [
        "from sklearn.feature_extraction.text import CountVectorizer\n",
        "v = CountVectorizer(analyzer = \"word\")\n",
        "train_features= v.fit_transform(train_clean_comment)\n",
        "test_features=v.transform(test_clean_comment)"
      ],
      "execution_count": null,
      "outputs": []
    },
    {
      "cell_type": "code",
      "metadata": {
        "id": "pJfS27hrG2Y9"
      },
      "source": [
        "from sklearn.linear_model import LogisticRegression\n",
        "from sklearn.neighbors import KNeighborsClassifier\n",
        "from sklearn.svm import SVC, LinearSVC, NuSVC\n",
        "from sklearn.tree import DecisionTreeClassifier\n",
        "from sklearn.ensemble import RandomForestClassifier, AdaBoostClassifier, GradientBoostingClassifier\n",
        "from sklearn.naive_bayes import GaussianNB\n",
        "from sklearn.discriminant_analysis import LinearDiscriminantAnalysis\n",
        "from sklearn.discriminant_analysis import QuadraticDiscriminantAnalysis\n",
        "from sklearn.metrics import accuracy_score"
      ],
      "execution_count": null,
      "outputs": []
    },
    {
      "cell_type": "code",
      "metadata": {
        "id": "h5F0XAHYG6J0"
      },
      "source": [
        "#Classifiers\n",
        "Classifiers = [\n",
        "    SVC(kernel=\"rbf\", C=0.03, gamma = 'scale'),\n",
        "    DecisionTreeClassifier(),\n",
        "    RandomForestClassifier(n_estimators=100),\n",
        "    GradientBoostingClassifier(),GaussianNB()]"
      ],
      "execution_count": null,
      "outputs": []
    },
    {
      "cell_type": "code",
      "metadata": {
        "id": "rHGAXk7FG6MH",
        "outputId": "dac06c0a-560b-496b-e416-ced6baf976d0",
        "colab": {
          "base_uri": "https://localhost:8080/",
          "height": 1000
        }
      },
      "source": [
        "from sklearn.metrics import classification_report, confusion_matrix, accuracy_score\n",
        "\n",
        "dense_features=train_features.toarray()\n",
        "dense_test= test_features.toarray()\n",
        "Accuracy=[]\n",
        "Model=[]\n",
        "for clf in Classifiers:\n",
        "    try:\n",
        "        fit = clf.fit(train_features,train['Category'])\n",
        "        pred = fit.predict(test_features)\n",
        "    except Exception:\n",
        "        fit = clf.fit(dense_features,train['Category'])\n",
        "        pred = fit.predict(dense_test)\n",
        "    accuracy = accuracy_score(pred,test['Category'])\n",
        "    Accuracy.append(accuracy)\n",
        "    Model.append(clf.__class__.__name__)\n",
        "    print('Accuracy of '+clf.__class__.__name__+' is '+str(accuracy)) \n",
        "    print(classification_report(pred,test['Category']))\n",
        "    \n",
        "    #Confusion Matrix\n",
        "    cm = confusion_matrix(pred,test['Category'])\n",
        "    plt.figure()\n",
        "    plot_confusion_matrix(cm,cmap=plt.cm.Blues)\n",
        "    plt.xticks(range(2), ['Negative','Positive'],color='black')\n",
        "    plt.yticks(range(2), ['Negative','Positive'])\n",
        "    plt.xlabel('Predicted Label')\n",
        "    plt.ylabel('True Label')\n",
        "    plt.show()"
      ],
      "execution_count": null,
      "outputs": [
        {
          "output_type": "stream",
          "text": [
            "Accuracy of SVC is 0.5371069182389937\n",
            "              precision    recall  f1-score   support\n",
            "\n",
            "           0       1.00      0.53      0.70      2374\n",
            "           1       0.01      1.00      0.02        11\n",
            "\n",
            "    accuracy                           0.54      2385\n",
            "   macro avg       0.50      0.77      0.36      2385\n",
            "weighted avg       1.00      0.54      0.69      2385\n",
            "\n"
          ],
          "name": "stdout"
        },
        {
          "output_type": "execute_result",
          "data": {
            "text/plain": [
              "<Figure size 432x288 with 0 Axes>"
            ]
          },
          "metadata": {
            "tags": []
          },
          "execution_count": 205
        },
        {
          "output_type": "execute_result",
          "data": {
            "text/plain": [
              "(<Figure size 432x288 with 1 Axes>,\n",
              " <matplotlib.axes._subplots.AxesSubplot at 0x7f9e1d1f9860>)"
            ]
          },
          "metadata": {
            "tags": []
          },
          "execution_count": 205
        },
        {
          "output_type": "execute_result",
          "data": {
            "text/plain": [
              "([<matplotlib.axis.XTick at 0x7f9e1cc9e908>,\n",
              "  <matplotlib.axis.XTick at 0x7f9e1cc9e8d0>],\n",
              " [Text(0, 0, 'Negative'), Text(0, 0, 'Positive')])"
            ]
          },
          "metadata": {
            "tags": []
          },
          "execution_count": 205
        },
        {
          "output_type": "execute_result",
          "data": {
            "text/plain": [
              "([<matplotlib.axis.YTick at 0x7f9e1cca16d8>,\n",
              "  <matplotlib.axis.YTick at 0x7f9e1cc9efd0>],\n",
              " [Text(0, 0, 'Negative'), Text(0, 0, 'Positive')])"
            ]
          },
          "metadata": {
            "tags": []
          },
          "execution_count": 205
        },
        {
          "output_type": "execute_result",
          "data": {
            "text/plain": [
              "Text(0.5, 0, 'Predicted Label')"
            ]
          },
          "metadata": {
            "tags": []
          },
          "execution_count": 205
        },
        {
          "output_type": "execute_result",
          "data": {
            "text/plain": [
              "Text(0, 0.5, 'True Label')"
            ]
          },
          "metadata": {
            "tags": []
          },
          "execution_count": 205
        },
        {
          "output_type": "display_data",
          "data": {
            "text/plain": [
              "<Figure size 432x288 with 0 Axes>"
            ]
          },
          "metadata": {
            "tags": []
          }
        },
        {
          "output_type": "display_data",
          "data": {
            "image/png": "[encoded data removed]",
            "text/plain": [
              "<Figure size 432x288 with 1 Axes>"
            ]
          },
          "metadata": {
            "tags": []
          }
        },
        {
          "output_type": "stream",
          "text": [
            "Accuracy of DecisionTreeClassifier is 0.8150943396226416\n",
            "              precision    recall  f1-score   support\n",
            "\n",
            "           0       0.85      0.81      0.83      1339\n",
            "           1       0.77      0.82      0.80      1046\n",
            "\n",
            "    accuracy                           0.82      2385\n",
            "   macro avg       0.81      0.82      0.81      2385\n",
            "weighted avg       0.82      0.82      0.82      2385\n",
            "\n"
          ],
          "name": "stdout"
        },
        {
          "output_type": "execute_result",
          "data": {
            "text/plain": [
              "<Figure size 432x288 with 0 Axes>"
            ]
          },
          "metadata": {
            "tags": []
          },
          "execution_count": 205
        },
        {
          "output_type": "execute_result",
          "data": {
            "text/plain": [
              "(<Figure size 432x288 with 1 Axes>,\n",
              " <matplotlib.axes._subplots.AxesSubplot at 0x7f9e1a7e50f0>)"
            ]
          },
          "metadata": {
            "tags": []
          },
          "execution_count": 205
        },
        {
          "output_type": "execute_result",
          "data": {
            "text/plain": [
              "([<matplotlib.axis.XTick at 0x7f9e1d0fb588>,\n",
              "  <matplotlib.axis.XTick at 0x7f9e1d0fb550>],\n",
              " [Text(0, 0, 'Negative'), Text(0, 0, 'Positive')])"
            ]
          },
          "metadata": {
            "tags": []
          },
          "execution_count": 205
        },
        {
          "output_type": "execute_result",
          "data": {
            "text/plain": [
              "([<matplotlib.axis.YTick at 0x7f9e1d0f3358>,\n",
              "  <matplotlib.axis.YTick at 0x7f9e1d0fbc50>],\n",
              " [Text(0, 0, 'Negative'), Text(0, 0, 'Positive')])"
            ]
          },
          "metadata": {
            "tags": []
          },
          "execution_count": 205
        },
        {
          "output_type": "execute_result",
          "data": {
            "text/plain": [
              "Text(0.5, 0, 'Predicted Label')"
            ]
          },
          "metadata": {
            "tags": []
          },
          "execution_count": 205
        },
        {
          "output_type": "execute_result",
          "data": {
            "text/plain": [
              "Text(0, 0.5, 'True Label')"
            ]
          },
          "metadata": {
            "tags": []
          },
          "execution_count": 205
        },
        {
          "output_type": "display_data",
          "data": {
            "text/plain": [
              "<Figure size 432x288 with 0 Axes>"
            ]
          },
          "metadata": {
            "tags": []
          }
        },
        {
          "output_type": "display_data",
          "data": {
            "image/png": "[encoded data removed]",
            "text/plain": [
              "<Figure size 432x288 with 1 Axes>"
            ]
          },
          "metadata": {
            "tags": []
          }
        },
        {
          "output_type": "stream",
          "text": [
            "Accuracy of RandomForestClassifier is 0.8440251572327044\n",
            "              precision    recall  f1-score   support\n",
            "\n",
            "           0       0.93      0.81      0.86      1462\n",
            "           1       0.75      0.90      0.82       923\n",
            "\n",
            "    accuracy                           0.84      2385\n",
            "   macro avg       0.84      0.85      0.84      2385\n",
            "weighted avg       0.86      0.84      0.85      2385\n",
            "\n"
          ],
          "name": "stdout"
        },
        {
          "output_type": "execute_result",
          "data": {
            "text/plain": [
              "<Figure size 432x288 with 0 Axes>"
            ]
          },
          "metadata": {
            "tags": []
          },
          "execution_count": 205
        },
        {
          "output_type": "execute_result",
          "data": {
            "text/plain": [
              "(<Figure size 432x288 with 1 Axes>,\n",
              " <matplotlib.axes._subplots.AxesSubplot at 0x7f9e1cfdd710>)"
            ]
          },
          "metadata": {
            "tags": []
          },
          "execution_count": 205
        },
        {
          "output_type": "execute_result",
          "data": {
            "text/plain": [
              "([<matplotlib.axis.XTick at 0x7f9e1cfb6828>,\n",
              "  <matplotlib.axis.XTick at 0x7f9e1cfb67f0>],\n",
              " [Text(0, 0, 'Negative'), Text(0, 0, 'Positive')])"
            ]
          },
          "metadata": {
            "tags": []
          },
          "execution_count": 205
        },
        {
          "output_type": "execute_result",
          "data": {
            "text/plain": [
              "([<matplotlib.axis.YTick at 0x7f9e1cfc35f8>,\n",
              "  <matplotlib.axis.YTick at 0x7f9e1cfb6ef0>],\n",
              " [Text(0, 0, 'Negative'), Text(0, 0, 'Positive')])"
            ]
          },
          "metadata": {
            "tags": []
          },
          "execution_count": 205
        },
        {
          "output_type": "execute_result",
          "data": {
            "text/plain": [
              "Text(0.5, 0, 'Predicted Label')"
            ]
          },
          "metadata": {
            "tags": []
          },
          "execution_count": 205
        },
        {
          "output_type": "execute_result",
          "data": {
            "text/plain": [
              "Text(0, 0.5, 'True Label')"
            ]
          },
          "metadata": {
            "tags": []
          },
          "execution_count": 205
        },
        {
          "output_type": "display_data",
          "data": {
            "text/plain": [
              "<Figure size 432x288 with 0 Axes>"
            ]
          },
          "metadata": {
            "tags": []
          }
        },
        {
          "output_type": "display_data",
          "data": {
            "image/png": "[encoded data removed]",
            "text/plain": [
              "<Figure size 432x288 with 1 Axes>"
            ]
          },
          "metadata": {
            "tags": []
          }
        },
        {
          "output_type": "stream",
          "text": [
            "Accuracy of GradientBoostingClassifier is 0.8163522012578617\n",
            "              precision    recall  f1-score   support\n",
            "\n",
            "           0       0.99      0.75      0.85      1676\n",
            "           1       0.62      0.98      0.76       709\n",
            "\n",
            "    accuracy                           0.82      2385\n",
            "   macro avg       0.80      0.86      0.81      2385\n",
            "weighted avg       0.88      0.82      0.82      2385\n",
            "\n"
          ],
          "name": "stdout"
        },
        {
          "output_type": "execute_result",
          "data": {
            "text/plain": [
              "<Figure size 432x288 with 0 Axes>"
            ]
          },
          "metadata": {
            "tags": []
          },
          "execution_count": 205
        },
        {
          "output_type": "execute_result",
          "data": {
            "text/plain": [
              "(<Figure size 432x288 with 1 Axes>,\n",
              " <matplotlib.axes._subplots.AxesSubplot at 0x7f9e1cf3b9e8>)"
            ]
          },
          "metadata": {
            "tags": []
          },
          "execution_count": 205
        },
        {
          "output_type": "execute_result",
          "data": {
            "text/plain": [
              "([<matplotlib.axis.XTick at 0x7f9e1cf34a90>,\n",
              "  <matplotlib.axis.XTick at 0x7f9e1cf34a58>],\n",
              " [Text(0, 0, 'Negative'), Text(0, 0, 'Positive')])"
            ]
          },
          "metadata": {
            "tags": []
          },
          "execution_count": 205
        },
        {
          "output_type": "execute_result",
          "data": {
            "text/plain": [
              "([<matplotlib.axis.YTick at 0x7f9e1ce8f860>,\n",
              "  <matplotlib.axis.YTick at 0x7f9e1ce8f198>],\n",
              " [Text(0, 0, 'Negative'), Text(0, 0, 'Positive')])"
            ]
          },
          "metadata": {
            "tags": []
          },
          "execution_count": 205
        },
        {
          "output_type": "execute_result",
          "data": {
            "text/plain": [
              "Text(0.5, 0, 'Predicted Label')"
            ]
          },
          "metadata": {
            "tags": []
          },
          "execution_count": 205
        },
        {
          "output_type": "execute_result",
          "data": {
            "text/plain": [
              "Text(0, 0.5, 'True Label')"
            ]
          },
          "metadata": {
            "tags": []
          },
          "execution_count": 205
        },
        {
          "output_type": "display_data",
          "data": {
            "text/plain": [
              "<Figure size 432x288 with 0 Axes>"
            ]
          },
          "metadata": {
            "tags": []
          }
        },
        {
          "output_type": "display_data",
          "data": {
            "image/png": "[encoded data removed]",
            "text/plain": [
              "<Figure size 432x288 with 1 Axes>"
            ]
          },
          "metadata": {
            "tags": []
          }
        },
        {
          "output_type": "stream",
          "text": [
            "Accuracy of GaussianNB is 0.5844863731656185\n",
            "              precision    recall  f1-score   support\n",
            "\n",
            "           0       0.35      0.73      0.47       611\n",
            "           1       0.85      0.53      0.66      1774\n",
            "\n",
            "    accuracy                           0.58      2385\n",
            "   macro avg       0.60      0.63      0.57      2385\n",
            "weighted avg       0.72      0.58      0.61      2385\n",
            "\n"
          ],
          "name": "stdout"
        },
        {
          "output_type": "execute_result",
          "data": {
            "text/plain": [
              "<Figure size 432x288 with 0 Axes>"
            ]
          },
          "metadata": {
            "tags": []
          },
          "execution_count": 205
        },
        {
          "output_type": "execute_result",
          "data": {
            "text/plain": [
              "(<Figure size 432x288 with 1 Axes>,\n",
              " <matplotlib.axes._subplots.AxesSubplot at 0x7f9e1d0f6940>)"
            ]
          },
          "metadata": {
            "tags": []
          },
          "execution_count": 205
        },
        {
          "output_type": "execute_result",
          "data": {
            "text/plain": [
              "([<matplotlib.axis.XTick at 0x7f9e1cced6d8>,\n",
              "  <matplotlib.axis.XTick at 0x7f9e1cced6a0>],\n",
              " [Text(0, 0, 'Negative'), Text(0, 0, 'Positive')])"
            ]
          },
          "metadata": {
            "tags": []
          },
          "execution_count": 205
        },
        {
          "output_type": "execute_result",
          "data": {
            "text/plain": [
              "([<matplotlib.axis.YTick at 0x7f9e1cd054a8>,\n",
              "  <matplotlib.axis.YTick at 0x7f9e1ccedda0>],\n",
              " [Text(0, 0, 'Negative'), Text(0, 0, 'Positive')])"
            ]
          },
          "metadata": {
            "tags": []
          },
          "execution_count": 205
        },
        {
          "output_type": "execute_result",
          "data": {
            "text/plain": [
              "Text(0.5, 0, 'Predicted Label')"
            ]
          },
          "metadata": {
            "tags": []
          },
          "execution_count": 205
        },
        {
          "output_type": "execute_result",
          "data": {
            "text/plain": [
              "Text(0, 0.5, 'True Label')"
            ]
          },
          "metadata": {
            "tags": []
          },
          "execution_count": 205
        },
        {
          "output_type": "display_data",
          "data": {
            "text/plain": [
              "<Figure size 432x288 with 0 Axes>"
            ]
          },
          "metadata": {
            "tags": []
          }
        },
        {
          "output_type": "display_data",
          "data": {
            "image/png": "[encoded data removed]",
            "text/plain": [
              "<Figure size 432x288 with 1 Axes>"
            ]
          },
          "metadata": {
            "tags": []
          }
        }
      ]
    },
    {
      "cell_type": "markdown",
      "metadata": {
        "id": "bG8lsU7PH1fQ"
      },
      "source": [
        "# Comparison of Model Accuracies"
      ]
    },
    {
      "cell_type": "code",
      "metadata": {
        "id": "GUriJlt5G6PQ",
        "outputId": "e79553db-8e32-4391-e667-2ec679e3c714",
        "colab": {
          "base_uri": "https://localhost:8080/",
          "height": 609
        }
      },
      "source": [
        "index=list(range(len(Classifiers)))\n",
        "plt.bar(index,Accuracy,color='rgbyk')\n",
        "plt.xticks(index,Model,rotation=90)\n",
        "plt.ylabel('Accuracy')\n",
        "plt.xlabel('Model')\n",
        "plt.title('Classifier Accuracies')"
      ],
      "execution_count": null,
      "outputs": [
        {
          "output_type": "execute_result",
          "data": {
            "text/plain": [
              "<BarContainer object of 5 artists>"
            ]
          },
          "metadata": {
            "tags": []
          },
          "execution_count": 206
        },
        {
          "output_type": "execute_result",
          "data": {
            "text/plain": [
              "([<matplotlib.axis.XTick at 0x7f9e1cb2d4a8>,\n",
              "  <matplotlib.axis.XTick at 0x7f9e1cb2d470>,\n",
              "  <matplotlib.axis.XTick at 0x7f9e1cb2d0b8>,\n",
              "  <matplotlib.axis.XTick at 0x7f9e1cb30ef0>,\n",
              "  <matplotlib.axis.XTick at 0x7f9e1cae73c8>],\n",
              " [Text(0, 0, 'SVC'),\n",
              "  Text(0, 0, 'DecisionTreeClassifier'),\n",
              "  Text(0, 0, 'RandomForestClassifier'),\n",
              "  Text(0, 0, 'GradientBoostingClassifier'),\n",
              "  Text(0, 0, 'GaussianNB')])"
            ]
          },
          "metadata": {
            "tags": []
          },
          "execution_count": 206
        },
        {
          "output_type": "execute_result",
          "data": {
            "text/plain": [
              "Text(0, 0.5, 'Accuracy')"
            ]
          },
          "metadata": {
            "tags": []
          },
          "execution_count": 206
        },
        {
          "output_type": "execute_result",
          "data": {
            "text/plain": [
              "Text(0.5, 0, 'Model')"
            ]
          },
          "metadata": {
            "tags": []
          },
          "execution_count": 206
        },
        {
          "output_type": "execute_result",
          "data": {
            "text/plain": [
              "Text(0.5, 1.0, 'Classifier Accuracies')"
            ]
          },
          "metadata": {
            "tags": []
          },
          "execution_count": 206
        },
        {
          "output_type": "display_data",
          "data": {
            "image/png": "[encoded data removed]",
            "text/plain": [
              "<Figure size 432x288 with 1 Axes>"
            ]
          },
          "metadata": {
            "tags": []
          }
        }
      ]
    },
    {
      "cell_type": "code",
      "metadata": {
        "id": "ZEbg15BFG2Wz"
      },
      "source": [
        ""
      ],
      "execution_count": null,
      "outputs": []
    },
    {
      "cell_type": "code",
      "metadata": {
        "id": "t8d6gORbG2UY"
      },
      "source": [
        ""
      ],
      "execution_count": null,
      "outputs": []
    }
  ]
}