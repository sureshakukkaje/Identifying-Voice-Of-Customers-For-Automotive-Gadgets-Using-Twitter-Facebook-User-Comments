{
  "nbformat": 4,
  "nbformat_minor": 0,
  "metadata": {
    "colab": {
      "name": "Capstone_NLP_EDA_Preprocessing",
      "provenance": [],
      "collapsed_sections": [],
      "toc_visible": true
    },
    "kernelspec": {
      "name": "python3",
      "display_name": "Python 3"
    }
  },
  "cells": [
    {
      "cell_type": "markdown",
      "metadata": {
        "id": "o-LXYwkRBiPA",
        "colab_type": "text"
      },
      "source": [
        "# Import Libraries & Dataset"
      ]
    },
    {
      "cell_type": "code",
      "metadata": {
        "id": "8LNO823is_o7",
        "colab_type": "code",
        "colab": {
          "base_uri": "https://localhost:8080/",
          "height": 1000
        },
        "outputId": "6b19e8e2-9178-468f-e69c-cab66b2a6520"
      },
      "source": [
        "import numpy as np\n",
        "import pandas as pd\n",
        "import nltk\n",
        "# nltk.download()\n",
        "dir(nltk)"
      ],
      "execution_count": 64,
      "outputs": [
        {
          "output_type": "execute_result",
          "data": {
            "text/plain": [
              "['AbstractLazySequence',\n",
              " 'AffixTagger',\n",
              " 'AlignedSent',\n",
              " 'Alignment',\n",
              " 'AnnotationTask',\n",
              " 'ApplicationExpression',\n",
              " 'Assignment',\n",
              " 'BigramAssocMeasures',\n",
              " 'BigramCollocationFinder',\n",
              " 'BigramTagger',\n",
              " 'BinaryMaxentFeatureEncoding',\n",
              " 'BlanklineTokenizer',\n",
              " 'BllipParser',\n",
              " 'BottomUpChartParser',\n",
              " 'BottomUpLeftCornerChartParser',\n",
              " 'BottomUpProbabilisticChartParser',\n",
              " 'Boxer',\n",
              " 'BrillTagger',\n",
              " 'BrillTaggerTrainer',\n",
              " 'CFG',\n",
              " 'CRFTagger',\n",
              " 'CfgReadingCommand',\n",
              " 'ChartParser',\n",
              " 'ChunkParserI',\n",
              " 'ChunkScore',\n",
              " 'ClassifierBasedPOSTagger',\n",
              " 'ClassifierBasedTagger',\n",
              " 'ClassifierI',\n",
              " 'ConcordanceIndex',\n",
              " 'ConditionalExponentialClassifier',\n",
              " 'ConditionalFreqDist',\n",
              " 'ConditionalProbDist',\n",
              " 'ConditionalProbDistI',\n",
              " 'ConfusionMatrix',\n",
              " 'ContextIndex',\n",
              " 'ContextTagger',\n",
              " 'ContingencyMeasures',\n",
              " 'CoreNLPDependencyParser',\n",
              " 'CoreNLPParser',\n",
              " 'Counter',\n",
              " 'CrossValidationProbDist',\n",
              " 'DRS',\n",
              " 'DecisionTreeClassifier',\n",
              " 'DefaultTagger',\n",
              " 'DependencyEvaluator',\n",
              " 'DependencyGrammar',\n",
              " 'DependencyGraph',\n",
              " 'DependencyProduction',\n",
              " 'DictionaryConditionalProbDist',\n",
              " 'DictionaryProbDist',\n",
              " 'DiscourseTester',\n",
              " 'DrtExpression',\n",
              " 'DrtGlueReadingCommand',\n",
              " 'ELEProbDist',\n",
              " 'EarleyChartParser',\n",
              " 'Expression',\n",
              " 'FStructure',\n",
              " 'FeatDict',\n",
              " 'FeatList',\n",
              " 'FeatStruct',\n",
              " 'FeatStructReader',\n",
              " 'Feature',\n",
              " 'FeatureBottomUpChartParser',\n",
              " 'FeatureBottomUpLeftCornerChartParser',\n",
              " 'FeatureChartParser',\n",
              " 'FeatureEarleyChartParser',\n",
              " 'FeatureIncrementalBottomUpChartParser',\n",
              " 'FeatureIncrementalBottomUpLeftCornerChartParser',\n",
              " 'FeatureIncrementalChartParser',\n",
              " 'FeatureIncrementalTopDownChartParser',\n",
              " 'FeatureTopDownChartParser',\n",
              " 'FreqDist',\n",
              " 'HTTPPasswordMgrWithDefaultRealm',\n",
              " 'HeldoutProbDist',\n",
              " 'HiddenMarkovModelTagger',\n",
              " 'HiddenMarkovModelTrainer',\n",
              " 'HunposTagger',\n",
              " 'IBMModel',\n",
              " 'IBMModel1',\n",
              " 'IBMModel2',\n",
              " 'IBMModel3',\n",
              " 'IBMModel4',\n",
              " 'IBMModel5',\n",
              " 'ISRIStemmer',\n",
              " 'ImmutableMultiParentedTree',\n",
              " 'ImmutableParentedTree',\n",
              " 'ImmutableProbabilisticMixIn',\n",
              " 'ImmutableProbabilisticTree',\n",
              " 'ImmutableTree',\n",
              " 'IncrementalBottomUpChartParser',\n",
              " 'IncrementalBottomUpLeftCornerChartParser',\n",
              " 'IncrementalChartParser',\n",
              " 'IncrementalLeftCornerChartParser',\n",
              " 'IncrementalTopDownChartParser',\n",
              " 'Index',\n",
              " 'InsideChartParser',\n",
              " 'JSONTaggedDecoder',\n",
              " 'JSONTaggedEncoder',\n",
              " 'KneserNeyProbDist',\n",
              " 'LancasterStemmer',\n",
              " 'LaplaceProbDist',\n",
              " 'LazyConcatenation',\n",
              " 'LazyEnumerate',\n",
              " 'LazyIteratorList',\n",
              " 'LazyMap',\n",
              " 'LazySubsequence',\n",
              " 'LazyZip',\n",
              " 'LeftCornerChartParser',\n",
              " 'LidstoneProbDist',\n",
              " 'LineTokenizer',\n",
              " 'LogicalExpressionException',\n",
              " 'LongestChartParser',\n",
              " 'MLEProbDist',\n",
              " 'MWETokenizer',\n",
              " 'Mace',\n",
              " 'MaceCommand',\n",
              " 'MaltParser',\n",
              " 'MaxentClassifier',\n",
              " 'Model',\n",
              " 'MultiClassifierI',\n",
              " 'MultiParentedTree',\n",
              " 'MutableProbDist',\n",
              " 'NaiveBayesClassifier',\n",
              " 'NaiveBayesDependencyScorer',\n",
              " 'NgramAssocMeasures',\n",
              " 'NgramTagger',\n",
              " 'NonprojectiveDependencyParser',\n",
              " 'Nonterminal',\n",
              " 'OrderedDict',\n",
              " 'PCFG',\n",
              " 'Paice',\n",
              " 'ParallelProverBuilder',\n",
              " 'ParallelProverBuilderCommand',\n",
              " 'ParentedTree',\n",
              " 'ParserI',\n",
              " 'PerceptronTagger',\n",
              " 'PhraseTable',\n",
              " 'PorterStemmer',\n",
              " 'PositiveNaiveBayesClassifier',\n",
              " 'ProbDistI',\n",
              " 'ProbabilisticDependencyGrammar',\n",
              " 'ProbabilisticMixIn',\n",
              " 'ProbabilisticNonprojectiveParser',\n",
              " 'ProbabilisticProduction',\n",
              " 'ProbabilisticProjectiveDependencyParser',\n",
              " 'ProbabilisticTree',\n",
              " 'Production',\n",
              " 'ProjectiveDependencyParser',\n",
              " 'Prover9',\n",
              " 'Prover9Command',\n",
              " 'ProxyBasicAuthHandler',\n",
              " 'ProxyDigestAuthHandler',\n",
              " 'ProxyHandler',\n",
              " 'PunktSentenceTokenizer',\n",
              " 'QuadgramCollocationFinder',\n",
              " 'RSLPStemmer',\n",
              " 'RTEFeatureExtractor',\n",
              " 'RUS_PICKLE',\n",
              " 'RandomChartParser',\n",
              " 'RangeFeature',\n",
              " 'ReadingCommand',\n",
              " 'RecursiveDescentParser',\n",
              " 'RegexpChunkParser',\n",
              " 'RegexpParser',\n",
              " 'RegexpStemmer',\n",
              " 'RegexpTagger',\n",
              " 'RegexpTokenizer',\n",
              " 'ReppTokenizer',\n",
              " 'ResolutionProver',\n",
              " 'ResolutionProverCommand',\n",
              " 'SExprTokenizer',\n",
              " 'SLASH',\n",
              " 'Senna',\n",
              " 'SennaChunkTagger',\n",
              " 'SennaNERTagger',\n",
              " 'SennaTagger',\n",
              " 'SequentialBackoffTagger',\n",
              " 'ShiftReduceParser',\n",
              " 'SimpleGoodTuringProbDist',\n",
              " 'SklearnClassifier',\n",
              " 'SlashFeature',\n",
              " 'SnowballStemmer',\n",
              " 'SpaceTokenizer',\n",
              " 'StackDecoder',\n",
              " 'StanfordNERTagger',\n",
              " 'StanfordPOSTagger',\n",
              " 'StanfordSegmenter',\n",
              " 'StanfordTagger',\n",
              " 'StemmerI',\n",
              " 'SteppingChartParser',\n",
              " 'SteppingRecursiveDescentParser',\n",
              " 'SteppingShiftReduceParser',\n",
              " 'TYPE',\n",
              " 'TabTokenizer',\n",
              " 'TableauProver',\n",
              " 'TableauProverCommand',\n",
              " 'TaggerI',\n",
              " 'TestGrammar',\n",
              " 'Text',\n",
              " 'TextCat',\n",
              " 'TextCollection',\n",
              " 'TextTilingTokenizer',\n",
              " 'TnT',\n",
              " 'TokenSearcher',\n",
              " 'ToktokTokenizer',\n",
              " 'TopDownChartParser',\n",
              " 'TransitionParser',\n",
              " 'Tree',\n",
              " 'TreebankWordTokenizer',\n",
              " 'Trie',\n",
              " 'TrigramAssocMeasures',\n",
              " 'TrigramCollocationFinder',\n",
              " 'TrigramTagger',\n",
              " 'TweetTokenizer',\n",
              " 'TypedMaxentFeatureEncoding',\n",
              " 'Undefined',\n",
              " 'UniformProbDist',\n",
              " 'UnigramTagger',\n",
              " 'UnsortedChartParser',\n",
              " 'Valuation',\n",
              " 'Variable',\n",
              " 'ViterbiParser',\n",
              " 'WekaClassifier',\n",
              " 'WhitespaceTokenizer',\n",
              " 'WittenBellProbDist',\n",
              " 'WordNetLemmatizer',\n",
              " 'WordPunctTokenizer',\n",
              " '__author__',\n",
              " '__author_email__',\n",
              " '__builtins__',\n",
              " '__cached__',\n",
              " '__classifiers__',\n",
              " '__copyright__',\n",
              " '__doc__',\n",
              " '__file__',\n",
              " '__keywords__',\n",
              " '__license__',\n",
              " '__loader__',\n",
              " '__longdescr__',\n",
              " '__maintainer__',\n",
              " '__maintainer_email__',\n",
              " '__name__',\n",
              " '__package__',\n",
              " '__path__',\n",
              " '__spec__',\n",
              " '__url__',\n",
              " '__version__',\n",
              " 'absolute_import',\n",
              " 'accuracy',\n",
              " 'add_logs',\n",
              " 'agreement',\n",
              " 'align',\n",
              " 'alignment_error_rate',\n",
              " 'aline',\n",
              " 'api',\n",
              " 'app',\n",
              " 'apply_features',\n",
              " 'approxrand',\n",
              " 'arity',\n",
              " 'association',\n",
              " 'bigrams',\n",
              " 'binary_distance',\n",
              " 'binary_search_file',\n",
              " 'binding_ops',\n",
              " 'bisect',\n",
              " 'blankline_tokenize',\n",
              " 'bleu',\n",
              " 'bleu_score',\n",
              " 'bllip',\n",
              " 'boolean_ops',\n",
              " 'boxer',\n",
              " 'bracket_parse',\n",
              " 'breadth_first',\n",
              " 'brill',\n",
              " 'brill_trainer',\n",
              " 'build_opener',\n",
              " 'call_megam',\n",
              " 'casual',\n",
              " 'casual_tokenize',\n",
              " 'ccg',\n",
              " 'chain',\n",
              " 'chart',\n",
              " 'chat',\n",
              " 'choose',\n",
              " 'chunk',\n",
              " 'class_types',\n",
              " 'classify',\n",
              " 'clause',\n",
              " 'clean_html',\n",
              " 'clean_url',\n",
              " 'cluster',\n",
              " 'collections',\n",
              " 'collocations',\n",
              " 'combinations',\n",
              " 'compat',\n",
              " 'config_java',\n",
              " 'config_megam',\n",
              " 'config_weka',\n",
              " 'conflicts',\n",
              " 'confusionmatrix',\n",
              " 'conllstr2tree',\n",
              " 'conlltags2tree',\n",
              " 'corenlp',\n",
              " 'corpus',\n",
              " 'crf',\n",
              " 'custom_distance',\n",
              " 'data',\n",
              " 'decisiontree',\n",
              " 'decorator',\n",
              " 'decorators',\n",
              " 'defaultdict',\n",
              " 'demo',\n",
              " 'dependencygraph',\n",
              " 'deque',\n",
              " 'discourse',\n",
              " 'distance',\n",
              " 'download',\n",
              " 'download_gui',\n",
              " 'download_shell',\n",
              " 'downloader',\n",
              " 'draw',\n",
              " 'drt',\n",
              " 'earleychart',\n",
              " 'edit_distance',\n",
              " 'elementtree_indent',\n",
              " 'entropy',\n",
              " 'equality_preds',\n",
              " 'evaluate',\n",
              " 'evaluate_sents',\n",
              " 'everygrams',\n",
              " 'extract_rels',\n",
              " 'extract_test_sentences',\n",
              " 'f_measure',\n",
              " 'featstruct',\n",
              " 'featurechart',\n",
              " 'filestring',\n",
              " 'find',\n",
              " 'flatten',\n",
              " 'fractional_presence',\n",
              " 'getproxies',\n",
              " 'ghd',\n",
              " 'glue',\n",
              " 'grammar',\n",
              " 'guess_encoding',\n",
              " 'help',\n",
              " 'hmm',\n",
              " 'hunpos',\n",
              " 'ibm1',\n",
              " 'ibm2',\n",
              " 'ibm3',\n",
              " 'ibm4',\n",
              " 'ibm5',\n",
              " 'ibm_model',\n",
              " 'ieerstr2tree',\n",
              " 'improved_close_quote_regex',\n",
              " 'improved_open_quote_regex',\n",
              " 'improved_punct_regex',\n",
              " 'in_idle',\n",
              " 'induce_pcfg',\n",
              " 'inference',\n",
              " 'infile',\n",
              " 'inspect',\n",
              " 'install_opener',\n",
              " 'internals',\n",
              " 'interpret_sents',\n",
              " 'interval_distance',\n",
              " 'invert_dict',\n",
              " 'invert_graph',\n",
              " 'is_rel',\n",
              " 'islice',\n",
              " 'isri',\n",
              " 'jaccard_distance',\n",
              " 'json_tags',\n",
              " 'jsontags',\n",
              " 'lancaster',\n",
              " 'lazyimport',\n",
              " 'lfg',\n",
              " 'line_tokenize',\n",
              " 'linearlogic',\n",
              " 'load',\n",
              " 'load_parser',\n",
              " 'locale',\n",
              " 'log_likelihood',\n",
              " 'logic',\n",
              " 'mace',\n",
              " 'malt',\n",
              " 'map_tag',\n",
              " 'mapping',\n",
              " 'masi_distance',\n",
              " 'maxent',\n",
              " 'megam',\n",
              " 'memoize',\n",
              " 'metrics',\n",
              " 'misc',\n",
              " 'mwe',\n",
              " 'naivebayes',\n",
              " 'ne_chunk',\n",
              " 'ne_chunk_sents',\n",
              " 'ngrams',\n",
              " 'nltk.corpus',\n",
              " 'nonprojectivedependencyparser',\n",
              " 'nonterminals',\n",
              " 'numpy',\n",
              " 'os',\n",
              " 'pad_sequence',\n",
              " 'paice',\n",
              " 'parse',\n",
              " 'parse_sents',\n",
              " 'pchart',\n",
              " 'perceptron',\n",
              " 'pk',\n",
              " 'porter',\n",
              " 'pos_tag',\n",
              " 'pos_tag_sents',\n",
              " 'positivenaivebayes',\n",
              " 'pprint',\n",
              " 'pr',\n",
              " 'precision',\n",
              " 'presence',\n",
              " 'print_function',\n",
              " 'print_string',\n",
              " 'probability',\n",
              " 'projectivedependencyparser',\n",
              " 'prover9',\n",
              " 'punkt',\n",
              " 'py25',\n",
              " 'py26',\n",
              " 'py27',\n",
              " 'pydoc',\n",
              " 'python_2_unicode_compatible',\n",
              " 'raise_unorderable_types',\n",
              " 'ranks_from_scores',\n",
              " 'ranks_from_sequence',\n",
              " 're',\n",
              " 're_show',\n",
              " 'read_grammar',\n",
              " 'read_logic',\n",
              " 'read_valuation',\n",
              " 'recall',\n",
              " 'recursivedescent',\n",
              " 'regexp',\n",
              " 'regexp_span_tokenize',\n",
              " 'regexp_tokenize',\n",
              " 'register_tag',\n",
              " 'relextract',\n",
              " 'repp',\n",
              " 'resolution',\n",
              " 'ribes',\n",
              " 'ribes_score',\n",
              " 'root_semrep',\n",
              " 'rslp',\n",
              " 'rte_classifier',\n",
              " 'rte_classify',\n",
              " 'rte_features',\n",
              " 'rtuple',\n",
              " 'scikitlearn',\n",
              " 'scores',\n",
              " 'segmentation',\n",
              " 'sem',\n",
              " 'senna',\n",
              " 'sent_tokenize',\n",
              " 'sequential',\n",
              " 'set2rel',\n",
              " 'set_proxy',\n",
              " 'sexpr',\n",
              " 'sexpr_tokenize',\n",
              " 'shiftreduce',\n",
              " 'simple',\n",
              " 'sinica_parse',\n",
              " 'skipgrams',\n",
              " 'skolemize',\n",
              " 'slice_bounds',\n",
              " 'snowball',\n",
              " 'spearman',\n",
              " 'spearman_correlation',\n",
              " 'stack_decoder',\n",
              " 'stanford',\n",
              " 'stanford_segmenter',\n",
              " 'stem',\n",
              " 'str2tuple',\n",
              " 'string_span_tokenize',\n",
              " 'string_types',\n",
              " 'subprocess',\n",
              " 'subsumes',\n",
              " 'sum_logs',\n",
              " 'sys',\n",
              " 'tableau',\n",
              " 'tadm',\n",
              " 'tag',\n",
              " 'tagset_mapping',\n",
              " 'tagstr2tree',\n",
              " 'tbl',\n",
              " 'text',\n",
              " 'text_type',\n",
              " 'textcat',\n",
              " 'texttiling',\n",
              " 'textwrap',\n",
              " 'tkinter',\n",
              " 'tnt',\n",
              " 'tokenize',\n",
              " 'tokenwrap',\n",
              " 'toktok',\n",
              " 'toolbox',\n",
              " 'total_ordering',\n",
              " 'transitionparser',\n",
              " 'transitive_closure',\n",
              " 'translate',\n",
              " 'tree',\n",
              " 'tree2conllstr',\n",
              " 'tree2conlltags',\n",
              " 'treebank',\n",
              " 'treetransforms',\n",
              " 'trigrams',\n",
              " 'tuple2str',\n",
              " 'types',\n",
              " 'unify',\n",
              " 'unique_list',\n",
              " 'untag',\n",
              " 'usage',\n",
              " 'util',\n",
              " 'version_file',\n",
              " 'version_info',\n",
              " 'viterbi',\n",
              " 'weka',\n",
              " 'windowdiff',\n",
              " 'word_tokenize',\n",
              " 'wordnet',\n",
              " 'wordpunct_tokenize',\n",
              " 'wsd']"
            ]
          },
          "metadata": {
            "tags": []
          },
          "execution_count": 64
        }
      ]
    },
    {
      "cell_type": "code",
      "metadata": {
        "id": "cWcs1ACYtUNn",
        "colab_type": "code",
        "colab": {}
      },
      "source": [
        "#To print mulitple statements in single command \n",
        "from IPython.core.interactiveshell import InteractiveShell\n",
        "InteractiveShell.ast_node_interactivity=\"all\""
      ],
      "execution_count": 65,
      "outputs": []
    },
    {
      "cell_type": "code",
      "metadata": {
        "id": "2HrB60tjtI6m",
        "colab_type": "code",
        "colab": {
          "base_uri": "https://localhost:8080/",
          "height": 406
        },
        "outputId": "a5e5c0d6-c95c-4c3f-962a-7ed3beff363d"
      },
      "source": [
        "df = pd.read_excel('Comments_Data_Extracts_01.xlsx')\n",
        "df[0:500]"
      ],
      "execution_count": 66,
      "outputs": [
        {
          "output_type": "execute_result",
          "data": {
            "text/html": [
              "<div>\n",
              "<style scoped>\n",
              "    .dataframe tbody tr th:only-of-type {\n",
              "        vertical-align: middle;\n",
              "    }\n",
              "\n",
              "    .dataframe tbody tr th {\n",
              "        vertical-align: top;\n",
              "    }\n",
              "\n",
              "    .dataframe thead th {\n",
              "        text-align: right;\n",
              "    }\n",
              "</style>\n",
              "<table border=\"1\" class=\"dataframe\">\n",
              "  <thead>\n",
              "    <tr style=\"text-align: right;\">\n",
              "      <th></th>\n",
              "      <th>Comments</th>\n",
              "    </tr>\n",
              "  </thead>\n",
              "  <tbody>\n",
              "    <tr>\n",
              "      <th>0</th>\n",
              "      <td>I just bought this projector and i am clueless...</td>\n",
              "    </tr>\n",
              "    <tr>\n",
              "      <th>1</th>\n",
              "      <td>You promised me a multi card reader for leavin...</td>\n",
              "    </tr>\n",
              "    <tr>\n",
              "      <th>2</th>\n",
              "      <td>Hello Apeman, your team is not responding to m...</td>\n",
              "    </tr>\n",
              "    <tr>\n",
              "      <th>3</th>\n",
              "      <td>Great picture, I am so excited about looking f...</td>\n",
              "    </tr>\n",
              "    <tr>\n",
              "      <th>4</th>\n",
              "      <td>I have just bought the Apeman 550 dashcam and ...</td>\n",
              "    </tr>\n",
              "    <tr>\n",
              "      <th>...</th>\n",
              "      <td>...</td>\n",
              "    </tr>\n",
              "    <tr>\n",
              "      <th>495</th>\n",
              "      <td>Want a reprieve from all the bad news on twitt...</td>\n",
              "    </tr>\n",
              "    <tr>\n",
              "      <th>496</th>\n",
              "      <td>@Apple @AppleSupport #applecarplay update is t...</td>\n",
              "    </tr>\n",
              "    <tr>\n",
              "      <th>497</th>\n",
              "      <td>@Apple @AppleSupport #applecarplay update is t...</td>\n",
              "    </tr>\n",
              "    <tr>\n",
              "      <th>498</th>\n",
              "      <td>@Apple @AppleSupport #applecarplay update is t...</td>\n",
              "    </tr>\n",
              "    <tr>\n",
              "      <th>499</th>\n",
              "      <td>We're pleased to announce that @Drivedenuk has...</td>\n",
              "    </tr>\n",
              "  </tbody>\n",
              "</table>\n",
              "<p>500 rows × 1 columns</p>\n",
              "</div>"
            ],
            "text/plain": [
              "                                              Comments\n",
              "0    I just bought this projector and i am clueless...\n",
              "1    You promised me a multi card reader for leavin...\n",
              "2    Hello Apeman, your team is not responding to m...\n",
              "3    Great picture, I am so excited about looking f...\n",
              "4    I have just bought the Apeman 550 dashcam and ...\n",
              "..                                                 ...\n",
              "495  Want a reprieve from all the bad news on twitt...\n",
              "496  @Apple @AppleSupport #applecarplay update is t...\n",
              "497  @Apple @AppleSupport #applecarplay update is t...\n",
              "498  @Apple @AppleSupport #applecarplay update is t...\n",
              "499  We're pleased to announce that @Drivedenuk has...\n",
              "\n",
              "[500 rows x 1 columns]"
            ]
          },
          "metadata": {
            "tags": []
          },
          "execution_count": 66
        }
      ]
    },
    {
      "cell_type": "markdown",
      "metadata": {
        "id": "OkUXPuPXBuAp",
        "colab_type": "text"
      },
      "source": [
        "# Data Undrstanding & Explore"
      ]
    },
    {
      "cell_type": "code",
      "metadata": {
        "id": "mPi3wPfytI_c",
        "colab_type": "code",
        "colab": {
          "base_uri": "https://localhost:8080/",
          "height": 378
        },
        "outputId": "11d56063-da38-4c4d-c590-ac251fb50bbb"
      },
      "source": [
        "df.head()\n",
        "df.tail()"
      ],
      "execution_count": 67,
      "outputs": [
        {
          "output_type": "execute_result",
          "data": {
            "text/html": [
              "<div>\n",
              "<style scoped>\n",
              "    .dataframe tbody tr th:only-of-type {\n",
              "        vertical-align: middle;\n",
              "    }\n",
              "\n",
              "    .dataframe tbody tr th {\n",
              "        vertical-align: top;\n",
              "    }\n",
              "\n",
              "    .dataframe thead th {\n",
              "        text-align: right;\n",
              "    }\n",
              "</style>\n",
              "<table border=\"1\" class=\"dataframe\">\n",
              "  <thead>\n",
              "    <tr style=\"text-align: right;\">\n",
              "      <th></th>\n",
              "      <th>Comments</th>\n",
              "    </tr>\n",
              "  </thead>\n",
              "  <tbody>\n",
              "    <tr>\n",
              "      <th>0</th>\n",
              "      <td>I just bought this projector and i am clueless...</td>\n",
              "    </tr>\n",
              "    <tr>\n",
              "      <th>1</th>\n",
              "      <td>You promised me a multi card reader for leavin...</td>\n",
              "    </tr>\n",
              "    <tr>\n",
              "      <th>2</th>\n",
              "      <td>Hello Apeman, your team is not responding to m...</td>\n",
              "    </tr>\n",
              "    <tr>\n",
              "      <th>3</th>\n",
              "      <td>Great picture, I am so excited about looking f...</td>\n",
              "    </tr>\n",
              "    <tr>\n",
              "      <th>4</th>\n",
              "      <td>I have just bought the Apeman 550 dashcam and ...</td>\n",
              "    </tr>\n",
              "  </tbody>\n",
              "</table>\n",
              "</div>"
            ],
            "text/plain": [
              "                                            Comments\n",
              "0  I just bought this projector and i am clueless...\n",
              "1  You promised me a multi card reader for leavin...\n",
              "2  Hello Apeman, your team is not responding to m...\n",
              "3  Great picture, I am so excited about looking f...\n",
              "4  I have just bought the Apeman 550 dashcam and ..."
            ]
          },
          "metadata": {
            "tags": []
          },
          "execution_count": 67
        },
        {
          "output_type": "execute_result",
          "data": {
            "text/html": [
              "<div>\n",
              "<style scoped>\n",
              "    .dataframe tbody tr th:only-of-type {\n",
              "        vertical-align: middle;\n",
              "    }\n",
              "\n",
              "    .dataframe tbody tr th {\n",
              "        vertical-align: top;\n",
              "    }\n",
              "\n",
              "    .dataframe thead th {\n",
              "        text-align: right;\n",
              "    }\n",
              "</style>\n",
              "<table border=\"1\" class=\"dataframe\">\n",
              "  <thead>\n",
              "    <tr style=\"text-align: right;\">\n",
              "      <th></th>\n",
              "      <th>Comments</th>\n",
              "    </tr>\n",
              "  </thead>\n",
              "  <tbody>\n",
              "    <tr>\n",
              "      <th>9541</th>\n",
              "      <td>Did You see it? 🙈https://t.co/X1b3ZyrGbeLet th...</td>\n",
              "    </tr>\n",
              "    <tr>\n",
              "      <th>9542</th>\n",
              "      <td>4inch FHD 1080P DVR camera RecorderWhatsApp/We...</td>\n",
              "    </tr>\n",
              "    <tr>\n",
              "      <th>9543</th>\n",
              "      <td>📷 4inch FHD 1080P DVR camera Recorder WhatsApp...</td>\n",
              "    </tr>\n",
              "    <tr>\n",
              "      <th>9544</th>\n",
              "      <td>#autobrighttech #AutobrightTech #caraccessorie...</td>\n",
              "    </tr>\n",
              "    <tr>\n",
              "      <th>9545</th>\n",
              "      <td>📷 #autobrighttech #AutobrightTech #caraccessor...</td>\n",
              "    </tr>\n",
              "  </tbody>\n",
              "</table>\n",
              "</div>"
            ],
            "text/plain": [
              "                                               Comments\n",
              "9541  Did You see it? 🙈https://t.co/X1b3ZyrGbeLet th...\n",
              "9542  4inch FHD 1080P DVR camera RecorderWhatsApp/We...\n",
              "9543  📷 4inch FHD 1080P DVR camera Recorder WhatsApp...\n",
              "9544  #autobrighttech #AutobrightTech #caraccessorie...\n",
              "9545  📷 #autobrighttech #AutobrightTech #caraccessor..."
            ]
          },
          "metadata": {
            "tags": []
          },
          "execution_count": 67
        }
      ]
    },
    {
      "cell_type": "code",
      "metadata": {
        "id": "XFVHJcWmtJB6",
        "colab_type": "code",
        "colab": {
          "base_uri": "https://localhost:8080/",
          "height": 34
        },
        "outputId": "ffb8c8e8-fef6-4004-cba7-9cc01d9061c4"
      },
      "source": [
        "print(f'Inpute data has {len(df)} rows, {len(df.columns)} columns')"
      ],
      "execution_count": 68,
      "outputs": [
        {
          "output_type": "stream",
          "text": [
            "Inpute data has 9546 rows, 1 columns\n"
          ],
          "name": "stdout"
        }
      ]
    },
    {
      "cell_type": "code",
      "metadata": {
        "id": "3zmVc-TctJEI",
        "colab_type": "code",
        "colab": {
          "base_uri": "https://localhost:8080/",
          "height": 34
        },
        "outputId": "215aecca-bf42-4ea1-cea9-8ff5405cd8dc"
      },
      "source": [
        "print(f\"Numbers of missing label = {df['Comments'].isnull().sum()}\")"
      ],
      "execution_count": 69,
      "outputs": [
        {
          "output_type": "stream",
          "text": [
            "Numbers of missing label = 0\n"
          ],
          "name": "stdout"
        }
      ]
    },
    {
      "cell_type": "code",
      "metadata": {
        "id": "KnHv1A1nxEXs",
        "colab_type": "code",
        "colab": {}
      },
      "source": [
        "# Spell correct using text blob\n",
        "#from textblob import TextBlob\n",
        "#df = df['Comments'].apply(lambda x: str(TextBlob(x).correct()))"
      ],
      "execution_count": 70,
      "outputs": []
    },
    {
      "cell_type": "code",
      "metadata": {
        "id": "rRutMZWQvJIV",
        "colab_type": "code",
        "colab": {
          "base_uri": "https://localhost:8080/",
          "height": 35
        },
        "outputId": "1672f41b-21df-4da1-a655-435b2d5c2001"
      },
      "source": [
        "import string\n",
        "string.punctuation"
      ],
      "execution_count": 71,
      "outputs": [
        {
          "output_type": "execute_result",
          "data": {
            "application/vnd.google.colaboratory.intrinsic+json": {
              "type": "string"
            },
            "text/plain": [
              "'!\"#$%&\\'()*+,-./:;<=>?@[\\\\]^_`{|}~'"
            ]
          },
          "metadata": {
            "tags": []
          },
          "execution_count": 71
        }
      ]
    },
    {
      "cell_type": "code",
      "metadata": {
        "id": "qJuEpewgvJLM",
        "colab_type": "code",
        "colab": {}
      },
      "source": [
        "def remove_punctuation(txt):\n",
        "    txt_nopunct = \"\".join([c for c in txt if c not in string.punctuation])\n",
        "    return txt_nopunct"
      ],
      "execution_count": 72,
      "outputs": []
    },
    {
      "cell_type": "code",
      "metadata": {
        "id": "3o1iVhoFvJNY",
        "colab_type": "code",
        "colab": {
          "base_uri": "https://localhost:8080/",
          "height": 378
        },
        "outputId": "bfe37523-b23f-474a-ca16-e96817cc0403"
      },
      "source": [
        "df['msg_clean'] = df['Comments'].apply(lambda x: remove_punctuation(x))\n",
        "df.head()\n",
        "df.tail()"
      ],
      "execution_count": 73,
      "outputs": [
        {
          "output_type": "execute_result",
          "data": {
            "text/html": [
              "<div>\n",
              "<style scoped>\n",
              "    .dataframe tbody tr th:only-of-type {\n",
              "        vertical-align: middle;\n",
              "    }\n",
              "\n",
              "    .dataframe tbody tr th {\n",
              "        vertical-align: top;\n",
              "    }\n",
              "\n",
              "    .dataframe thead th {\n",
              "        text-align: right;\n",
              "    }\n",
              "</style>\n",
              "<table border=\"1\" class=\"dataframe\">\n",
              "  <thead>\n",
              "    <tr style=\"text-align: right;\">\n",
              "      <th></th>\n",
              "      <th>Comments</th>\n",
              "      <th>msg_clean</th>\n",
              "    </tr>\n",
              "  </thead>\n",
              "  <tbody>\n",
              "    <tr>\n",
              "      <th>0</th>\n",
              "      <td>I just bought this projector and i am clueless...</td>\n",
              "      <td>I just bought this projector and i am clueless...</td>\n",
              "    </tr>\n",
              "    <tr>\n",
              "      <th>1</th>\n",
              "      <td>You promised me a multi card reader for leavin...</td>\n",
              "      <td>You promised me a multi card reader for leavin...</td>\n",
              "    </tr>\n",
              "    <tr>\n",
              "      <th>2</th>\n",
              "      <td>Hello Apeman, your team is not responding to m...</td>\n",
              "      <td>Hello Apeman your team is not responding to my...</td>\n",
              "    </tr>\n",
              "    <tr>\n",
              "      <th>3</th>\n",
              "      <td>Great picture, I am so excited about looking f...</td>\n",
              "      <td>Great picture I am so excited about looking fo...</td>\n",
              "    </tr>\n",
              "    <tr>\n",
              "      <th>4</th>\n",
              "      <td>I have just bought the Apeman 550 dashcam and ...</td>\n",
              "      <td>I have just bought the Apeman 550 dashcam and ...</td>\n",
              "    </tr>\n",
              "  </tbody>\n",
              "</table>\n",
              "</div>"
            ],
            "text/plain": [
              "                                            Comments                                          msg_clean\n",
              "0  I just bought this projector and i am clueless...  I just bought this projector and i am clueless...\n",
              "1  You promised me a multi card reader for leavin...  You promised me a multi card reader for leavin...\n",
              "2  Hello Apeman, your team is not responding to m...  Hello Apeman your team is not responding to my...\n",
              "3  Great picture, I am so excited about looking f...  Great picture I am so excited about looking fo...\n",
              "4  I have just bought the Apeman 550 dashcam and ...  I have just bought the Apeman 550 dashcam and ..."
            ]
          },
          "metadata": {
            "tags": []
          },
          "execution_count": 73
        },
        {
          "output_type": "execute_result",
          "data": {
            "text/html": [
              "<div>\n",
              "<style scoped>\n",
              "    .dataframe tbody tr th:only-of-type {\n",
              "        vertical-align: middle;\n",
              "    }\n",
              "\n",
              "    .dataframe tbody tr th {\n",
              "        vertical-align: top;\n",
              "    }\n",
              "\n",
              "    .dataframe thead th {\n",
              "        text-align: right;\n",
              "    }\n",
              "</style>\n",
              "<table border=\"1\" class=\"dataframe\">\n",
              "  <thead>\n",
              "    <tr style=\"text-align: right;\">\n",
              "      <th></th>\n",
              "      <th>Comments</th>\n",
              "      <th>msg_clean</th>\n",
              "    </tr>\n",
              "  </thead>\n",
              "  <tbody>\n",
              "    <tr>\n",
              "      <th>9541</th>\n",
              "      <td>Did You see it? 🙈https://t.co/X1b3ZyrGbeLet th...</td>\n",
              "      <td>Did You see it 🙈httpstcoX1b3ZyrGbeLet the fun ...</td>\n",
              "    </tr>\n",
              "    <tr>\n",
              "      <th>9542</th>\n",
              "      <td>4inch FHD 1080P DVR camera RecorderWhatsApp/We...</td>\n",
              "      <td>4inch FHD 1080P DVR camera RecorderWhatsAppWeC...</td>\n",
              "    </tr>\n",
              "    <tr>\n",
              "      <th>9543</th>\n",
              "      <td>📷 4inch FHD 1080P DVR camera Recorder WhatsApp...</td>\n",
              "      <td>📷 4inch FHD 1080P DVR camera Recorder WhatsApp...</td>\n",
              "    </tr>\n",
              "    <tr>\n",
              "      <th>9544</th>\n",
              "      <td>#autobrighttech #AutobrightTech #caraccessorie...</td>\n",
              "      <td>autobrighttech AutobrightTech caraccessories a...</td>\n",
              "    </tr>\n",
              "    <tr>\n",
              "      <th>9545</th>\n",
              "      <td>📷 #autobrighttech #AutobrightTech #caraccessor...</td>\n",
              "      <td>📷 autobrighttech AutobrightTech caraccessories...</td>\n",
              "    </tr>\n",
              "  </tbody>\n",
              "</table>\n",
              "</div>"
            ],
            "text/plain": [
              "                                               Comments                                          msg_clean\n",
              "9541  Did You see it? 🙈https://t.co/X1b3ZyrGbeLet th...  Did You see it 🙈httpstcoX1b3ZyrGbeLet the fun ...\n",
              "9542  4inch FHD 1080P DVR camera RecorderWhatsApp/We...  4inch FHD 1080P DVR camera RecorderWhatsAppWeC...\n",
              "9543  📷 4inch FHD 1080P DVR camera Recorder WhatsApp...  📷 4inch FHD 1080P DVR camera Recorder WhatsApp...\n",
              "9544  #autobrighttech #AutobrightTech #caraccessorie...  autobrighttech AutobrightTech caraccessories a...\n",
              "9545  📷 #autobrighttech #AutobrightTech #caraccessor...  📷 autobrighttech AutobrightTech caraccessories..."
            ]
          },
          "metadata": {
            "tags": []
          },
          "execution_count": 73
        }
      ]
    },
    {
      "cell_type": "markdown",
      "metadata": {
        "id": "LwZX97AwCKtr",
        "colab_type": "text"
      },
      "source": [
        "# Tokenization"
      ]
    },
    {
      "cell_type": "code",
      "metadata": {
        "id": "rbAKXVzrvXpa",
        "colab_type": "code",
        "colab": {
          "base_uri": "https://localhost:8080/",
          "height": 412
        },
        "outputId": "08b1ab9c-d203-4692-9eb6-f88daeb7af08"
      },
      "source": [
        "import re\n",
        "\n",
        "def tokenize(txt):\n",
        "    tokens = re.split('\\W+', txt)\n",
        "    return tokens\n",
        "\n",
        "\n",
        "df['msg_clean_tokenized'] = df['msg_clean'].apply(lambda x: tokenize(x.lower()))\n",
        "\n",
        "df.head()\n",
        "df.tail()"
      ],
      "execution_count": 74,
      "outputs": [
        {
          "output_type": "execute_result",
          "data": {
            "text/html": [
              "<div>\n",
              "<style scoped>\n",
              "    .dataframe tbody tr th:only-of-type {\n",
              "        vertical-align: middle;\n",
              "    }\n",
              "\n",
              "    .dataframe tbody tr th {\n",
              "        vertical-align: top;\n",
              "    }\n",
              "\n",
              "    .dataframe thead th {\n",
              "        text-align: right;\n",
              "    }\n",
              "</style>\n",
              "<table border=\"1\" class=\"dataframe\">\n",
              "  <thead>\n",
              "    <tr style=\"text-align: right;\">\n",
              "      <th></th>\n",
              "      <th>Comments</th>\n",
              "      <th>msg_clean</th>\n",
              "      <th>msg_clean_tokenized</th>\n",
              "    </tr>\n",
              "  </thead>\n",
              "  <tbody>\n",
              "    <tr>\n",
              "      <th>0</th>\n",
              "      <td>I just bought this projector and i am clueless...</td>\n",
              "      <td>I just bought this projector and i am clueless...</td>\n",
              "      <td>[i, just, bought, this, projector, and, i, am,...</td>\n",
              "    </tr>\n",
              "    <tr>\n",
              "      <th>1</th>\n",
              "      <td>You promised me a multi card reader for leavin...</td>\n",
              "      <td>You promised me a multi card reader for leavin...</td>\n",
              "      <td>[you, promised, me, a, multi, card, reader, fo...</td>\n",
              "    </tr>\n",
              "    <tr>\n",
              "      <th>2</th>\n",
              "      <td>Hello Apeman, your team is not responding to m...</td>\n",
              "      <td>Hello Apeman your team is not responding to my...</td>\n",
              "      <td>[hello, apeman, your, team, is, not, respondin...</td>\n",
              "    </tr>\n",
              "    <tr>\n",
              "      <th>3</th>\n",
              "      <td>Great picture, I am so excited about looking f...</td>\n",
              "      <td>Great picture I am so excited about looking fo...</td>\n",
              "      <td>[great, picture, i, am, so, excited, about, lo...</td>\n",
              "    </tr>\n",
              "    <tr>\n",
              "      <th>4</th>\n",
              "      <td>I have just bought the Apeman 550 dashcam and ...</td>\n",
              "      <td>I have just bought the Apeman 550 dashcam and ...</td>\n",
              "      <td>[i, have, just, bought, the, apeman, 550, dash...</td>\n",
              "    </tr>\n",
              "  </tbody>\n",
              "</table>\n",
              "</div>"
            ],
            "text/plain": [
              "                                            Comments  ...                                msg_clean_tokenized\n",
              "0  I just bought this projector and i am clueless...  ...  [i, just, bought, this, projector, and, i, am,...\n",
              "1  You promised me a multi card reader for leavin...  ...  [you, promised, me, a, multi, card, reader, fo...\n",
              "2  Hello Apeman, your team is not responding to m...  ...  [hello, apeman, your, team, is, not, respondin...\n",
              "3  Great picture, I am so excited about looking f...  ...  [great, picture, i, am, so, excited, about, lo...\n",
              "4  I have just bought the Apeman 550 dashcam and ...  ...  [i, have, just, bought, the, apeman, 550, dash...\n",
              "\n",
              "[5 rows x 3 columns]"
            ]
          },
          "metadata": {
            "tags": []
          },
          "execution_count": 74
        },
        {
          "output_type": "execute_result",
          "data": {
            "text/html": [
              "<div>\n",
              "<style scoped>\n",
              "    .dataframe tbody tr th:only-of-type {\n",
              "        vertical-align: middle;\n",
              "    }\n",
              "\n",
              "    .dataframe tbody tr th {\n",
              "        vertical-align: top;\n",
              "    }\n",
              "\n",
              "    .dataframe thead th {\n",
              "        text-align: right;\n",
              "    }\n",
              "</style>\n",
              "<table border=\"1\" class=\"dataframe\">\n",
              "  <thead>\n",
              "    <tr style=\"text-align: right;\">\n",
              "      <th></th>\n",
              "      <th>Comments</th>\n",
              "      <th>msg_clean</th>\n",
              "      <th>msg_clean_tokenized</th>\n",
              "    </tr>\n",
              "  </thead>\n",
              "  <tbody>\n",
              "    <tr>\n",
              "      <th>9541</th>\n",
              "      <td>Did You see it? 🙈https://t.co/X1b3ZyrGbeLet th...</td>\n",
              "      <td>Did You see it 🙈httpstcoX1b3ZyrGbeLet the fun ...</td>\n",
              "      <td>[did, you, see, it, httpstcox1b3zyrgbelet, the...</td>\n",
              "    </tr>\n",
              "    <tr>\n",
              "      <th>9542</th>\n",
              "      <td>4inch FHD 1080P DVR camera RecorderWhatsApp/We...</td>\n",
              "      <td>4inch FHD 1080P DVR camera RecorderWhatsAppWeC...</td>\n",
              "      <td>[4inch, fhd, 1080p, dvr, camera, recorderwhats...</td>\n",
              "    </tr>\n",
              "    <tr>\n",
              "      <th>9543</th>\n",
              "      <td>📷 4inch FHD 1080P DVR camera Recorder WhatsApp...</td>\n",
              "      <td>📷 4inch FHD 1080P DVR camera Recorder WhatsApp...</td>\n",
              "      <td>[, 4inch, fhd, 1080p, dvr, camera, recorder, w...</td>\n",
              "    </tr>\n",
              "    <tr>\n",
              "      <th>9544</th>\n",
              "      <td>#autobrighttech #AutobrightTech #caraccessorie...</td>\n",
              "      <td>autobrighttech AutobrightTech caraccessories a...</td>\n",
              "      <td>[autobrighttech, autobrighttech, caraccessorie...</td>\n",
              "    </tr>\n",
              "    <tr>\n",
              "      <th>9545</th>\n",
              "      <td>📷 #autobrighttech #AutobrightTech #caraccessor...</td>\n",
              "      <td>📷 autobrighttech AutobrightTech caraccessories...</td>\n",
              "      <td>[, autobrighttech, autobrighttech, caraccessor...</td>\n",
              "    </tr>\n",
              "  </tbody>\n",
              "</table>\n",
              "</div>"
            ],
            "text/plain": [
              "                                               Comments  ...                                msg_clean_tokenized\n",
              "9541  Did You see it? 🙈https://t.co/X1b3ZyrGbeLet th...  ...  [did, you, see, it, httpstcox1b3zyrgbelet, the...\n",
              "9542  4inch FHD 1080P DVR camera RecorderWhatsApp/We...  ...  [4inch, fhd, 1080p, dvr, camera, recorderwhats...\n",
              "9543  📷 4inch FHD 1080P DVR camera Recorder WhatsApp...  ...  [, 4inch, fhd, 1080p, dvr, camera, recorder, w...\n",
              "9544  #autobrighttech #AutobrightTech #caraccessorie...  ...  [autobrighttech, autobrighttech, caraccessorie...\n",
              "9545  📷 #autobrighttech #AutobrightTech #caraccessor...  ...  [, autobrighttech, autobrighttech, caraccessor...\n",
              "\n",
              "[5 rows x 3 columns]"
            ]
          },
          "metadata": {
            "tags": []
          },
          "execution_count": 74
        }
      ]
    },
    {
      "cell_type": "markdown",
      "metadata": {
        "id": "_eKLlALSCOjz",
        "colab_type": "text"
      },
      "source": [
        "# Remove Stop Words"
      ]
    },
    {
      "cell_type": "code",
      "metadata": {
        "id": "cSLnirbHvXsH",
        "colab_type": "code",
        "colab": {
          "base_uri": "https://localhost:8080/",
          "height": 70
        },
        "outputId": "3c1d087a-ff7a-4022-a59f-520f9b11484f"
      },
      "source": [
        "nltk.download('stopwords')\n",
        "stopwords = nltk.corpus.stopwords.words('english')\n",
        "stopwords[0:10]"
      ],
      "execution_count": 75,
      "outputs": [
        {
          "output_type": "stream",
          "text": [
            "[nltk_data] Downloading package stopwords to /root/nltk_data...\n",
            "[nltk_data]   Package stopwords is already up-to-date!\n"
          ],
          "name": "stdout"
        },
        {
          "output_type": "execute_result",
          "data": {
            "text/plain": [
              "True"
            ]
          },
          "metadata": {
            "tags": []
          },
          "execution_count": 75
        },
        {
          "output_type": "execute_result",
          "data": {
            "text/plain": [
              "['i', 'me', 'my', 'myself', 'we', 'our', 'ours', 'ourselves', 'you', \"you're\"]"
            ]
          },
          "metadata": {
            "tags": []
          },
          "execution_count": 75
        }
      ]
    },
    {
      "cell_type": "code",
      "metadata": {
        "id": "3WYxCDmYvXub",
        "colab_type": "code",
        "colab": {
          "base_uri": "https://localhost:8080/",
          "height": 545
        },
        "outputId": "2244490d-73d6-4d69-a1e1-277ce523d078"
      },
      "source": [
        "def remove_stopwords(txt_tokenized):\n",
        "    txt_clean = [word for word in txt_tokenized if word not in stopwords]\n",
        "    return txt_clean\n",
        "\n",
        "df['msg_no_sw'] = df['msg_clean_tokenized'].apply(lambda x: remove_stopwords(x))\n",
        "df.head()\n",
        "df.tail()"
      ],
      "execution_count": 76,
      "outputs": [
        {
          "output_type": "execute_result",
          "data": {
            "text/html": [
              "<div>\n",
              "<style scoped>\n",
              "    .dataframe tbody tr th:only-of-type {\n",
              "        vertical-align: middle;\n",
              "    }\n",
              "\n",
              "    .dataframe tbody tr th {\n",
              "        vertical-align: top;\n",
              "    }\n",
              "\n",
              "    .dataframe thead th {\n",
              "        text-align: right;\n",
              "    }\n",
              "</style>\n",
              "<table border=\"1\" class=\"dataframe\">\n",
              "  <thead>\n",
              "    <tr style=\"text-align: right;\">\n",
              "      <th></th>\n",
              "      <th>Comments</th>\n",
              "      <th>msg_clean</th>\n",
              "      <th>msg_clean_tokenized</th>\n",
              "      <th>msg_no_sw</th>\n",
              "    </tr>\n",
              "  </thead>\n",
              "  <tbody>\n",
              "    <tr>\n",
              "      <th>0</th>\n",
              "      <td>I just bought this projector and i am clueless...</td>\n",
              "      <td>I just bought this projector and i am clueless...</td>\n",
              "      <td>[i, just, bought, this, projector, and, i, am,...</td>\n",
              "      <td>[bought, projector, clueless, connect, iphone, ]</td>\n",
              "    </tr>\n",
              "    <tr>\n",
              "      <th>1</th>\n",
              "      <td>You promised me a multi card reader for leavin...</td>\n",
              "      <td>You promised me a multi card reader for leavin...</td>\n",
              "      <td>[you, promised, me, a, multi, card, reader, fo...</td>\n",
              "      <td>[promised, multi, card, reader, leaving, revie...</td>\n",
              "    </tr>\n",
              "    <tr>\n",
              "      <th>2</th>\n",
              "      <td>Hello Apeman, your team is not responding to m...</td>\n",
              "      <td>Hello Apeman your team is not responding to my...</td>\n",
              "      <td>[hello, apeman, your, team, is, not, respondin...</td>\n",
              "      <td>[hello, apeman, team, responding, email, fixin...</td>\n",
              "    </tr>\n",
              "    <tr>\n",
              "      <th>3</th>\n",
              "      <td>Great picture, I am so excited about looking f...</td>\n",
              "      <td>Great picture I am so excited about looking fo...</td>\n",
              "      <td>[great, picture, i, am, so, excited, about, lo...</td>\n",
              "      <td>[great, picture, excited, looking, 4k, cameraj...</td>\n",
              "    </tr>\n",
              "    <tr>\n",
              "      <th>4</th>\n",
              "      <td>I have just bought the Apeman 550 dashcam and ...</td>\n",
              "      <td>I have just bought the Apeman 550 dashcam and ...</td>\n",
              "      <td>[i, have, just, bought, the, apeman, 550, dash...</td>\n",
              "      <td>[bought, apeman, 550, dashcam, find, rear, cam...</td>\n",
              "    </tr>\n",
              "  </tbody>\n",
              "</table>\n",
              "</div>"
            ],
            "text/plain": [
              "                                            Comments  ...                                          msg_no_sw\n",
              "0  I just bought this projector and i am clueless...  ...   [bought, projector, clueless, connect, iphone, ]\n",
              "1  You promised me a multi card reader for leavin...  ...  [promised, multi, card, reader, leaving, revie...\n",
              "2  Hello Apeman, your team is not responding to m...  ...  [hello, apeman, team, responding, email, fixin...\n",
              "3  Great picture, I am so excited about looking f...  ...  [great, picture, excited, looking, 4k, cameraj...\n",
              "4  I have just bought the Apeman 550 dashcam and ...  ...  [bought, apeman, 550, dashcam, find, rear, cam...\n",
              "\n",
              "[5 rows x 4 columns]"
            ]
          },
          "metadata": {
            "tags": []
          },
          "execution_count": 76
        },
        {
          "output_type": "execute_result",
          "data": {
            "text/html": [
              "<div>\n",
              "<style scoped>\n",
              "    .dataframe tbody tr th:only-of-type {\n",
              "        vertical-align: middle;\n",
              "    }\n",
              "\n",
              "    .dataframe tbody tr th {\n",
              "        vertical-align: top;\n",
              "    }\n",
              "\n",
              "    .dataframe thead th {\n",
              "        text-align: right;\n",
              "    }\n",
              "</style>\n",
              "<table border=\"1\" class=\"dataframe\">\n",
              "  <thead>\n",
              "    <tr style=\"text-align: right;\">\n",
              "      <th></th>\n",
              "      <th>Comments</th>\n",
              "      <th>msg_clean</th>\n",
              "      <th>msg_clean_tokenized</th>\n",
              "      <th>msg_no_sw</th>\n",
              "    </tr>\n",
              "  </thead>\n",
              "  <tbody>\n",
              "    <tr>\n",
              "      <th>9541</th>\n",
              "      <td>Did You see it? 🙈https://t.co/X1b3ZyrGbeLet th...</td>\n",
              "      <td>Did You see it 🙈httpstcoX1b3ZyrGbeLet the fun ...</td>\n",
              "      <td>[did, you, see, it, httpstcox1b3zyrgbelet, the...</td>\n",
              "      <td>[see, httpstcox1b3zyrgbelet, fun, begin, xboxn...</td>\n",
              "    </tr>\n",
              "    <tr>\n",
              "      <th>9542</th>\n",
              "      <td>4inch FHD 1080P DVR camera RecorderWhatsApp/We...</td>\n",
              "      <td>4inch FHD 1080P DVR camera RecorderWhatsAppWeC...</td>\n",
              "      <td>[4inch, fhd, 1080p, dvr, camera, recorderwhats...</td>\n",
              "      <td>[4inch, fhd, 1080p, dvr, camera, recorderwhats...</td>\n",
              "    </tr>\n",
              "    <tr>\n",
              "      <th>9543</th>\n",
              "      <td>📷 4inch FHD 1080P DVR camera Recorder WhatsApp...</td>\n",
              "      <td>📷 4inch FHD 1080P DVR camera Recorder WhatsApp...</td>\n",
              "      <td>[, 4inch, fhd, 1080p, dvr, camera, recorder, w...</td>\n",
              "      <td>[, 4inch, fhd, 1080p, dvr, camera, recorder, w...</td>\n",
              "    </tr>\n",
              "    <tr>\n",
              "      <th>9544</th>\n",
              "      <td>#autobrighttech #AutobrightTech #caraccessorie...</td>\n",
              "      <td>autobrighttech AutobrightTech caraccessories a...</td>\n",
              "      <td>[autobrighttech, autobrighttech, caraccessorie...</td>\n",
              "      <td>[autobrighttech, autobrighttech, caraccessorie...</td>\n",
              "    </tr>\n",
              "    <tr>\n",
              "      <th>9545</th>\n",
              "      <td>📷 #autobrighttech #AutobrightTech #caraccessor...</td>\n",
              "      <td>📷 autobrighttech AutobrightTech caraccessories...</td>\n",
              "      <td>[, autobrighttech, autobrighttech, caraccessor...</td>\n",
              "      <td>[, autobrighttech, autobrighttech, caraccessor...</td>\n",
              "    </tr>\n",
              "  </tbody>\n",
              "</table>\n",
              "</div>"
            ],
            "text/plain": [
              "                                               Comments  ...                                          msg_no_sw\n",
              "9541  Did You see it? 🙈https://t.co/X1b3ZyrGbeLet th...  ...  [see, httpstcox1b3zyrgbelet, fun, begin, xboxn...\n",
              "9542  4inch FHD 1080P DVR camera RecorderWhatsApp/We...  ...  [4inch, fhd, 1080p, dvr, camera, recorderwhats...\n",
              "9543  📷 4inch FHD 1080P DVR camera Recorder WhatsApp...  ...  [, 4inch, fhd, 1080p, dvr, camera, recorder, w...\n",
              "9544  #autobrighttech #AutobrightTech #caraccessorie...  ...  [autobrighttech, autobrighttech, caraccessorie...\n",
              "9545  📷 #autobrighttech #AutobrightTech #caraccessor...  ...  [, autobrighttech, autobrighttech, caraccessor...\n",
              "\n",
              "[5 rows x 4 columns]"
            ]
          },
          "metadata": {
            "tags": []
          },
          "execution_count": 76
        }
      ]
    },
    {
      "cell_type": "markdown",
      "metadata": {
        "id": "2EKB5doxCUaO",
        "colab_type": "text"
      },
      "source": [
        "# Stemming and Lemmatization"
      ]
    },
    {
      "cell_type": "code",
      "metadata": {
        "id": "JZN-ArOZwwNi",
        "colab_type": "code",
        "colab": {
          "base_uri": "https://localhost:8080/",
          "height": 578
        },
        "outputId": "fb974cab-d40d-4a83-df17-2883ec57f0a3"
      },
      "source": [
        "df['msg_stemmed'] = df['msg_no_sw'].apply(lambda x: stemming(x))\n",
        "df.head()\n",
        "df.tail()"
      ],
      "execution_count": 77,
      "outputs": [
        {
          "output_type": "execute_result",
          "data": {
            "text/html": [
              "<div>\n",
              "<style scoped>\n",
              "    .dataframe tbody tr th:only-of-type {\n",
              "        vertical-align: middle;\n",
              "    }\n",
              "\n",
              "    .dataframe tbody tr th {\n",
              "        vertical-align: top;\n",
              "    }\n",
              "\n",
              "    .dataframe thead th {\n",
              "        text-align: right;\n",
              "    }\n",
              "</style>\n",
              "<table border=\"1\" class=\"dataframe\">\n",
              "  <thead>\n",
              "    <tr style=\"text-align: right;\">\n",
              "      <th></th>\n",
              "      <th>Comments</th>\n",
              "      <th>msg_clean</th>\n",
              "      <th>msg_clean_tokenized</th>\n",
              "      <th>msg_no_sw</th>\n",
              "      <th>msg_stemmed</th>\n",
              "    </tr>\n",
              "  </thead>\n",
              "  <tbody>\n",
              "    <tr>\n",
              "      <th>0</th>\n",
              "      <td>I just bought this projector and i am clueless...</td>\n",
              "      <td>I just bought this projector and i am clueless...</td>\n",
              "      <td>[i, just, bought, this, projector, and, i, am,...</td>\n",
              "      <td>[bought, projector, clueless, connect, iphone, ]</td>\n",
              "      <td>[bought, projector, clueless, connect, iphon, ]</td>\n",
              "    </tr>\n",
              "    <tr>\n",
              "      <th>1</th>\n",
              "      <td>You promised me a multi card reader for leavin...</td>\n",
              "      <td>You promised me a multi card reader for leavin...</td>\n",
              "      <td>[you, promised, me, a, multi, card, reader, fo...</td>\n",
              "      <td>[promised, multi, card, reader, leaving, revie...</td>\n",
              "      <td>[promis, multi, card, reader, leav, review, im...</td>\n",
              "    </tr>\n",
              "    <tr>\n",
              "      <th>2</th>\n",
              "      <td>Hello Apeman, your team is not responding to m...</td>\n",
              "      <td>Hello Apeman your team is not responding to my...</td>\n",
              "      <td>[hello, apeman, your, team, is, not, respondin...</td>\n",
              "      <td>[hello, apeman, team, responding, email, fixin...</td>\n",
              "      <td>[hello, apeman, team, respond, email, fix, iss...</td>\n",
              "    </tr>\n",
              "    <tr>\n",
              "      <th>3</th>\n",
              "      <td>Great picture, I am so excited about looking f...</td>\n",
              "      <td>Great picture I am so excited about looking fo...</td>\n",
              "      <td>[great, picture, i, am, so, excited, about, lo...</td>\n",
              "      <td>[great, picture, excited, looking, 4k, cameraj...</td>\n",
              "      <td>[great, pictur, excit, look, 4k, camerajust, n...</td>\n",
              "    </tr>\n",
              "    <tr>\n",
              "      <th>4</th>\n",
              "      <td>I have just bought the Apeman 550 dashcam and ...</td>\n",
              "      <td>I have just bought the Apeman 550 dashcam and ...</td>\n",
              "      <td>[i, have, just, bought, the, apeman, 550, dash...</td>\n",
              "      <td>[bought, apeman, 550, dashcam, find, rear, cam...</td>\n",
              "      <td>[bought, apeman, 550, dashcam, find, rear, cam...</td>\n",
              "    </tr>\n",
              "  </tbody>\n",
              "</table>\n",
              "</div>"
            ],
            "text/plain": [
              "                                            Comments  ...                                        msg_stemmed\n",
              "0  I just bought this projector and i am clueless...  ...    [bought, projector, clueless, connect, iphon, ]\n",
              "1  You promised me a multi card reader for leavin...  ...  [promis, multi, card, reader, leav, review, im...\n",
              "2  Hello Apeman, your team is not responding to m...  ...  [hello, apeman, team, respond, email, fix, iss...\n",
              "3  Great picture, I am so excited about looking f...  ...  [great, pictur, excit, look, 4k, camerajust, n...\n",
              "4  I have just bought the Apeman 550 dashcam and ...  ...  [bought, apeman, 550, dashcam, find, rear, cam...\n",
              "\n",
              "[5 rows x 5 columns]"
            ]
          },
          "metadata": {
            "tags": []
          },
          "execution_count": 77
        },
        {
          "output_type": "execute_result",
          "data": {
            "text/html": [
              "<div>\n",
              "<style scoped>\n",
              "    .dataframe tbody tr th:only-of-type {\n",
              "        vertical-align: middle;\n",
              "    }\n",
              "\n",
              "    .dataframe tbody tr th {\n",
              "        vertical-align: top;\n",
              "    }\n",
              "\n",
              "    .dataframe thead th {\n",
              "        text-align: right;\n",
              "    }\n",
              "</style>\n",
              "<table border=\"1\" class=\"dataframe\">\n",
              "  <thead>\n",
              "    <tr style=\"text-align: right;\">\n",
              "      <th></th>\n",
              "      <th>Comments</th>\n",
              "      <th>msg_clean</th>\n",
              "      <th>msg_clean_tokenized</th>\n",
              "      <th>msg_no_sw</th>\n",
              "      <th>msg_stemmed</th>\n",
              "    </tr>\n",
              "  </thead>\n",
              "  <tbody>\n",
              "    <tr>\n",
              "      <th>9541</th>\n",
              "      <td>Did You see it? 🙈https://t.co/X1b3ZyrGbeLet th...</td>\n",
              "      <td>Did You see it 🙈httpstcoX1b3ZyrGbeLet the fun ...</td>\n",
              "      <td>[did, you, see, it, httpstcox1b3zyrgbelet, the...</td>\n",
              "      <td>[see, httpstcox1b3zyrgbelet, fun, begin, xboxn...</td>\n",
              "      <td>[see, httpstcox1b3zyrgbelet, fun, begin, xboxn...</td>\n",
              "    </tr>\n",
              "    <tr>\n",
              "      <th>9542</th>\n",
              "      <td>4inch FHD 1080P DVR camera RecorderWhatsApp/We...</td>\n",
              "      <td>4inch FHD 1080P DVR camera RecorderWhatsAppWeC...</td>\n",
              "      <td>[4inch, fhd, 1080p, dvr, camera, recorderwhats...</td>\n",
              "      <td>[4inch, fhd, 1080p, dvr, camera, recorderwhats...</td>\n",
              "      <td>[4inch, fhd, 1080p, dvr, camera, recorderwhats...</td>\n",
              "    </tr>\n",
              "    <tr>\n",
              "      <th>9543</th>\n",
              "      <td>📷 4inch FHD 1080P DVR camera Recorder WhatsApp...</td>\n",
              "      <td>📷 4inch FHD 1080P DVR camera Recorder WhatsApp...</td>\n",
              "      <td>[, 4inch, fhd, 1080p, dvr, camera, recorder, w...</td>\n",
              "      <td>[, 4inch, fhd, 1080p, dvr, camera, recorder, w...</td>\n",
              "      <td>[, 4inch, fhd, 1080p, dvr, camera, record, wha...</td>\n",
              "    </tr>\n",
              "    <tr>\n",
              "      <th>9544</th>\n",
              "      <td>#autobrighttech #AutobrightTech #caraccessorie...</td>\n",
              "      <td>autobrighttech AutobrightTech caraccessories a...</td>\n",
              "      <td>[autobrighttech, autobrighttech, caraccessorie...</td>\n",
              "      <td>[autobrighttech, autobrighttech, caraccessorie...</td>\n",
              "      <td>[autobrighttech, autobrighttech, caraccessori,...</td>\n",
              "    </tr>\n",
              "    <tr>\n",
              "      <th>9545</th>\n",
              "      <td>📷 #autobrighttech #AutobrightTech #caraccessor...</td>\n",
              "      <td>📷 autobrighttech AutobrightTech caraccessories...</td>\n",
              "      <td>[, autobrighttech, autobrighttech, caraccessor...</td>\n",
              "      <td>[, autobrighttech, autobrighttech, caraccessor...</td>\n",
              "      <td>[, autobrighttech, autobrighttech, caraccessor...</td>\n",
              "    </tr>\n",
              "  </tbody>\n",
              "</table>\n",
              "</div>"
            ],
            "text/plain": [
              "                                               Comments  ...                                        msg_stemmed\n",
              "9541  Did You see it? 🙈https://t.co/X1b3ZyrGbeLet th...  ...  [see, httpstcox1b3zyrgbelet, fun, begin, xboxn...\n",
              "9542  4inch FHD 1080P DVR camera RecorderWhatsApp/We...  ...  [4inch, fhd, 1080p, dvr, camera, recorderwhats...\n",
              "9543  📷 4inch FHD 1080P DVR camera Recorder WhatsApp...  ...  [, 4inch, fhd, 1080p, dvr, camera, record, wha...\n",
              "9544  #autobrighttech #AutobrightTech #caraccessorie...  ...  [autobrighttech, autobrighttech, caraccessori,...\n",
              "9545  📷 #autobrighttech #AutobrightTech #caraccessor...  ...  [, autobrighttech, autobrighttech, caraccessor...\n",
              "\n",
              "[5 rows x 5 columns]"
            ]
          },
          "metadata": {
            "tags": []
          },
          "execution_count": 77
        }
      ]
    },
    {
      "cell_type": "code",
      "metadata": {
        "id": "wi1tSAsCwwP1",
        "colab_type": "code",
        "colab": {
          "base_uri": "https://localhost:8080/",
          "height": 87
        },
        "outputId": "6a24ae91-e63e-49e5-cfca-0cd602219d95"
      },
      "source": [
        "# WordNet lexical database for lemmatization\n",
        "from nltk.stem import WordNetLemmatizer\n",
        "wordnet_lemmatizer = WordNetLemmatizer()\n",
        "nltk.download('wordnet')\n",
        "\n",
        "print(wordnet_lemmatizer.lemmatize('goose'))\n",
        "print(wordnet_lemmatizer.lemmatize('geese'))"
      ],
      "execution_count": 78,
      "outputs": [
        {
          "output_type": "stream",
          "text": [
            "[nltk_data] Downloading package wordnet to /root/nltk_data...\n",
            "[nltk_data]   Package wordnet is already up-to-date!\n"
          ],
          "name": "stdout"
        },
        {
          "output_type": "execute_result",
          "data": {
            "text/plain": [
              "True"
            ]
          },
          "metadata": {
            "tags": []
          },
          "execution_count": 78
        },
        {
          "output_type": "stream",
          "text": [
            "goose\n",
            "goose\n"
          ],
          "name": "stdout"
        }
      ]
    },
    {
      "cell_type": "code",
      "metadata": {
        "id": "F-WL_mY2xEQM",
        "colab_type": "code",
        "colab": {}
      },
      "source": [
        "def lemmatization(token_txt):\n",
        "    text = [wordnet_lemmatizer.lemmatize(word) for word in token_txt]\n",
        "    return text"
      ],
      "execution_count": 79,
      "outputs": []
    },
    {
      "cell_type": "code",
      "metadata": {
        "id": "4WaTiHj2xEVo",
        "colab_type": "code",
        "colab": {
          "base_uri": "https://localhost:8080/",
          "height": 331
        },
        "outputId": "af318903-8b7d-4e62-c833-65537b10b127"
      },
      "source": [
        "df['msg_lemmatized'] = df['msg_no_sw'].apply(lambda x : lemmatization(x))\n",
        "df.head()"
      ],
      "execution_count": 80,
      "outputs": [
        {
          "output_type": "execute_result",
          "data": {
            "text/html": [
              "<div>\n",
              "<style scoped>\n",
              "    .dataframe tbody tr th:only-of-type {\n",
              "        vertical-align: middle;\n",
              "    }\n",
              "\n",
              "    .dataframe tbody tr th {\n",
              "        vertical-align: top;\n",
              "    }\n",
              "\n",
              "    .dataframe thead th {\n",
              "        text-align: right;\n",
              "    }\n",
              "</style>\n",
              "<table border=\"1\" class=\"dataframe\">\n",
              "  <thead>\n",
              "    <tr style=\"text-align: right;\">\n",
              "      <th></th>\n",
              "      <th>Comments</th>\n",
              "      <th>msg_clean</th>\n",
              "      <th>msg_clean_tokenized</th>\n",
              "      <th>msg_no_sw</th>\n",
              "      <th>msg_stemmed</th>\n",
              "      <th>msg_lemmatized</th>\n",
              "    </tr>\n",
              "  </thead>\n",
              "  <tbody>\n",
              "    <tr>\n",
              "      <th>0</th>\n",
              "      <td>I just bought this projector and i am clueless...</td>\n",
              "      <td>I just bought this projector and i am clueless...</td>\n",
              "      <td>[i, just, bought, this, projector, and, i, am,...</td>\n",
              "      <td>[bought, projector, clueless, connect, iphone, ]</td>\n",
              "      <td>[bought, projector, clueless, connect, iphon, ]</td>\n",
              "      <td>[bought, projector, clueless, connect, iphone, ]</td>\n",
              "    </tr>\n",
              "    <tr>\n",
              "      <th>1</th>\n",
              "      <td>You promised me a multi card reader for leavin...</td>\n",
              "      <td>You promised me a multi card reader for leavin...</td>\n",
              "      <td>[you, promised, me, a, multi, card, reader, fo...</td>\n",
              "      <td>[promised, multi, card, reader, leaving, revie...</td>\n",
              "      <td>[promis, multi, card, reader, leav, review, im...</td>\n",
              "      <td>[promised, multi, card, reader, leaving, revie...</td>\n",
              "    </tr>\n",
              "    <tr>\n",
              "      <th>2</th>\n",
              "      <td>Hello Apeman, your team is not responding to m...</td>\n",
              "      <td>Hello Apeman your team is not responding to my...</td>\n",
              "      <td>[hello, apeman, your, team, is, not, respondin...</td>\n",
              "      <td>[hello, apeman, team, responding, email, fixin...</td>\n",
              "      <td>[hello, apeman, team, respond, email, fix, iss...</td>\n",
              "      <td>[hello, apeman, team, responding, email, fixin...</td>\n",
              "    </tr>\n",
              "    <tr>\n",
              "      <th>3</th>\n",
              "      <td>Great picture, I am so excited about looking f...</td>\n",
              "      <td>Great picture I am so excited about looking fo...</td>\n",
              "      <td>[great, picture, i, am, so, excited, about, lo...</td>\n",
              "      <td>[great, picture, excited, looking, 4k, cameraj...</td>\n",
              "      <td>[great, pictur, excit, look, 4k, camerajust, n...</td>\n",
              "      <td>[great, picture, excited, looking, 4k, cameraj...</td>\n",
              "    </tr>\n",
              "    <tr>\n",
              "      <th>4</th>\n",
              "      <td>I have just bought the Apeman 550 dashcam and ...</td>\n",
              "      <td>I have just bought the Apeman 550 dashcam and ...</td>\n",
              "      <td>[i, have, just, bought, the, apeman, 550, dash...</td>\n",
              "      <td>[bought, apeman, 550, dashcam, find, rear, cam...</td>\n",
              "      <td>[bought, apeman, 550, dashcam, find, rear, cam...</td>\n",
              "      <td>[bought, apeman, 550, dashcam, find, rear, cam...</td>\n",
              "    </tr>\n",
              "  </tbody>\n",
              "</table>\n",
              "</div>"
            ],
            "text/plain": [
              "                                            Comments  ...                                     msg_lemmatized\n",
              "0  I just bought this projector and i am clueless...  ...   [bought, projector, clueless, connect, iphone, ]\n",
              "1  You promised me a multi card reader for leavin...  ...  [promised, multi, card, reader, leaving, revie...\n",
              "2  Hello Apeman, your team is not responding to m...  ...  [hello, apeman, team, responding, email, fixin...\n",
              "3  Great picture, I am so excited about looking f...  ...  [great, picture, excited, looking, 4k, cameraj...\n",
              "4  I have just bought the Apeman 550 dashcam and ...  ...  [bought, apeman, 550, dashcam, find, rear, cam...\n",
              "\n",
              "[5 rows x 6 columns]"
            ]
          },
          "metadata": {
            "tags": []
          },
          "execution_count": 80
        }
      ]
    },
    {
      "cell_type": "code",
      "metadata": {
        "id": "zL_WpPrkvXxA",
        "colab_type": "code",
        "colab": {}
      },
      "source": [
        "from nltk.stem.porter import PorterStemmer\n",
        "porter_stemmer = PorterStemmer()\n",
        "# dir(porter_stemmer)"
      ],
      "execution_count": 81,
      "outputs": []
    },
    {
      "cell_type": "code",
      "metadata": {
        "id": "UtCvwSDtwwK1",
        "colab_type": "code",
        "colab": {}
      },
      "source": [
        "def stemming(tokenized_text):\n",
        "    text = [porter_stemmer.stem(word) for word in tokenized_text]\n",
        "    return text"
      ],
      "execution_count": 82,
      "outputs": []
    },
    {
      "cell_type": "code",
      "metadata": {
        "id": "rGI6A7Bg01LE",
        "colab_type": "code",
        "colab": {
          "base_uri": "https://localhost:8080/",
          "height": 70
        },
        "outputId": "62f13eb5-c3dc-44e4-f7a2-ea5ba3f1a843"
      },
      "source": [
        "from nltk import word_tokenize, FreqDist\n",
        "nltk.download('punkt')\n",
        "tokens = word_tokenize(df['msg_lemmatized'].to_string())"
      ],
      "execution_count": 83,
      "outputs": [
        {
          "output_type": "stream",
          "text": [
            "[nltk_data] Downloading package punkt to /root/nltk_data...\n",
            "[nltk_data]   Package punkt is already up-to-date!\n"
          ],
          "name": "stdout"
        },
        {
          "output_type": "execute_result",
          "data": {
            "text/plain": [
              "True"
            ]
          },
          "metadata": {
            "tags": []
          },
          "execution_count": 83
        }
      ]
    },
    {
      "cell_type": "code",
      "metadata": {
        "id": "sRv1Lezd03I0",
        "colab_type": "code",
        "colab": {
          "base_uri": "https://localhost:8080/",
          "height": 34
        },
        "outputId": "243f1897-f564-4812-9d2e-43d2d1f2de11"
      },
      "source": [
        "len(tokens)"
      ],
      "execution_count": 84,
      "outputs": [
        {
          "output_type": "execute_result",
          "data": {
            "text/plain": [
              "131422"
            ]
          },
          "metadata": {
            "tags": []
          },
          "execution_count": 84
        }
      ]
    },
    {
      "cell_type": "code",
      "metadata": {
        "id": "SMNt37L3045F",
        "colab_type": "code",
        "colab": {
          "base_uri": "https://localhost:8080/",
          "height": 34
        },
        "outputId": "c911de4d-d646-4e7c-c4ed-4c5151e818e0"
      },
      "source": [
        "len(set(tokens))"
      ],
      "execution_count": 85,
      "outputs": [
        {
          "output_type": "execute_result",
          "data": {
            "text/plain": [
              "21536"
            ]
          },
          "metadata": {
            "tags": []
          },
          "execution_count": 85
        }
      ]
    },
    {
      "cell_type": "markdown",
      "metadata": {
        "id": "ks2SgXE5CbTk",
        "colab_type": "text"
      },
      "source": [
        "# Frequency Distribution"
      ]
    },
    {
      "cell_type": "code",
      "metadata": {
        "id": "2h_JucR70tLx",
        "colab_type": "code",
        "colab": {
          "base_uri": "https://localhost:8080/",
          "height": 336
        },
        "outputId": "6cec91cc-295e-491c-e7b4-05b3cc9953b7"
      },
      "source": [
        "fd = nltk.FreqDist(tokens)\n",
        "fd.plot(30)"
      ],
      "execution_count": 86,
      "outputs": [
        {
          "output_type": "display_data",
          "data": {
            "image/png": "[encoded data removed]",
            "text/plain": [
              "<Figure size 432x288 with 1 Axes>"
            ]
          },
          "metadata": {
            "tags": [],
            "needs_background": "light"
          }
        }
      ]
    },
    {
      "cell_type": "code",
      "metadata": {
        "id": "ZVptAA08zu2_",
        "colab_type": "code",
        "colab": {}
      },
      "source": [
        "### References: \n",
        "### https://www.kaggle.com/sanikamal/nlp-with-python-and-nltk\n",
        "### https://www.kaggle.com/neokaixiang89/using-pos-tag-to-aid-textual-data-pre-processing"
      ],
      "execution_count": null,
      "outputs": []
    },
    {
      "cell_type": "code",
      "metadata": {
        "id": "eC_b6WdLBQ7m",
        "colab_type": "code",
        "colab": {}
      },
      "source": [
        ""
      ],
      "execution_count": null,
      "outputs": []
    },
    {
      "cell_type": "code",
      "metadata": {
        "id": "YDo7F8wdBQ-7",
        "colab_type": "code",
        "colab": {}
      },
      "source": [
        ""
      ],
      "execution_count": null,
      "outputs": []
    },
    {
      "cell_type": "code",
      "metadata": {
        "id": "M5RzD3cbBRCm",
        "colab_type": "code",
        "colab": {}
      },
      "source": [
        ""
      ],
      "execution_count": null,
      "outputs": []
    }
  ]
}