{
  "nbformat": 4,
  "nbformat_minor": 0,
  "metadata": {
    "colab": {
      "name": "Capstone_NLP_VADER_Aspect_final.ipynb",
      "provenance": [],
      "collapsed_sections": [],
      "toc_visible": true
    },
    "kernelspec": {
      "name": "python3",
      "display_name": "Python 3"
    }
  },
  "cells": [
    {
      "cell_type": "code",
      "metadata": {
        "id": "j6c2B3z3snM_"
      },
      "source": [
        "#Mount Google Drive\n",
        "#from google.colab import drive\n",
        "#drive.mount('/content/drive')"
      ],
      "execution_count": 118,
      "outputs": []
    },
    {
      "cell_type": "markdown",
      "metadata": {
        "id": "_2raXvZutCmD"
      },
      "source": [
        "# Import Libraries and Data"
      ]
    },
    {
      "cell_type": "code",
      "metadata": {
        "id": "-70_VvWStO9X",
        "outputId": "fb658154-c87b-4305-e6dd-28599accb82f",
        "colab": {
          "base_uri": "https://localhost:8080/",
          "height": 102
        }
      },
      "source": [
        "import sklearn\n",
        "import matplotlib.pyplot as plt\n",
        "%matplotlib inline\n",
        "import pandas\n",
        "from sklearn.model_selection import train_test_split\n",
        "import numpy\n",
        "\n",
        "import numpy as np #Linear Algebra\n",
        "import pandas as pd #Data processing, CSV file I/O (e.g. pd.read_csv)\n",
        "import matplotlib.pyplot as plt\n",
        "from mlxtend.plotting import plot_confusion_matrix\n",
        "\n",
        "from sklearn.linear_model import LogisticRegression\n",
        "from sklearn.neighbors import KNeighborsClassifier\n",
        "from sklearn.svm import SVC\n",
        "from sklearn.tree import DecisionTreeClassifier\n",
        "from sklearn.ensemble import RandomForestClassifier, GradientBoostingClassifier\n",
        "from sklearn.naive_bayes import GaussianNB\n",
        "from sklearn.metrics import accuracy_score,confusion_matrix, f1_score\n",
        "\n",
        "import numpy as np\n",
        "import pandas as pd\n",
        "import re\n",
        "import nltk\n",
        "nltk.download('stopwords')\n",
        "nltk.download('wordnet')\n",
        "from nltk.corpus import stopwords\n",
        "from nltk.stem.porter import PorterStemmer\n",
        "from nltk.stem import WordNetLemmatizer\n",
        "import matplotlib.pyplot as plt\n",
        "import seaborn as sns\n",
        "import itertools\n",
        "import collections\n",
        "import matplotlib\n",
        "\n",
        "from PIL import Image\n",
        "from wordcloud import WordCloud, STOPWORDS, ImageColorGenerator\n",
        " \n",
        "import string\n",
        "import warnings \n",
        "warnings.filterwarnings(\"ignore\", category=DeprecationWarning)\n",
        "\n",
        "%matplotlib inline\n",
        "% matplotlib inline\n",
        "\n",
        "from textblob import TextBlob\n",
        "\n",
        "#Input data files are available in the \"../input/\" directory.\n",
        "#For example, running this (by clicking run or pressing Shift+Enter) will list the files in the input directory\n",
        "\n",
        "import os"
      ],
      "execution_count": 119,
      "outputs": [
        {
          "output_type": "stream",
          "text": [
            "[nltk_data] Downloading package stopwords to /root/nltk_data...\n",
            "[nltk_data]   Package stopwords is already up-to-date!\n"
          ],
          "name": "stdout"
        },
        {
          "output_type": "execute_result",
          "data": {
            "text/plain": [
              "True"
            ]
          },
          "metadata": {
            "tags": []
          },
          "execution_count": 119
        },
        {
          "output_type": "stream",
          "text": [
            "[nltk_data] Downloading package wordnet to /root/nltk_data...\n",
            "[nltk_data]   Package wordnet is already up-to-date!\n"
          ],
          "name": "stdout"
        },
        {
          "output_type": "execute_result",
          "data": {
            "text/plain": [
              "True"
            ]
          },
          "metadata": {
            "tags": []
          },
          "execution_count": 119
        }
      ]
    },
    {
      "cell_type": "code",
      "metadata": {
        "id": "HICWo-g5tPK_"
      },
      "source": [
        "#To print mulitple statements in single command \n",
        "from IPython.core.interactiveshell import InteractiveShell\n",
        "InteractiveShell.ast_node_interactivity=\"all\""
      ],
      "execution_count": 120,
      "outputs": []
    },
    {
      "cell_type": "code",
      "metadata": {
        "id": "vAp0d3MFtPOz"
      },
      "source": [
        "df = pd.read_excel('Comments_Data_Extracts_01.xlsx')"
      ],
      "execution_count": 121,
      "outputs": []
    },
    {
      "cell_type": "markdown",
      "metadata": {
        "id": "014om4CXudUg"
      },
      "source": [
        "# Data Understanding and Preprocessing"
      ]
    },
    {
      "cell_type": "code",
      "metadata": {
        "id": "Du7v0P--tPSn",
        "outputId": "f903189b-f046-4684-9e5d-5fdfbdb4b625",
        "colab": {
          "base_uri": "https://localhost:8080/",
          "height": 170
        }
      },
      "source": [
        "df.info()\n",
        "df.shape"
      ],
      "execution_count": 122,
      "outputs": [
        {
          "output_type": "stream",
          "text": [
            "<class 'pandas.core.frame.DataFrame'>\n",
            "RangeIndex: 9546 entries, 0 to 9545\n",
            "Data columns (total 1 columns):\n",
            " #   Column    Non-Null Count  Dtype \n",
            "---  ------    --------------  ----- \n",
            " 0   Comments  9546 non-null   object\n",
            "dtypes: object(1)\n",
            "memory usage: 74.7+ KB\n"
          ],
          "name": "stdout"
        },
        {
          "output_type": "execute_result",
          "data": {
            "text/plain": [
              "(9546, 1)"
            ]
          },
          "metadata": {
            "tags": []
          },
          "execution_count": 122
        }
      ]
    },
    {
      "cell_type": "code",
      "metadata": {
        "id": "IRbkG8XRtjwH",
        "outputId": "e58e553c-805a-406d-e27b-87a74f9a0109",
        "colab": {
          "base_uri": "https://localhost:8080/",
          "height": 238
        }
      },
      "source": [
        "df.head()"
      ],
      "execution_count": 123,
      "outputs": [
        {
          "output_type": "execute_result",
          "data": {
            "text/html": [
              "<div>\n",
              "<style scoped>\n",
              "    .dataframe tbody tr th:only-of-type {\n",
              "        vertical-align: middle;\n",
              "    }\n",
              "\n",
              "    .dataframe tbody tr th {\n",
              "        vertical-align: top;\n",
              "    }\n",
              "\n",
              "    .dataframe thead th {\n",
              "        text-align: right;\n",
              "    }\n",
              "</style>\n",
              "<table border=\"1\" class=\"dataframe\">\n",
              "  <thead>\n",
              "    <tr style=\"text-align: right;\">\n",
              "      <th></th>\n",
              "      <th>Comments</th>\n",
              "    </tr>\n",
              "  </thead>\n",
              "  <tbody>\n",
              "    <tr>\n",
              "      <th>0</th>\n",
              "      <td>I just bought this projector and i am clueless how to connect to my iPhone??</td>\n",
              "    </tr>\n",
              "    <tr>\n",
              "      <th>1</th>\n",
              "      <td>You promised me a multi card reader for leaving a review I'm still waiting Susie</td>\n",
              "    </tr>\n",
              "    <tr>\n",
              "      <th>2</th>\n",
              "      <td>Hello Apeman, your team is not responding to my email or fixing the issue after multiple follow ups...</td>\n",
              "    </tr>\n",
              "    <tr>\n",
              "      <th>3</th>\n",
              "      <td>Great picture, I am so excited about looking for my own 4k camera,just need the price to come down a little  looking forward to future adventures with running &amp; a camera  #TheJogShop #Brighton #247running#Runpals #puresportsperformace #ukrunchat</td>\n",
              "    </tr>\n",
              "    <tr>\n",
              "      <th>4</th>\n",
              "      <td>I have just bought the Apeman 550 dashcam and find the rear camer cable is 1 metre too short.  Has anyone got any ideas where I can get a short extension?</td>\n",
              "    </tr>\n",
              "  </tbody>\n",
              "</table>\n",
              "</div>"
            ],
            "text/plain": [
              "                                                                                                                                                                                                                                                Comments\n",
              "0  I just bought this projector and i am clueless how to connect to my iPhone??                                                                                                                                                                         \n",
              "1  You promised me a multi card reader for leaving a review I'm still waiting Susie                                                                                                                                                                     \n",
              "2  Hello Apeman, your team is not responding to my email or fixing the issue after multiple follow ups...                                                                                                                                               \n",
              "3  Great picture, I am so excited about looking for my own 4k camera,just need the price to come down a little  looking forward to future adventures with running & a camera  #TheJogShop #Brighton #247running#Runpals #puresportsperformace #ukrunchat\n",
              "4  I have just bought the Apeman 550 dashcam and find the rear camer cable is 1 metre too short.  Has anyone got any ideas where I can get a short extension?                                                                                           "
            ]
          },
          "metadata": {
            "tags": []
          },
          "execution_count": 123
        }
      ]
    },
    {
      "cell_type": "code",
      "metadata": {
        "id": "l2z6nNDKtjys"
      },
      "source": [
        "# change datatype of 'Comments'\n",
        "df['Comments'] = df['Comments'].astype(str)"
      ],
      "execution_count": 124,
      "outputs": []
    },
    {
      "cell_type": "code",
      "metadata": {
        "id": "0n2IQ3rAtj1O",
        "outputId": "c3c0b5f0-9d82-4f62-9bfc-5c2fce2d8290",
        "colab": {
          "base_uri": "https://localhost:8080/",
          "height": 538
        }
      },
      "source": [
        "df"
      ],
      "execution_count": 125,
      "outputs": [
        {
          "output_type": "execute_result",
          "data": {
            "text/html": [
              "<div>\n",
              "<style scoped>\n",
              "    .dataframe tbody tr th:only-of-type {\n",
              "        vertical-align: middle;\n",
              "    }\n",
              "\n",
              "    .dataframe tbody tr th {\n",
              "        vertical-align: top;\n",
              "    }\n",
              "\n",
              "    .dataframe thead th {\n",
              "        text-align: right;\n",
              "    }\n",
              "</style>\n",
              "<table border=\"1\" class=\"dataframe\">\n",
              "  <thead>\n",
              "    <tr style=\"text-align: right;\">\n",
              "      <th></th>\n",
              "      <th>Comments</th>\n",
              "    </tr>\n",
              "  </thead>\n",
              "  <tbody>\n",
              "    <tr>\n",
              "      <th>0</th>\n",
              "      <td>I just bought this projector and i am clueless how to connect to my iPhone??</td>\n",
              "    </tr>\n",
              "    <tr>\n",
              "      <th>1</th>\n",
              "      <td>You promised me a multi card reader for leaving a review I'm still waiting Susie</td>\n",
              "    </tr>\n",
              "    <tr>\n",
              "      <th>2</th>\n",
              "      <td>Hello Apeman, your team is not responding to my email or fixing the issue after multiple follow ups...</td>\n",
              "    </tr>\n",
              "    <tr>\n",
              "      <th>3</th>\n",
              "      <td>Great picture, I am so excited about looking for my own 4k camera,just need the price to come down a little  looking forward to future adventures with running &amp; a camera  #TheJogShop #Brighton #247running#Runpals #puresportsperformace #ukrunchat</td>\n",
              "    </tr>\n",
              "    <tr>\n",
              "      <th>4</th>\n",
              "      <td>I have just bought the Apeman 550 dashcam and find the rear camer cable is 1 metre too short.  Has anyone got any ideas where I can get a short extension?</td>\n",
              "    </tr>\n",
              "    <tr>\n",
              "      <th>...</th>\n",
              "      <td>...</td>\n",
              "    </tr>\n",
              "    <tr>\n",
              "      <th>9541</th>\n",
              "      <td>Did You see it? 🙈https://t.co/X1b3ZyrGbeLet the fun begin! #Xbox#NintendoSwitch #Playstation https://t.co/uQtSvYtlCh</td>\n",
              "    </tr>\n",
              "    <tr>\n",
              "      <th>9542</th>\n",
              "      <td>4inch FHD 1080P DVR camera RecorderWhatsApp/WeChat+86 18332187626#autobrighttech #AutobrightTech #caraccessories #autoaccessories #otoaccessories #vehicleaccessories #carcameras #carcamerarecorder #carcameraJapan… https://t.co/AowMlwkLCN</td>\n",
              "    </tr>\n",
              "    <tr>\n",
              "      <th>9543</th>\n",
              "      <td>📷 4inch FHD 1080P DVR camera Recorder WhatsApp/WeChat+86 18332187626 #autobrighttech #AutobrightTech #caraccessories #autoaccessories #otoaccessories #vehicleaccessories #carcameras #carcamerarecorder #carcameraJapan #carcamera2020... https://t.co/i9h3w8CKxz</td>\n",
              "    </tr>\n",
              "    <tr>\n",
              "      <th>9544</th>\n",
              "      <td>#autobrighttech #AutobrightTech #caraccessories #autoaccessories #otoaccessories #vehicleaccessories #dvr #dvrcamera #dvr2018 #dvr2019 #dvr2020 #dvrl01 #carcameras #carcamerarecorder #carcameraJapan #carcamera2020… https://t.co/tSTQoGBLNQ</td>\n",
              "    </tr>\n",
              "    <tr>\n",
              "      <th>9545</th>\n",
              "      <td>📷 #autobrighttech #AutobrightTech #caraccessories #autoaccessories #otoaccessories #vehicleaccessories #dvr #dvrcamera #dvr2018 #dvr2019 #dvr2020 #dvrl01 #carcameras #carcamerarecorder #carcameraJapan #carcamera2020 #carcamera... https://t.co/sNckRMDsNk</td>\n",
              "    </tr>\n",
              "  </tbody>\n",
              "</table>\n",
              "<p>9546 rows × 1 columns</p>\n",
              "</div>"
            ],
            "text/plain": [
              "                                                                                                                                                                                                                                                                Comments\n",
              "0     I just bought this projector and i am clueless how to connect to my iPhone??                                                                                                                                                                                      \n",
              "1     You promised me a multi card reader for leaving a review I'm still waiting Susie                                                                                                                                                                                  \n",
              "2     Hello Apeman, your team is not responding to my email or fixing the issue after multiple follow ups...                                                                                                                                                            \n",
              "3     Great picture, I am so excited about looking for my own 4k camera,just need the price to come down a little  looking forward to future adventures with running & a camera  #TheJogShop #Brighton #247running#Runpals #puresportsperformace #ukrunchat             \n",
              "4     I have just bought the Apeman 550 dashcam and find the rear camer cable is 1 metre too short.  Has anyone got any ideas where I can get a short extension?                                                                                                        \n",
              "...                                                                                                                                                          ...                                                                                                        \n",
              "9541  Did You see it? 🙈https://t.co/X1b3ZyrGbeLet the fun begin! #Xbox#NintendoSwitch #Playstation https://t.co/uQtSvYtlCh                                                                                                                                              \n",
              "9542  4inch FHD 1080P DVR camera RecorderWhatsApp/WeChat+86 18332187626#autobrighttech #AutobrightTech #caraccessories #autoaccessories #otoaccessories #vehicleaccessories #carcameras #carcamerarecorder #carcameraJapan… https://t.co/AowMlwkLCN                     \n",
              "9543  📷 4inch FHD 1080P DVR camera Recorder WhatsApp/WeChat+86 18332187626 #autobrighttech #AutobrightTech #caraccessories #autoaccessories #otoaccessories #vehicleaccessories #carcameras #carcamerarecorder #carcameraJapan #carcamera2020... https://t.co/i9h3w8CKxz\n",
              "9544  #autobrighttech #AutobrightTech #caraccessories #autoaccessories #otoaccessories #vehicleaccessories #dvr #dvrcamera #dvr2018 #dvr2019 #dvr2020 #dvrl01 #carcameras #carcamerarecorder #carcameraJapan #carcamera2020… https://t.co/tSTQoGBLNQ                    \n",
              "9545  📷 #autobrighttech #AutobrightTech #caraccessories #autoaccessories #otoaccessories #vehicleaccessories #dvr #dvrcamera #dvr2018 #dvr2019 #dvr2020 #dvrl01 #carcameras #carcamerarecorder #carcameraJapan #carcamera2020 #carcamera... https://t.co/sNckRMDsNk     \n",
              "\n",
              "[9546 rows x 1 columns]"
            ]
          },
          "metadata": {
            "tags": []
          },
          "execution_count": 125
        }
      ]
    },
    {
      "cell_type": "code",
      "metadata": {
        "id": "SP7KyeN_tj30",
        "outputId": "eb7c18ff-3871-4bd1-a0c3-6a04495d86ac",
        "colab": {
          "base_uri": "https://localhost:8080/",
          "height": 102
        }
      },
      "source": [
        "import nltk\n",
        "nltk.download('stopwords')\n",
        "nltk.download('wordnet')\n",
        "from nltk.stem.porter import PorterStemmer\n",
        "from nltk.stem import WordNetLemmatizer\n",
        "from nltk.corpus import stopwords\n",
        "from textblob import TextBlob"
      ],
      "execution_count": 126,
      "outputs": [
        {
          "output_type": "stream",
          "text": [
            "[nltk_data] Downloading package stopwords to /root/nltk_data...\n",
            "[nltk_data]   Package stopwords is already up-to-date!\n"
          ],
          "name": "stdout"
        },
        {
          "output_type": "execute_result",
          "data": {
            "text/plain": [
              "True"
            ]
          },
          "metadata": {
            "tags": []
          },
          "execution_count": 126
        },
        {
          "output_type": "stream",
          "text": [
            "[nltk_data] Downloading package wordnet to /root/nltk_data...\n",
            "[nltk_data]   Package wordnet is already up-to-date!\n"
          ],
          "name": "stdout"
        },
        {
          "output_type": "execute_result",
          "data": {
            "text/plain": [
              "True"
            ]
          },
          "metadata": {
            "tags": []
          },
          "execution_count": 126
        }
      ]
    },
    {
      "cell_type": "code",
      "metadata": {
        "id": "nq0hsJf1sHIQ",
        "outputId": "ad72ad94-3d4b-4bd2-ffe3-317124daa4c8",
        "colab": {
          "base_uri": "https://localhost:8080/",
          "height": 34
        }
      },
      "source": [
        "print(f\"Numbers of missing comments = {df['Comments'].isnull().sum()}\")"
      ],
      "execution_count": 127,
      "outputs": [
        {
          "output_type": "stream",
          "text": [
            "Numbers of missing comments = 0\n"
          ],
          "name": "stdout"
        }
      ]
    },
    {
      "cell_type": "markdown",
      "metadata": {
        "id": "w9qTaBoCLHnz"
      },
      "source": [
        "Spell Correction"
      ]
    },
    {
      "cell_type": "code",
      "metadata": {
        "id": "NSuhHV8ptj6a"
      },
      "source": [
        "# Spell correct using text blob for the first 1000 records\n",
        "#from textblob import TextBlob\n",
        "#dfs = df['Comments'][:1000].apply(lambda x: str(TextBlob(x).correct()))"
      ],
      "execution_count": 128,
      "outputs": []
    },
    {
      "cell_type": "code",
      "metadata": {
        "id": "zeYkIBPt5QKM"
      },
      "source": [
        "#dfs"
      ],
      "execution_count": 129,
      "outputs": []
    },
    {
      "cell_type": "markdown",
      "metadata": {
        "id": "Hk2Cp5-uLKi9"
      },
      "source": [
        "Text Preprocessing"
      ]
    },
    {
      "cell_type": "code",
      "metadata": {
        "id": "p0idrdtz5QNU"
      },
      "source": [
        "corpus = [] # form an empty list called corpus\n",
        "ps = PorterStemmer() # for stemming the words to original form, for example - \"running to run\"\n",
        "stop_words = set(stopwords.words('english')) # remove words such as will, I, and, at etc.\n",
        "for i in range(0, 9546): # iterate through the list of all 9546 comments\n",
        "  # remove handles (@), numbers, urls, emojis and any other special characters to have only text\n",
        "  df_cln = re.sub(\"(@[A-Za-z0-9]+)|([^0-9A-Za-z \\t])|(\\w+:\\/\\/\\S+)|[0-9]\", '',df.Comments[i])\n",
        "  # convert all words to lower case\n",
        "  df_cln = df_cln.lower()\n",
        "  # split sentences into words\n",
        "  df_cln = df_cln.split()\n",
        "  # remove English stop words\n",
        "  df_cln = [x for x in df_cln if not x in stop_words]\n",
        "  # stem words to the base form\n",
        "  df_cln = [ps.stem(x) for x in df_cln]\n",
        "  # join words to form the original sentences\n",
        "  df_cln = \" \".join(df_cln)\n",
        "  # append to the list to get all Comments in one place\n",
        "  corpus.append(df_cln)\n",
        "#print(corpus)"
      ],
      "execution_count": 130,
      "outputs": []
    },
    {
      "cell_type": "markdown",
      "metadata": {
        "id": "M20ibKzjYNGI"
      },
      "source": [
        "## ------------------------------------------------------------------------------------------------------------------------------------- ##"
      ]
    },
    {
      "cell_type": "markdown",
      "metadata": {
        "id": "oKP_jbivPq6n"
      },
      "source": [
        "# VADER (Valence Aware Dictionary and sEntiment Reasoner) Sentiment Analysis"
      ]
    },
    {
      "cell_type": "code",
      "metadata": {
        "id": "mQNCi9pA5cyJ"
      },
      "source": [
        "from pandas import DataFrame\n",
        "df_clean = DataFrame (corpus,columns=['comments'])"
      ],
      "execution_count": 131,
      "outputs": []
    },
    {
      "cell_type": "code",
      "metadata": {
        "id": "M2uFTpDWM89j",
        "outputId": "1220fa8f-8a45-4488-a3d5-ab9d101ebd62",
        "colab": {
          "base_uri": "https://localhost:8080/",
          "height": 139
        }
      },
      "source": [
        "pip install vaderSentiment"
      ],
      "execution_count": 132,
      "outputs": [
        {
          "output_type": "stream",
          "text": [
            "Requirement already satisfied: vaderSentiment in /usr/local/lib/python3.6/dist-packages (3.3.2)\n",
            "Requirement already satisfied: requests in /usr/local/lib/python3.6/dist-packages (from vaderSentiment) (2.23.0)\n",
            "Requirement already satisfied: idna<3,>=2.5 in /usr/local/lib/python3.6/dist-packages (from requests->vaderSentiment) (2.10)\n",
            "Requirement already satisfied: urllib3!=1.25.0,!=1.25.1,<1.26,>=1.21.1 in /usr/local/lib/python3.6/dist-packages (from requests->vaderSentiment) (1.24.3)\n",
            "Requirement already satisfied: certifi>=2017.4.17 in /usr/local/lib/python3.6/dist-packages (from requests->vaderSentiment) (2020.6.20)\n",
            "Requirement already satisfied: chardet<4,>=3.0.2 in /usr/local/lib/python3.6/dist-packages (from requests->vaderSentiment) (3.0.4)\n"
          ],
          "name": "stdout"
        }
      ]
    },
    {
      "cell_type": "code",
      "metadata": {
        "id": "ndm9aYehJt-y"
      },
      "source": [
        "from vaderSentiment.vaderSentiment import SentimentIntensityAnalyzer\n",
        "analyser = SentimentIntensityAnalyzer()"
      ],
      "execution_count": 133,
      "outputs": []
    },
    {
      "cell_type": "code",
      "metadata": {
        "id": "CcBzwySZJuCE"
      },
      "source": [
        "def sentiment_analyzer_scores(sentence):\n",
        "    score = analyser.polarity_scores(sentence)\n",
        "    print(\"{:-<40} {}\".format(sentence, str(score)))"
      ],
      "execution_count": 134,
      "outputs": []
    },
    {
      "cell_type": "code",
      "metadata": {
        "id": "eV_jEoBJMVMM"
      },
      "source": [
        "df_clean_new = df_clean.comments[0:5]"
      ],
      "execution_count": 135,
      "outputs": []
    },
    {
      "cell_type": "code",
      "metadata": {
        "id": "LHp4tMz8JuFR",
        "outputId": "7008412a-5421-4eb7-8f53-ddbcd34e2fc9",
        "colab": {
          "base_uri": "https://localhost:8080/",
          "height": 139
        }
      },
      "source": [
        "#general imports\n",
        "import pandas as pd # data processing, CSV file I/O (e.g. pd.read_csv)\n",
        "import numpy as np # linear algebra\n",
        "import seaborn as sns # plotting\n",
        "import matplotlib.pyplot as plt # plotting\n",
        "%matplotlib inline\n",
        "import os # accessing directory structure\n",
        "\n",
        "#NLP processing imports\n",
        "from wordcloud import WordCloud\n",
        "import nltk\n",
        "from nltk.corpus import stopwords\n",
        "from nltk import sent_tokenize, word_tokenize\n",
        "from wordcloud import WordCloud, STOPWORDS\n",
        "from collections import Counter\n",
        "from nltk.tokenize import RegexpTokenizer\n",
        "import re\n",
        "import spacy\n",
        "\n",
        "###Vader Sentiment\n",
        "#To install vaderSentiment\n",
        "!pip install vaderSentiment \n",
        "from vaderSentiment import vaderSentiment\n",
        "from textblob import TextBlob\n",
        "from vaderSentiment.vaderSentiment import SentimentIntensityAnalyzer\n",
        "\n",
        "####Lemmatization\n",
        "from nltk.stem import WordNetLemmatizer\n",
        "# Lemmatize with POS Tag\n",
        "from nltk.corpus import wordnet"
      ],
      "execution_count": 136,
      "outputs": [
        {
          "output_type": "stream",
          "text": [
            "Requirement already satisfied: vaderSentiment in /usr/local/lib/python3.6/dist-packages (3.3.2)\n",
            "Requirement already satisfied: requests in /usr/local/lib/python3.6/dist-packages (from vaderSentiment) (2.23.0)\n",
            "Requirement already satisfied: idna<3,>=2.5 in /usr/local/lib/python3.6/dist-packages (from requests->vaderSentiment) (2.10)\n",
            "Requirement already satisfied: certifi>=2017.4.17 in /usr/local/lib/python3.6/dist-packages (from requests->vaderSentiment) (2020.6.20)\n",
            "Requirement already satisfied: urllib3!=1.25.0,!=1.25.1,<1.26,>=1.21.1 in /usr/local/lib/python3.6/dist-packages (from requests->vaderSentiment) (1.24.3)\n",
            "Requirement already satisfied: chardet<4,>=3.0.2 in /usr/local/lib/python3.6/dist-packages (from requests->vaderSentiment) (3.0.4)\n"
          ],
          "name": "stdout"
        }
      ]
    },
    {
      "cell_type": "code",
      "metadata": {
        "id": "xqmlJ-C1QnKp"
      },
      "source": [
        "data = pd.read_excel('Comments_Data_Extracts_01.xlsx')"
      ],
      "execution_count": 137,
      "outputs": []
    },
    {
      "cell_type": "code",
      "metadata": {
        "id": "j34Z3QgjM9Ag",
        "outputId": "fa11341a-a5a2-4e36-9781-64fdfafb1527",
        "colab": {
          "base_uri": "https://localhost:8080/",
          "height": 34
        }
      },
      "source": [
        "data.shape"
      ],
      "execution_count": 138,
      "outputs": [
        {
          "output_type": "execute_result",
          "data": {
            "text/plain": [
              "(9546, 1)"
            ]
          },
          "metadata": {
            "tags": []
          },
          "execution_count": 138
        }
      ]
    },
    {
      "cell_type": "code",
      "metadata": {
        "id": "tqsLYfy9LUx2"
      },
      "source": [
        "data = data.loc[:10000]"
      ],
      "execution_count": 139,
      "outputs": []
    },
    {
      "cell_type": "code",
      "metadata": {
        "id": "Tb3P1HTnLU01",
        "outputId": "d84858c9-e627-4e6c-fb53-595ef8d5f263",
        "colab": {
          "base_uri": "https://localhost:8080/",
          "height": 34
        }
      },
      "source": [
        "data.shape"
      ],
      "execution_count": 140,
      "outputs": [
        {
          "output_type": "execute_result",
          "data": {
            "text/plain": [
              "(9546, 1)"
            ]
          },
          "metadata": {
            "tags": []
          },
          "execution_count": 140
        }
      ]
    },
    {
      "cell_type": "code",
      "metadata": {
        "id": "5uaKmjIPQydk",
        "outputId": "bfc647ad-7e68-4c91-f547-473d2393008a",
        "colab": {
          "base_uri": "https://localhost:8080/",
          "height": 238
        }
      },
      "source": [
        "data.head()"
      ],
      "execution_count": 141,
      "outputs": [
        {
          "output_type": "execute_result",
          "data": {
            "text/html": [
              "<div>\n",
              "<style scoped>\n",
              "    .dataframe tbody tr th:only-of-type {\n",
              "        vertical-align: middle;\n",
              "    }\n",
              "\n",
              "    .dataframe tbody tr th {\n",
              "        vertical-align: top;\n",
              "    }\n",
              "\n",
              "    .dataframe thead th {\n",
              "        text-align: right;\n",
              "    }\n",
              "</style>\n",
              "<table border=\"1\" class=\"dataframe\">\n",
              "  <thead>\n",
              "    <tr style=\"text-align: right;\">\n",
              "      <th></th>\n",
              "      <th>Comments</th>\n",
              "    </tr>\n",
              "  </thead>\n",
              "  <tbody>\n",
              "    <tr>\n",
              "      <th>0</th>\n",
              "      <td>I just bought this projector and i am clueless how to connect to my iPhone??</td>\n",
              "    </tr>\n",
              "    <tr>\n",
              "      <th>1</th>\n",
              "      <td>You promised me a multi card reader for leaving a review I'm still waiting Susie</td>\n",
              "    </tr>\n",
              "    <tr>\n",
              "      <th>2</th>\n",
              "      <td>Hello Apeman, your team is not responding to my email or fixing the issue after multiple follow ups...</td>\n",
              "    </tr>\n",
              "    <tr>\n",
              "      <th>3</th>\n",
              "      <td>Great picture, I am so excited about looking for my own 4k camera,just need the price to come down a little  looking forward to future adventures with running &amp; a camera  #TheJogShop #Brighton #247running#Runpals #puresportsperformace #ukrunchat</td>\n",
              "    </tr>\n",
              "    <tr>\n",
              "      <th>4</th>\n",
              "      <td>I have just bought the Apeman 550 dashcam and find the rear camer cable is 1 metre too short.  Has anyone got any ideas where I can get a short extension?</td>\n",
              "    </tr>\n",
              "  </tbody>\n",
              "</table>\n",
              "</div>"
            ],
            "text/plain": [
              "                                                                                                                                                                                                                                                Comments\n",
              "0  I just bought this projector and i am clueless how to connect to my iPhone??                                                                                                                                                                         \n",
              "1  You promised me a multi card reader for leaving a review I'm still waiting Susie                                                                                                                                                                     \n",
              "2  Hello Apeman, your team is not responding to my email or fixing the issue after multiple follow ups...                                                                                                                                               \n",
              "3  Great picture, I am so excited about looking for my own 4k camera,just need the price to come down a little  looking forward to future adventures with running & a camera  #TheJogShop #Brighton #247running#Runpals #puresportsperformace #ukrunchat\n",
              "4  I have just bought the Apeman 550 dashcam and find the rear camer cable is 1 metre too short.  Has anyone got any ideas where I can get a short extension?                                                                                           "
            ]
          },
          "metadata": {
            "tags": []
          },
          "execution_count": 141
        }
      ]
    },
    {
      "cell_type": "code",
      "metadata": {
        "id": "pSEQr5gWQygK",
        "outputId": "fa29ce7b-ec9c-4b44-9dde-f3f1991c031f",
        "colab": {
          "base_uri": "https://localhost:8080/",
          "height": 71
        }
      },
      "source": [
        "pd.set_option('display.max_colwidth', -1)"
      ],
      "execution_count": 142,
      "outputs": [
        {
          "output_type": "stream",
          "text": [
            "/usr/local/lib/python3.6/dist-packages/ipykernel_launcher.py:1: FutureWarning: Passing a negative integer is deprecated in version 1.0 and will not be supported in future version. Instead, use None to not limit the column width.\n",
            "  \"\"\"Entry point for launching an IPython kernel.\n"
          ],
          "name": "stderr"
        }
      ]
    },
    {
      "cell_type": "code",
      "metadata": {
        "id": "jUSl97KOQyiX",
        "outputId": "2041b1d0-c666-47dd-bc5b-b12822eded26",
        "colab": {
          "base_uri": "https://localhost:8080/",
          "height": 393
        }
      },
      "source": [
        "data.head(10)"
      ],
      "execution_count": 143,
      "outputs": [
        {
          "output_type": "execute_result",
          "data": {
            "text/html": [
              "<div>\n",
              "<style scoped>\n",
              "    .dataframe tbody tr th:only-of-type {\n",
              "        vertical-align: middle;\n",
              "    }\n",
              "\n",
              "    .dataframe tbody tr th {\n",
              "        vertical-align: top;\n",
              "    }\n",
              "\n",
              "    .dataframe thead th {\n",
              "        text-align: right;\n",
              "    }\n",
              "</style>\n",
              "<table border=\"1\" class=\"dataframe\">\n",
              "  <thead>\n",
              "    <tr style=\"text-align: right;\">\n",
              "      <th></th>\n",
              "      <th>Comments</th>\n",
              "    </tr>\n",
              "  </thead>\n",
              "  <tbody>\n",
              "    <tr>\n",
              "      <th>0</th>\n",
              "      <td>I just bought this projector and i am clueless how to connect to my iPhone??</td>\n",
              "    </tr>\n",
              "    <tr>\n",
              "      <th>1</th>\n",
              "      <td>You promised me a multi card reader for leaving a review I'm still waiting Susie</td>\n",
              "    </tr>\n",
              "    <tr>\n",
              "      <th>2</th>\n",
              "      <td>Hello Apeman, your team is not responding to my email or fixing the issue after multiple follow ups...</td>\n",
              "    </tr>\n",
              "    <tr>\n",
              "      <th>3</th>\n",
              "      <td>Great picture, I am so excited about looking for my own 4k camera,just need the price to come down a little  looking forward to future adventures with running &amp; a camera  #TheJogShop #Brighton #247running#Runpals #puresportsperformace #ukrunchat</td>\n",
              "    </tr>\n",
              "    <tr>\n",
              "      <th>4</th>\n",
              "      <td>I have just bought the Apeman 550 dashcam and find the rear camer cable is 1 metre too short.  Has anyone got any ideas where I can get a short extension?</td>\n",
              "    </tr>\n",
              "    <tr>\n",
              "      <th>5</th>\n",
              "      <td>Possible to try?</td>\n",
              "    </tr>\n",
              "    <tr>\n",
              "      <th>6</th>\n",
              "      <td>Price?</td>\n",
              "    </tr>\n",
              "    <tr>\n",
              "      <th>7</th>\n",
              "      <td>Terrible company and product from china</td>\n",
              "    </tr>\n",
              "    <tr>\n",
              "      <th>8</th>\n",
              "      <td>should say...Hidden Design, not Hidded</td>\n",
              "    </tr>\n",
              "    <tr>\n",
              "      <th>9</th>\n",
              "      <td>Hello i have a camera apeman a70. What is the app to use wifi?</td>\n",
              "    </tr>\n",
              "  </tbody>\n",
              "</table>\n",
              "</div>"
            ],
            "text/plain": [
              "                                                                                                                                                                                                                                                Comments\n",
              "0  I just bought this projector and i am clueless how to connect to my iPhone??                                                                                                                                                                         \n",
              "1  You promised me a multi card reader for leaving a review I'm still waiting Susie                                                                                                                                                                     \n",
              "2  Hello Apeman, your team is not responding to my email or fixing the issue after multiple follow ups...                                                                                                                                               \n",
              "3  Great picture, I am so excited about looking for my own 4k camera,just need the price to come down a little  looking forward to future adventures with running & a camera  #TheJogShop #Brighton #247running#Runpals #puresportsperformace #ukrunchat\n",
              "4  I have just bought the Apeman 550 dashcam and find the rear camer cable is 1 metre too short.  Has anyone got any ideas where I can get a short extension?                                                                                           \n",
              "5  Possible to try?                                                                                                                                                                                                                                     \n",
              "6  Price?                                                                                                                                                                                                                                               \n",
              "7  Terrible company and product from china                                                                                                                                                                                                              \n",
              "8  should say...Hidden Design, not Hidded                                                                                                                                                                                                               \n",
              "9  Hello i have a camera apeman a70. What is the app to use wifi?                                                                                                                                                                                       "
            ]
          },
          "metadata": {
            "tags": []
          },
          "execution_count": 143
        }
      ]
    },
    {
      "cell_type": "code",
      "metadata": {
        "id": "TUMaSWinQylm",
        "outputId": "8b19fd91-f7b9-4260-edd4-79fd6d1df2f8",
        "colab": {
          "base_uri": "https://localhost:8080/",
          "height": 34
        }
      },
      "source": [
        "nRow, nCol = data.shape\n",
        "print(f'There are {nRow} rows and {nCol} columns')"
      ],
      "execution_count": 144,
      "outputs": [
        {
          "output_type": "stream",
          "text": [
            "There are 9546 rows and 1 columns\n"
          ],
          "name": "stdout"
        }
      ]
    },
    {
      "cell_type": "code",
      "metadata": {
        "id": "jIFH2CfMRAQu",
        "outputId": "95446bb9-12f5-4e91-e4b5-e56915b9419b",
        "colab": {
          "base_uri": "https://localhost:8080/",
          "height": 51
        }
      },
      "source": [
        "#DataTypes\n",
        "data.dtypes"
      ],
      "execution_count": 145,
      "outputs": [
        {
          "output_type": "execute_result",
          "data": {
            "text/plain": [
              "Comments    object\n",
              "dtype: object"
            ]
          },
          "metadata": {
            "tags": []
          },
          "execution_count": 145
        }
      ]
    },
    {
      "cell_type": "code",
      "metadata": {
        "id": "QDv4hYRURAT9"
      },
      "source": [
        "data[\"Comments\"] = data[\"Comments\"].astype(str)"
      ],
      "execution_count": 146,
      "outputs": []
    },
    {
      "cell_type": "markdown",
      "metadata": {
        "id": "ej_I0K7VRRsb"
      },
      "source": [
        "Remove URLs"
      ]
    },
    {
      "cell_type": "code",
      "metadata": {
        "id": "mOXOx_VoRAXd"
      },
      "source": [
        "def remove_urls(text):\n",
        "    url_pattern = re.compile(r'https?://\\S+|www\\.\\S+|@[^\\s]+')\n",
        "    return url_pattern.sub(r'', text)"
      ],
      "execution_count": 147,
      "outputs": []
    },
    {
      "cell_type": "code",
      "metadata": {
        "id": "5YI5DOPkQypv"
      },
      "source": [
        "data[\"commentclean\"] = data[\"Comments\"].apply(lambda text: remove_urls(text))"
      ],
      "execution_count": 148,
      "outputs": []
    },
    {
      "cell_type": "code",
      "metadata": {
        "id": "BOsUDkkTRZXd",
        "outputId": "41fea7fc-3d94-4093-8836-aca6ec1be059",
        "colab": {
          "base_uri": "https://localhost:8080/",
          "height": 340
        }
      },
      "source": [
        "data.head()"
      ],
      "execution_count": 149,
      "outputs": [
        {
          "output_type": "execute_result",
          "data": {
            "text/html": [
              "<div>\n",
              "<style scoped>\n",
              "    .dataframe tbody tr th:only-of-type {\n",
              "        vertical-align: middle;\n",
              "    }\n",
              "\n",
              "    .dataframe tbody tr th {\n",
              "        vertical-align: top;\n",
              "    }\n",
              "\n",
              "    .dataframe thead th {\n",
              "        text-align: right;\n",
              "    }\n",
              "</style>\n",
              "<table border=\"1\" class=\"dataframe\">\n",
              "  <thead>\n",
              "    <tr style=\"text-align: right;\">\n",
              "      <th></th>\n",
              "      <th>Comments</th>\n",
              "      <th>commentclean</th>\n",
              "    </tr>\n",
              "  </thead>\n",
              "  <tbody>\n",
              "    <tr>\n",
              "      <th>0</th>\n",
              "      <td>I just bought this projector and i am clueless how to connect to my iPhone??</td>\n",
              "      <td>I just bought this projector and i am clueless how to connect to my iPhone??</td>\n",
              "    </tr>\n",
              "    <tr>\n",
              "      <th>1</th>\n",
              "      <td>You promised me a multi card reader for leaving a review I'm still waiting Susie</td>\n",
              "      <td>You promised me a multi card reader for leaving a review I'm still waiting Susie</td>\n",
              "    </tr>\n",
              "    <tr>\n",
              "      <th>2</th>\n",
              "      <td>Hello Apeman, your team is not responding to my email or fixing the issue after multiple follow ups...</td>\n",
              "      <td>Hello Apeman, your team is not responding to my email or fixing the issue after multiple follow ups...</td>\n",
              "    </tr>\n",
              "    <tr>\n",
              "      <th>3</th>\n",
              "      <td>Great picture, I am so excited about looking for my own 4k camera,just need the price to come down a little  looking forward to future adventures with running &amp; a camera  #TheJogShop #Brighton #247running#Runpals #puresportsperformace #ukrunchat</td>\n",
              "      <td>Great picture, I am so excited about looking for my own 4k camera,just need the price to come down a little  looking forward to future adventures with running &amp; a camera  #TheJogShop #Brighton #247running#Runpals #puresportsperformace #ukrunchat</td>\n",
              "    </tr>\n",
              "    <tr>\n",
              "      <th>4</th>\n",
              "      <td>I have just bought the Apeman 550 dashcam and find the rear camer cable is 1 metre too short.  Has anyone got any ideas where I can get a short extension?</td>\n",
              "      <td>I have just bought the Apeman 550 dashcam and find the rear camer cable is 1 metre too short.  Has anyone got any ideas where I can get a short extension?</td>\n",
              "    </tr>\n",
              "  </tbody>\n",
              "</table>\n",
              "</div>"
            ],
            "text/plain": [
              "                                                                                                                                                                                                                                                Comments                                                                                                                                                                                                                                           commentclean\n",
              "0  I just bought this projector and i am clueless how to connect to my iPhone??                                                                                                                                                                           I just bought this projector and i am clueless how to connect to my iPhone??                                                                                                                                                                         \n",
              "1  You promised me a multi card reader for leaving a review I'm still waiting Susie                                                                                                                                                                       You promised me a multi card reader for leaving a review I'm still waiting Susie                                                                                                                                                                     \n",
              "2  Hello Apeman, your team is not responding to my email or fixing the issue after multiple follow ups...                                                                                                                                                 Hello Apeman, your team is not responding to my email or fixing the issue after multiple follow ups...                                                                                                                                               \n",
              "3  Great picture, I am so excited about looking for my own 4k camera,just need the price to come down a little  looking forward to future adventures with running & a camera  #TheJogShop #Brighton #247running#Runpals #puresportsperformace #ukrunchat  Great picture, I am so excited about looking for my own 4k camera,just need the price to come down a little  looking forward to future adventures with running & a camera  #TheJogShop #Brighton #247running#Runpals #puresportsperformace #ukrunchat\n",
              "4  I have just bought the Apeman 550 dashcam and find the rear camer cable is 1 metre too short.  Has anyone got any ideas where I can get a short extension?                                                                                             I have just bought the Apeman 550 dashcam and find the rear camer cable is 1 metre too short.  Has anyone got any ideas where I can get a short extension?                                                                                           "
            ]
          },
          "metadata": {
            "tags": []
          },
          "execution_count": 149
        }
      ]
    },
    {
      "cell_type": "markdown",
      "metadata": {
        "id": "14g3AbqCRkPT"
      },
      "source": [
        "Find out the top 100 words which are getting used in the text of the data"
      ]
    },
    {
      "cell_type": "code",
      "metadata": {
        "id": "MwzBrLGhRZaH"
      },
      "source": [
        "top_N = 100 #top 100 words\n",
        "\n",
        "#convert list of list into text\n",
        "a = data['commentclean'].str.lower().str.cat(sep=' ')\n",
        "\n",
        "# removes punctuation,numbers and returns list of words\n",
        "b = re.sub('[^A-Za-z]+', ' ', a)"
      ],
      "execution_count": 150,
      "outputs": []
    },
    {
      "cell_type": "code",
      "metadata": {
        "id": "JJzbSE-BRZdY"
      },
      "source": [
        "#remove all the stopwords from the text\n",
        "stop_words = set(stopwords.words('english'))    \n",
        "nltk_words = list(stopwords.words('english'))   "
      ],
      "execution_count": 151,
      "outputs": []
    },
    {
      "cell_type": "code",
      "metadata": {
        "id": "3vR8R84JSkRp",
        "outputId": "ea2075f0-8ccc-4912-e472-bcf667dbed19",
        "colab": {
          "base_uri": "https://localhost:8080/",
          "height": 68
        }
      },
      "source": [
        "nltk.download('punkt')\n",
        "word_tokens = word_tokenize(b) # Tokenization\n",
        "filtered_sentence = [w for w in word_tokens if not w in stop_words]\n",
        "filtered_sentence = []\n",
        "for w in word_tokens:\n",
        "    if w not in stop_words:\n",
        "        filtered_sentence.append(w)"
      ],
      "execution_count": 152,
      "outputs": [
        {
          "output_type": "stream",
          "text": [
            "[nltk_data] Downloading package punkt to /root/nltk_data...\n",
            "[nltk_data]   Package punkt is already up-to-date!\n"
          ],
          "name": "stdout"
        },
        {
          "output_type": "execute_result",
          "data": {
            "text/plain": [
              "True"
            ]
          },
          "metadata": {
            "tags": []
          },
          "execution_count": 152
        }
      ]
    },
    {
      "cell_type": "code",
      "metadata": {
        "id": "2rAa-d29SkUy"
      },
      "source": [
        "# Remove characters which have length less than 2  \n",
        "without_single_chr = [word for word in filtered_sentence if len(word) > 2]\n",
        "\n",
        "# Remove numbers\n",
        "cleaned_data_title = [word for word in without_single_chr if not word.isnumeric()]"
      ],
      "execution_count": 153,
      "outputs": []
    },
    {
      "cell_type": "markdown",
      "metadata": {
        "id": "GC1GYrchSww0"
      },
      "source": [
        "Lemmatization"
      ]
    },
    {
      "cell_type": "code",
      "metadata": {
        "id": "fCKEpuWjSwMi"
      },
      "source": [
        "def get_wordnet_pos(word):\n",
        "    \"\"\"Map POS tag to first character lemmatize() accepts\"\"\"\n",
        "    tag = nltk.pos_tag([word])[0][1][0].upper()\n",
        "    tag_dict = {\"J\": wordnet.ADJ,\n",
        "                \"N\": wordnet.NOUN,\n",
        "                \"V\": wordnet.VERB,\n",
        "                \"R\": wordnet.ADV}\n",
        "    return tag_dict.get(tag, wordnet.NOUN)\n",
        "\n",
        "# 1. Init Lemmatizer\n",
        "lemmatizer = WordNetLemmatizer()"
      ],
      "execution_count": 154,
      "outputs": []
    },
    {
      "cell_type": "code",
      "metadata": {
        "id": "MbbuisUCSkdl",
        "outputId": "dc3bb79d-9652-4720-acdf-22abe347a852",
        "colab": {
          "base_uri": "https://localhost:8080/",
          "height": 102
        }
      },
      "source": [
        "nltk.download('averaged_perceptron_tagger')\n",
        "lemmatized_output = [lemmatizer.lemmatize(w, get_wordnet_pos(w)) for w in cleaned_data_title]\n",
        "lemmatized_output = [word for word in lemmatized_output if not word.isnumeric()]"
      ],
      "execution_count": 155,
      "outputs": [
        {
          "output_type": "stream",
          "text": [
            "[nltk_data] Downloading package averaged_perceptron_tagger to\n",
            "[nltk_data]     /root/nltk_data...\n",
            "[nltk_data]   Package averaged_perceptron_tagger is already up-to-\n",
            "[nltk_data]       date!\n"
          ],
          "name": "stdout"
        },
        {
          "output_type": "execute_result",
          "data": {
            "text/plain": [
              "True"
            ]
          },
          "metadata": {
            "tags": []
          },
          "execution_count": 155
        }
      ]
    },
    {
      "cell_type": "markdown",
      "metadata": {
        "id": "lAmsa_IfTImb"
      },
      "source": [
        "Frequency Distribution"
      ]
    },
    {
      "cell_type": "code",
      "metadata": {
        "id": "J2dSfTVPTIJo"
      },
      "source": [
        "word_dist = nltk.FreqDist(lemmatized_output)\n",
        "top100_words = pd.DataFrame(word_dist.most_common(top_N),\n",
        "                    columns=['Word', 'Frequency'])"
      ],
      "execution_count": 156,
      "outputs": []
    },
    {
      "cell_type": "code",
      "metadata": {
        "id": "Rqw_XEO3SkaX",
        "outputId": "49f43cff-33a0-4715-af8e-52039b149b96",
        "colab": {
          "base_uri": "https://localhost:8080/",
          "height": 623
        }
      },
      "source": [
        "plt.figure(figsize=(10,10))\n",
        "sns.set_style(\"whitegrid\")\n",
        "ax = sns.barplot(x=\"Frequency\",y=\"Word\", data=top100_words.head(25))"
      ],
      "execution_count": 157,
      "outputs": [
        {
          "output_type": "execute_result",
          "data": {
            "text/plain": [
              "<Figure size 720x720 with 0 Axes>"
            ]
          },
          "metadata": {
            "tags": []
          },
          "execution_count": 157
        },
        {
          "output_type": "display_data",
          "data": {
            "image/png": "[encoded data removed]",
            "text/plain": [
              "<Figure size 720x720 with 1 Axes>"
            ]
          },
          "metadata": {
            "tags": [],
            "needs_background": "light"
          }
        }
      ]
    },
    {
      "cell_type": "markdown",
      "metadata": {
        "id": "RWB8NlGATbiX"
      },
      "source": [
        "WordCloud"
      ]
    },
    {
      "cell_type": "code",
      "metadata": {
        "id": "yyEdr3uiTEst"
      },
      "source": [
        "def wc(data,bgcolor,title):\n",
        "    plt.figure(figsize = (80,80))\n",
        "    wc = WordCloud(background_color = 'black', max_words = 100,  max_font_size = 50)\n",
        "    wc.generate(' '.join(data))\n",
        "    plt.imshow(wc)\n",
        "    plt.axis('off')"
      ],
      "execution_count": 158,
      "outputs": []
    },
    {
      "cell_type": "code",
      "metadata": {
        "id": "iFLGBq9zTdBK",
        "outputId": "d17d0889-097a-4a10-af95-ac461f99d30e",
        "colab": {
          "base_uri": "https://localhost:8080/",
          "height": 453
        }
      },
      "source": [
        "wc(lemmatized_output,'black','Common Words' )"
      ],
      "execution_count": 159,
      "outputs": [
        {
          "output_type": "display_data",
          "data": {
            "image/png": "[encoded data removed]",
            "text/plain": [
              "<Figure size 5760x5760 with 1 Axes>"
            ]
          },
          "metadata": {
            "tags": []
          }
        }
      ]
    },
    {
      "cell_type": "markdown",
      "metadata": {
        "id": "1idHZLVtU9f-"
      },
      "source": [
        "VADER & Textblob Sentiment Analysis"
      ]
    },
    {
      "cell_type": "code",
      "metadata": {
        "id": "JWGxE8oCTdDt"
      },
      "source": [
        "sent_analyser = SentimentIntensityAnalyzer()\n",
        "def sentiment(text):\n",
        "    return (sent_analyser.polarity_scores(text)[\"compound\"])"
      ],
      "execution_count": 160,
      "outputs": []
    },
    {
      "cell_type": "code",
      "metadata": {
        "id": "wwl_zZajU0To"
      },
      "source": [
        "data[\"Polarity\"] = data[\"commentclean\"].apply(sentiment)"
      ],
      "execution_count": 161,
      "outputs": []
    },
    {
      "cell_type": "code",
      "metadata": {
        "id": "kcihRAq2U0W3",
        "outputId": "54741199-94b9-4d86-cf38-a3956cdf3b2e",
        "colab": {
          "base_uri": "https://localhost:8080/",
          "height": 357
        }
      },
      "source": [
        "data.head()"
      ],
      "execution_count": 162,
      "outputs": [
        {
          "output_type": "execute_result",
          "data": {
            "text/html": [
              "<div>\n",
              "<style scoped>\n",
              "    .dataframe tbody tr th:only-of-type {\n",
              "        vertical-align: middle;\n",
              "    }\n",
              "\n",
              "    .dataframe tbody tr th {\n",
              "        vertical-align: top;\n",
              "    }\n",
              "\n",
              "    .dataframe thead th {\n",
              "        text-align: right;\n",
              "    }\n",
              "</style>\n",
              "<table border=\"1\" class=\"dataframe\">\n",
              "  <thead>\n",
              "    <tr style=\"text-align: right;\">\n",
              "      <th></th>\n",
              "      <th>Comments</th>\n",
              "      <th>commentclean</th>\n",
              "      <th>Polarity</th>\n",
              "    </tr>\n",
              "  </thead>\n",
              "  <tbody>\n",
              "    <tr>\n",
              "      <th>0</th>\n",
              "      <td>I just bought this projector and i am clueless how to connect to my iPhone??</td>\n",
              "      <td>I just bought this projector and i am clueless how to connect to my iPhone??</td>\n",
              "      <td>-0.4329</td>\n",
              "    </tr>\n",
              "    <tr>\n",
              "      <th>1</th>\n",
              "      <td>You promised me a multi card reader for leaving a review I'm still waiting Susie</td>\n",
              "      <td>You promised me a multi card reader for leaving a review I'm still waiting Susie</td>\n",
              "      <td>0.3612</td>\n",
              "    </tr>\n",
              "    <tr>\n",
              "      <th>2</th>\n",
              "      <td>Hello Apeman, your team is not responding to my email or fixing the issue after multiple follow ups...</td>\n",
              "      <td>Hello Apeman, your team is not responding to my email or fixing the issue after multiple follow ups...</td>\n",
              "      <td>0.0000</td>\n",
              "    </tr>\n",
              "    <tr>\n",
              "      <th>3</th>\n",
              "      <td>Great picture, I am so excited about looking for my own 4k camera,just need the price to come down a little  looking forward to future adventures with running &amp; a camera  #TheJogShop #Brighton #247running#Runpals #puresportsperformace #ukrunchat</td>\n",
              "      <td>Great picture, I am so excited about looking for my own 4k camera,just need the price to come down a little  looking forward to future adventures with running &amp; a camera  #TheJogShop #Brighton #247running#Runpals #puresportsperformace #ukrunchat</td>\n",
              "      <td>0.8630</td>\n",
              "    </tr>\n",
              "    <tr>\n",
              "      <th>4</th>\n",
              "      <td>I have just bought the Apeman 550 dashcam and find the rear camer cable is 1 metre too short.  Has anyone got any ideas where I can get a short extension?</td>\n",
              "      <td>I have just bought the Apeman 550 dashcam and find the rear camer cable is 1 metre too short.  Has anyone got any ideas where I can get a short extension?</td>\n",
              "      <td>0.0000</td>\n",
              "    </tr>\n",
              "  </tbody>\n",
              "</table>\n",
              "</div>"
            ],
            "text/plain": [
              "                                                                                                                                                                                                                                                Comments  ... Polarity\n",
              "0  I just bought this projector and i am clueless how to connect to my iPhone??                                                                                                                                                                           ... -0.4329 \n",
              "1  You promised me a multi card reader for leaving a review I'm still waiting Susie                                                                                                                                                                       ...  0.3612 \n",
              "2  Hello Apeman, your team is not responding to my email or fixing the issue after multiple follow ups...                                                                                                                                                 ...  0.0000 \n",
              "3  Great picture, I am so excited about looking for my own 4k camera,just need the price to come down a little  looking forward to future adventures with running & a camera  #TheJogShop #Brighton #247running#Runpals #puresportsperformace #ukrunchat  ...  0.8630 \n",
              "4  I have just bought the Apeman 550 dashcam and find the rear camer cable is 1 metre too short.  Has anyone got any ideas where I can get a short extension?                                                                                             ...  0.0000 \n",
              "\n",
              "[5 rows x 3 columns]"
            ]
          },
          "metadata": {
            "tags": []
          },
          "execution_count": 162
        }
      ]
    },
    {
      "cell_type": "code",
      "metadata": {
        "id": "1l1cj7GEU0aO",
        "outputId": "3bf060d7-28cc-4f03-a55c-f7193e67eddc",
        "colab": {
          "base_uri": "https://localhost:8080/",
          "height": 85
        }
      },
      "source": [
        "data.dtypes"
      ],
      "execution_count": 163,
      "outputs": [
        {
          "output_type": "execute_result",
          "data": {
            "text/plain": [
              "Comments        object \n",
              "commentclean    object \n",
              "Polarity        float64\n",
              "dtype: object"
            ]
          },
          "metadata": {
            "tags": []
          },
          "execution_count": 163
        }
      ]
    },
    {
      "cell_type": "code",
      "metadata": {
        "id": "br_3xhX0z4PX",
        "outputId": "829174d4-d9ef-4c39-f164-6f913d744726",
        "colab": {
          "base_uri": "https://localhost:8080/",
          "height": 238
        }
      },
      "source": [
        "data.groupby('Polarity').size()"
      ],
      "execution_count": 164,
      "outputs": [
        {
          "output_type": "execute_result",
          "data": {
            "text/plain": [
              "Polarity\n",
              "-0.9694    1\n",
              "-0.8788    1\n",
              "-0.8625    2\n",
              "-0.8519    2\n",
              "-0.8442    1\n",
              "          ..\n",
              " 0.9485    1\n",
              " 0.9566    2\n",
              " 0.9571    1\n",
              " 0.9607    1\n",
              " 0.9618    1\n",
              "Length: 698, dtype: int64"
            ]
          },
          "metadata": {
            "tags": []
          },
          "execution_count": 164
        }
      ]
    },
    {
      "cell_type": "code",
      "metadata": {
        "id": "RrbVi7_fU0do"
      },
      "source": [
        "def senti(data):\n",
        "    if data['Polarity'] >= 0.15:\n",
        "        val = \"Positive\"\n",
        "    #elif data['Polarity'] <= -0.25:\n",
        "        #val = \"Negative\"\n",
        "    else:\n",
        "        val = \"Negative\"\n",
        "    return val"
      ],
      "execution_count": 165,
      "outputs": []
    },
    {
      "cell_type": "code",
      "metadata": {
        "id": "AwxawfzJTdHC"
      },
      "source": [
        "data['Sentiment'] = data.apply(senti, axis=1)"
      ],
      "execution_count": 166,
      "outputs": []
    },
    {
      "cell_type": "code",
      "metadata": {
        "id": "OFbjWo9UVgQw",
        "outputId": "b7174459-667f-4a76-fcc7-7855cc482e75",
        "colab": {
          "base_uri": "https://localhost:8080/",
          "height": 623
        }
      },
      "source": [
        "plt.figure(figsize=(10,10))\n",
        "sns.set_style(\"whitegrid\")\n",
        "ax = sns.countplot(x=\"Sentiment\", data=data, \n",
        "                  palette=dict(Neutral=\"blue\", Positive=\"Green\", Negative=\"Red\"))"
      ],
      "execution_count": 167,
      "outputs": [
        {
          "output_type": "execute_result",
          "data": {
            "text/plain": [
              "<Figure size 720x720 with 0 Axes>"
            ]
          },
          "metadata": {
            "tags": []
          },
          "execution_count": 167
        },
        {
          "output_type": "display_data",
          "data": {
            "image/png": "[encoded data removed]",
            "text/plain": [
              "<Figure size 720x720 with 1 Axes>"
            ]
          },
          "metadata": {
            "tags": []
          }
        }
      ]
    },
    {
      "cell_type": "code",
      "metadata": {
        "id": "Z1-0p6g-1JTy"
      },
      "source": [
        "#Export to Excel\n",
        "from pandas import ExcelWriter\n",
        "writer = ExcelWriter('export_User_Comments_Polarity_Category_VADER.xlsx')\n",
        "data.to_excel(writer,'Sheet1',index=False)\n",
        "writer.save()"
      ],
      "execution_count": 168,
      "outputs": []
    },
    {
      "cell_type": "code",
      "metadata": {
        "id": "WuXGHY5hk87u"
      },
      "source": [
        "#convert Polaty_type Negative, and Positive to 0, 1\n",
        "from sklearn import preprocessing\n",
        "le = preprocessing.LabelEncoder()"
      ],
      "execution_count": 169,
      "outputs": []
    },
    {
      "cell_type": "code",
      "metadata": {
        "id": "2fDgRS40lCRF",
        "outputId": "449c407f-99ce-47e3-b162-1df8646fac83",
        "colab": {
          "base_uri": "https://localhost:8080/",
          "height": 34
        }
      },
      "source": [
        "le.fit(data['Sentiment'])"
      ],
      "execution_count": 170,
      "outputs": [
        {
          "output_type": "execute_result",
          "data": {
            "text/plain": [
              "LabelEncoder()"
            ]
          },
          "metadata": {
            "tags": []
          },
          "execution_count": 170
        }
      ]
    },
    {
      "cell_type": "code",
      "metadata": {
        "id": "CBqHge8olSCx",
        "outputId": "c3c9fc2b-8380-4ee0-b878-eed820c8d3cb",
        "colab": {
          "base_uri": "https://localhost:8080/",
          "height": 34
        }
      },
      "source": [
        "list(le.classes_)"
      ],
      "execution_count": 171,
      "outputs": [
        {
          "output_type": "execute_result",
          "data": {
            "text/plain": [
              "['Negative', 'Positive']"
            ]
          },
          "metadata": {
            "tags": []
          },
          "execution_count": 171
        }
      ]
    },
    {
      "cell_type": "code",
      "metadata": {
        "id": "bGLDDVGxlWKS"
      },
      "source": [
        "dfn = le.transform(data['Sentiment'])"
      ],
      "execution_count": 172,
      "outputs": []
    },
    {
      "cell_type": "code",
      "metadata": {
        "id": "KrCufcD3lawA",
        "outputId": "74519a17-e7f9-49cd-e6b6-45bf008855bb",
        "colab": {
          "base_uri": "https://localhost:8080/",
          "height": 34
        }
      },
      "source": [
        "le.inverse_transform([0,1])"
      ],
      "execution_count": 173,
      "outputs": [
        {
          "output_type": "execute_result",
          "data": {
            "text/plain": [
              "array(['Negative', 'Positive'], dtype=object)"
            ]
          },
          "metadata": {
            "tags": []
          },
          "execution_count": 173
        }
      ]
    },
    {
      "cell_type": "code",
      "metadata": {
        "id": "CebgXsExlgGz",
        "outputId": "d3637a58-85d4-44b3-cd19-39baecf9df59",
        "colab": {
          "base_uri": "https://localhost:8080/",
          "height": 221
        }
      },
      "source": [
        "data['Polarity'] = dfn\n",
        "data.info()\n",
        "data.columns"
      ],
      "execution_count": 174,
      "outputs": [
        {
          "output_type": "stream",
          "text": [
            "<class 'pandas.core.frame.DataFrame'>\n",
            "RangeIndex: 9546 entries, 0 to 9545\n",
            "Data columns (total 4 columns):\n",
            " #   Column        Non-Null Count  Dtype \n",
            "---  ------        --------------  ----- \n",
            " 0   Comments      9546 non-null   object\n",
            " 1   commentclean  9546 non-null   object\n",
            " 2   Polarity      9546 non-null   int64 \n",
            " 3   Sentiment     9546 non-null   object\n",
            "dtypes: int64(1), object(3)\n",
            "memory usage: 298.4+ KB\n"
          ],
          "name": "stdout"
        },
        {
          "output_type": "execute_result",
          "data": {
            "text/plain": [
              "Index(['Comments', 'commentclean', 'Polarity', 'Sentiment'], dtype='object')"
            ]
          },
          "metadata": {
            "tags": []
          },
          "execution_count": 174
        }
      ]
    },
    {
      "cell_type": "code",
      "metadata": {
        "id": "XYysb9zXl5hi"
      },
      "source": [
        "corpus = [] # form an empty list called corpus\n",
        "ps = PorterStemmer() # for stemming the words to original form, for example - \"running to run\"\n",
        "stop_words = set(stopwords.words('english')) # remove words such as will, I, and, at etc.\n",
        "for i in range(0, 9546): # iterate through the list of all 9546 comments\n",
        "  # remove handles (@), numbers, urls, emojis and any other special characters to have only text\n",
        "  dfn_cln = re.sub(\"(@[A-Za-z0-9]+)|([^0-9A-Za-z \\t])|(\\w+:\\/\\/\\S+)|[0-9]\", '',data.Comments[i])\n",
        "  # convert all words to lower case\n",
        "  dfn_cln = dfn_cln.lower()\n",
        "  # split sentences into words\n",
        "  dfn_cln = dfn_cln.split()\n",
        "  # remove English stop words\n",
        "  dfn_cln = [x for x in df_cln if not x in stop_words]\n",
        "  # stem words to the base form\n",
        "  dfn_cln = [ps.stem(x) for x in df_cln]\n",
        "  # join words to form the original sentences\n",
        "  dfn_cln = \" \".join(dfn_cln)\n",
        "  # append to the list to get all Comments in one place\n",
        "  corpus.append(df_cln)\n",
        "#print(corpus)"
      ],
      "execution_count": 175,
      "outputs": []
    },
    {
      "cell_type": "code",
      "metadata": {
        "id": "-V6AFlzNlvbJ",
        "outputId": "7234096a-72d8-4c3a-8600-78a4256b54a2",
        "colab": {
          "base_uri": "https://localhost:8080/",
          "height": 391
        }
      },
      "source": [
        "data[0:5]"
      ],
      "execution_count": 176,
      "outputs": [
        {
          "output_type": "execute_result",
          "data": {
            "text/html": [
              "<div>\n",
              "<style scoped>\n",
              "    .dataframe tbody tr th:only-of-type {\n",
              "        vertical-align: middle;\n",
              "    }\n",
              "\n",
              "    .dataframe tbody tr th {\n",
              "        vertical-align: top;\n",
              "    }\n",
              "\n",
              "    .dataframe thead th {\n",
              "        text-align: right;\n",
              "    }\n",
              "</style>\n",
              "<table border=\"1\" class=\"dataframe\">\n",
              "  <thead>\n",
              "    <tr style=\"text-align: right;\">\n",
              "      <th></th>\n",
              "      <th>Comments</th>\n",
              "      <th>commentclean</th>\n",
              "      <th>Polarity</th>\n",
              "      <th>Sentiment</th>\n",
              "    </tr>\n",
              "  </thead>\n",
              "  <tbody>\n",
              "    <tr>\n",
              "      <th>0</th>\n",
              "      <td>I just bought this projector and i am clueless how to connect to my iPhone??</td>\n",
              "      <td>I just bought this projector and i am clueless how to connect to my iPhone??</td>\n",
              "      <td>0</td>\n",
              "      <td>Negative</td>\n",
              "    </tr>\n",
              "    <tr>\n",
              "      <th>1</th>\n",
              "      <td>You promised me a multi card reader for leaving a review I'm still waiting Susie</td>\n",
              "      <td>You promised me a multi card reader for leaving a review I'm still waiting Susie</td>\n",
              "      <td>1</td>\n",
              "      <td>Positive</td>\n",
              "    </tr>\n",
              "    <tr>\n",
              "      <th>2</th>\n",
              "      <td>Hello Apeman, your team is not responding to my email or fixing the issue after multiple follow ups...</td>\n",
              "      <td>Hello Apeman, your team is not responding to my email or fixing the issue after multiple follow ups...</td>\n",
              "      <td>0</td>\n",
              "      <td>Negative</td>\n",
              "    </tr>\n",
              "    <tr>\n",
              "      <th>3</th>\n",
              "      <td>Great picture, I am so excited about looking for my own 4k camera,just need the price to come down a little  looking forward to future adventures with running &amp; a camera  #TheJogShop #Brighton #247running#Runpals #puresportsperformace #ukrunchat</td>\n",
              "      <td>Great picture, I am so excited about looking for my own 4k camera,just need the price to come down a little  looking forward to future adventures with running &amp; a camera  #TheJogShop #Brighton #247running#Runpals #puresportsperformace #ukrunchat</td>\n",
              "      <td>1</td>\n",
              "      <td>Positive</td>\n",
              "    </tr>\n",
              "    <tr>\n",
              "      <th>4</th>\n",
              "      <td>I have just bought the Apeman 550 dashcam and find the rear camer cable is 1 metre too short.  Has anyone got any ideas where I can get a short extension?</td>\n",
              "      <td>I have just bought the Apeman 550 dashcam and find the rear camer cable is 1 metre too short.  Has anyone got any ideas where I can get a short extension?</td>\n",
              "      <td>0</td>\n",
              "      <td>Negative</td>\n",
              "    </tr>\n",
              "  </tbody>\n",
              "</table>\n",
              "</div>"
            ],
            "text/plain": [
              "                                                                                                                                                                                                                                                Comments  ... Sentiment\n",
              "0  I just bought this projector and i am clueless how to connect to my iPhone??                                                                                                                                                                           ...  Negative\n",
              "1  You promised me a multi card reader for leaving a review I'm still waiting Susie                                                                                                                                                                       ...  Positive\n",
              "2  Hello Apeman, your team is not responding to my email or fixing the issue after multiple follow ups...                                                                                                                                                 ...  Negative\n",
              "3  Great picture, I am so excited about looking for my own 4k camera,just need the price to come down a little  looking forward to future adventures with running & a camera  #TheJogShop #Brighton #247running#Runpals #puresportsperformace #ukrunchat  ...  Positive\n",
              "4  I have just bought the Apeman 550 dashcam and find the rear camer cable is 1 metre too short.  Has anyone got any ideas where I can get a short extension?                                                                                             ...  Negative\n",
              "\n",
              "[5 rows x 4 columns]"
            ]
          },
          "metadata": {
            "tags": []
          },
          "execution_count": 176
        }
      ]
    },
    {
      "cell_type": "code",
      "metadata": {
        "id": "5PS_yzqymZVj"
      },
      "source": [
        "def clean_comment_length(Comments):\n",
        "    letters_only = re.sub(\"[^a-zA-Z]\", \" \",Comments) \n",
        "    words = letters_only.lower().split()                             \n",
        "    stops = set(stopwords.words(\"english\"))                  \n",
        "    meaningful_words = [w for w in words if not w in stops] \n",
        "    return(len(meaningful_words) )"
      ],
      "execution_count": 177,
      "outputs": []
    },
    {
      "cell_type": "code",
      "metadata": {
        "id": "NdUngaX5mkDU"
      },
      "source": [
        "def comment_to_words(Comments):\n",
        "    letters_only = re.sub(\"[^a-zA-Z]\", \" \",Comments) \n",
        "    words = letters_only.lower().split()                             \n",
        "    stops = set(stopwords.words(\"english\"))                  \n",
        "    meaningful_words = [w for w in words if not w in stops] \n",
        "    return( \" \".join( meaningful_words )) "
      ],
      "execution_count": 178,
      "outputs": []
    },
    {
      "cell_type": "code",
      "metadata": {
        "id": "8-la_T-amnSU"
      },
      "source": [
        "data['clean_comment']=data['Comments'].apply(lambda x: comment_to_words(x))\n",
        "data['comment_length']=data['Comments'].apply(lambda x: clean_comment_length(x))\n",
        "train,test = train_test_split(data,test_size=0.25,random_state=42)"
      ],
      "execution_count": 179,
      "outputs": []
    },
    {
      "cell_type": "code",
      "metadata": {
        "id": "D3u9s_F1nJd1"
      },
      "source": [
        "train_clean_comment=[]\n",
        "for comment in train['clean_comment']:\n",
        "    train_clean_comment.append(comment)\n",
        "test_clean_comment=[]\n",
        "for comment in test['clean_comment']:\n",
        "    test_clean_comment.append(comment)"
      ],
      "execution_count": 180,
      "outputs": []
    },
    {
      "cell_type": "code",
      "metadata": {
        "id": "0f0bWa6Bnf5O"
      },
      "source": [
        "from sklearn.feature_extraction.text import CountVectorizer\n",
        "v = CountVectorizer(analyzer = \"word\")\n",
        "train_features= v.fit_transform(train_clean_comment)\n",
        "test_features=v.transform(test_clean_comment)"
      ],
      "execution_count": 181,
      "outputs": []
    },
    {
      "cell_type": "code",
      "metadata": {
        "id": "Qo0gWh9_sCLw"
      },
      "source": [
        "from sklearn.linear_model import LogisticRegression\n",
        "from sklearn.neighbors import KNeighborsClassifier\n",
        "from sklearn.svm import SVC, LinearSVC, NuSVC\n",
        "from sklearn.tree import DecisionTreeClassifier\n",
        "from sklearn.ensemble import RandomForestClassifier, AdaBoostClassifier, GradientBoostingClassifier\n",
        "from sklearn.naive_bayes import GaussianNB\n",
        "from sklearn.discriminant_analysis import LinearDiscriminantAnalysis\n",
        "from sklearn.discriminant_analysis import QuadraticDiscriminantAnalysis\n",
        "from sklearn.metrics import accuracy_score"
      ],
      "execution_count": 182,
      "outputs": []
    },
    {
      "cell_type": "code",
      "metadata": {
        "id": "5go0qBGzsEJB"
      },
      "source": [
        "#Classifiers\n",
        "Classifiers = [\n",
        "    SVC(kernel=\"rbf\", C=0.03, gamma = 'scale'),\n",
        "    DecisionTreeClassifier(),\n",
        "    RandomForestClassifier(n_estimators=100),\n",
        "    GradientBoostingClassifier(),GaussianNB()]"
      ],
      "execution_count": 183,
      "outputs": []
    },
    {
      "cell_type": "code",
      "metadata": {
        "id": "KVHmfHAJsGyz",
        "outputId": "01f9e99a-4fbf-4b9c-e1bb-871e58863d18",
        "colab": {
          "base_uri": "https://localhost:8080/",
          "height": 1000
        }
      },
      "source": [
        "from sklearn.metrics import classification_report\n",
        "dense_features=train_features.toarray()\n",
        "dense_test= test_features.toarray()\n",
        "Accuracy=[]\n",
        "Model=[]\n",
        "for clf in Classifiers:\n",
        "    try:\n",
        "        fit = clf.fit(train_features,train['Sentiment'])\n",
        "        pred = fit.predict(test_features)\n",
        "    except Exception:\n",
        "        fit = clf.fit(dense_features,train['Sentiment'])\n",
        "        pred = fit.predict(dense_test)\n",
        "    accuracy = accuracy_score(pred,test['Sentiment'])\n",
        "    Accuracy.append(accuracy)\n",
        "    Model.append(clf.__class__.__name__)\n",
        "    print('Accuracy of '+clf.__class__.__name__+' is '+str(accuracy)) \n",
        "    print(classification_report(pred,test['Sentiment']))\n",
        "    \n",
        "    #Confusion Matrix\n",
        "    cm = confusion_matrix(pred,test['Sentiment'])\n",
        "    plt.figure()\n",
        "    plot_confusion_matrix(cm,cmap=plt.cm.Blues)\n",
        "    plt.xticks(range(2), ['Negative','Positive'],color='black')\n",
        "    plt.yticks(range(2), ['Negative','Positive'])\n",
        "    plt.xlabel('Predicted Label')\n",
        "    plt.ylabel('True Label')\n",
        "    plt.show()"
      ],
      "execution_count": 184,
      "outputs": [
        {
          "output_type": "stream",
          "text": [
            "Accuracy of SVC is 0.5592794302471722\n",
            "              precision    recall  f1-score   support\n",
            "\n",
            "    Negative       1.00      0.55      0.71      2353\n",
            "    Positive       0.03      1.00      0.06        34\n",
            "\n",
            "    accuracy                           0.56      2387\n",
            "   macro avg       0.52      0.78      0.39      2387\n",
            "weighted avg       0.99      0.56      0.70      2387\n",
            "\n"
          ],
          "name": "stdout"
        },
        {
          "output_type": "execute_result",
          "data": {
            "text/plain": [
              "<Figure size 432x288 with 0 Axes>"
            ]
          },
          "metadata": {
            "tags": []
          },
          "execution_count": 184
        },
        {
          "output_type": "execute_result",
          "data": {
            "text/plain": [
              "(<Figure size 432x288 with 1 Axes>,\n",
              " <matplotlib.axes._subplots.AxesSubplot at 0x7fdb59d23780>)"
            ]
          },
          "metadata": {
            "tags": []
          },
          "execution_count": 184
        },
        {
          "output_type": "execute_result",
          "data": {
            "text/plain": [
              "([<matplotlib.axis.XTick at 0x7fdb5acc0828>,\n",
              "  <matplotlib.axis.XTick at 0x7fdb5acc07f0>],\n",
              " [Text(0, 0, 'Negative'), Text(0, 0, 'Positive')])"
            ]
          },
          "metadata": {
            "tags": []
          },
          "execution_count": 184
        },
        {
          "output_type": "execute_result",
          "data": {
            "text/plain": [
              "([<matplotlib.axis.YTick at 0x7fdb58bae198>,\n",
              "  <matplotlib.axis.YTick at 0x7fdb5acc0ef0>],\n",
              " [Text(0, 0, 'Negative'), Text(0, 0, 'Positive')])"
            ]
          },
          "metadata": {
            "tags": []
          },
          "execution_count": 184
        },
        {
          "output_type": "execute_result",
          "data": {
            "text/plain": [
              "Text(0.5, 0, 'Predicted Label')"
            ]
          },
          "metadata": {
            "tags": []
          },
          "execution_count": 184
        },
        {
          "output_type": "execute_result",
          "data": {
            "text/plain": [
              "Text(0, 0.5, 'True Label')"
            ]
          },
          "metadata": {
            "tags": []
          },
          "execution_count": 184
        },
        {
          "output_type": "display_data",
          "data": {
            "text/plain": [
              "<Figure size 432x288 with 0 Axes>"
            ]
          },
          "metadata": {
            "tags": []
          }
        },
        {
          "output_type": "display_data",
          "data": {
            "image/png": "[encoded data removed]",
            "text/plain": [
              "<Figure size 432x288 with 1 Axes>"
            ]
          },
          "metadata": {
            "tags": []
          }
        },
        {
          "output_type": "stream",
          "text": [
            "Accuracy of DecisionTreeClassifier is 0.8902387934645999\n",
            "              precision    recall  f1-score   support\n",
            "\n",
            "    Negative       0.92      0.89      0.90      1345\n",
            "    Positive       0.86      0.90      0.88      1042\n",
            "\n",
            "    accuracy                           0.89      2387\n",
            "   macro avg       0.89      0.89      0.89      2387\n",
            "weighted avg       0.89      0.89      0.89      2387\n",
            "\n"
          ],
          "name": "stdout"
        },
        {
          "output_type": "execute_result",
          "data": {
            "text/plain": [
              "<Figure size 432x288 with 0 Axes>"
            ]
          },
          "metadata": {
            "tags": []
          },
          "execution_count": 184
        },
        {
          "output_type": "execute_result",
          "data": {
            "text/plain": [
              "(<Figure size 432x288 with 1 Axes>,\n",
              " <matplotlib.axes._subplots.AxesSubplot at 0x7fdb5aee2780>)"
            ]
          },
          "metadata": {
            "tags": []
          },
          "execution_count": 184
        },
        {
          "output_type": "execute_result",
          "data": {
            "text/plain": [
              "([<matplotlib.axis.XTick at 0x7fdb5643f828>,\n",
              "  <matplotlib.axis.XTick at 0x7fdb5643f7f0>],\n",
              " [Text(0, 0, 'Negative'), Text(0, 0, 'Positive')])"
            ]
          },
          "metadata": {
            "tags": []
          },
          "execution_count": 184
        },
        {
          "output_type": "execute_result",
          "data": {
            "text/plain": [
              "([<matplotlib.axis.YTick at 0x7fdb58b9a2e8>,\n",
              "  <matplotlib.axis.YTick at 0x7fdb5643fef0>],\n",
              " [Text(0, 0, 'Negative'), Text(0, 0, 'Positive')])"
            ]
          },
          "metadata": {
            "tags": []
          },
          "execution_count": 184
        },
        {
          "output_type": "execute_result",
          "data": {
            "text/plain": [
              "Text(0.5, 0, 'Predicted Label')"
            ]
          },
          "metadata": {
            "tags": []
          },
          "execution_count": 184
        },
        {
          "output_type": "execute_result",
          "data": {
            "text/plain": [
              "Text(0, 0.5, 'True Label')"
            ]
          },
          "metadata": {
            "tags": []
          },
          "execution_count": 184
        },
        {
          "output_type": "display_data",
          "data": {
            "text/plain": [
              "<Figure size 432x288 with 0 Axes>"
            ]
          },
          "metadata": {
            "tags": []
          }
        },
        {
          "output_type": "display_data",
          "data": {
            "image/png": "[encoded data removed]",
            "text/plain": [
              "<Figure size 432x288 with 1 Axes>"
            ]
          },
          "metadata": {
            "tags": []
          }
        },
        {
          "output_type": "stream",
          "text": [
            "Accuracy of RandomForestClassifier is 0.8789275240888144\n",
            "              precision    recall  f1-score   support\n",
            "\n",
            "    Negative       0.95      0.85      0.89      1448\n",
            "    Positive       0.80      0.92      0.86       939\n",
            "\n",
            "    accuracy                           0.88      2387\n",
            "   macro avg       0.87      0.89      0.88      2387\n",
            "weighted avg       0.89      0.88      0.88      2387\n",
            "\n"
          ],
          "name": "stdout"
        },
        {
          "output_type": "execute_result",
          "data": {
            "text/plain": [
              "<Figure size 432x288 with 0 Axes>"
            ]
          },
          "metadata": {
            "tags": []
          },
          "execution_count": 184
        },
        {
          "output_type": "execute_result",
          "data": {
            "text/plain": [
              "(<Figure size 432x288 with 1 Axes>,\n",
              " <matplotlib.axes._subplots.AxesSubplot at 0x7fdb610889e8>)"
            ]
          },
          "metadata": {
            "tags": []
          },
          "execution_count": 184
        },
        {
          "output_type": "execute_result",
          "data": {
            "text/plain": [
              "([<matplotlib.axis.XTick at 0x7fdb5a593908>,\n",
              "  <matplotlib.axis.XTick at 0x7fdb5a5938d0>],\n",
              " [Text(0, 0, 'Negative'), Text(0, 0, 'Positive')])"
            ]
          },
          "metadata": {
            "tags": []
          },
          "execution_count": 184
        },
        {
          "output_type": "execute_result",
          "data": {
            "text/plain": [
              "([<matplotlib.axis.YTick at 0x7fdb59d236d8>,\n",
              "  <matplotlib.axis.YTick at 0x7fdb5a593fd0>],\n",
              " [Text(0, 0, 'Negative'), Text(0, 0, 'Positive')])"
            ]
          },
          "metadata": {
            "tags": []
          },
          "execution_count": 184
        },
        {
          "output_type": "execute_result",
          "data": {
            "text/plain": [
              "Text(0.5, 0, 'Predicted Label')"
            ]
          },
          "metadata": {
            "tags": []
          },
          "execution_count": 184
        },
        {
          "output_type": "execute_result",
          "data": {
            "text/plain": [
              "Text(0, 0.5, 'True Label')"
            ]
          },
          "metadata": {
            "tags": []
          },
          "execution_count": 184
        },
        {
          "output_type": "display_data",
          "data": {
            "text/plain": [
              "<Figure size 432x288 with 0 Axes>"
            ]
          },
          "metadata": {
            "tags": []
          }
        },
        {
          "output_type": "display_data",
          "data": {
            "image/png": "[encoded data removed]",
            "text/plain": [
              "<Figure size 432x288 with 1 Axes>"
            ]
          },
          "metadata": {
            "tags": []
          }
        },
        {
          "output_type": "stream",
          "text": [
            "Accuracy of GradientBoostingClassifier is 0.8098031001256808\n",
            "              precision    recall  f1-score   support\n",
            "\n",
            "    Negative       0.97      0.75      0.85      1671\n",
            "    Positive       0.62      0.94      0.75       716\n",
            "\n",
            "    accuracy                           0.81      2387\n",
            "   macro avg       0.79      0.85      0.80      2387\n",
            "weighted avg       0.86      0.81      0.82      2387\n",
            "\n"
          ],
          "name": "stdout"
        },
        {
          "output_type": "execute_result",
          "data": {
            "text/plain": [
              "<Figure size 432x288 with 0 Axes>"
            ]
          },
          "metadata": {
            "tags": []
          },
          "execution_count": 184
        },
        {
          "output_type": "execute_result",
          "data": {
            "text/plain": [
              "(<Figure size 432x288 with 1 Axes>,\n",
              " <matplotlib.axes._subplots.AxesSubplot at 0x7fdb59d64b38>)"
            ]
          },
          "metadata": {
            "tags": []
          },
          "execution_count": 184
        },
        {
          "output_type": "execute_result",
          "data": {
            "text/plain": [
              "([<matplotlib.axis.XTick at 0x7fdb59d80be0>,\n",
              "  <matplotlib.axis.XTick at 0x7fdb59d80ba8>],\n",
              " [Text(0, 0, 'Negative'), Text(0, 0, 'Positive')])"
            ]
          },
          "metadata": {
            "tags": []
          },
          "execution_count": 184
        },
        {
          "output_type": "execute_result",
          "data": {
            "text/plain": [
              "([<matplotlib.axis.YTick at 0x7fdb5616c9b0>,\n",
              "  <matplotlib.axis.YTick at 0x7fdb5616c2e8>],\n",
              " [Text(0, 0, 'Negative'), Text(0, 0, 'Positive')])"
            ]
          },
          "metadata": {
            "tags": []
          },
          "execution_count": 184
        },
        {
          "output_type": "execute_result",
          "data": {
            "text/plain": [
              "Text(0.5, 0, 'Predicted Label')"
            ]
          },
          "metadata": {
            "tags": []
          },
          "execution_count": 184
        },
        {
          "output_type": "execute_result",
          "data": {
            "text/plain": [
              "Text(0, 0.5, 'True Label')"
            ]
          },
          "metadata": {
            "tags": []
          },
          "execution_count": 184
        },
        {
          "output_type": "display_data",
          "data": {
            "text/plain": [
              "<Figure size 432x288 with 0 Axes>"
            ]
          },
          "metadata": {
            "tags": []
          }
        },
        {
          "output_type": "display_data",
          "data": {
            "image/png": "[encoded data removed]",
            "text/plain": [
              "<Figure size 432x288 with 1 Axes>"
            ]
          },
          "metadata": {
            "tags": []
          }
        },
        {
          "output_type": "stream",
          "text": [
            "Accuracy of GaussianNB is 0.6527021365731043\n",
            "              precision    recall  f1-score   support\n",
            "\n",
            "    Negative       0.51      0.78      0.61       848\n",
            "    Positive       0.83      0.58      0.68      1539\n",
            "\n",
            "    accuracy                           0.65      2387\n",
            "   macro avg       0.67      0.68      0.65      2387\n",
            "weighted avg       0.71      0.65      0.66      2387\n",
            "\n"
          ],
          "name": "stdout"
        },
        {
          "output_type": "execute_result",
          "data": {
            "text/plain": [
              "<Figure size 432x288 with 0 Axes>"
            ]
          },
          "metadata": {
            "tags": []
          },
          "execution_count": 184
        },
        {
          "output_type": "execute_result",
          "data": {
            "text/plain": [
              "(<Figure size 432x288 with 1 Axes>,\n",
              " <matplotlib.axes._subplots.AxesSubplot at 0x7fdb5af114e0>)"
            ]
          },
          "metadata": {
            "tags": []
          },
          "execution_count": 184
        },
        {
          "output_type": "execute_result",
          "data": {
            "text/plain": [
              "([<matplotlib.axis.XTick at 0x7fdb59829828>,\n",
              "  <matplotlib.axis.XTick at 0x7fdb598297f0>],\n",
              " [Text(0, 0, 'Negative'), Text(0, 0, 'Positive')])"
            ]
          },
          "metadata": {
            "tags": []
          },
          "execution_count": 184
        },
        {
          "output_type": "execute_result",
          "data": {
            "text/plain": [
              "([<matplotlib.axis.YTick at 0x7fdb61088eb8>,\n",
              "  <matplotlib.axis.YTick at 0x7fdb59829ef0>],\n",
              " [Text(0, 0, 'Negative'), Text(0, 0, 'Positive')])"
            ]
          },
          "metadata": {
            "tags": []
          },
          "execution_count": 184
        },
        {
          "output_type": "execute_result",
          "data": {
            "text/plain": [
              "Text(0.5, 0, 'Predicted Label')"
            ]
          },
          "metadata": {
            "tags": []
          },
          "execution_count": 184
        },
        {
          "output_type": "execute_result",
          "data": {
            "text/plain": [
              "Text(0, 0.5, 'True Label')"
            ]
          },
          "metadata": {
            "tags": []
          },
          "execution_count": 184
        },
        {
          "output_type": "display_data",
          "data": {
            "text/plain": [
              "<Figure size 432x288 with 0 Axes>"
            ]
          },
          "metadata": {
            "tags": []
          }
        },
        {
          "output_type": "display_data",
          "data": {
            "image/png": "[encoded data removed]",
            "text/plain": [
              "<Figure size 432x288 with 1 Axes>"
            ]
          },
          "metadata": {
            "tags": []
          }
        }
      ]
    },
    {
      "cell_type": "code",
      "metadata": {
        "id": "EwyaTtuisdrm",
        "outputId": "8efafab2-9a60-4d71-8abb-48e8b244ec82",
        "colab": {
          "base_uri": "https://localhost:8080/",
          "height": 643
        }
      },
      "source": [
        "index=list(range(len(Classifiers)))\n",
        "plt.bar(index,Accuracy,color='rgbyk')\n",
        "plt.xticks(index,Model,rotation=90)\n",
        "plt.ylabel('Accuracy')\n",
        "plt.xlabel('Model')\n",
        "plt.title('Classifier Accuracies')"
      ],
      "execution_count": 185,
      "outputs": [
        {
          "output_type": "stream",
          "text": [
            "/usr/local/lib/python3.6/dist-packages/ipykernel_launcher.py:2: MatplotlibDeprecationWarning: Using a string of single character colors as a color sequence is deprecated. Use an explicit list instead.\n",
            "  \n"
          ],
          "name": "stderr"
        },
        {
          "output_type": "execute_result",
          "data": {
            "text/plain": [
              "<BarContainer object of 5 artists>"
            ]
          },
          "metadata": {
            "tags": []
          },
          "execution_count": 185
        },
        {
          "output_type": "execute_result",
          "data": {
            "text/plain": [
              "([<matplotlib.axis.XTick at 0x7fdb60f5a630>,\n",
              "  <matplotlib.axis.XTick at 0x7fdb60f5a5f8>,\n",
              "  <matplotlib.axis.XTick at 0x7fdb60f91d68>,\n",
              "  <matplotlib.axis.XTick at 0x7fdb59d8eb00>,\n",
              "  <matplotlib.axis.XTick at 0x7fdb592fc550>],\n",
              " [Text(0, 0, 'SVC'),\n",
              "  Text(0, 0, 'DecisionTreeClassifier'),\n",
              "  Text(0, 0, 'RandomForestClassifier'),\n",
              "  Text(0, 0, 'GradientBoostingClassifier'),\n",
              "  Text(0, 0, 'GaussianNB')])"
            ]
          },
          "metadata": {
            "tags": []
          },
          "execution_count": 185
        },
        {
          "output_type": "execute_result",
          "data": {
            "text/plain": [
              "Text(0, 0.5, 'Accuracy')"
            ]
          },
          "metadata": {
            "tags": []
          },
          "execution_count": 185
        },
        {
          "output_type": "execute_result",
          "data": {
            "text/plain": [
              "Text(0.5, 0, 'Model')"
            ]
          },
          "metadata": {
            "tags": []
          },
          "execution_count": 185
        },
        {
          "output_type": "execute_result",
          "data": {
            "text/plain": [
              "Text(0.5, 1.0, 'Classifier Accuracies')"
            ]
          },
          "metadata": {
            "tags": []
          },
          "execution_count": 185
        },
        {
          "output_type": "display_data",
          "data": {
            "image/png": "[encoded data removed]",
            "text/plain": [
              "<Figure size 432x288 with 1 Axes>"
            ]
          },
          "metadata": {
            "tags": []
          }
        }
      ]
    },
    {
      "cell_type": "markdown",
      "metadata": {
        "id": "Kd0Iwao7XQdp"
      },
      "source": [
        "# Aspect / Opinion Mining"
      ]
    },
    {
      "cell_type": "code",
      "metadata": {
        "id": "si0nHkPAVgWJ"
      },
      "source": [
        "#import spacy\n",
        "nlp = spacy.load(\"en_core_web_sm\")"
      ],
      "execution_count": 186,
      "outputs": []
    },
    {
      "cell_type": "code",
      "metadata": {
        "id": "TioM1LHlVgbu"
      },
      "source": [
        "def pos(text):\n",
        "    doc = nlp(text)\n",
        "    # You want list of Verb tokens \n",
        "    aspects = [token.text for token in doc if token.pos_ == \"NOUN\"]\n",
        "    return aspects"
      ],
      "execution_count": 187,
      "outputs": []
    },
    {
      "cell_type": "code",
      "metadata": {
        "id": "6wxhgftKVgft"
      },
      "source": [
        "data[\"Aspects\"] = data[\"commentclean\"].apply(pos)"
      ],
      "execution_count": 188,
      "outputs": []
    },
    {
      "cell_type": "code",
      "metadata": {
        "id": "kkW-0JHSV-JN",
        "outputId": "4c3a8d86-29ad-4b44-8a5c-9d477ffcee88",
        "colab": {
          "base_uri": "https://localhost:8080/",
          "height": 717
        }
      },
      "source": [
        "data.head()"
      ],
      "execution_count": 189,
      "outputs": [
        {
          "output_type": "execute_result",
          "data": {
            "text/html": [
              "<div>\n",
              "<style scoped>\n",
              "    .dataframe tbody tr th:only-of-type {\n",
              "        vertical-align: middle;\n",
              "    }\n",
              "\n",
              "    .dataframe tbody tr th {\n",
              "        vertical-align: top;\n",
              "    }\n",
              "\n",
              "    .dataframe thead th {\n",
              "        text-align: right;\n",
              "    }\n",
              "</style>\n",
              "<table border=\"1\" class=\"dataframe\">\n",
              "  <thead>\n",
              "    <tr style=\"text-align: right;\">\n",
              "      <th></th>\n",
              "      <th>Comments</th>\n",
              "      <th>commentclean</th>\n",
              "      <th>Polarity</th>\n",
              "      <th>Sentiment</th>\n",
              "      <th>clean_comment</th>\n",
              "      <th>comment_length</th>\n",
              "      <th>Aspects</th>\n",
              "    </tr>\n",
              "  </thead>\n",
              "  <tbody>\n",
              "    <tr>\n",
              "      <th>0</th>\n",
              "      <td>I just bought this projector and i am clueless how to connect to my iPhone??</td>\n",
              "      <td>I just bought this projector and i am clueless how to connect to my iPhone??</td>\n",
              "      <td>0</td>\n",
              "      <td>Negative</td>\n",
              "      <td>bought projector clueless connect iphone</td>\n",
              "      <td>5</td>\n",
              "      <td>[projector, clueless]</td>\n",
              "    </tr>\n",
              "    <tr>\n",
              "      <th>1</th>\n",
              "      <td>You promised me a multi card reader for leaving a review I'm still waiting Susie</td>\n",
              "      <td>You promised me a multi card reader for leaving a review I'm still waiting Susie</td>\n",
              "      <td>1</td>\n",
              "      <td>Positive</td>\n",
              "      <td>promised multi card reader leaving review still waiting susie</td>\n",
              "      <td>9</td>\n",
              "      <td>[card, reader, review]</td>\n",
              "    </tr>\n",
              "    <tr>\n",
              "      <th>2</th>\n",
              "      <td>Hello Apeman, your team is not responding to my email or fixing the issue after multiple follow ups...</td>\n",
              "      <td>Hello Apeman, your team is not responding to my email or fixing the issue after multiple follow ups...</td>\n",
              "      <td>0</td>\n",
              "      <td>Negative</td>\n",
              "      <td>hello apeman team responding email fixing issue multiple follow ups</td>\n",
              "      <td>10</td>\n",
              "      <td>[team, email, issue, follow, ups]</td>\n",
              "    </tr>\n",
              "    <tr>\n",
              "      <th>3</th>\n",
              "      <td>Great picture, I am so excited about looking for my own 4k camera,just need the price to come down a little  looking forward to future adventures with running &amp; a camera  #TheJogShop #Brighton #247running#Runpals #puresportsperformace #ukrunchat</td>\n",
              "      <td>Great picture, I am so excited about looking for my own 4k camera,just need the price to come down a little  looking forward to future adventures with running &amp; a camera  #TheJogShop #Brighton #247running#Runpals #puresportsperformace #ukrunchat</td>\n",
              "      <td>1</td>\n",
              "      <td>Positive</td>\n",
              "      <td>great picture excited looking k camera need price come little looking forward future adventures running camera thejogshop brighton running runpals puresportsperformace ukrunchat</td>\n",
              "      <td>22</td>\n",
              "      <td>[picture, 4k, camera, price, adventures, running, camera, puresportsperformace, #]</td>\n",
              "    </tr>\n",
              "    <tr>\n",
              "      <th>4</th>\n",
              "      <td>I have just bought the Apeman 550 dashcam and find the rear camer cable is 1 metre too short.  Has anyone got any ideas where I can get a short extension?</td>\n",
              "      <td>I have just bought the Apeman 550 dashcam and find the rear camer cable is 1 metre too short.  Has anyone got any ideas where I can get a short extension?</td>\n",
              "      <td>0</td>\n",
              "      <td>Negative</td>\n",
              "      <td>bought apeman dashcam find rear camer cable metre short anyone got ideas get short extension</td>\n",
              "      <td>15</td>\n",
              "      <td>[dashcam, camer, cable, ideas, extension]</td>\n",
              "    </tr>\n",
              "  </tbody>\n",
              "</table>\n",
              "</div>"
            ],
            "text/plain": [
              "                                                                                                                                                                                                                                                Comments  ...                                                                             Aspects\n",
              "0  I just bought this projector and i am clueless how to connect to my iPhone??                                                                                                                                                                           ...  [projector, clueless]                                                             \n",
              "1  You promised me a multi card reader for leaving a review I'm still waiting Susie                                                                                                                                                                       ...  [card, reader, review]                                                            \n",
              "2  Hello Apeman, your team is not responding to my email or fixing the issue after multiple follow ups...                                                                                                                                                 ...  [team, email, issue, follow, ups]                                                 \n",
              "3  Great picture, I am so excited about looking for my own 4k camera,just need the price to come down a little  looking forward to future adventures with running & a camera  #TheJogShop #Brighton #247running#Runpals #puresportsperformace #ukrunchat  ...  [picture, 4k, camera, price, adventures, running, camera, puresportsperformace, #]\n",
              "4  I have just bought the Apeman 550 dashcam and find the rear camer cable is 1 metre too short.  Has anyone got any ideas where I can get a short extension?                                                                                             ...  [dashcam, camer, cable, ideas, extension]                                         \n",
              "\n",
              "[5 rows x 7 columns]"
            ]
          },
          "metadata": {
            "tags": []
          },
          "execution_count": 189
        }
      ]
    },
    {
      "cell_type": "code",
      "metadata": {
        "id": "4MD2EUtfCGwv"
      },
      "source": [
        "from nltk.corpus import stopwords\n",
        "from sklearn.feature_extraction.text import TfidfVectorizer"
      ],
      "execution_count": 190,
      "outputs": []
    },
    {
      "cell_type": "code",
      "metadata": {
        "id": "xpOHjLikFYnk"
      },
      "source": [
        ""
      ],
      "execution_count": 190,
      "outputs": []
    },
    {
      "cell_type": "code",
      "metadata": {
        "id": "p7MsbG9XFYvO"
      },
      "source": [
        ""
      ],
      "execution_count": 190,
      "outputs": []
    },
    {
      "cell_type": "code",
      "metadata": {
        "id": "N_5wcWeYFYyY"
      },
      "source": [
        ""
      ],
      "execution_count": 190,
      "outputs": []
    },
    {
      "cell_type": "code",
      "metadata": {
        "id": "x64y64o3FY1r"
      },
      "source": [
        ""
      ],
      "execution_count": 190,
      "outputs": []
    },
    {
      "cell_type": "code",
      "metadata": {
        "id": "JzB8rtJrFYtQ"
      },
      "source": [
        ""
      ],
      "execution_count": 190,
      "outputs": []
    },
    {
      "cell_type": "code",
      "metadata": {
        "id": "O8_bTaNNCGqz"
      },
      "source": [
        ""
      ],
      "execution_count": 190,
      "outputs": []
    },
    {
      "cell_type": "code",
      "metadata": {
        "id": "84sy4FpRCGl0"
      },
      "source": [
        ""
      ],
      "execution_count": 190,
      "outputs": []
    },
    {
      "cell_type": "code",
      "metadata": {
        "id": "_vBhpn-7RZgF"
      },
      "source": [
        "## https://www.kaggle.com/manovirat/aspect-based-sentiment-analysis"
      ],
      "execution_count": 191,
      "outputs": []
    },
    {
      "cell_type": "code",
      "metadata": {
        "id": "OFsmGuPXX-xc"
      },
      "source": [
        ""
      ],
      "execution_count": 191,
      "outputs": []
    },
    {
      "cell_type": "code",
      "metadata": {
        "id": "T18KSQ2KX-1A"
      },
      "source": [
        ""
      ],
      "execution_count": 191,
      "outputs": []
    },
    {
      "cell_type": "code",
      "metadata": {
        "id": "jNAklbMQX-5_"
      },
      "source": [
        ""
      ],
      "execution_count": 191,
      "outputs": []
    },
    {
      "cell_type": "code",
      "metadata": {
        "id": "nVHEVGTYX-4L"
      },
      "source": [
        ""
      ],
      "execution_count": 191,
      "outputs": []
    }
  ]
}